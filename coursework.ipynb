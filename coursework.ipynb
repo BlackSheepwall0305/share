{
 "cells": [
  {
   "cell_type": "markdown",
   "metadata": {},
   "source": [
    "# Coursework notes and solutions\n",
    "\n",
    "Please read through the notebook and attempt to answer the questions as best as possible using the statistical concepts and Python skills from the module. The parts are designed to assess independent aspects of the module, so if you cannot complete one part, you can try the next. If a subsequent section uses a value calculated in a previous part that you do not have or have calculated incorrectly, simply use your best estimate of this value as your starting point and complete the exercise as best you can. You will not be penalised twice for the same incorrect value.\n",
    "\n",
    "When you have completed the exercises to the best of your abilty, please submit via the link on the Assessment section of the moodle page. This submission should be your own work. Submission of this notebook via the Moodle page constitutes a declaration by you that the work has been completed by you, without the assistance of other people or external tools, websites or other sources of information. If there are reasonable grounds to suspect this is not a fair representation of your own work then you may be asked to explain your work to the module leader, or another member of staff. \n",
    "\n"
   ]
  },
  {
   "cell_type": "code",
   "execution_count": 1,
   "metadata": {},
   "outputs": [],
   "source": [
    "%matplotlib inline\n",
    "# Standard commands and imports\n",
    "import numpy as np\n",
    "import scipy.stats as stats\n",
    "import matplotlib.pyplot as plt\n",
    "import pandas as pd\n"
   ]
  },
  {
   "cell_type": "markdown",
   "metadata": {},
   "source": [
    "# Assessment Grades\n",
    "\n",
    "In the block below are defined two arrays of integers, `assessment1marks` and `assessment2marks`. These are the marks for two related assessments with the students listed in the same order. Therefore, the $i$th position in arrays, `assessment1marks[i]` and `assessment2marks[i]`, are the marks for the $i$th student in assessment 1 and 2 respectively."
   ]
  },
  {
   "cell_type": "code",
   "execution_count": 2,
   "metadata": {},
   "outputs": [],
   "source": [
    "assessment1marks = np.array([77, 13, 87, 77, 57, 63, 100, 27, 70, 90, 13, 50,\n",
    "    47, 67, 97, 100, 0, 73, 100, 70, 80, 53, 97, 70, 63, 73, 40, 97, 53, 83, 97,\n",
    "    87, 40, 83, 63, 70, 60, 23, 83, 60, 13, 60, 27, 77, 70, 30, 60, 0, 40, 30,\n",
    "    100, 7, 7, 80, 57, 70, 67, 70, 77, 67, 70, 50, 53, 53, 77, 57, 63, 0, 80,\n",
    "    57, 27, 0, 33, 87, 73, 33, 87, 3, 100, 23, 83, 77, 80, 100, 0, 90, 27, 10,\n",
    "    60, 13, 93, 50, 80, 27, 33, 50, 63, 77, 47, 13, 80, 80, 67, 70, 83, 43, 60,\n",
    "    77, 63, 73, 30, 77, 90, 53, 40, 17])\n",
    "assessment2marks = np.array([54, 48, 91, 88, 61, 73, 88, 85, 80, 95, 42, 60, 64,\n",
    "    68, 95, 98, 78, 80, 92, 75, 73, 69, 96, 66, 83, 82, 62, 89, 58, 90, 85, 73,\n",
    "    64, 80, 75, 80, 85, 43, 73, 81, 49, 76, 53, 68, 70, 53, 71, 30, 68, 65, 88,\n",
    "    37, 48, 83, 68, 87, 76, 89, 64, 78, 59, 70, 64, 66, 83, 83, 83, 41, 76, 73,\n",
    "    48, 27, 41, 84, 72, 73, 83, 27, 97, 35, 87, 71, 67, 95, 34, 81, 63, 29, 86,\n",
    "    32, 96, 58, 83, 52, 42, 63, 73, 83, 53, 67, 91, 83, 79, 73, 69, 62, 80, 78,\n",
    "    72, 83, 63, 90, 80, 59, 85, 55])"
   ]
  },
  {
   "cell_type": "markdown",
   "metadata": {},
   "source": [
    "## A: Grade Statistics [15 marks]\n",
    "\n",
    "1. Histogram each assessment's grades using bin boundaries $0,10, 20, 30, \\ldots, 100$, taking care to ensure all relevant plot elements are displayed.\n",
    "2. Find the number of data-points in each set of marks. Calculate the mean, median and standard deviation of each outputting the results with a print statement and showing just 2 decimal places in your output.\n",
    "3. In the text block below the code, describe the key characteristics of each dataset as shown by these plots and statistics. In particular, explain what the statistics tell us how the two sets of marks are different."
   ]
  },
  {
   "cell_type": "code",
   "execution_count": 3,
   "metadata": {},
   "outputs": [
    {
     "data": {
      "image/png": "[encoded data removed]",
      "text/plain": [
       "<Figure size 432x288 with 1 Axes>"
      ]
     },
     "metadata": {
      "needs_background": "light"
     },
     "output_type": "display_data"
    },
    {
     "data": {
      "image/png": "[encoded data removed]",
      "text/plain": [
       "<Figure size 432x288 with 1 Axes>"
      ]
     },
     "metadata": {
      "needs_background": "light"
     },
     "output_type": "display_data"
    },
    {
     "name": "stdout",
     "output_type": "stream",
     "text": [
      "Mean grade of assessment 1:  58.31\n",
      "Mean grade of assessment 2:  70.22\n",
      "\n",
      "Median grade of assessment 1:  63.0\n",
      "Median grade of assessment 2:  73.0\n",
      "\n",
      "Standard deviation grade of assessment 1:  27.91\n",
      "Standard deviation grade of assessment 2:  17.32\n"
     ]
    }
   ],
   "source": [
    "# Answer A.1 and A.2 in Python here. \n",
    "plt.hist(assessment1marks, bins = [0, 10, 20, 30, 40 , 50 , 60, 70 , 80 ,90, 100], align='mid', edgecolor='k')\n",
    "plt.title(\"Assessment 1 Grades\")\n",
    "plt.xlabel(\"Assessment Scores\")\n",
    "plt.ylabel(\"No. of Students\")\n",
    "plt.show()\n",
    "\n",
    "plt.hist(assessment2marks, bins = [0, 10, 20, 30, 40 , 50 , 60, 70 , 80 ,90, 100], align='mid', edgecolor='k')\n",
    "plt.title(\"Assessment 2 Grades\")\n",
    "plt.xlabel(\"Assessment Scores\")\n",
    "plt.ylabel(\"No. of Students\")\n",
    "plt.show()\n",
    "\n",
    "\n",
    "print(\"Mean grade of assessment 1: \" , round(np.mean(assessment1marks),2))\n",
    "print(\"Mean grade of assessment 2: \" , round(np.mean(assessment2marks),2))\n",
    "print(\"\")\n",
    "print(\"Median grade of assessment 1: \", np.median(assessment1marks))\n",
    "print(\"Median grade of assessment 2: \", np.median(assessment2marks))\n",
    "print(\"\")\n",
    "print(\"Standard deviation grade of assessment 1: \", round(np.std(assessment1marks, ddof=1),2))\n",
    "print(\"Standard deviation grade of assessment 2: \", round(np.std(assessment2marks, ddof=1),2))"
   ]
  },
  {
   "cell_type": "markdown",
   "metadata": {},
   "source": [
    "*Answer question A.3 in Markdown here*\n"
   ]
  },
  {
   "cell_type": "markdown",
   "metadata": {},
   "source": [
    "## B Frequency Table and Common values [10 marks]\n",
    "\n",
    "Here we focus on just the marks for assessment 1.\n",
    "\n",
    "1. Output a frequency table in Python showing an ordered list of all marks awarded and the number of students awarded these marks. It doesn't have to be elegant but it should be clear how many students got each mark. You should not output marks that no student was awarded.\n",
    "2. Find the six most common values programmatically and output these in frequency order, most to least frequent. What is the mode of these marks? (Answer in the Markdown block below the code.)\n",
    "\n",
    "*For question B.1 you first need to find the collection of distinct marks. You may find it helpful to use `set` or `numpy.unique`. The resulting marks then need to be sorted in value order  (see `numpy.sort`) and the associated counts made.*\n",
    "\n",
    "*For question B.2 you need to find the indexes of the 6 highest counts, so you can filter out the corresponding  mark and frequency count for each. See `numpy.argsort` as a possible tool for this, and how to reverse the order of a `numpy.array`.*"
   ]
  },
  {
   "cell_type": "code",
   "execution_count": 4,
   "metadata": {},
   "outputs": [
    {
     "ename": "NameError",
     "evalue": "name 'values' is not defined",
     "output_type": "error",
     "traceback": [
      "\u001b[1;31m---------------------------------------------------------------------------\u001b[0m",
      "\u001b[1;31mNameError\u001b[0m                                 Traceback (most recent call last)",
      "\u001b[1;32m<ipython-input-4-08ac459204d8>\u001b[0m in \u001b[0;36m<module>\u001b[1;34m\u001b[0m\n\u001b[0;32m     20\u001b[0m \u001b[1;33m\u001b[0m\u001b[0m\n\u001b[0;32m     21\u001b[0m     \u001b[0mvalues\u001b[0m\u001b[1;33m,\u001b[0m \u001b[0mcounts\u001b[0m \u001b[1;33m=\u001b[0m \u001b[0mget_int_values_and_counts\u001b[0m\u001b[1;33m(\u001b[0m\u001b[0massessment1marks\u001b[0m\u001b[1;33m)\u001b[0m\u001b[1;33m\u001b[0m\u001b[1;33m\u001b[0m\u001b[0m\n\u001b[1;32m---> 22\u001b[1;33m \u001b[0mprint_counts_table\u001b[0m\u001b[1;33m(\u001b[0m\u001b[0mvalues\u001b[0m\u001b[1;33m,\u001b[0m \u001b[0mcounts\u001b[0m\u001b[1;33m)\u001b[0m\u001b[1;33m\u001b[0m\u001b[1;33m\u001b[0m\u001b[0m\n\u001b[0m",
      "\u001b[1;31mNameError\u001b[0m: name 'values' is not defined"
     ]
    }
   ],
   "source": [
    "def get_int_values_and_counts(assessment1marks):\n",
    "    min_val = min(assessment1marks)\n",
    "    max_val = max(assessment1marks)\n",
    "    values = list(np.unique(assessment1marks))\n",
    "    counts = []\n",
    "    for val in values:\n",
    "        unique, counts = np.unique(assessment1marks, return_counts=True)\n",
    "    return values, counts\n",
    "def print_counts_table(values, counts):\n",
    "    header_row = \"| mark\\t| count\\t|\"\n",
    "    value_row = \"| %d\\t| %d\\t|\"\n",
    "    row_width = len(header_row.expandtabs())\n",
    "    hline = \"-\"*row_width\n",
    "    print(hline)\n",
    "    print(header_row)\n",
    "    print(hline)\n",
    "    for val, count in zip(values, counts):\n",
    "        print(value_row % (val, count))\n",
    "    print(hline)\n",
    "    \n",
    "    values, counts = get_int_values_and_counts(assessment1marks)\n",
    "print_counts_table(values, counts)\n"
   ]
  },
  {
   "cell_type": "markdown",
   "metadata": {},
   "source": [
    "## C Relationships between marks [10 marks]\n",
    "\n",
    "1. Scatter plot the pairs of marks. \n",
    "2. Does it appear that students who score highly on one assessment are more likely to score highly on the other assessment? Evaluate this with the code, then justify what you have done and remark on the results in the Markdown block below that."
   ]
  },
  {
   "cell_type": "code",
   "execution_count": 4,
   "metadata": {},
   "outputs": [
    {
     "data": {
      "text/plain": [
       "Text(0, 0.5, 'Assessment2')"
      ]
     },
     "execution_count": 4,
     "metadata": {},
     "output_type": "execute_result"
    },
    {
     "data": {
      "image/png": "[encoded data removed]",
      "text/plain": [
       "<Figure size 432x288 with 1 Axes>"
      ]
     },
     "metadata": {
      "needs_background": "light"
     },
     "output_type": "display_data"
    }
   ],
   "source": [
    "plt.figure() # generate a new figure\n",
    "plt.scatter(assessment1marks, assessment2marks, s=20, marker='s', label='Assessmentmark', alpha = 0.8)\n",
    "plt.legend()\n",
    "plt.title(\"Assessment 1 and 2 marks\")\n",
    "plt.xlabel(\"Assessment1\")\n",
    "plt.ylabel(\"Assessment2\")\n",
    "\n"
   ]
  },
  {
   "cell_type": "markdown",
   "metadata": {},
   "source": [
    "*Answer C.2 (remarks on visual inspection and interpreting evaluation) in Markdown here*"
   ]
  },
  {
   "cell_type": "markdown",
   "metadata": {},
   "source": [
    "# D Alphabetical grades [10 marks]\n",
    "\n",
    "The (numerical) marks for the assessments are typically converted to (alphabetical) grades for the students' transcripts and to evaluate the appropriateness of the assessment. Below is a table showing the grade boundaries and the desired percentage of students in each grade:\n",
    "\n",
    "| **Alphabetical Grade** | **Mark boundary** | **Desired % of cohort** |\n",
    "|------------------------|-------------------|-------------------------|\n",
    "|        A               |      70-100       |          15%            |\n",
    "|        B               |      60-70        |          35%            |\n",
    "|        C               |      50-60        |          35%            |\n",
    "|        Failing         |      <50          |          15%            |\n",
    "\n",
    "You can assume that a student falling precisely on the boundary will get the higher grade.\n",
    "\n",
    "We will again be working with just the assessment 1 marks. Complete the following in the code block directly below:\n",
    "1. Calculate the number of students in each grade A, B, C and F (Failing), then convert these to percentages of the cohort.\n",
    "2. Draw a bar chart (or similar) showing the percentage of the cohort in each grade boundary (again, and for future plots, this should have all appropriate elements). Output (with print) the grades and cohort percentages to 2 decimal places."
   ]
  },
  {
   "cell_type": "code",
   "execution_count": 5,
   "metadata": {},
   "outputs": [
    {
     "name": "stdout",
     "output_type": "stream",
     "text": [
      "Number of students with an A grade: 52  which equates to 44.83 % of all test takers\n",
      "Number of students with an B grade: 16  which equates to 13.79 % of all test takers\n",
      "Number of students with an C grade: 13  which equates to 11.21 % of all test takers\n",
      "Number of students with an F grade: 35  which equates to 30.17 % of all test takers\n"
     ]
    },
    {
     "data": {
      "image/png": "[encoded data removed]",
      "text/plain": [
       "<Figure size 432x288 with 1 Axes>"
      ]
     },
     "metadata": {},
     "output_type": "display_data"
    }
   ],
   "source": [
    "# Answer D.1 to D.2 in Python here\n",
    "#Declare an array for each possible grade\n",
    "A=[]\n",
    "B=[]\n",
    "C=[]\n",
    "Failing=[]\n",
    "\n",
    "#Get the total number of students who took the assessment\n",
    "number_of_students = np.size(assessment1marks)\n",
    "\n",
    "#Conditional loop which sorts the grades into an array, depending on their numerical score\n",
    "for x in range(0, number_of_students):\n",
    "    if (assessment1marks[x] < 50):\n",
    "        Failing.append(assessment1marks[x])\n",
    "    elif (assessment1marks[x] >= 50) and (assessment1marks[x] < 60):\n",
    "        C.append(assessment1marks[x])\n",
    "    elif (assessment1marks[x] >= 60) and (assessment1marks[x] < 70):\n",
    "        B.append(assessment1marks[x])\n",
    "    elif (assessment1marks[x] >= 70) and (assessment1marks[x] <= 100):\n",
    "        A.append(assessment1marks[x])\n",
    "    else:\n",
    "        print(assessment1marks[x], 'is an invalid number.')\n",
    "\n",
    "#Getting the total number of students for each grade\n",
    "students_in_a = len(A)\n",
    "students_in_b = len(B)\n",
    "students_in_c = len(C)\n",
    "students_in_f = len(Failing)\n",
    "\n",
    "#Calculate the percentage of students who achieved each grade\n",
    "a_prcnt = round((students_in_a/number_of_students) * 100, 2)\n",
    "b_prcnt = round((students_in_b/number_of_students) * 100, 2)\n",
    "c_prcnt = round((students_in_c/number_of_students) * 100, 2)\n",
    "f_prcnt = round((students_in_f/number_of_students) * 100, 2)\n",
    "\n",
    "#Print results\n",
    "print(f'Number of students with an A grade:',students_in_a, ' which equates to' , a_prcnt, '%', 'of all test takers')\n",
    "print(f'Number of students with an B grade:',students_in_b, ' which equates to' , b_prcnt, '%', 'of all test takers')\n",
    "print(f'Number of students with an C grade:',students_in_c, ' which equates to' , c_prcnt, '%', 'of all test takers')\n",
    "print(f'Number of students with an F grade:',students_in_f, ' which equates to' , f_prcnt, '%', 'of all test takers')\n",
    "\n",
    "#Declare style of chart/graph of choice\n",
    "plt.style.use('ggplot')\n",
    "\n",
    "#Declare the x axis (Possible grades)\n",
    "grades = ['F', 'C', 'B', 'A']\n",
    "\n",
    "#Declare the y axis (Perenatge of students who achieved each grade)\n",
    "percentages = [f_prcnt, c_prcnt, b_prcnt, a_prcnt]\n",
    "\n",
    "#Plot the columns (Grades) and the data (percentages)\n",
    "plt.bar(grades, percentages, color='green')\n",
    "\n",
    "#Name each axis for readability\n",
    "plt.xlabel(\"Assessment 1 Grades\")\n",
    "plt.ylabel(\"Number of Students (%)\")\n",
    "plt.title(\"Alphabetical Grades\")\n",
    "plt.show()"
   ]
  },
  {
   "cell_type": "markdown",
   "metadata": {},
   "source": [
    "## E Grade Adjustment - Rebasing [20 marks]\n",
    "\n",
    "When an exam or assessment has resulted in unusually low (or high) mark across the whole cohort, some people consider it fairer to adjust the (numerical) marks to ensure that a more typical (or expected) distribution of (alphabetical) grades are achieved. \n",
    "\n",
    "One way to achieve this is to have a preferred distribution of alphabetical grades then define an adjusted mark, $y_i$, for each student $i$ based on the original mark, $x_i$, such that the  mean and standard deviation of the new marks $\\{y_i\\}_{i=1}^{n}$ follows the desired distribution as closely as possible. We'll call this rebasing. This adjustment would involve first standardising each mark from $x_i$ to $z_i$ (where $\\{z_i\\}_{i=1}^{n}$ are assumed to have mean $0$ and standard deviation $1$), then reversing the standardisation operation on $z_i$ to give $y_i$, where $\\{y_i\\}_{i=1}^{n}$ has the new mean and new standard deviation. You can again assume (with the y marks) that a student falling precisely on the boundary will get the higher grade.\n",
    "\n",
    "For the following, assume that the original marks $\\{x_i\\}_{i=1}^{n}$ are those from assessment 1.  Answer the following questions, explaining your reasoning for each:\n",
    "\n",
    "1. If we assume that the distribution of original marks, $\\{x_i\\}_{i=1}^{n}$ is approximately symmetrically distributed.\n",
    "  * a) What should the mean,  $\\mu_y$, of the new marks, $\\{y_i\\}_{i=1}^{n}$ be? (Even if you do not think the data satisfies this assumption.)\n",
    "  * b) Given your mean from the previous part, and assuming the data is approximately normally distributed. How would you now choose your standard deviation for the new marks? Consider that if our $y_i$ values are normally distributed we can calculate with high accuracy the proportion of data greater than some number of standard deviations above the mean. (Again, you should give an answer even if you do not think the data satisfies this assumption.)\n",
    "3. Using your mean and standard deviation from part A.3 standardise the marks from assessment 1 so that the resulting values have mean 0 and standard deviation 1. Histogram the data and calculate the mean and SD to check this is successful.\n",
    "4. Set the target mean and standard deviation for the $y_i$ values you specify in E.1 and E.2 to appropriate variables. Now reverse the standardisation process on the $z_i$ values to give the $y_i$ values. Output the sample mean and standard deviation calculated on your new marks to check this was successful.\n",
    "5. Show graphically the distribution of the new marks both as a histogram and as a bar chart showing proportions of the cohort within each grade boundary. Also output (with the print statement) the probabilities of being in each grade category (A, B, C and (F)ailing) to 2 decimal places.\n",
    "\n",
    "Answers to 1. a) and b). should be written in the Markdown block directly below. For these, you do not have to give numerical solutions based on any data. Simply show things symbolically for a general set of marks. Answers to E.2 onwards should be written in the code block below the Markdown."
   ]
  },
  {
   "cell_type": "markdown",
   "metadata": {},
   "source": [
    "*Answer E.1 in Markdown here.*"
   ]
  },
  {
   "cell_type": "markdown",
   "metadata": {},
   "source": [
    "1(a)  \n",
    "\n",
    "    mean of expected distribution of alphabetical grades  \n",
    "\n",
    "1(b)  \n",
    "\n",
    "    according to mean from the previous part、features of normally distribution and the grade table (showing the grade boundaries and the desired percentage of students in each grade) to calculate the standard deviation"
   ]
  },
  {
   "cell_type": "markdown",
   "metadata": {},
   "source": [
    " "
   ]
  },
  {
   "cell_type": "markdown",
   "metadata": {},
   "source": [
    "2"
   ]
  },
  {
   "cell_type": "code",
   "execution_count": 6,
   "metadata": {},
   "outputs": [],
   "source": [
    "standardised_assessment1marks = (np.array(assessment1marks) - 58.31) / 27.91"
   ]
  },
  {
   "cell_type": "code",
   "execution_count": 7,
   "metadata": {},
   "outputs": [
    {
     "data": {
      "image/png": "[encoded data removed]",
      "text/plain": [
       "<Figure size 432x288 with 1 Axes>"
      ]
     },
     "metadata": {},
     "output_type": "display_data"
    }
   ],
   "source": [
    "plt.title('histogram of z distribution')\n",
    "p = plt.hist(standardised_assessment1marks)\n",
    "plt.show()"
   ]
  },
  {
   "cell_type": "code",
   "execution_count": 8,
   "metadata": {},
   "outputs": [
    {
     "data": {
      "text/plain": [
       "1.2354983382492157e-05"
      ]
     },
     "execution_count": 8,
     "metadata": {},
     "output_type": "execute_result"
    }
   ],
   "source": [
    "standardised_assessment1marks.mean()"
   ]
  },
  {
   "cell_type": "code",
   "execution_count": 9,
   "metadata": {},
   "outputs": [
    {
     "data": {
      "text/plain": [
       "0.9955663702070584"
      ]
     },
     "execution_count": 9,
     "metadata": {},
     "output_type": "execute_result"
    }
   ],
   "source": [
    "standardised_assessment1marks.std()"
   ]
  },
  {
   "cell_type": "markdown",
   "metadata": {},
   "source": [
    " "
   ]
  },
  {
   "cell_type": "markdown",
   "metadata": {},
   "source": [
    "3"
   ]
  },
  {
   "cell_type": "code",
   "execution_count": 10,
   "metadata": {},
   "outputs": [],
   "source": [
    "m = 60\n",
    "sd = 70/(0.35/0.341) - 60"
   ]
  },
  {
   "cell_type": "code",
   "execution_count": 11,
   "metadata": {},
   "outputs": [],
   "source": [
    "y = standardised_assessment1marks * sd + m"
   ]
  },
  {
   "cell_type": "code",
   "execution_count": 12,
   "metadata": {},
   "outputs": [
    {
     "data": {
      "text/plain": [
       "60.00010131086374"
      ]
     },
     "execution_count": 12,
     "metadata": {},
     "output_type": "execute_result"
    }
   ],
   "source": [
    "y.mean()"
   ]
  },
  {
   "cell_type": "code",
   "execution_count": 13,
   "metadata": {},
   "outputs": [
    {
     "data": {
      "text/plain": [
       "8.163644235697896"
      ]
     },
     "execution_count": 13,
     "metadata": {},
     "output_type": "execute_result"
    }
   ],
   "source": [
    "y.std()"
   ]
  },
  {
   "cell_type": "markdown",
   "metadata": {},
   "source": [
    " "
   ]
  },
  {
   "cell_type": "markdown",
   "metadata": {},
   "source": [
    "4"
   ]
  },
  {
   "cell_type": "code",
   "execution_count": 14,
   "metadata": {},
   "outputs": [
    {
     "data": {
      "image/png": "[encoded data removed]",
      "text/plain": [
       "<Figure size 432x288 with 1 Axes>"
      ]
     },
     "metadata": {},
     "output_type": "display_data"
    }
   ],
   "source": [
    "axes= plt.axes()\n",
    "plt.title('histogram of y distribution')\n",
    "axes.hist(y)\n",
    "axes.set_xticks([50, 60, 70])\n",
    "plt.show()"
   ]
  },
  {
   "cell_type": "code",
   "execution_count": 15,
   "metadata": {},
   "outputs": [
    {
     "data": {
      "text/plain": [
       "(60.0, 70.0]      0.491379\n",
       "(50.0, 60.0]      0.267241\n",
       "(-0.001, 50.0]    0.146552\n",
       "(70.0, 100.0]     0.094828\n",
       "dtype: float64"
      ]
     },
     "execution_count": 15,
     "metadata": {},
     "output_type": "execute_result"
    }
   ],
   "source": [
    "pd.value_counts(y, bins=[0, 50, 60, 70, 100], normalize=True)"
   ]
  },
  {
   "cell_type": "code",
   "execution_count": 16,
   "metadata": {},
   "outputs": [
    {
     "data": {
      "image/png": "[encoded data removed]",
      "text/plain": [
       "<Figure size 432x288 with 1 Axes>"
      ]
     },
     "metadata": {},
     "output_type": "display_data"
    }
   ],
   "source": [
    "x = ['F', 'C', 'B', 'A']\n",
    "proportions = [(y<50).sum()/len(y), len([i for i in y.tolist() if i>=50 and i<60]) / len(y),\n",
    "              len([i for i in y.tolist() if i>=60 and i<70]) / len(y), (y>70).sum()/len(y)]\n",
    "x_pos = [i for i, _ in enumerate(x)]\n",
    "plt.title('bar chart showing proportions of the cohort within each grade boundary')\n",
    "plt.bar(x_pos, proportions)\n",
    "plt.xticks(x_pos, x)\n",
    "plt.xlabel(\"grade type\")\n",
    "plt.ylabel(\"proportions\")\n",
    "plt.show()"
   ]
  },
  {
   "cell_type": "code",
   "execution_count": 17,
   "metadata": {},
   "outputs": [
    {
     "name": "stdout",
     "output_type": "stream",
     "text": [
      "Grade: F, proportion: 0.15\n",
      "Grade: C, proportion: 0.27\n",
      "Grade: B, proportion: 0.49\n",
      "Grade: A, proportion: 0.095\n"
     ]
    }
   ],
   "source": [
    "for g, p in zip(x, proportions):\n",
    "    print('Grade: {}, proportion: {:.2}'.format(g, p))"
   ]
  },
  {
   "cell_type": "code",
   "execution_count": null,
   "metadata": {},
   "outputs": [],
   "source": []
  },
  {
   "cell_type": "code",
   "execution_count": 18,
   "metadata": {},
   "outputs": [],
   "source": [
    "# Answer E.2 to E.4 in Python here."
   ]
  },
  {
   "cell_type": "code",
   "execution_count": null,
   "metadata": {},
   "outputs": [],
   "source": []
  },
  {
   "cell_type": "code",
   "execution_count": null,
   "metadata": {},
   "outputs": [],
   "source": []
  },
  {
   "cell_type": "markdown",
   "metadata": {},
   "source": [
    "## F Grade Adjustment - Curving the grades [15 marks]\n",
    "\n",
    "An alternative approach for grade adjustment, sometimes called curving the grades, involves keeping the original marks but instead setting the grade boundaries at values that as closely as possible achieves the required distribution of values. Answer the following questions about the original assessment 1 marks from above and the target grade distribution shown in D.\n",
    "\n",
    "1. Ensuring as close to 50% of the class will get an A or B as possible, where should you set the grade boundary between B and C, using the original marks (for fairness you should assume that any student on the grade boundary will get the higher grade)?\n",
    "2. Ensuring that as close to 15% of the class as possible get an A, decide on grade boundary between grades A and B.\n",
    "3. Using your B/C grade boundary from above and ensuring that as close to 35% of the class as possible get a C, decide on the grade boundary for C/Failing.\n",
    "\n",
    "You should calculate the required grade boundaries in the code below and output these using print statements. For some of the questions above, you may know how to calculate a good candidate boundary, but due to marks falling precisely on the boundary, you may have to also consider nearby boundaries so see if they give better proportions. If you need to explore a large number of boundaries, try using a `for` loop to consider a relatively small number of nearby boundaries with a few lines of code. You may have to comment your code to explain what you are doing. Even better if you write a function."
   ]
  },
  {
   "cell_type": "markdown",
   "metadata": {},
   "source": [
    "1"
   ]
  },
  {
   "cell_type": "code",
   "execution_count": 19,
   "metadata": {},
   "outputs": [
    {
     "data": {
      "text/plain": [
       "116"
      ]
     },
     "execution_count": 19,
     "metadata": {},
     "output_type": "execute_result"
    }
   ],
   "source": [
    "len(assessment1marks)"
   ]
  },
  {
   "cell_type": "markdown",
   "metadata": {},
   "source": [
    "the number of the students is an even number, so the median value is the average of two numbers in the middle "
   ]
  },
  {
   "cell_type": "code",
   "execution_count": 20,
   "metadata": {},
   "outputs": [
    {
     "data": {
      "text/plain": [
       "63.0"
      ]
     },
     "execution_count": 20,
     "metadata": {},
     "output_type": "execute_result"
    }
   ],
   "source": [
    "np.median(assessment1marks)"
   ]
  },
  {
   "cell_type": "code",
   "execution_count": 21,
   "metadata": {},
   "outputs": [
    {
     "data": {
      "text/plain": [
       "array([  0,   0,   0,   0,   0,   3,   7,   7,  10,  13,  13,  13,  13,\n",
       "        13,  17,  23,  23,  27,  27,  27,  27,  27,  30,  30,  30,  33,\n",
       "        33,  33,  40,  40,  40,  40,  43,  47,  47,  50,  50,  50,  50,\n",
       "        53,  53,  53,  53,  53,  57,  57,  57,  57,  60,  60,  60,  60,\n",
       "        60,  60,  63,  63,  63,  63,  63,  63,  67,  67,  67,  67,  70,\n",
       "        70,  70,  70,  70,  70,  70,  70,  70,  73,  73,  73,  73,  77,\n",
       "        77,  77,  77,  77,  77,  77,  77,  77,  80,  80,  80,  80,  80,\n",
       "        80,  80,  83,  83,  83,  83,  83,  87,  87,  87,  87,  90,  90,\n",
       "        90,  93,  97,  97,  97,  97, 100, 100, 100, 100, 100, 100])"
      ]
     },
     "execution_count": 21,
     "metadata": {},
     "output_type": "execute_result"
    }
   ],
   "source": [
    "np.sort(assessment1marks)"
   ]
  },
  {
   "cell_type": "code",
   "execution_count": 22,
   "metadata": {},
   "outputs": [
    {
     "data": {
      "text/plain": [
       "array([ 0,  0,  0,  0,  0,  3,  7,  7, 10, 13, 13, 13, 13, 13, 17, 23, 23,\n",
       "       27, 27, 27, 27, 27, 30, 30, 30, 33, 33, 33, 40, 40, 40, 40, 43, 47,\n",
       "       47, 50, 50, 50, 50, 53, 53, 53, 53, 53, 57, 57, 57, 57, 60, 60, 60,\n",
       "       60, 60, 60, 63, 63, 63, 63])"
      ]
     },
     "execution_count": 22,
     "metadata": {},
     "output_type": "execute_result"
    }
   ],
   "source": [
    "np.sort(assessment1marks)[:58]"
   ]
  },
  {
   "cell_type": "code",
   "execution_count": 23,
   "metadata": {},
   "outputs": [
    {
     "data": {
      "text/plain": [
       "array([ 63,  67,  67,  67,  67,  70,  70,  70,  70,  70,  70,  70,  70,\n",
       "        70,  73,  73,  73,  73,  77,  77,  77,  77,  77,  77,  77,  77,\n",
       "        77,  80,  80,  80,  80,  80,  80,  80,  83,  83,  83,  83,  83,\n",
       "        87,  87,  87,  87,  90,  90,  90,  93,  97,  97,  97,  97, 100,\n",
       "       100, 100, 100, 100, 100])"
      ]
     },
     "execution_count": 23,
     "metadata": {},
     "output_type": "execute_result"
    }
   ],
   "source": [
    "np.sort(assessment1marks)[59:]"
   ]
  },
  {
   "cell_type": "markdown",
   "metadata": {},
   "source": [
    "we should ensure as close to 50% of the class will get an A or B as possible, in other words, ensure as close to 50% in the latter numpy array, and because any student on the grade boundary will get the higher grade, so if we choose 63 as boundary, we get extra 4 elements in the latter array, if we choose a number greater than 63, less than or equaly to 67, we lose 1 elements in the second numpy array, of course, we should take the latter solution"
   ]
  },
  {
   "cell_type": "markdown",
   "metadata": {},
   "source": [
    "if we choose 63 as boundary, there will be 53.4% students get A or B"
   ]
  },
  {
   "cell_type": "code",
   "execution_count": 24,
   "metadata": {},
   "outputs": [
    {
     "data": {
      "text/plain": [
       "0.5344827586206896"
      ]
     },
     "execution_count": 24,
     "metadata": {},
     "output_type": "execute_result"
    }
   ],
   "source": [
    "(np.array(assessment1marks) >= 63).sum() / len(assessment1marks)"
   ]
  },
  {
   "cell_type": "code",
   "execution_count": 25,
   "metadata": {},
   "outputs": [
    {
     "data": {
      "text/plain": [
       "0.03448275862068961"
      ]
     },
     "execution_count": 25,
     "metadata": {},
     "output_type": "execute_result"
    }
   ],
   "source": [
    "np.abs(0.5344827586206896 - 0.5)"
   ]
  },
  {
   "cell_type": "markdown",
   "metadata": {},
   "source": [
    "if we choose 64、65、66 or 67 as boundary, there will be 48.3% students get A or B"
   ]
  },
  {
   "cell_type": "code",
   "execution_count": 26,
   "metadata": {},
   "outputs": [
    {
     "data": {
      "text/plain": [
       "0.4827586206896552"
      ]
     },
     "execution_count": 26,
     "metadata": {},
     "output_type": "execute_result"
    }
   ],
   "source": [
    "(np.array(assessment1marks) >= 64).sum() / len(assessment1marks)"
   ]
  },
  {
   "cell_type": "code",
   "execution_count": 27,
   "metadata": {},
   "outputs": [
    {
     "data": {
      "text/plain": [
       "0.017241379310344807"
      ]
     },
     "execution_count": 27,
     "metadata": {},
     "output_type": "execute_result"
    }
   ],
   "source": [
    "np.abs(0.4827586206896552 - 0.5)"
   ]
  },
  {
   "cell_type": "code",
   "execution_count": 28,
   "metadata": {},
   "outputs": [
    {
     "name": "stdout",
     "output_type": "stream",
     "text": [
      "the appropriate boundary values to ensure as close to 50% of the class will get an A or B are:\n",
      "64\n",
      "65\n",
      "66\n",
      "67\n"
     ]
    }
   ],
   "source": [
    "print('the appropriate boundary values to ensure as close to 50% of the class will get an A or B are:')\n",
    "for i in range(64, 68):\n",
    "    print(i)"
   ]
  },
  {
   "cell_type": "markdown",
   "metadata": {},
   "source": [
    " "
   ]
  },
  {
   "cell_type": "markdown",
   "metadata": {},
   "source": [
    "2"
   ]
  },
  {
   "cell_type": "markdown",
   "metadata": {},
   "source": [
    "in this question, we need to ensure that as close to 15% of the class as possible get an A"
   ]
  },
  {
   "cell_type": "markdown",
   "metadata": {},
   "source": [
    "let's calculate 85 percentile of assessment1marks first:"
   ]
  },
  {
   "cell_type": "code",
   "execution_count": 29,
   "metadata": {
    "scrolled": true
   },
   "outputs": [
    {
     "data": {
      "text/plain": [
       "86.0"
      ]
     },
     "execution_count": 29,
     "metadata": {},
     "output_type": "execute_result"
    }
   ],
   "source": [
    "np.percentile(assessment1marks, 85)"
   ]
  },
  {
   "cell_type": "markdown",
   "metadata": {},
   "source": [
    "and let's see the A、B marks:"
   ]
  },
  {
   "cell_type": "code",
   "execution_count": 30,
   "metadata": {},
   "outputs": [
    {
     "data": {
      "text/plain": [
       "array([ 67,  67,  67,  67,  70,  70,  70,  70,  70,  70,  70,  70,  70,\n",
       "        73,  73,  73,  73,  77,  77,  77,  77,  77,  77,  77,  77,  77,\n",
       "        80,  80,  80,  80,  80,  80,  80,  83,  83,  83,  83,  83,  87,\n",
       "        87,  87,  87,  90,  90,  90,  93,  97,  97,  97,  97, 100, 100,\n",
       "       100, 100, 100, 100])"
      ]
     },
     "execution_count": 30,
     "metadata": {},
     "output_type": "execute_result"
    }
   ],
   "source": [
    "np.sort([i for i in assessment1marks if i>=64])"
   ]
  },
  {
   "cell_type": "markdown",
   "metadata": {},
   "source": [
    "is seems that there is no mark equal to 86"
   ]
  },
  {
   "cell_type": "code",
   "execution_count": 31,
   "metadata": {},
   "outputs": [
    {
     "data": {
      "text/plain": [
       "0.15517241379310345"
      ]
     },
     "execution_count": 31,
     "metadata": {},
     "output_type": "execute_result"
    }
   ],
   "source": [
    "(np.array(assessment1marks) >= 86).sum() / len(assessment1marks)"
   ]
  },
  {
   "cell_type": "markdown",
   "metadata": {},
   "source": [
    "in this part, we don't need to add 5 extra elements in A section, otherwise, the percentage of A will be further from 15%, and also we don't want to lose 4 elements or we will get even further from 15%"
   ]
  },
  {
   "cell_type": "code",
   "execution_count": 32,
   "metadata": {},
   "outputs": [
    {
     "name": "stdout",
     "output_type": "stream",
     "text": [
      "the appropriate boundary values to ensure as close to 15% of the class will get an A are:\n",
      "84\n",
      "85\n",
      "86\n",
      "87\n"
     ]
    }
   ],
   "source": [
    "print('the appropriate boundary values to ensure as close to 15% of the class will get an A are:')\n",
    "for i in range(84, 88):\n",
    "    print(i)"
   ]
  },
  {
   "cell_type": "markdown",
   "metadata": {},
   "source": [
    " "
   ]
  },
  {
   "cell_type": "markdown",
   "metadata": {},
   "source": [
    "3"
   ]
  },
  {
   "cell_type": "markdown",
   "metadata": {},
   "source": [
    "in this question, we need to ensure that as close to 35% of the class as possible get C"
   ]
  },
  {
   "cell_type": "markdown",
   "metadata": {},
   "source": [
    "from above, we already know if we choose 64、65、66 or 67 as boundary, there will be 48.3% students get A or B, in other words, there are 51.7% students get C/Failing"
   ]
  },
  {
   "cell_type": "code",
   "execution_count": 33,
   "metadata": {},
   "outputs": [
    {
     "data": {
      "text/plain": [
       "array([ 0,  0,  0,  0,  0,  3,  7,  7, 10, 13, 13, 13, 13, 13, 17, 23, 23,\n",
       "       27, 27, 27, 27, 27, 30, 30, 30, 33, 33, 33, 40, 40, 40, 40, 43, 47,\n",
       "       47, 50, 50, 50, 50, 53, 53, 53, 53, 53, 57, 57, 57, 57, 60, 60, 60,\n",
       "       60, 60, 60, 63, 63, 63, 63, 63, 63])"
      ]
     },
     "execution_count": 33,
     "metadata": {},
     "output_type": "execute_result"
    }
   ],
   "source": [
    "np.sort([i for i in assessment1marks if i<64])"
   ]
  },
  {
   "cell_type": "code",
   "execution_count": 34,
   "metadata": {},
   "outputs": [
    {
     "data": {
      "text/plain": [
       "0.5172413793103449"
      ]
     },
     "execution_count": 34,
     "metadata": {},
     "output_type": "execute_result"
    }
   ],
   "source": [
    "(np.array(assessment1marks) < 64).sum() / len(assessment1marks)"
   ]
  },
  {
   "cell_type": "markdown",
   "metadata": {},
   "source": [
    "let's calculate 15 percentile first"
   ]
  },
  {
   "cell_type": "code",
   "execution_count": 35,
   "metadata": {},
   "outputs": [
    {
     "data": {
      "text/plain": [
       "27.0"
      ]
     },
     "execution_count": 35,
     "metadata": {},
     "output_type": "execute_result"
    }
   ],
   "source": [
    "np.percentile(assessment1marks, 15)"
   ]
  },
  {
   "cell_type": "markdown",
   "metadata": {},
   "source": [
    "there are 5 numbers equal to 27, and any student on the grade boundary will get the higher grade, so if we 27 as C/Failing boundary, this 5 numbers will all be C grade, and the grade C percentage will be 37.1%"
   ]
  },
  {
   "cell_type": "code",
   "execution_count": 36,
   "metadata": {
    "scrolled": true
   },
   "outputs": [
    {
     "data": {
      "text/plain": [
       "0.14655172413793102"
      ]
     },
     "execution_count": 36,
     "metadata": {},
     "output_type": "execute_result"
    }
   ],
   "source": [
    "(np.array(assessment1marks) < 27).sum() / len(assessment1marks)"
   ]
  },
  {
   "cell_type": "code",
   "execution_count": 37,
   "metadata": {
    "scrolled": true
   },
   "outputs": [
    {
     "data": {
      "text/plain": [
       "0.3706896551724138"
      ]
     },
     "execution_count": 37,
     "metadata": {},
     "output_type": "execute_result"
    }
   ],
   "source": [
    "0.5172413793103449 - 0.14655172413793102"
   ]
  },
  {
   "cell_type": "markdown",
   "metadata": {},
   "source": [
    "if we choose 28 as C/Failing boundary, accordingly, we will lose 5 elements which will result C percentage come to 32.8%"
   ]
  },
  {
   "cell_type": "code",
   "execution_count": 38,
   "metadata": {},
   "outputs": [
    {
     "data": {
      "text/plain": [
       "0.1896551724137931"
      ]
     },
     "execution_count": 38,
     "metadata": {},
     "output_type": "execute_result"
    }
   ],
   "source": [
    "(np.array(assessment1marks) < 28).sum() / len(assessment1marks)"
   ]
  },
  {
   "cell_type": "code",
   "execution_count": 39,
   "metadata": {},
   "outputs": [
    {
     "data": {
      "text/plain": [
       "0.32758620689655177"
      ]
     },
     "execution_count": 39,
     "metadata": {},
     "output_type": "execute_result"
    }
   ],
   "source": [
    "0.5172413793103449 - 0.1896551724137931"
   ]
  },
  {
   "cell_type": "markdown",
   "metadata": {},
   "source": [
    "37.1% is closer to 35% than 32.7%， so we will take 27 as our C/Failing boundary"
   ]
  },
  {
   "cell_type": "code",
   "execution_count": 40,
   "metadata": {
    "scrolled": true
   },
   "outputs": [
    {
     "data": {
      "text/plain": [
       "0.020689655172413834"
      ]
     },
     "execution_count": 40,
     "metadata": {},
     "output_type": "execute_result"
    }
   ],
   "source": [
    "np.abs(0.3706896551724138-0.35)"
   ]
  },
  {
   "cell_type": "code",
   "execution_count": 41,
   "metadata": {},
   "outputs": [
    {
     "data": {
      "text/plain": [
       "0.02241379310344821"
      ]
     },
     "execution_count": 41,
     "metadata": {},
     "output_type": "execute_result"
    }
   ],
   "source": [
    "np.abs(0.32758620689655177-0.35)"
   ]
  },
  {
   "cell_type": "code",
   "execution_count": 42,
   "metadata": {},
   "outputs": [],
   "source": [
    "# Answer F.1 to F.3 in Python here."
   ]
  },
  {
   "cell_type": "markdown",
   "metadata": {},
   "source": [
    "# G Reflecting on the grade adjustment [20 marks]\n",
    "\n",
    "1. Do the results from Rebasing (E.4) show that you have matched the target mean and standard deviation? Have you matched the target percentage of cohort in each grade? Can you explain why/why not?\n",
    "2. Do the results from Curving the grades (F.1-F.3) match the target percentage of the cohort in each grade? Can you explain why/why not?\n",
    "3. Can you explain why one method gives a closer match to the target distribution?\n",
    "4. Which method do you think is fairer in general? Would you like to see either approach applied to your own assessments?"
   ]
  },
  {
   "cell_type": "markdown",
   "metadata": {},
   "source": [
    "1"
   ]
  },
  {
   "cell_type": "markdown",
   "metadata": {},
   "source": [
    "no; no; because the size of samples is too small to make the distribution look like normal distribution"
   ]
  },
  {
   "cell_type": "markdown",
   "metadata": {},
   "source": [
    " 2"
   ]
  },
  {
   "cell_type": "markdown",
   "metadata": {},
   "source": [
    "Yes, every step we make to calculate ensures the percentage generally equates to the expectected desired% of cohort, size of the each grade is confirmed beforehand"
   ]
  },
  {
   "cell_type": "markdown",
   "metadata": {},
   "source": [
    "|grade|percentage|\n",
    "|-|-|\n",
    "|F|0.147|\n",
    "|C|0.371|\n",
    "|B|0.328|\n",
    "|A|0.155|"
   ]
  },
  {
   "cell_type": "markdown",
   "metadata": {},
   "source": [
    "3"
   ]
  },
  {
   "cell_type": "markdown",
   "metadata": {},
   "source": [
    "when size of samples is big enough, Rebasing is better; otherwise, curving performs better"
   ]
  },
  {
   "cell_type": "markdown",
   "metadata": {},
   "source": [
    "4"
   ]
  },
  {
   "cell_type": "markdown",
   "metadata": {},
   "source": [
    "Curving the grades should be fairer in general, because its distribution will not be effected by the minimum-value and the maximal-value, and the size of every grade is stable"
   ]
  },
  {
   "cell_type": "markdown",
   "metadata": {},
   "source": [
    "*Answers questions G.1 to G.4 in Python here*"
   ]
  },
  {
   "cell_type": "code",
   "execution_count": null,
   "metadata": {},
   "outputs": [],
   "source": []
  }
 ],
 "metadata": {
  "kernelspec": {
   "display_name": "Python 3",
   "language": "python",
   "name": "python3"
  },
  "language_info": {
   "codemirror_mode": {
    "name": "ipython",
    "version": 3
   },
   "file_extension": ".py",
   "mimetype": "text/x-python",
   "name": "python",
   "nbconvert_exporter": "python",
   "pygments_lexer": "ipython3",
   "version": "3.8.3"
  },
  "toc": {
   "base_numbering": 1,
   "nav_menu": {},
   "number_sections": true,
   "sideBar": true,
   "skip_h1_title": false,
   "title_cell": "Table of Contents",
   "title_sidebar": "Contents",
   "toc_cell": false,
   "toc_position": {},
   "toc_section_display": true,
   "toc_window_display": false
  }
 },
 "nbformat": 4,
 "nbformat_minor": 4
}
