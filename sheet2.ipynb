{
 "cells": [
  {
   "cell_type": "code",
   "execution_count": 7,
   "id": "bbe6845f",
   "metadata": {},
   "outputs": [
    {
     "data": {
      "text/html": [
       "        <script type=\"text/javascript\">\n",
       "        window.PlotlyConfig = {MathJaxConfig: 'local'};\n",
       "        if (window.MathJax) {MathJax.Hub.Config({SVG: {font: \"STIX-Web\"}});}\n",
       "        if (typeof require !== 'undefined') {\n",
       "        require.undef(\"plotly\");\n",
       "        requirejs.config({\n",
       "            paths: {\n",
       "                'plotly': ['https://cdn.plot.ly/plotly-2.2.0.min']\n",
       "            }\n",
       "        });\n",
       "        require(['plotly'], function(Plotly) {\n",
       "            window._Plotly = Plotly;\n",
       "        });\n",
       "        }\n",
       "        </script>\n",
       "        "
      ]
     },
     "metadata": {},
     "output_type": "display_data"
    },
    {
     "data": {
      "text/html": [
       "        <script type=\"text/javascript\">\n",
       "        window.PlotlyConfig = {MathJaxConfig: 'local'};\n",
       "        if (window.MathJax) {MathJax.Hub.Config({SVG: {font: \"STIX-Web\"}});}\n",
       "        if (typeof require !== 'undefined') {\n",
       "        require.undef(\"plotly\");\n",
       "        requirejs.config({\n",
       "            paths: {\n",
       "                'plotly': ['https://cdn.plot.ly/plotly-2.2.0.min']\n",
       "            }\n",
       "        });\n",
       "        require(['plotly'], function(Plotly) {\n",
       "            window._Plotly = Plotly;\n",
       "        });\n",
       "        }\n",
       "        </script>\n",
       "        "
      ]
     },
     "metadata": {},
     "output_type": "display_data"
    }
   ],
   "source": [
    "import numpy as np\n",
    "import pandas as pd\n",
    "import plotly.express as px\n",
    "from pyperclip import paste\n",
    "import cufflinks as cf\n",
    "import plotly.graph_objects as go\n",
    "from plotly.subplots import make_subplots\n",
    "\n",
    "cf.set_config_file(offline=True)"
   ]
  },
  {
   "cell_type": "code",
   "execution_count": 5,
   "id": "7eaa52b0",
   "metadata": {},
   "outputs": [],
   "source": [
    "# 2019-2021机构类型外教来源统计\n",
    "s = paste()\n",
    "l = np.array([i.split('\\t') for i in s.split('\\r\\n') if len(i.split('\\t')) > 1])\n",
    "df = pd.DataFrame(l[1:,1:], columns=l[0, 1:], index=l[1:,0])\n",
    "\n",
    "df = df.T\n",
    "df = df.astype(int)"
   ]
  },
  {
   "cell_type": "code",
   "execution_count": 6,
   "id": "aa0437b9",
   "metadata": {},
   "outputs": [
    {
     "data": {
      "text/html": [
       "<div>\n",
       "<style scoped>\n",
       "    .dataframe tbody tr th:only-of-type {\n",
       "        vertical-align: middle;\n",
       "    }\n",
       "\n",
       "    .dataframe tbody tr th {\n",
       "        vertical-align: top;\n",
       "    }\n",
       "\n",
       "    .dataframe thead th {\n",
       "        text-align: right;\n",
       "    }\n",
       "</style>\n",
       "<table border=\"1\" class=\"dataframe\">\n",
       "  <thead>\n",
       "    <tr style=\"text-align: right;\">\n",
       "      <th></th>\n",
       "      <th>上海市</th>\n",
       "      <th>北京市</th>\n",
       "      <th>江苏省</th>\n",
       "      <th>辽宁省</th>\n",
       "      <th>河南省</th>\n",
       "      <th>吉林省</th>\n",
       "      <th>黑龙江省</th>\n",
       "      <th>浙江省</th>\n",
       "      <th>山东省</th>\n",
       "      <th>湖北省</th>\n",
       "      <th>...</th>\n",
       "      <th>河北省</th>\n",
       "      <th>四川省</th>\n",
       "      <th>海南省</th>\n",
       "      <th>重庆市</th>\n",
       "      <th>贵州省</th>\n",
       "      <th>山西省</th>\n",
       "      <th>安徽省</th>\n",
       "      <th>内蒙古自治区</th>\n",
       "      <th>云南省</th>\n",
       "      <th>甘肃省</th>\n",
       "    </tr>\n",
       "  </thead>\n",
       "  <tbody>\n",
       "    <tr>\n",
       "      <th>2019年</th>\n",
       "      <td>840</td>\n",
       "      <td>548</td>\n",
       "      <td>399</td>\n",
       "      <td>355</td>\n",
       "      <td>317</td>\n",
       "      <td>288</td>\n",
       "      <td>269</td>\n",
       "      <td>262</td>\n",
       "      <td>244</td>\n",
       "      <td>200</td>\n",
       "      <td>...</td>\n",
       "      <td>40</td>\n",
       "      <td>40</td>\n",
       "      <td>38</td>\n",
       "      <td>31</td>\n",
       "      <td>18</td>\n",
       "      <td>18</td>\n",
       "      <td>12</td>\n",
       "      <td>8</td>\n",
       "      <td>7</td>\n",
       "      <td>2</td>\n",
       "    </tr>\n",
       "    <tr>\n",
       "      <th>2020年</th>\n",
       "      <td>758</td>\n",
       "      <td>564</td>\n",
       "      <td>317</td>\n",
       "      <td>329</td>\n",
       "      <td>312</td>\n",
       "      <td>282</td>\n",
       "      <td>180</td>\n",
       "      <td>256</td>\n",
       "      <td>199</td>\n",
       "      <td>211</td>\n",
       "      <td>...</td>\n",
       "      <td>59</td>\n",
       "      <td>41</td>\n",
       "      <td>49</td>\n",
       "      <td>35</td>\n",
       "      <td>37</td>\n",
       "      <td>18</td>\n",
       "      <td>15</td>\n",
       "      <td>6</td>\n",
       "      <td>19</td>\n",
       "      <td>1</td>\n",
       "    </tr>\n",
       "    <tr>\n",
       "      <th>2021年</th>\n",
       "      <td>681</td>\n",
       "      <td>484</td>\n",
       "      <td>364</td>\n",
       "      <td>301</td>\n",
       "      <td>295</td>\n",
       "      <td>236</td>\n",
       "      <td>119</td>\n",
       "      <td>225</td>\n",
       "      <td>190</td>\n",
       "      <td>230</td>\n",
       "      <td>...</td>\n",
       "      <td>47</td>\n",
       "      <td>32</td>\n",
       "      <td>48</td>\n",
       "      <td>34</td>\n",
       "      <td>30</td>\n",
       "      <td>18</td>\n",
       "      <td>14</td>\n",
       "      <td>2</td>\n",
       "      <td>15</td>\n",
       "      <td>1</td>\n",
       "    </tr>\n",
       "  </tbody>\n",
       "</table>\n",
       "<p>3 rows × 27 columns</p>\n",
       "</div>"
      ],
      "text/plain": [
       "       上海市  北京市  江苏省  辽宁省  河南省  吉林省  黑龙江省  浙江省  山东省  湖北省  ...  河北省  四川省  海南省  \\\n",
       "2019年  840  548  399  355  317  288   269  262  244  200  ...   40   40   38   \n",
       "2020年  758  564  317  329  312  282   180  256  199  211  ...   59   41   49   \n",
       "2021年  681  484  364  301  295  236   119  225  190  230  ...   47   32   48   \n",
       "\n",
       "       重庆市  贵州省  山西省  安徽省  内蒙古自治区  云南省  甘肃省  \n",
       "2019年   31   18   18   12       8    7    2  \n",
       "2020年   35   37   18   15       6   19    1  \n",
       "2021年   34   30   18   14       2   15    1  \n",
       "\n",
       "[3 rows x 27 columns]"
      ]
     },
     "execution_count": 6,
     "metadata": {},
     "output_type": "execute_result"
    }
   ],
   "source": [
    "df"
   ]
  },
  {
   "cell_type": "code",
   "execution_count": 22,
   "id": "aa642fa8",
   "metadata": {},
   "outputs": [],
   "source": [
    "fig = df.iplot(mode='lines+markers', subplots=True, theme='white', size=5, colorscale='set3',asFigure=True)\n",
    "fig.update_layout(height=1000,\n",
    "                  title={'text': '各省聘用人员数量的变化', 'xref': 'paper', 'x': 0.5, 'font_size': 25},)\n",
    "fig.write_image(r\"D:\\新建文件夹 (2)\\WeChat Files\\wxid_r5nb2w32sc5q12\\FileStorage\\File\\2021-08\\sheet2.svg\")"
   ]
  },
  {
   "cell_type": "code",
   "execution_count": null,
   "id": "7e68ff2b",
   "metadata": {},
   "outputs": [],
   "source": []
  },
  {
   "cell_type": "code",
   "execution_count": null,
   "id": "74dd201a",
   "metadata": {},
   "outputs": [],
   "source": []
  },
  {
   "cell_type": "code",
   "execution_count": null,
   "id": "f197774c",
   "metadata": {},
   "outputs": [],
   "source": []
  },
  {
   "cell_type": "code",
   "execution_count": null,
   "id": "651f2cd9",
   "metadata": {},
   "outputs": [],
   "source": []
  },
  {
   "cell_type": "code",
   "execution_count": null,
   "id": "d6ba874d",
   "metadata": {},
   "outputs": [],
   "source": []
  },
  {
   "cell_type": "code",
   "execution_count": null,
   "id": "cfd385a5",
   "metadata": {},
   "outputs": [],
   "source": []
  },
  {
   "cell_type": "code",
   "execution_count": null,
   "id": "37e5a9c9",
   "metadata": {},
   "outputs": [],
   "source": []
  },
  {
   "cell_type": "code",
   "execution_count": null,
   "id": "5c239f48",
   "metadata": {},
   "outputs": [],
   "source": []
  },
  {
   "cell_type": "code",
   "execution_count": null,
   "id": "e156c096",
   "metadata": {},
   "outputs": [],
   "source": []
  },
  {
   "cell_type": "code",
   "execution_count": null,
   "id": "d96883dc",
   "metadata": {},
   "outputs": [],
   "source": []
  }
 ],
 "metadata": {
  "kernelspec": {
   "display_name": "Python 3",
   "language": "python",
   "name": "python3"
  },
  "language_info": {
   "codemirror_mode": {
    "name": "ipython",
    "version": 3
   },
   "file_extension": ".py",
   "mimetype": "text/x-python",
   "name": "python",
   "nbconvert_exporter": "python",
   "pygments_lexer": "ipython3",
   "version": "3.8.8"
  },
  "toc": {
   "base_numbering": 1,
   "nav_menu": {},
   "number_sections": true,
   "sideBar": true,
   "skip_h1_title": false,
   "title_cell": "Table of Contents",
   "title_sidebar": "Contents",
   "toc_cell": false,
   "toc_position": {},
   "toc_section_display": true,
   "toc_window_display": false
  }
 },
 "nbformat": 4,
 "nbformat_minor": 5
}
