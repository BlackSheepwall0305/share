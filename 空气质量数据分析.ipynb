{
 "cells": [
  {
   "cell_type": "markdown",
   "metadata": {},
   "source": [
    "数据包括2000年到2016年美国环保署记录的加利福尼亚州四种主要污染物情况，包括二氧化氮、二氧化硫、一氧化碳和臭氧的含量， 总数超过57万。 目的在于发现空气中这四种污染物含量整体变化的趋势, 以及四种污染物对总体空气质量造成影响的差异。"
   ]
  },
  {
   "cell_type": "code",
   "execution_count": 1,
   "metadata": {},
   "outputs": [
    {
     "data": {
      "text/html": [
       "        <script type=\"text/javascript\">\n",
       "        window.PlotlyConfig = {MathJaxConfig: 'local'};\n",
       "        if (window.MathJax) {MathJax.Hub.Config({SVG: {font: \"STIX-Web\"}});}\n",
       "        if (typeof require !== 'undefined') {\n",
       "        require.undef(\"plotly\");\n",
       "        requirejs.config({\n",
       "            paths: {\n",
       "                'plotly': ['https://cdn.plot.ly/plotly-latest.min']\n",
       "            }\n",
       "        });\n",
       "        require(['plotly'], function(Plotly) {\n",
       "            window._Plotly = Plotly;\n",
       "        });\n",
       "        }\n",
       "        </script>\n",
       "        "
      ]
     },
     "metadata": {},
     "output_type": "display_data"
    },
    {
     "data": {
      "text/html": [
       "        <script type=\"text/javascript\">\n",
       "        window.PlotlyConfig = {MathJaxConfig: 'local'};\n",
       "        if (window.MathJax) {MathJax.Hub.Config({SVG: {font: \"STIX-Web\"}});}\n",
       "        if (typeof require !== 'undefined') {\n",
       "        require.undef(\"plotly\");\n",
       "        requirejs.config({\n",
       "            paths: {\n",
       "                'plotly': ['https://cdn.plot.ly/plotly-latest.min']\n",
       "            }\n",
       "        });\n",
       "        require(['plotly'], function(Plotly) {\n",
       "            window._Plotly = Plotly;\n",
       "        });\n",
       "        }\n",
       "        </script>\n",
       "        "
      ]
     },
     "metadata": {},
     "output_type": "display_data"
    }
   ],
   "source": [
    "import pandas as pd\n",
    "import cufflinks as cf\n",
    "\n",
    "cf.set_config_file(offline=True)"
   ]
  },
  {
   "cell_type": "markdown",
   "metadata": {},
   "source": [
    "### 1. 加载数据"
   ]
  },
  {
   "cell_type": "code",
   "execution_count": 2,
   "metadata": {},
   "outputs": [],
   "source": [
    "path = r\"D:\\extra\\美国污染数据\\California_pollution_2000_2016.csv\""
   ]
  },
  {
   "cell_type": "code",
   "execution_count": 3,
   "metadata": {},
   "outputs": [],
   "source": [
    "data = pd.read_csv(path)"
   ]
  },
  {
   "cell_type": "markdown",
   "metadata": {},
   "source": [
    " "
   ]
  },
  {
   "cell_type": "markdown",
   "metadata": {},
   "source": [
    "### 2. 查看数据集的简单描述"
   ]
  },
  {
   "cell_type": "code",
   "execution_count": 4,
   "metadata": {},
   "outputs": [
    {
     "data": {
      "text/html": [
       "<div>\n",
       "<style scoped>\n",
       "    .dataframe tbody tr th:only-of-type {\n",
       "        vertical-align: middle;\n",
       "    }\n",
       "\n",
       "    .dataframe tbody tr th {\n",
       "        vertical-align: top;\n",
       "    }\n",
       "\n",
       "    .dataframe thead th {\n",
       "        text-align: right;\n",
       "    }\n",
       "</style>\n",
       "<table border=\"1\" class=\"dataframe\">\n",
       "  <thead>\n",
       "    <tr style=\"text-align: right;\">\n",
       "      <th></th>\n",
       "      <th>State Code</th>\n",
       "      <th>County Code</th>\n",
       "      <th>Site Num</th>\n",
       "      <th>Address</th>\n",
       "      <th>State</th>\n",
       "      <th>County</th>\n",
       "      <th>City</th>\n",
       "      <th>Date Local</th>\n",
       "      <th>NO2 Units</th>\n",
       "      <th>NO2 Mean</th>\n",
       "      <th>...</th>\n",
       "      <th>SO2 Units</th>\n",
       "      <th>SO2 Mean</th>\n",
       "      <th>SO2 1st Max Value</th>\n",
       "      <th>SO2 1st Max Hour</th>\n",
       "      <th>SO2 AQI</th>\n",
       "      <th>CO Units</th>\n",
       "      <th>CO Mean</th>\n",
       "      <th>CO 1st Max Value</th>\n",
       "      <th>CO 1st Max Hour</th>\n",
       "      <th>CO AQI</th>\n",
       "    </tr>\n",
       "  </thead>\n",
       "  <tbody>\n",
       "    <tr>\n",
       "      <th>0</th>\n",
       "      <td>6</td>\n",
       "      <td>13</td>\n",
       "      <td>2</td>\n",
       "      <td>2956-A TREAT BOULEVARD</td>\n",
       "      <td>California</td>\n",
       "      <td>Contra Costa</td>\n",
       "      <td>Concord</td>\n",
       "      <td>2000-01-01</td>\n",
       "      <td>Parts per billion</td>\n",
       "      <td>14.782609</td>\n",
       "      <td>...</td>\n",
       "      <td>Parts per billion</td>\n",
       "      <td>0.636364</td>\n",
       "      <td>2.0</td>\n",
       "      <td>9</td>\n",
       "      <td>3.0</td>\n",
       "      <td>Parts per million</td>\n",
       "      <td>0.556522</td>\n",
       "      <td>1.3</td>\n",
       "      <td>4</td>\n",
       "      <td>NaN</td>\n",
       "    </tr>\n",
       "    <tr>\n",
       "      <th>1</th>\n",
       "      <td>6</td>\n",
       "      <td>13</td>\n",
       "      <td>2</td>\n",
       "      <td>2956-A TREAT BOULEVARD</td>\n",
       "      <td>California</td>\n",
       "      <td>Contra Costa</td>\n",
       "      <td>Concord</td>\n",
       "      <td>2000-01-01</td>\n",
       "      <td>Parts per billion</td>\n",
       "      <td>14.782609</td>\n",
       "      <td>...</td>\n",
       "      <td>Parts per billion</td>\n",
       "      <td>0.636364</td>\n",
       "      <td>2.0</td>\n",
       "      <td>9</td>\n",
       "      <td>3.0</td>\n",
       "      <td>Parts per million</td>\n",
       "      <td>0.572222</td>\n",
       "      <td>0.8</td>\n",
       "      <td>6</td>\n",
       "      <td>9.0</td>\n",
       "    </tr>\n",
       "    <tr>\n",
       "      <th>2</th>\n",
       "      <td>6</td>\n",
       "      <td>13</td>\n",
       "      <td>2</td>\n",
       "      <td>2956-A TREAT BOULEVARD</td>\n",
       "      <td>California</td>\n",
       "      <td>Contra Costa</td>\n",
       "      <td>Concord</td>\n",
       "      <td>2000-01-01</td>\n",
       "      <td>Parts per billion</td>\n",
       "      <td>14.782609</td>\n",
       "      <td>...</td>\n",
       "      <td>Parts per billion</td>\n",
       "      <td>0.600000</td>\n",
       "      <td>2.0</td>\n",
       "      <td>11</td>\n",
       "      <td>NaN</td>\n",
       "      <td>Parts per million</td>\n",
       "      <td>0.556522</td>\n",
       "      <td>1.3</td>\n",
       "      <td>4</td>\n",
       "      <td>NaN</td>\n",
       "    </tr>\n",
       "    <tr>\n",
       "      <th>3</th>\n",
       "      <td>6</td>\n",
       "      <td>13</td>\n",
       "      <td>2</td>\n",
       "      <td>2956-A TREAT BOULEVARD</td>\n",
       "      <td>California</td>\n",
       "      <td>Contra Costa</td>\n",
       "      <td>Concord</td>\n",
       "      <td>2000-01-01</td>\n",
       "      <td>Parts per billion</td>\n",
       "      <td>14.782609</td>\n",
       "      <td>...</td>\n",
       "      <td>Parts per billion</td>\n",
       "      <td>0.600000</td>\n",
       "      <td>2.0</td>\n",
       "      <td>11</td>\n",
       "      <td>NaN</td>\n",
       "      <td>Parts per million</td>\n",
       "      <td>0.572222</td>\n",
       "      <td>0.8</td>\n",
       "      <td>6</td>\n",
       "      <td>9.0</td>\n",
       "    </tr>\n",
       "    <tr>\n",
       "      <th>4</th>\n",
       "      <td>6</td>\n",
       "      <td>13</td>\n",
       "      <td>2</td>\n",
       "      <td>2956-A TREAT BOULEVARD</td>\n",
       "      <td>California</td>\n",
       "      <td>Contra Costa</td>\n",
       "      <td>Concord</td>\n",
       "      <td>2000-01-02</td>\n",
       "      <td>Parts per billion</td>\n",
       "      <td>16.043478</td>\n",
       "      <td>...</td>\n",
       "      <td>Parts per billion</td>\n",
       "      <td>1.000000</td>\n",
       "      <td>2.0</td>\n",
       "      <td>5</td>\n",
       "      <td>3.0</td>\n",
       "      <td>Parts per million</td>\n",
       "      <td>0.578261</td>\n",
       "      <td>1.1</td>\n",
       "      <td>21</td>\n",
       "      <td>NaN</td>\n",
       "    </tr>\n",
       "  </tbody>\n",
       "</table>\n",
       "<p>5 rows × 28 columns</p>\n",
       "</div>"
      ],
      "text/plain": [
       "   State Code  County Code  Site Num                 Address       State  \\\n",
       "0           6           13         2  2956-A TREAT BOULEVARD  California   \n",
       "1           6           13         2  2956-A TREAT BOULEVARD  California   \n",
       "2           6           13         2  2956-A TREAT BOULEVARD  California   \n",
       "3           6           13         2  2956-A TREAT BOULEVARD  California   \n",
       "4           6           13         2  2956-A TREAT BOULEVARD  California   \n",
       "\n",
       "         County     City  Date Local          NO2 Units   NO2 Mean  ...  \\\n",
       "0  Contra Costa  Concord  2000-01-01  Parts per billion  14.782609  ...   \n",
       "1  Contra Costa  Concord  2000-01-01  Parts per billion  14.782609  ...   \n",
       "2  Contra Costa  Concord  2000-01-01  Parts per billion  14.782609  ...   \n",
       "3  Contra Costa  Concord  2000-01-01  Parts per billion  14.782609  ...   \n",
       "4  Contra Costa  Concord  2000-01-02  Parts per billion  16.043478  ...   \n",
       "\n",
       "           SO2 Units  SO2 Mean  SO2 1st Max Value SO2 1st Max Hour  SO2 AQI  \\\n",
       "0  Parts per billion  0.636364                2.0                9      3.0   \n",
       "1  Parts per billion  0.636364                2.0                9      3.0   \n",
       "2  Parts per billion  0.600000                2.0               11      NaN   \n",
       "3  Parts per billion  0.600000                2.0               11      NaN   \n",
       "4  Parts per billion  1.000000                2.0                5      3.0   \n",
       "\n",
       "            CO Units   CO Mean  CO 1st Max Value CO 1st Max Hour  CO AQI  \n",
       "0  Parts per million  0.556522               1.3               4     NaN  \n",
       "1  Parts per million  0.572222               0.8               6     9.0  \n",
       "2  Parts per million  0.556522               1.3               4     NaN  \n",
       "3  Parts per million  0.572222               0.8               6     9.0  \n",
       "4  Parts per million  0.578261               1.1              21     NaN  \n",
       "\n",
       "[5 rows x 28 columns]"
      ]
     },
     "execution_count": 4,
     "metadata": {},
     "output_type": "execute_result"
    }
   ],
   "source": [
    "data.head()"
   ]
  },
  {
   "cell_type": "code",
   "execution_count": 5,
   "metadata": {},
   "outputs": [
    {
     "name": "stdout",
     "output_type": "stream",
     "text": [
      "<class 'pandas.core.frame.DataFrame'>\n",
      "RangeIndex: 576142 entries, 0 to 576141\n",
      "Data columns (total 28 columns):\n",
      " #   Column             Non-Null Count   Dtype  \n",
      "---  ------             --------------   -----  \n",
      " 0   State Code         576142 non-null  int64  \n",
      " 1   County Code        576142 non-null  int64  \n",
      " 2   Site Num           576142 non-null  int64  \n",
      " 3   Address            576142 non-null  object \n",
      " 4   State              576142 non-null  object \n",
      " 5   County             576142 non-null  object \n",
      " 6   City               576142 non-null  object \n",
      " 7   Date Local         576142 non-null  object \n",
      " 8   NO2 Units          576142 non-null  object \n",
      " 9   NO2 Mean           576142 non-null  float64\n",
      " 10  NO2 1st Max Value  576142 non-null  float64\n",
      " 11  NO2 1st Max Hour   576142 non-null  int64  \n",
      " 12  NO2 AQI            576142 non-null  int64  \n",
      " 13  O3 Units           576142 non-null  object \n",
      " 14  O3 Mean            576142 non-null  float64\n",
      " 15  O3 1st Max Value   576142 non-null  float64\n",
      " 16  O3 1st Max Hour    576142 non-null  int64  \n",
      " 17  O3 AQI             576142 non-null  int64  \n",
      " 18  SO2 Units          576142 non-null  object \n",
      " 19  SO2 Mean           576142 non-null  float64\n",
      " 20  SO2 1st Max Value  576142 non-null  float64\n",
      " 21  SO2 1st Max Hour   576142 non-null  int64  \n",
      " 22  SO2 AQI            288232 non-null  float64\n",
      " 23  CO Units           576142 non-null  object \n",
      " 24  CO Mean            576142 non-null  float64\n",
      " 25  CO 1st Max Value   576142 non-null  float64\n",
      " 26  CO 1st Max Hour    576142 non-null  int64  \n",
      " 27  CO AQI             288060 non-null  float64\n",
      "dtypes: float64(10), int64(9), object(9)\n",
      "memory usage: 123.1+ MB\n"
     ]
    }
   ],
   "source": [
    "data.info()"
   ]
  },
  {
   "cell_type": "code",
   "execution_count": 6,
   "metadata": {},
   "outputs": [
    {
     "data": {
      "text/html": [
       "<div>\n",
       "<style scoped>\n",
       "    .dataframe tbody tr th:only-of-type {\n",
       "        vertical-align: middle;\n",
       "    }\n",
       "\n",
       "    .dataframe tbody tr th {\n",
       "        vertical-align: top;\n",
       "    }\n",
       "\n",
       "    .dataframe thead th {\n",
       "        text-align: right;\n",
       "    }\n",
       "</style>\n",
       "<table border=\"1\" class=\"dataframe\">\n",
       "  <thead>\n",
       "    <tr style=\"text-align: right;\">\n",
       "      <th></th>\n",
       "      <th>State Code</th>\n",
       "      <th>County Code</th>\n",
       "      <th>Site Num</th>\n",
       "      <th>NO2 Mean</th>\n",
       "      <th>NO2 1st Max Value</th>\n",
       "      <th>NO2 1st Max Hour</th>\n",
       "      <th>NO2 AQI</th>\n",
       "      <th>O3 Mean</th>\n",
       "      <th>O3 1st Max Value</th>\n",
       "      <th>O3 1st Max Hour</th>\n",
       "      <th>O3 AQI</th>\n",
       "      <th>SO2 Mean</th>\n",
       "      <th>SO2 1st Max Value</th>\n",
       "      <th>SO2 1st Max Hour</th>\n",
       "      <th>SO2 AQI</th>\n",
       "      <th>CO Mean</th>\n",
       "      <th>CO 1st Max Value</th>\n",
       "      <th>CO 1st Max Hour</th>\n",
       "      <th>CO AQI</th>\n",
       "    </tr>\n",
       "  </thead>\n",
       "  <tbody>\n",
       "    <tr>\n",
       "      <th>count</th>\n",
       "      <td>576142.0</td>\n",
       "      <td>576142.000000</td>\n",
       "      <td>576142.000000</td>\n",
       "      <td>576142.000000</td>\n",
       "      <td>576142.000000</td>\n",
       "      <td>576142.000000</td>\n",
       "      <td>576142.000000</td>\n",
       "      <td>576142.000000</td>\n",
       "      <td>576142.000000</td>\n",
       "      <td>576142.000000</td>\n",
       "      <td>576142.000000</td>\n",
       "      <td>576142.000000</td>\n",
       "      <td>576142.000000</td>\n",
       "      <td>576142.000000</td>\n",
       "      <td>288232.000000</td>\n",
       "      <td>576142.000000</td>\n",
       "      <td>576142.000000</td>\n",
       "      <td>576142.000000</td>\n",
       "      <td>288060.000000</td>\n",
       "    </tr>\n",
       "    <tr>\n",
       "      <th>mean</th>\n",
       "      <td>6.0</td>\n",
       "      <td>53.797397</td>\n",
       "      <td>1599.569823</td>\n",
       "      <td>13.651894</td>\n",
       "      <td>25.592142</td>\n",
       "      <td>11.264417</td>\n",
       "      <td>24.110238</td>\n",
       "      <td>0.026053</td>\n",
       "      <td>0.038820</td>\n",
       "      <td>10.204474</td>\n",
       "      <td>35.722673</td>\n",
       "      <td>1.146695</td>\n",
       "      <td>2.331772</td>\n",
       "      <td>8.508692</td>\n",
       "      <td>3.598278</td>\n",
       "      <td>0.447485</td>\n",
       "      <td>0.769284</td>\n",
       "      <td>7.430949</td>\n",
       "      <td>7.405669</td>\n",
       "    </tr>\n",
       "    <tr>\n",
       "      <th>std</th>\n",
       "      <td>0.0</td>\n",
       "      <td>28.550954</td>\n",
       "      <td>2039.338943</td>\n",
       "      <td>11.081922</td>\n",
       "      <td>18.026597</td>\n",
       "      <td>7.378273</td>\n",
       "      <td>17.129925</td>\n",
       "      <td>0.011530</td>\n",
       "      <td>0.015028</td>\n",
       "      <td>3.711410</td>\n",
       "      <td>20.432386</td>\n",
       "      <td>1.406326</td>\n",
       "      <td>3.197332</td>\n",
       "      <td>6.322809</td>\n",
       "      <td>5.195931</td>\n",
       "      <td>0.375866</td>\n",
       "      <td>0.798595</td>\n",
       "      <td>7.233509</td>\n",
       "      <td>7.183791</td>\n",
       "    </tr>\n",
       "    <tr>\n",
       "      <th>min</th>\n",
       "      <td>6.0</td>\n",
       "      <td>1.000000</td>\n",
       "      <td>1.000000</td>\n",
       "      <td>-1.871429</td>\n",
       "      <td>-1.600000</td>\n",
       "      <td>0.000000</td>\n",
       "      <td>0.000000</td>\n",
       "      <td>0.000000</td>\n",
       "      <td>0.000000</td>\n",
       "      <td>0.000000</td>\n",
       "      <td>0.000000</td>\n",
       "      <td>-1.521739</td>\n",
       "      <td>-1.300000</td>\n",
       "      <td>0.000000</td>\n",
       "      <td>0.000000</td>\n",
       "      <td>-0.400000</td>\n",
       "      <td>-0.400000</td>\n",
       "      <td>0.000000</td>\n",
       "      <td>0.000000</td>\n",
       "    </tr>\n",
       "    <tr>\n",
       "      <th>25%</th>\n",
       "      <td>6.0</td>\n",
       "      <td>25.000000</td>\n",
       "      <td>6.000000</td>\n",
       "      <td>5.181818</td>\n",
       "      <td>11.000000</td>\n",
       "      <td>6.000000</td>\n",
       "      <td>10.000000</td>\n",
       "      <td>0.017750</td>\n",
       "      <td>0.029000</td>\n",
       "      <td>9.000000</td>\n",
       "      <td>25.000000</td>\n",
       "      <td>0.157143</td>\n",
       "      <td>0.600000</td>\n",
       "      <td>2.000000</td>\n",
       "      <td>1.000000</td>\n",
       "      <td>0.220833</td>\n",
       "      <td>0.300000</td>\n",
       "      <td>0.000000</td>\n",
       "      <td>3.000000</td>\n",
       "    </tr>\n",
       "    <tr>\n",
       "      <th>50%</th>\n",
       "      <td>6.0</td>\n",
       "      <td>65.000000</td>\n",
       "      <td>1004.000000</td>\n",
       "      <td>10.943961</td>\n",
       "      <td>23.000000</td>\n",
       "      <td>9.000000</td>\n",
       "      <td>22.000000</td>\n",
       "      <td>0.026000</td>\n",
       "      <td>0.038000</td>\n",
       "      <td>10.000000</td>\n",
       "      <td>32.000000</td>\n",
       "      <td>0.760000</td>\n",
       "      <td>1.300000</td>\n",
       "      <td>8.000000</td>\n",
       "      <td>3.000000</td>\n",
       "      <td>0.343478</td>\n",
       "      <td>0.500000</td>\n",
       "      <td>6.000000</td>\n",
       "      <td>6.000000</td>\n",
       "    </tr>\n",
       "    <tr>\n",
       "      <th>75%</th>\n",
       "      <td>6.0</td>\n",
       "      <td>75.000000</td>\n",
       "      <td>2007.000000</td>\n",
       "      <td>19.545455</td>\n",
       "      <td>37.000000</td>\n",
       "      <td>19.000000</td>\n",
       "      <td>35.000000</td>\n",
       "      <td>0.034000</td>\n",
       "      <td>0.047000</td>\n",
       "      <td>11.000000</td>\n",
       "      <td>40.000000</td>\n",
       "      <td>1.556522</td>\n",
       "      <td>3.000000</td>\n",
       "      <td>12.000000</td>\n",
       "      <td>4.000000</td>\n",
       "      <td>0.552174</td>\n",
       "      <td>1.000000</td>\n",
       "      <td>10.000000</td>\n",
       "      <td>9.000000</td>\n",
       "    </tr>\n",
       "    <tr>\n",
       "      <th>max</th>\n",
       "      <td>6.0</td>\n",
       "      <td>111.000000</td>\n",
       "      <td>8001.000000</td>\n",
       "      <td>98.130435</td>\n",
       "      <td>262.000000</td>\n",
       "      <td>23.000000</td>\n",
       "      <td>131.000000</td>\n",
       "      <td>0.086214</td>\n",
       "      <td>0.140000</td>\n",
       "      <td>23.000000</td>\n",
       "      <td>218.000000</td>\n",
       "      <td>40.271429</td>\n",
       "      <td>192.000000</td>\n",
       "      <td>23.000000</td>\n",
       "      <td>153.000000</td>\n",
       "      <td>7.508333</td>\n",
       "      <td>19.900000</td>\n",
       "      <td>23.000000</td>\n",
       "      <td>201.000000</td>\n",
       "    </tr>\n",
       "  </tbody>\n",
       "</table>\n",
       "</div>"
      ],
      "text/plain": [
       "       State Code    County Code       Site Num       NO2 Mean  \\\n",
       "count    576142.0  576142.000000  576142.000000  576142.000000   \n",
       "mean          6.0      53.797397    1599.569823      13.651894   \n",
       "std           0.0      28.550954    2039.338943      11.081922   \n",
       "min           6.0       1.000000       1.000000      -1.871429   \n",
       "25%           6.0      25.000000       6.000000       5.181818   \n",
       "50%           6.0      65.000000    1004.000000      10.943961   \n",
       "75%           6.0      75.000000    2007.000000      19.545455   \n",
       "max           6.0     111.000000    8001.000000      98.130435   \n",
       "\n",
       "       NO2 1st Max Value  NO2 1st Max Hour        NO2 AQI        O3 Mean  \\\n",
       "count      576142.000000     576142.000000  576142.000000  576142.000000   \n",
       "mean           25.592142         11.264417      24.110238       0.026053   \n",
       "std            18.026597          7.378273      17.129925       0.011530   \n",
       "min            -1.600000          0.000000       0.000000       0.000000   \n",
       "25%            11.000000          6.000000      10.000000       0.017750   \n",
       "50%            23.000000          9.000000      22.000000       0.026000   \n",
       "75%            37.000000         19.000000      35.000000       0.034000   \n",
       "max           262.000000         23.000000     131.000000       0.086214   \n",
       "\n",
       "       O3 1st Max Value  O3 1st Max Hour         O3 AQI       SO2 Mean  \\\n",
       "count     576142.000000    576142.000000  576142.000000  576142.000000   \n",
       "mean           0.038820        10.204474      35.722673       1.146695   \n",
       "std            0.015028         3.711410      20.432386       1.406326   \n",
       "min            0.000000         0.000000       0.000000      -1.521739   \n",
       "25%            0.029000         9.000000      25.000000       0.157143   \n",
       "50%            0.038000        10.000000      32.000000       0.760000   \n",
       "75%            0.047000        11.000000      40.000000       1.556522   \n",
       "max            0.140000        23.000000     218.000000      40.271429   \n",
       "\n",
       "       SO2 1st Max Value  SO2 1st Max Hour        SO2 AQI        CO Mean  \\\n",
       "count      576142.000000     576142.000000  288232.000000  576142.000000   \n",
       "mean            2.331772          8.508692       3.598278       0.447485   \n",
       "std             3.197332          6.322809       5.195931       0.375866   \n",
       "min            -1.300000          0.000000       0.000000      -0.400000   \n",
       "25%             0.600000          2.000000       1.000000       0.220833   \n",
       "50%             1.300000          8.000000       3.000000       0.343478   \n",
       "75%             3.000000         12.000000       4.000000       0.552174   \n",
       "max           192.000000         23.000000     153.000000       7.508333   \n",
       "\n",
       "       CO 1st Max Value  CO 1st Max Hour         CO AQI  \n",
       "count     576142.000000    576142.000000  288060.000000  \n",
       "mean           0.769284         7.430949       7.405669  \n",
       "std            0.798595         7.233509       7.183791  \n",
       "min           -0.400000         0.000000       0.000000  \n",
       "25%            0.300000         0.000000       3.000000  \n",
       "50%            0.500000         6.000000       6.000000  \n",
       "75%            1.000000        10.000000       9.000000  \n",
       "max           19.900000        23.000000     201.000000  "
      ]
     },
     "execution_count": 6,
     "metadata": {},
     "output_type": "execute_result"
    }
   ],
   "source": [
    "data.describe()"
   ]
  },
  {
   "cell_type": "code",
   "execution_count": 7,
   "metadata": {},
   "outputs": [
    {
     "data": {
      "text/plain": [
       "(576142, 28)"
      ]
     },
     "execution_count": 7,
     "metadata": {},
     "output_type": "execute_result"
    }
   ],
   "source": [
    "data.shape"
   ]
  },
  {
   "cell_type": "markdown",
   "metadata": {},
   "source": [
    " "
   ]
  },
  {
   "cell_type": "markdown",
   "metadata": {},
   "source": [
    "### 3. 数据处理"
   ]
  },
  {
   "cell_type": "code",
   "execution_count": 8,
   "metadata": {},
   "outputs": [
    {
     "data": {
      "text/plain": [
       "514"
      ]
     },
     "execution_count": 8,
     "metadata": {},
     "output_type": "execute_result"
    }
   ],
   "source": [
    "data.duplicated().sum()  # 查看是否存在重复"
   ]
  },
  {
   "cell_type": "code",
   "execution_count": 9,
   "metadata": {},
   "outputs": [],
   "source": [
    "data.drop_duplicates(inplace=True)  # 删掉完全重复的行"
   ]
  },
  {
   "cell_type": "code",
   "execution_count": 10,
   "metadata": {},
   "outputs": [
    {
     "data": {
      "text/plain": [
       "State Code           False\n",
       "County Code          False\n",
       "Site Num             False\n",
       "Address              False\n",
       "State                False\n",
       "County               False\n",
       "City                 False\n",
       "Date Local           False\n",
       "NO2 Units            False\n",
       "NO2 Mean             False\n",
       "NO2 1st Max Value    False\n",
       "NO2 1st Max Hour     False\n",
       "NO2 AQI              False\n",
       "O3 Units             False\n",
       "O3 Mean              False\n",
       "O3 1st Max Value     False\n",
       "O3 1st Max Hour      False\n",
       "O3 AQI               False\n",
       "SO2 Units            False\n",
       "SO2 Mean             False\n",
       "SO2 1st Max Value    False\n",
       "SO2 1st Max Hour     False\n",
       "SO2 AQI               True\n",
       "CO Units             False\n",
       "CO Mean              False\n",
       "CO 1st Max Value     False\n",
       "CO 1st Max Hour      False\n",
       "CO AQI                True\n",
       "dtype: bool"
      ]
     },
     "execution_count": 10,
     "metadata": {},
     "output_type": "execute_result"
    }
   ],
   "source": [
    "data.isnull().any() # 查看各列是否存在空值"
   ]
  },
  {
   "cell_type": "code",
   "execution_count": 11,
   "metadata": {},
   "outputs": [],
   "source": [
    "data.dropna(inplace=True)  # 我们发现SO2 AQI和CO AQI都存在空值， 接下来删掉数据集中含空值的行， 避免对后续处理造成影响"
   ]
  },
  {
   "cell_type": "markdown",
   "metadata": {},
   "source": [
    "在前面使用info()方法查看数据集各列的数据类型时， 我们发现Date Local是字符型， 为了方便后续处理， 我们将其处理成日期型"
   ]
  },
  {
   "cell_type": "code",
   "execution_count": 12,
   "metadata": {},
   "outputs": [],
   "source": [
    "data['Date Local'] = pd.to_datetime(data['Date Local']) # 将Date Local字段由字符型转化为日期型"
   ]
  },
  {
   "cell_type": "markdown",
   "metadata": {},
   "source": [
    " "
   ]
  },
  {
   "cell_type": "markdown",
   "metadata": {},
   "source": [
    " "
   ]
  },
  {
   "cell_type": "markdown",
   "metadata": {},
   "source": [
    "### 4. 数据分析"
   ]
  },
  {
   "cell_type": "markdown",
   "metadata": {},
   "source": [
    "#### （1）四种污染物含量整体变化的趋势"
   ]
  },
  {
   "cell_type": "code",
   "execution_count": 13,
   "metadata": {},
   "outputs": [
    {
     "data": {
      "text/html": [
       "<div>\n",
       "<style scoped>\n",
       "    .dataframe tbody tr th:only-of-type {\n",
       "        vertical-align: middle;\n",
       "    }\n",
       "\n",
       "    .dataframe tbody tr th {\n",
       "        vertical-align: top;\n",
       "    }\n",
       "\n",
       "    .dataframe thead th {\n",
       "        text-align: right;\n",
       "    }\n",
       "</style>\n",
       "<table border=\"1\" class=\"dataframe\">\n",
       "  <thead>\n",
       "    <tr style=\"text-align: right;\">\n",
       "      <th></th>\n",
       "      <th>State Code</th>\n",
       "      <th>County Code</th>\n",
       "      <th>Site Num</th>\n",
       "      <th>Address</th>\n",
       "      <th>State</th>\n",
       "      <th>County</th>\n",
       "      <th>City</th>\n",
       "      <th>Date Local</th>\n",
       "      <th>NO2 Units</th>\n",
       "      <th>NO2 Mean</th>\n",
       "      <th>...</th>\n",
       "      <th>SO2 Units</th>\n",
       "      <th>SO2 Mean</th>\n",
       "      <th>SO2 1st Max Value</th>\n",
       "      <th>SO2 1st Max Hour</th>\n",
       "      <th>SO2 AQI</th>\n",
       "      <th>CO Units</th>\n",
       "      <th>CO Mean</th>\n",
       "      <th>CO 1st Max Value</th>\n",
       "      <th>CO 1st Max Hour</th>\n",
       "      <th>CO AQI</th>\n",
       "    </tr>\n",
       "  </thead>\n",
       "  <tbody>\n",
       "    <tr>\n",
       "      <th>1</th>\n",
       "      <td>6</td>\n",
       "      <td>13</td>\n",
       "      <td>2</td>\n",
       "      <td>2956-A TREAT BOULEVARD</td>\n",
       "      <td>California</td>\n",
       "      <td>Contra Costa</td>\n",
       "      <td>Concord</td>\n",
       "      <td>2000-01-01</td>\n",
       "      <td>Parts per billion</td>\n",
       "      <td>14.782609</td>\n",
       "      <td>...</td>\n",
       "      <td>Parts per billion</td>\n",
       "      <td>0.636364</td>\n",
       "      <td>2.0</td>\n",
       "      <td>9</td>\n",
       "      <td>3.0</td>\n",
       "      <td>Parts per million</td>\n",
       "      <td>0.572222</td>\n",
       "      <td>0.8</td>\n",
       "      <td>6</td>\n",
       "      <td>9.0</td>\n",
       "    </tr>\n",
       "    <tr>\n",
       "      <th>5</th>\n",
       "      <td>6</td>\n",
       "      <td>13</td>\n",
       "      <td>2</td>\n",
       "      <td>2956-A TREAT BOULEVARD</td>\n",
       "      <td>California</td>\n",
       "      <td>Contra Costa</td>\n",
       "      <td>Concord</td>\n",
       "      <td>2000-01-02</td>\n",
       "      <td>Parts per billion</td>\n",
       "      <td>16.043478</td>\n",
       "      <td>...</td>\n",
       "      <td>Parts per billion</td>\n",
       "      <td>1.000000</td>\n",
       "      <td>2.0</td>\n",
       "      <td>5</td>\n",
       "      <td>3.0</td>\n",
       "      <td>Parts per million</td>\n",
       "      <td>0.520833</td>\n",
       "      <td>0.8</td>\n",
       "      <td>23</td>\n",
       "      <td>9.0</td>\n",
       "    </tr>\n",
       "    <tr>\n",
       "      <th>9</th>\n",
       "      <td>6</td>\n",
       "      <td>13</td>\n",
       "      <td>2</td>\n",
       "      <td>2956-A TREAT BOULEVARD</td>\n",
       "      <td>California</td>\n",
       "      <td>Contra Costa</td>\n",
       "      <td>Concord</td>\n",
       "      <td>2000-01-03</td>\n",
       "      <td>Parts per billion</td>\n",
       "      <td>25.521739</td>\n",
       "      <td>...</td>\n",
       "      <td>Parts per billion</td>\n",
       "      <td>2.454545</td>\n",
       "      <td>4.0</td>\n",
       "      <td>13</td>\n",
       "      <td>6.0</td>\n",
       "      <td>Parts per million</td>\n",
       "      <td>1.133333</td>\n",
       "      <td>1.9</td>\n",
       "      <td>23</td>\n",
       "      <td>22.0</td>\n",
       "    </tr>\n",
       "    <tr>\n",
       "      <th>13</th>\n",
       "      <td>6</td>\n",
       "      <td>13</td>\n",
       "      <td>2</td>\n",
       "      <td>2956-A TREAT BOULEVARD</td>\n",
       "      <td>California</td>\n",
       "      <td>Contra Costa</td>\n",
       "      <td>Concord</td>\n",
       "      <td>2000-01-04</td>\n",
       "      <td>Parts per billion</td>\n",
       "      <td>26.041667</td>\n",
       "      <td>...</td>\n",
       "      <td>Parts per billion</td>\n",
       "      <td>1.541667</td>\n",
       "      <td>4.0</td>\n",
       "      <td>17</td>\n",
       "      <td>6.0</td>\n",
       "      <td>Parts per million</td>\n",
       "      <td>1.408333</td>\n",
       "      <td>2.0</td>\n",
       "      <td>0</td>\n",
       "      <td>23.0</td>\n",
       "    </tr>\n",
       "    <tr>\n",
       "      <th>17</th>\n",
       "      <td>6</td>\n",
       "      <td>13</td>\n",
       "      <td>2</td>\n",
       "      <td>2956-A TREAT BOULEVARD</td>\n",
       "      <td>California</td>\n",
       "      <td>Contra Costa</td>\n",
       "      <td>Concord</td>\n",
       "      <td>2000-01-05</td>\n",
       "      <td>Parts per billion</td>\n",
       "      <td>23.772727</td>\n",
       "      <td>...</td>\n",
       "      <td>Parts per billion</td>\n",
       "      <td>1.681818</td>\n",
       "      <td>4.0</td>\n",
       "      <td>10</td>\n",
       "      <td>6.0</td>\n",
       "      <td>Parts per million</td>\n",
       "      <td>0.941667</td>\n",
       "      <td>1.7</td>\n",
       "      <td>23</td>\n",
       "      <td>19.0</td>\n",
       "    </tr>\n",
       "  </tbody>\n",
       "</table>\n",
       "<p>5 rows × 28 columns</p>\n",
       "</div>"
      ],
      "text/plain": [
       "    State Code  County Code  Site Num                 Address       State  \\\n",
       "1            6           13         2  2956-A TREAT BOULEVARD  California   \n",
       "5            6           13         2  2956-A TREAT BOULEVARD  California   \n",
       "9            6           13         2  2956-A TREAT BOULEVARD  California   \n",
       "13           6           13         2  2956-A TREAT BOULEVARD  California   \n",
       "17           6           13         2  2956-A TREAT BOULEVARD  California   \n",
       "\n",
       "          County     City Date Local          NO2 Units   NO2 Mean  ...  \\\n",
       "1   Contra Costa  Concord 2000-01-01  Parts per billion  14.782609  ...   \n",
       "5   Contra Costa  Concord 2000-01-02  Parts per billion  16.043478  ...   \n",
       "9   Contra Costa  Concord 2000-01-03  Parts per billion  25.521739  ...   \n",
       "13  Contra Costa  Concord 2000-01-04  Parts per billion  26.041667  ...   \n",
       "17  Contra Costa  Concord 2000-01-05  Parts per billion  23.772727  ...   \n",
       "\n",
       "            SO2 Units  SO2 Mean  SO2 1st Max Value SO2 1st Max Hour  SO2 AQI  \\\n",
       "1   Parts per billion  0.636364                2.0                9      3.0   \n",
       "5   Parts per billion  1.000000                2.0                5      3.0   \n",
       "9   Parts per billion  2.454545                4.0               13      6.0   \n",
       "13  Parts per billion  1.541667                4.0               17      6.0   \n",
       "17  Parts per billion  1.681818                4.0               10      6.0   \n",
       "\n",
       "             CO Units   CO Mean  CO 1st Max Value CO 1st Max Hour  CO AQI  \n",
       "1   Parts per million  0.572222               0.8               6     9.0  \n",
       "5   Parts per million  0.520833               0.8              23     9.0  \n",
       "9   Parts per million  1.133333               1.9              23    22.0  \n",
       "13  Parts per million  1.408333               2.0               0    23.0  \n",
       "17  Parts per million  0.941667               1.7              23    19.0  \n",
       "\n",
       "[5 rows x 28 columns]"
      ]
     },
     "execution_count": 13,
     "metadata": {},
     "output_type": "execute_result"
    }
   ],
   "source": [
    "data.head()"
   ]
  },
  {
   "cell_type": "markdown",
   "metadata": {},
   "source": []
  },
  {
   "cell_type": "code",
   "execution_count": 14,
   "metadata": {},
   "outputs": [],
   "source": [
    "NO2 = data['NO2 Mean'].groupby([data['Date Local'].dt.year, data['Date Local'].dt.month]).mean() # NO2 Mean\n",
    "O3 = data['O3 Mean'].groupby([data['Date Local'].dt.year, data['Date Local'].dt.month]).mean()   # O3 Mean\n",
    "SO2 = data['SO2 Mean'].groupby([data['Date Local'].dt.year, data['Date Local'].dt.month]).mean() # SO2 Mean\n",
    "CO = data['CO Mean'].groupby([data['Date Local'].dt.year, data['Date Local'].dt.month]).mean()   # CO Mean"
   ]
  },
  {
   "cell_type": "code",
   "execution_count": 15,
   "metadata": {},
   "outputs": [],
   "source": [
    "month_mean = pd.concat([NO2, O3, SO2, CO], axis=1)"
   ]
  },
  {
   "cell_type": "code",
   "execution_count": 16,
   "metadata": {},
   "outputs": [
    {
     "data": {
      "text/html": [
       "<div>\n",
       "<style scoped>\n",
       "    .dataframe tbody tr th:only-of-type {\n",
       "        vertical-align: middle;\n",
       "    }\n",
       "\n",
       "    .dataframe tbody tr th {\n",
       "        vertical-align: top;\n",
       "    }\n",
       "\n",
       "    .dataframe thead th {\n",
       "        text-align: right;\n",
       "    }\n",
       "</style>\n",
       "<table border=\"1\" class=\"dataframe\">\n",
       "  <thead>\n",
       "    <tr style=\"text-align: right;\">\n",
       "      <th></th>\n",
       "      <th></th>\n",
       "      <th>NO2 Mean</th>\n",
       "      <th>O3 Mean</th>\n",
       "      <th>SO2 Mean</th>\n",
       "      <th>CO Mean</th>\n",
       "    </tr>\n",
       "    <tr>\n",
       "      <th>Date Local</th>\n",
       "      <th>Date Local</th>\n",
       "      <th></th>\n",
       "      <th></th>\n",
       "      <th></th>\n",
       "      <th></th>\n",
       "    </tr>\n",
       "  </thead>\n",
       "  <tbody>\n",
       "    <tr>\n",
       "      <th rowspan=\"5\" valign=\"top\">2000</th>\n",
       "      <th>1</th>\n",
       "      <td>22.685029</td>\n",
       "      <td>0.013109</td>\n",
       "      <td>1.795445</td>\n",
       "      <td>1.031469</td>\n",
       "    </tr>\n",
       "    <tr>\n",
       "      <th>2</th>\n",
       "      <td>17.639380</td>\n",
       "      <td>0.021247</td>\n",
       "      <td>1.271938</td>\n",
       "      <td>0.675111</td>\n",
       "    </tr>\n",
       "    <tr>\n",
       "      <th>3</th>\n",
       "      <td>16.930270</td>\n",
       "      <td>0.026984</td>\n",
       "      <td>1.562430</td>\n",
       "      <td>0.575237</td>\n",
       "    </tr>\n",
       "    <tr>\n",
       "      <th>4</th>\n",
       "      <td>15.240847</td>\n",
       "      <td>0.031271</td>\n",
       "      <td>1.455959</td>\n",
       "      <td>0.536494</td>\n",
       "    </tr>\n",
       "    <tr>\n",
       "      <th>5</th>\n",
       "      <td>13.672839</td>\n",
       "      <td>0.032277</td>\n",
       "      <td>1.767503</td>\n",
       "      <td>0.446947</td>\n",
       "    </tr>\n",
       "    <tr>\n",
       "      <th>...</th>\n",
       "      <th>...</th>\n",
       "      <td>...</td>\n",
       "      <td>...</td>\n",
       "      <td>...</td>\n",
       "      <td>...</td>\n",
       "    </tr>\n",
       "    <tr>\n",
       "      <th>2015</th>\n",
       "      <th>12</th>\n",
       "      <td>14.140778</td>\n",
       "      <td>0.019259</td>\n",
       "      <td>0.676953</td>\n",
       "      <td>0.451681</td>\n",
       "    </tr>\n",
       "    <tr>\n",
       "      <th rowspan=\"4\" valign=\"top\">2016</th>\n",
       "      <th>1</th>\n",
       "      <td>8.599721</td>\n",
       "      <td>0.021818</td>\n",
       "      <td>0.602615</td>\n",
       "      <td>0.384096</td>\n",
       "    </tr>\n",
       "    <tr>\n",
       "      <th>2</th>\n",
       "      <td>10.088560</td>\n",
       "      <td>0.022800</td>\n",
       "      <td>0.648723</td>\n",
       "      <td>0.397666</td>\n",
       "    </tr>\n",
       "    <tr>\n",
       "      <th>3</th>\n",
       "      <td>5.893201</td>\n",
       "      <td>0.029233</td>\n",
       "      <td>0.484627</td>\n",
       "      <td>0.309921</td>\n",
       "    </tr>\n",
       "    <tr>\n",
       "      <th>4</th>\n",
       "      <td>6.484205</td>\n",
       "      <td>0.032489</td>\n",
       "      <td>0.802672</td>\n",
       "      <td>0.317994</td>\n",
       "    </tr>\n",
       "  </tbody>\n",
       "</table>\n",
       "<p>196 rows × 4 columns</p>\n",
       "</div>"
      ],
      "text/plain": [
       "                        NO2 Mean   O3 Mean  SO2 Mean   CO Mean\n",
       "Date Local Date Local                                         \n",
       "2000       1           22.685029  0.013109  1.795445  1.031469\n",
       "           2           17.639380  0.021247  1.271938  0.675111\n",
       "           3           16.930270  0.026984  1.562430  0.575237\n",
       "           4           15.240847  0.031271  1.455959  0.536494\n",
       "           5           13.672839  0.032277  1.767503  0.446947\n",
       "...                          ...       ...       ...       ...\n",
       "2015       12          14.140778  0.019259  0.676953  0.451681\n",
       "2016       1            8.599721  0.021818  0.602615  0.384096\n",
       "           2           10.088560  0.022800  0.648723  0.397666\n",
       "           3            5.893201  0.029233  0.484627  0.309921\n",
       "           4            6.484205  0.032489  0.802672  0.317994\n",
       "\n",
       "[196 rows x 4 columns]"
      ]
     },
     "execution_count": 16,
     "metadata": {},
     "output_type": "execute_result"
    }
   ],
   "source": [
    "month_mean"
   ]
  },
  {
   "cell_type": "code",
   "execution_count": 17,
   "metadata": {},
   "outputs": [
    {
     "data": {
      "application/vnd.plotly.v1+json": {
       "config": {
        "linkText": "Export to plot.ly",
        "plotlyServerURL": "https://plot.ly",
        "showLink": true
       },
       "data": [
        {
         "line": {
          "color": "rgba(255, 153, 51, 1.0)",
          "dash": "solid",
          "shape": "linear",
          "width": 1.3
         },
         "mode": "lines",
         "name": "NO2 Mean",
         "text": "",
         "type": "scatter",
         "x": [
          "(2000,1)",
          "(2000,2)",
          "(2000,3)",
          "(2000,4)",
          "(2000,5)",
          "(2000,6)",
          "(2000,7)",
          "(2000,8)",
          "(2000,9)",
          "(2000,10)",
          "(2000,11)",
          "(2000,12)",
          "(2001,1)",
          "(2001,2)",
          "(2001,3)",
          "(2001,4)",
          "(2001,5)",
          "(2001,6)",
          "(2001,7)",
          "(2001,8)",
          "(2001,9)",
          "(2001,10)",
          "(2001,11)",
          "(2001,12)",
          "(2002,1)",
          "(2002,2)",
          "(2002,3)",
          "(2002,4)",
          "(2002,5)",
          "(2002,6)",
          "(2002,7)",
          "(2002,8)",
          "(2002,9)",
          "(2002,10)",
          "(2002,11)",
          "(2002,12)",
          "(2003,1)",
          "(2003,2)",
          "(2003,3)",
          "(2003,4)",
          "(2003,5)",
          "(2003,6)",
          "(2003,7)",
          "(2003,8)",
          "(2003,9)",
          "(2003,10)",
          "(2003,11)",
          "(2003,12)",
          "(2004,1)",
          "(2004,2)",
          "(2004,3)",
          "(2004,4)",
          "(2004,5)",
          "(2004,6)",
          "(2004,7)",
          "(2004,8)",
          "(2004,9)",
          "(2004,10)",
          "(2004,11)",
          "(2004,12)",
          "(2005,1)",
          "(2005,2)",
          "(2005,3)",
          "(2005,4)",
          "(2005,5)",
          "(2005,6)",
          "(2005,7)",
          "(2005,8)",
          "(2005,9)",
          "(2005,10)",
          "(2005,11)",
          "(2005,12)",
          "(2006,1)",
          "(2006,2)",
          "(2006,3)",
          "(2006,4)",
          "(2006,5)",
          "(2006,6)",
          "(2006,7)",
          "(2006,8)",
          "(2006,9)",
          "(2006,10)",
          "(2006,11)",
          "(2006,12)",
          "(2007,1)",
          "(2007,2)",
          "(2007,3)",
          "(2007,4)",
          "(2007,5)",
          "(2007,6)",
          "(2007,7)",
          "(2007,8)",
          "(2007,9)",
          "(2007,10)",
          "(2007,11)",
          "(2007,12)",
          "(2008,1)",
          "(2008,2)",
          "(2008,3)",
          "(2008,4)",
          "(2008,5)",
          "(2008,6)",
          "(2008,7)",
          "(2008,8)",
          "(2008,9)",
          "(2008,10)",
          "(2008,11)",
          "(2008,12)",
          "(2009,1)",
          "(2009,2)",
          "(2009,3)",
          "(2009,4)",
          "(2009,5)",
          "(2009,6)",
          "(2009,7)",
          "(2009,8)",
          "(2009,9)",
          "(2009,10)",
          "(2009,11)",
          "(2009,12)",
          "(2010,1)",
          "(2010,2)",
          "(2010,3)",
          "(2010,4)",
          "(2010,5)",
          "(2010,6)",
          "(2010,7)",
          "(2010,8)",
          "(2010,9)",
          "(2010,10)",
          "(2010,11)",
          "(2010,12)",
          "(2011,1)",
          "(2011,2)",
          "(2011,3)",
          "(2011,4)",
          "(2011,5)",
          "(2011,6)",
          "(2011,7)",
          "(2011,8)",
          "(2011,9)",
          "(2011,10)",
          "(2011,11)",
          "(2011,12)",
          "(2012,1)",
          "(2012,2)",
          "(2012,3)",
          "(2012,4)",
          "(2012,5)",
          "(2012,6)",
          "(2012,7)",
          "(2012,8)",
          "(2012,9)",
          "(2012,10)",
          "(2012,11)",
          "(2012,12)",
          "(2013,1)",
          "(2013,2)",
          "(2013,3)",
          "(2013,4)",
          "(2013,5)",
          "(2013,6)",
          "(2013,7)",
          "(2013,8)",
          "(2013,9)",
          "(2013,10)",
          "(2013,11)",
          "(2013,12)",
          "(2014,1)",
          "(2014,2)",
          "(2014,3)",
          "(2014,4)",
          "(2014,5)",
          "(2014,6)",
          "(2014,7)",
          "(2014,8)",
          "(2014,9)",
          "(2014,10)",
          "(2014,11)",
          "(2014,12)",
          "(2015,1)",
          "(2015,2)",
          "(2015,3)",
          "(2015,4)",
          "(2015,5)",
          "(2015,6)",
          "(2015,7)",
          "(2015,8)",
          "(2015,9)",
          "(2015,10)",
          "(2015,11)",
          "(2015,12)",
          "(2016,1)",
          "(2016,2)",
          "(2016,3)",
          "(2016,4)"
         ],
         "xaxis": "x",
         "y": [
          22.6850287339181,
          17.63938030508477,
          16.930270059620614,
          15.240846867318433,
          13.67283858498582,
          12.322580165034978,
          12.281155342002595,
          14.335671875989455,
          16.636229363228683,
          16.787008129032255,
          24.35474149199998,
          27.786627465539688,
          24.878953234550526,
          19.165499979299373,
          17.245874770731707,
          13.872124733774847,
          15.193953110821363,
          14.169078816431306,
          12.363798056860333,
          14.537286875157625,
          17.158214124999997,
          21.8330435,
          22.492816012594442,
          20.661384591911776,
          22.146970625433518,
          22.94356565322582,
          16.55005466009278,
          12.539118667455613,
          11.79588302724177,
          10.92471431730768,
          11.236418447667083,
          13.722020596692099,
          17.173596564599496,
          18.48717856391871,
          23.55559271801569,
          21.39352431914892,
          22.30329700480194,
          16.910930536030342,
          15.487220291366896,
          11.22579128233831,
          12.469390094577548,
          10.60783072888282,
          12.392944150510212,
          12.532301593539703,
          14.54686223789174,
          20.453463360497214,
          19.14465905726257,
          21.27846678533334,
          20.966653166433574,
          18.607423828148146,
          18.769329878048786,
          12.016888999999999,
          11.633021841949782,
          9.398062220264318,
          9.84081337517053,
          10.705866331071904,
          14.959138941095881,
          15.8809535147059,
          18.821266056277047,
          19.704861471925124,
          17.450795703311247,
          15.653578026162801,
          13.502141337874649,
          12.062418836762694,
          9.511583718626161,
          8.525814529829551,
          10.30891187078652,
          11.104932496598646,
          13.517463491643445,
          16.40730403212291,
          20.022972703056787,
          19.74486958208954,
          17.568332388508885,
          19.88798978915662,
          12.307337008086241,
          10.556803329608933,
          9.890279881309688,
          10.709260472701134,
          10.196952074728266,
          10.008258162162164,
          13.351253387905604,
          15.649594843661966,
          18.973971646888586,
          19.470469143431654,
          19.560703624827575,
          15.424664917573885,
          15.083873298200501,
          10.153266397225732,
          8.955313312958442,
          8.627330384915478,
          8.28992425540027,
          9.957181927536213,
          10.634737324742277,
          15.611691041719338,
          18.62319069548389,
          16.24140183191232,
          15.331058408934737,
          15.445909746107787,
          13.509023217342344,
          11.465743723577226,
          8.88611410620525,
          9.74261023552123,
          8.962180480278427,
          8.774282977011493,
          11.471645349753672,
          17.586118031782075,
          17.512875158139526,
          16.498976234960264,
          18.394790713930348,
          14.495666266846335,
          12.006232344783703,
          10.703023922448992,
          8.872834675133694,
          7.493826421555254,
          8.685784873221207,
          10.5105241099612,
          12.087466492329158,
          13.928138616133506,
          19.42258202745666,
          18.82824186831275,
          18.621081423025412,
          14.94445940356563,
          12.994866711594206,
          9.18886889473684,
          7.581826184131738,
          7.10271158797653,
          7.852363738439299,
          10.217791405898895,
          13.557726208955216,
          12.331331342141876,
          15.90308677466863,
          15.76101843810849,
          17.530734115815687,
          14.726289368421064,
          12.806337030162403,
          8.921062498028908,
          7.870103580368102,
          7.344999340845057,
          6.57863953551911,
          8.704932391979295,
          11.929615247524758,
          15.497035187344903,
          15.662633714285729,
          19.397425765006396,
          17.82306917709925,
          13.870359301449264,
          10.28731740953716,
          8.836531805839419,
          6.83371937692308,
          6.657992068217055,
          6.84974291190109,
          8.264257768532524,
          10.558167565625002,
          12.21753378560939,
          15.20325802706359,
          14.103830031553414,
          17.56155354172017,
          13.826019697933235,
          11.4672074048913,
          8.049386690082656,
          7.009989905947445,
          6.972090888149142,
          8.24842685433071,
          8.552651687732345,
          9.927804419554462,
          13.127977113079014,
          16.84272459727889,
          19.7443939481193,
          21.90635120182289,
          13.837846060869563,
          9.783490856338032,
          8.786929844702467,
          7.41340549785408,
          6.27723977794118,
          6.352284563920457,
          6.8371879523809485,
          8.521648339832865,
          12.881082481029813,
          14.270608396802313,
          12.839489942611198,
          17.15876850474898,
          13.345031836923075,
          11.816696939972703,
          8.142880304913295,
          5.242920240298509,
          6.927183946188349,
          5.263713550147501,
          6.570498280116107,
          9.122389326018807,
          10.947259550077035,
          13.676803503628422,
          14.140778009859133,
          8.599721455337697,
          10.088559618453868,
          5.893201104166666,
          6.484204783333331
         ],
         "yaxis": "y"
        },
        {
         "line": {
          "color": "rgba(55, 128, 191, 1.0)",
          "dash": "solid",
          "shape": "linear",
          "width": 1.3
         },
         "mode": "lines",
         "name": "O3 Mean",
         "text": "",
         "type": "scatter",
         "x": [
          "(2000,1)",
          "(2000,2)",
          "(2000,3)",
          "(2000,4)",
          "(2000,5)",
          "(2000,6)",
          "(2000,7)",
          "(2000,8)",
          "(2000,9)",
          "(2000,10)",
          "(2000,11)",
          "(2000,12)",
          "(2001,1)",
          "(2001,2)",
          "(2001,3)",
          "(2001,4)",
          "(2001,5)",
          "(2001,6)",
          "(2001,7)",
          "(2001,8)",
          "(2001,9)",
          "(2001,10)",
          "(2001,11)",
          "(2001,12)",
          "(2002,1)",
          "(2002,2)",
          "(2002,3)",
          "(2002,4)",
          "(2002,5)",
          "(2002,6)",
          "(2002,7)",
          "(2002,8)",
          "(2002,9)",
          "(2002,10)",
          "(2002,11)",
          "(2002,12)",
          "(2003,1)",
          "(2003,2)",
          "(2003,3)",
          "(2003,4)",
          "(2003,5)",
          "(2003,6)",
          "(2003,7)",
          "(2003,8)",
          "(2003,9)",
          "(2003,10)",
          "(2003,11)",
          "(2003,12)",
          "(2004,1)",
          "(2004,2)",
          "(2004,3)",
          "(2004,4)",
          "(2004,5)",
          "(2004,6)",
          "(2004,7)",
          "(2004,8)",
          "(2004,9)",
          "(2004,10)",
          "(2004,11)",
          "(2004,12)",
          "(2005,1)",
          "(2005,2)",
          "(2005,3)",
          "(2005,4)",
          "(2005,5)",
          "(2005,6)",
          "(2005,7)",
          "(2005,8)",
          "(2005,9)",
          "(2005,10)",
          "(2005,11)",
          "(2005,12)",
          "(2006,1)",
          "(2006,2)",
          "(2006,3)",
          "(2006,4)",
          "(2006,5)",
          "(2006,6)",
          "(2006,7)",
          "(2006,8)",
          "(2006,9)",
          "(2006,10)",
          "(2006,11)",
          "(2006,12)",
          "(2007,1)",
          "(2007,2)",
          "(2007,3)",
          "(2007,4)",
          "(2007,5)",
          "(2007,6)",
          "(2007,7)",
          "(2007,8)",
          "(2007,9)",
          "(2007,10)",
          "(2007,11)",
          "(2007,12)",
          "(2008,1)",
          "(2008,2)",
          "(2008,3)",
          "(2008,4)",
          "(2008,5)",
          "(2008,6)",
          "(2008,7)",
          "(2008,8)",
          "(2008,9)",
          "(2008,10)",
          "(2008,11)",
          "(2008,12)",
          "(2009,1)",
          "(2009,2)",
          "(2009,3)",
          "(2009,4)",
          "(2009,5)",
          "(2009,6)",
          "(2009,7)",
          "(2009,8)",
          "(2009,9)",
          "(2009,10)",
          "(2009,11)",
          "(2009,12)",
          "(2010,1)",
          "(2010,2)",
          "(2010,3)",
          "(2010,4)",
          "(2010,5)",
          "(2010,6)",
          "(2010,7)",
          "(2010,8)",
          "(2010,9)",
          "(2010,10)",
          "(2010,11)",
          "(2010,12)",
          "(2011,1)",
          "(2011,2)",
          "(2011,3)",
          "(2011,4)",
          "(2011,5)",
          "(2011,6)",
          "(2011,7)",
          "(2011,8)",
          "(2011,9)",
          "(2011,10)",
          "(2011,11)",
          "(2011,12)",
          "(2012,1)",
          "(2012,2)",
          "(2012,3)",
          "(2012,4)",
          "(2012,5)",
          "(2012,6)",
          "(2012,7)",
          "(2012,8)",
          "(2012,9)",
          "(2012,10)",
          "(2012,11)",
          "(2012,12)",
          "(2013,1)",
          "(2013,2)",
          "(2013,3)",
          "(2013,4)",
          "(2013,5)",
          "(2013,6)",
          "(2013,7)",
          "(2013,8)",
          "(2013,9)",
          "(2013,10)",
          "(2013,11)",
          "(2013,12)",
          "(2014,1)",
          "(2014,2)",
          "(2014,3)",
          "(2014,4)",
          "(2014,5)",
          "(2014,6)",
          "(2014,7)",
          "(2014,8)",
          "(2014,9)",
          "(2014,10)",
          "(2014,11)",
          "(2014,12)",
          "(2015,1)",
          "(2015,2)",
          "(2015,3)",
          "(2015,4)",
          "(2015,5)",
          "(2015,6)",
          "(2015,7)",
          "(2015,8)",
          "(2015,9)",
          "(2015,10)",
          "(2015,11)",
          "(2015,12)",
          "(2016,1)",
          "(2016,2)",
          "(2016,3)",
          "(2016,4)"
         ],
         "xaxis": "x2",
         "y": [
          0.013109438596491236,
          0.021247018489984587,
          0.026984451219512196,
          0.031270861731843576,
          0.032277361189801734,
          0.030658479720279703,
          0.02683918985695708,
          0.02720042612137201,
          0.025310210762331836,
          0.02363799354838709,
          0.014591480000000004,
          0.011322927178153442,
          0.014499230337078664,
          0.019616568471337564,
          0.02614113658536586,
          0.032409520529801325,
          0.035861902216427675,
          0.03146945314505778,
          0.02791527935723114,
          0.026985588902900388,
          0.02637254040404041,
          0.024307346793349147,
          0.016674758186397992,
          0.014818258578431368,
          0.013611374566473974,
          0.01874792473118277,
          0.027495296983758702,
          0.03145550414201185,
          0.034759968217934194,
          0.03314666105769234,
          0.03026440605296346,
          0.03320000763358778,
          0.028532751937984532,
          0.028591873357228206,
          0.017540930809399464,
          0.016937018617021286,
          0.01163267947178872,
          0.02017610366624524,
          0.02633721462829736,
          0.034063407960198994,
          0.035381116015132434,
          0.036498393732970015,
          0.029497734693877557,
          0.027940297442799484,
          0.03028600284900283,
          0.025350697513812196,
          0.016758488826815646,
          0.014406872000000024,
          0.014656381818181822,
          0.02059007111111112,
          0.0271624146341463,
          0.03556781399046106,
          0.03459886558345646,
          0.03440490161527167,
          0.02837460982264665,
          0.028856018995929444,
          0.03147674794520544,
          0.024831886363636355,
          0.017734968253968263,
          0.015459173796791443,
          0.015146565562913905,
          0.019561863372093022,
          0.02782569482288826,
          0.03243333196159121,
          0.0321769722589168,
          0.03098589346590912,
          0.029162488764044946,
          0.02977190612244893,
          0.028422909470752104,
          0.023881400837988828,
          0.018289915574963612,
          0.013569023066485754,
          0.017699463748290022,
          0.02129418825301202,
          0.02900600404312667,
          0.030770386871508376,
          0.036250036834925004,
          0.03313743390804598,
          0.02848799592391308,
          0.03106142389758179,
          0.028863510324483768,
          0.025485107042253523,
          0.01804420984081041,
          0.01518498123324396,
          0.017177973793103443,
          0.02307861430793161,
          0.027441867609254537,
          0.03447898865069355,
          0.03851003422982883,
          0.031911975292587776,
          0.026449007623888212,
          0.029460072463768062,
          0.029096628865979378,
          0.02384533628318585,
          0.018770655483870954,
          0.018297577344701572,
          0.020071268041237093,
          0.022215750898203556,
          0.02919482094594596,
          0.03685629616724739,
          0.036529383054892645,
          0.036148889317889364,
          0.030553551044083544,
          0.027038247126436724,
          0.029005713054187192,
          0.024393345062429073,
          0.017006406976744166,
          0.015448975028376862,
          0.015154215174129354,
          0.021973171159029643,
          0.029874159033078874,
          0.0356631034013606,
          0.03424691978609622,
          0.02989424556616649,
          0.029436554980595105,
          0.02976642690815011,
          0.02912862900976296,
          0.024455307371349114,
          0.018528890173410383,
          0.01516391632373113,
          0.015626286479250334,
          0.02078735656401944,
          0.0287203463768116,
          0.033150003095975225,
          0.03343275000000002,
          0.03113859237536657,
          0.03026288872832376,
          0.028355497191011245,
          0.02728561736770694,
          0.024372050069541056,
          0.01988897054491899,
          0.016060422809457582,
          0.015218047322540488,
          0.02335276038781162,
          0.02716603364269141,
          0.03333350722733247,
          0.03736082699386505,
          0.03242910140845069,
          0.028259448087431683,
          0.02890467787839587,
          0.03082175371287127,
          0.02297259801488836,
          0.0184221051212938,
          0.01473365389527458,
          0.015820848854961825,
          0.02267475217391305,
          0.029951451612903232,
          0.032110211678832094,
          0.03734175076923078,
          0.03251810077519378,
          0.03031328902627518,
          0.030130111951588486,
          0.030182349999999976,
          0.025147258443465464,
          0.020165465493910673,
          0.018899736650485405,
          0.017236165596919133,
          0.022955251192368818,
          0.028000453804347816,
          0.034133278236914644,
          0.03538985753803594,
          0.02999398535286285,
          0.027907944881889787,
          0.026334092936802937,
          0.028214733910891056,
          0.026434746594005444,
          0.020493674829931977,
          0.016224989623865104,
          0.01662764192708333,
          0.022100855072463774,
          0.028838685915492962,
          0.03404643686502183,
          0.03566283261802573,
          0.032223847058823564,
          0.027705632102272674,
          0.02888709251700678,
          0.02987522841225626,
          0.028352417344173427,
          0.02140769040697674,
          0.018429830703012913,
          0.014423493894165548,
          0.022923375384615367,
          0.029716946793997282,
          0.03782627890173414,
          0.038286995522388075,
          0.033821642750373714,
          0.027139935103244858,
          0.0300872641509434,
          0.029868391849529774,
          0.0266043590138675,
          0.021844370101596525,
          0.019259207042253538,
          0.021817760348583844,
          0.022799551122194516,
          0.029233425595238095,
          0.03248911666666665
         ],
         "yaxis": "y2"
        },
        {
         "line": {
          "color": "rgba(50, 171, 96, 1.0)",
          "dash": "solid",
          "shape": "linear",
          "width": 1.3
         },
         "mode": "lines",
         "name": "SO2 Mean",
         "text": "",
         "type": "scatter",
         "x": [
          "(2000,1)",
          "(2000,2)",
          "(2000,3)",
          "(2000,4)",
          "(2000,5)",
          "(2000,6)",
          "(2000,7)",
          "(2000,8)",
          "(2000,9)",
          "(2000,10)",
          "(2000,11)",
          "(2000,12)",
          "(2001,1)",
          "(2001,2)",
          "(2001,3)",
          "(2001,4)",
          "(2001,5)",
          "(2001,6)",
          "(2001,7)",
          "(2001,8)",
          "(2001,9)",
          "(2001,10)",
          "(2001,11)",
          "(2001,12)",
          "(2002,1)",
          "(2002,2)",
          "(2002,3)",
          "(2002,4)",
          "(2002,5)",
          "(2002,6)",
          "(2002,7)",
          "(2002,8)",
          "(2002,9)",
          "(2002,10)",
          "(2002,11)",
          "(2002,12)",
          "(2003,1)",
          "(2003,2)",
          "(2003,3)",
          "(2003,4)",
          "(2003,5)",
          "(2003,6)",
          "(2003,7)",
          "(2003,8)",
          "(2003,9)",
          "(2003,10)",
          "(2003,11)",
          "(2003,12)",
          "(2004,1)",
          "(2004,2)",
          "(2004,3)",
          "(2004,4)",
          "(2004,5)",
          "(2004,6)",
          "(2004,7)",
          "(2004,8)",
          "(2004,9)",
          "(2004,10)",
          "(2004,11)",
          "(2004,12)",
          "(2005,1)",
          "(2005,2)",
          "(2005,3)",
          "(2005,4)",
          "(2005,5)",
          "(2005,6)",
          "(2005,7)",
          "(2005,8)",
          "(2005,9)",
          "(2005,10)",
          "(2005,11)",
          "(2005,12)",
          "(2006,1)",
          "(2006,2)",
          "(2006,3)",
          "(2006,4)",
          "(2006,5)",
          "(2006,6)",
          "(2006,7)",
          "(2006,8)",
          "(2006,9)",
          "(2006,10)",
          "(2006,11)",
          "(2006,12)",
          "(2007,1)",
          "(2007,2)",
          "(2007,3)",
          "(2007,4)",
          "(2007,5)",
          "(2007,6)",
          "(2007,7)",
          "(2007,8)",
          "(2007,9)",
          "(2007,10)",
          "(2007,11)",
          "(2007,12)",
          "(2008,1)",
          "(2008,2)",
          "(2008,3)",
          "(2008,4)",
          "(2008,5)",
          "(2008,6)",
          "(2008,7)",
          "(2008,8)",
          "(2008,9)",
          "(2008,10)",
          "(2008,11)",
          "(2008,12)",
          "(2009,1)",
          "(2009,2)",
          "(2009,3)",
          "(2009,4)",
          "(2009,5)",
          "(2009,6)",
          "(2009,7)",
          "(2009,8)",
          "(2009,9)",
          "(2009,10)",
          "(2009,11)",
          "(2009,12)",
          "(2010,1)",
          "(2010,2)",
          "(2010,3)",
          "(2010,4)",
          "(2010,5)",
          "(2010,6)",
          "(2010,7)",
          "(2010,8)",
          "(2010,9)",
          "(2010,10)",
          "(2010,11)",
          "(2010,12)",
          "(2011,1)",
          "(2011,2)",
          "(2011,3)",
          "(2011,4)",
          "(2011,5)",
          "(2011,6)",
          "(2011,7)",
          "(2011,8)",
          "(2011,9)",
          "(2011,10)",
          "(2011,11)",
          "(2011,12)",
          "(2012,1)",
          "(2012,2)",
          "(2012,3)",
          "(2012,4)",
          "(2012,5)",
          "(2012,6)",
          "(2012,7)",
          "(2012,8)",
          "(2012,9)",
          "(2012,10)",
          "(2012,11)",
          "(2012,12)",
          "(2013,1)",
          "(2013,2)",
          "(2013,3)",
          "(2013,4)",
          "(2013,5)",
          "(2013,6)",
          "(2013,7)",
          "(2013,8)",
          "(2013,9)",
          "(2013,10)",
          "(2013,11)",
          "(2013,12)",
          "(2014,1)",
          "(2014,2)",
          "(2014,3)",
          "(2014,4)",
          "(2014,5)",
          "(2014,6)",
          "(2014,7)",
          "(2014,8)",
          "(2014,9)",
          "(2014,10)",
          "(2014,11)",
          "(2014,12)",
          "(2015,1)",
          "(2015,2)",
          "(2015,3)",
          "(2015,4)",
          "(2015,5)",
          "(2015,6)",
          "(2015,7)",
          "(2015,8)",
          "(2015,9)",
          "(2015,10)",
          "(2015,11)",
          "(2015,12)",
          "(2016,1)",
          "(2016,2)",
          "(2016,3)",
          "(2016,4)"
         ],
         "xaxis": "x3",
         "y": [
          1.7954452733918136,
          1.2719380693374422,
          1.562430153116532,
          1.4559592918994406,
          1.767503144475923,
          1.4046236125874119,
          1.5013534915474658,
          1.8729629815303446,
          1.7866858445440947,
          1.7453804425806458,
          2.0564194546666674,
          2.447439005201561,
          1.9486266685393283,
          1.495371958598725,
          1.9207314951219534,
          1.5256785430463597,
          1.709308023468058,
          1.897900951219513,
          1.8404823671199013,
          1.8784613732660804,
          2.094311474747475,
          1.9377708004750607,
          1.7283091586901786,
          1.8159788602941178,
          1.8173699745664742,
          1.959225975806451,
          1.4773810417633415,
          1.3061089230769227,
          1.287010998864926,
          1.488089341346155,
          1.873824102143759,
          1.5120243587786235,
          1.8299603746770032,
          1.6386192712066916,
          1.923241113577024,
          1.6227449840425525,
          1.8503608103241316,
          1.437909426042984,
          1.314792726618705,
          1.2181816206467666,
          1.5028401172761656,
          1.4069437711171657,
          1.9413265255102046,
          1.575049681022881,
          1.6164028461538478,
          1.3809898314917124,
          1.2762604986033517,
          1.4924525693333333,
          1.5642780965034966,
          1.4140723511111113,
          1.708800400286945,
          1.8242564419713865,
          1.5342244534711988,
          1.7135688634361232,
          1.6652367025920867,
          1.9978375861601085,
          2.2516651424657526,
          2.126102802139038,
          2.1887422943722954,
          2.0382997473262057,
          1.7656241245033109,
          1.4390719375000034,
          1.5274908692098128,
          1.3953277379972584,
          1.2585852417437262,
          1.2013345383522738,
          2.1323783820224738,
          2.060525436734696,
          1.9516439637883005,
          1.7568553687150852,
          1.743590262008734,
          1.7495071261872477,
          1.5207456497948022,
          1.3816348704819277,
          0.9377202385444766,
          0.9759358407821247,
          1.202109036834927,
          1.3247001508620737,
          1.4467739198369558,
          1.5574296998577521,
          1.5059927123893833,
          1.5092878816901436,
          1.677748393632418,
          1.6781213954423613,
          1.8408743406896542,
          1.5231115101088675,
          1.2031557673521869,
          1.1139125283732663,
          0.9860872652811761,
          1.1179454980494166,
          1.0313060660736981,
          1.1314139472990794,
          1.1525290025773223,
          1.2820415107458931,
          1.177775011612904,
          1.14018465042631,
          1.1630369461626573,
          1.0433906491017977,
          1.0483982837837866,
          1.043461916376308,
          0.9177613556085942,
          1.245867384813388,
          1.09288018909513,
          0.9498155264367832,
          1.04822956034483,
          1.251904534619751,
          1.2293365255813968,
          1.187291891032919,
          1.2178233022388074,
          1.0629696132075503,
          1.0929139885496195,
          1.1947031360544236,
          1.0668591885026752,
          0.9670522264665774,
          0.9258468085381655,
          0.8733692328589924,
          0.9668475006973507,
          0.8146815702364395,
          0.9068800852601174,
          1.0348841906721544,
          1.0179964056224915,
          0.7840095688816857,
          0.8038556231884053,
          0.6587832616099066,
          0.7291714416167655,
          0.6311292888563054,
          0.7145150924855486,
          0.6695256123595504,
          0.7801184056987787,
          0.5580351613351872,
          0.6366410898379975,
          0.7587874826147425,
          0.7703586737235366,
          0.6203966537396125,
          0.5315313422273783,
          0.7084786596583437,
          0.5783853865030674,
          0.6455401183098591,
          0.8275254521857932,
          0.7498919340232847,
          0.8290639839108926,
          0.8251192754342439,
          0.5923130687331537,
          0.9485545210727983,
          1.1151621908396958,
          0.8374413173913037,
          0.6074711458625519,
          0.6349711854014589,
          0.6349819384615378,
          0.45188873643410765,
          0.5095019397217927,
          0.40292975189107466,
          0.6574455687499995,
          0.540198468428781,
          0.49854144654939064,
          0.46866767718446595,
          0.617732275994865,
          0.5160620826709054,
          0.3397342065217387,
          0.3386180523415973,
          0.3695594246196397,
          0.36889364047936035,
          0.39827150656167987,
          0.48038032837670347,
          0.49549686509901,
          0.5758640912806532,
          0.6168035999999996,
          0.6815972814526575,
          0.7478358164062503,
          0.49358849420289796,
          0.5100801873239433,
          0.5341920391872276,
          0.534915782546495,
          0.4478707102941172,
          0.46150103409090876,
          0.37065184897959125,
          0.4474191490250693,
          0.509308085365854,
          0.5230655944767446,
          0.4368035365853658,
          0.6371162225237449,
          0.49542021384615387,
          0.4308624038199179,
          0.4273163815028903,
          0.26378082686567106,
          0.38662538565022325,
          0.36050232743362787,
          0.39774176487663176,
          0.5099540235109714,
          0.46705041756548477,
          0.5407896502177069,
          0.676952967605634,
          0.602614710239651,
          0.6487232593516207,
          0.48462693749999974,
          0.8026717444444447
         ],
         "yaxis": "y3"
        },
        {
         "line": {
          "color": "rgba(128, 0, 128, 1.0)",
          "dash": "solid",
          "shape": "linear",
          "width": 1.3
         },
         "mode": "lines",
         "name": "CO Mean",
         "text": "",
         "type": "scatter",
         "x": [
          "(2000,1)",
          "(2000,2)",
          "(2000,3)",
          "(2000,4)",
          "(2000,5)",
          "(2000,6)",
          "(2000,7)",
          "(2000,8)",
          "(2000,9)",
          "(2000,10)",
          "(2000,11)",
          "(2000,12)",
          "(2001,1)",
          "(2001,2)",
          "(2001,3)",
          "(2001,4)",
          "(2001,5)",
          "(2001,6)",
          "(2001,7)",
          "(2001,8)",
          "(2001,9)",
          "(2001,10)",
          "(2001,11)",
          "(2001,12)",
          "(2002,1)",
          "(2002,2)",
          "(2002,3)",
          "(2002,4)",
          "(2002,5)",
          "(2002,6)",
          "(2002,7)",
          "(2002,8)",
          "(2002,9)",
          "(2002,10)",
          "(2002,11)",
          "(2002,12)",
          "(2003,1)",
          "(2003,2)",
          "(2003,3)",
          "(2003,4)",
          "(2003,5)",
          "(2003,6)",
          "(2003,7)",
          "(2003,8)",
          "(2003,9)",
          "(2003,10)",
          "(2003,11)",
          "(2003,12)",
          "(2004,1)",
          "(2004,2)",
          "(2004,3)",
          "(2004,4)",
          "(2004,5)",
          "(2004,6)",
          "(2004,7)",
          "(2004,8)",
          "(2004,9)",
          "(2004,10)",
          "(2004,11)",
          "(2004,12)",
          "(2005,1)",
          "(2005,2)",
          "(2005,3)",
          "(2005,4)",
          "(2005,5)",
          "(2005,6)",
          "(2005,7)",
          "(2005,8)",
          "(2005,9)",
          "(2005,10)",
          "(2005,11)",
          "(2005,12)",
          "(2006,1)",
          "(2006,2)",
          "(2006,3)",
          "(2006,4)",
          "(2006,5)",
          "(2006,6)",
          "(2006,7)",
          "(2006,8)",
          "(2006,9)",
          "(2006,10)",
          "(2006,11)",
          "(2006,12)",
          "(2007,1)",
          "(2007,2)",
          "(2007,3)",
          "(2007,4)",
          "(2007,5)",
          "(2007,6)",
          "(2007,7)",
          "(2007,8)",
          "(2007,9)",
          "(2007,10)",
          "(2007,11)",
          "(2007,12)",
          "(2008,1)",
          "(2008,2)",
          "(2008,3)",
          "(2008,4)",
          "(2008,5)",
          "(2008,6)",
          "(2008,7)",
          "(2008,8)",
          "(2008,9)",
          "(2008,10)",
          "(2008,11)",
          "(2008,12)",
          "(2009,1)",
          "(2009,2)",
          "(2009,3)",
          "(2009,4)",
          "(2009,5)",
          "(2009,6)",
          "(2009,7)",
          "(2009,8)",
          "(2009,9)",
          "(2009,10)",
          "(2009,11)",
          "(2009,12)",
          "(2010,1)",
          "(2010,2)",
          "(2010,3)",
          "(2010,4)",
          "(2010,5)",
          "(2010,6)",
          "(2010,7)",
          "(2010,8)",
          "(2010,9)",
          "(2010,10)",
          "(2010,11)",
          "(2010,12)",
          "(2011,1)",
          "(2011,2)",
          "(2011,3)",
          "(2011,4)",
          "(2011,5)",
          "(2011,6)",
          "(2011,7)",
          "(2011,8)",
          "(2011,9)",
          "(2011,10)",
          "(2011,11)",
          "(2011,12)",
          "(2012,1)",
          "(2012,2)",
          "(2012,3)",
          "(2012,4)",
          "(2012,5)",
          "(2012,6)",
          "(2012,7)",
          "(2012,8)",
          "(2012,9)",
          "(2012,10)",
          "(2012,11)",
          "(2012,12)",
          "(2013,1)",
          "(2013,2)",
          "(2013,3)",
          "(2013,4)",
          "(2013,5)",
          "(2013,6)",
          "(2013,7)",
          "(2013,8)",
          "(2013,9)",
          "(2013,10)",
          "(2013,11)",
          "(2013,12)",
          "(2014,1)",
          "(2014,2)",
          "(2014,3)",
          "(2014,4)",
          "(2014,5)",
          "(2014,6)",
          "(2014,7)",
          "(2014,8)",
          "(2014,9)",
          "(2014,10)",
          "(2014,11)",
          "(2014,12)",
          "(2015,1)",
          "(2015,2)",
          "(2015,3)",
          "(2015,4)",
          "(2015,5)",
          "(2015,6)",
          "(2015,7)",
          "(2015,8)",
          "(2015,9)",
          "(2015,10)",
          "(2015,11)",
          "(2015,12)",
          "(2016,1)",
          "(2016,2)",
          "(2016,3)",
          "(2016,4)"
         ],
         "xaxis": "x4",
         "y": [
          1.0314693845029241,
          0.6751114160246535,
          0.5752371382113823,
          0.5364940418994424,
          0.44694749433427766,
          0.42706285034965,
          0.3552021651495445,
          0.4366647414248025,
          0.4929842720478327,
          0.5664759793548392,
          0.9781668906666658,
          1.23824199089727,
          1.0190745042134832,
          0.7488195461783445,
          0.6222417243902432,
          0.45360685562913905,
          0.46209604432855306,
          0.3973479358151475,
          0.36838861804697154,
          0.41876087263556105,
          0.4992875416666664,
          0.7048121389548713,
          0.8842713539042831,
          0.9644627414215688,
          0.9150670219653176,
          0.8885794583333341,
          0.5616547157772622,
          0.44305113017751435,
          0.38523281044267865,
          0.3589692415865388,
          0.3398869003783095,
          0.45996645547073844,
          0.5281257093023259,
          0.6143517885304662,
          0.9151355195822455,
          0.91202536569149,
          0.9246498331332536,
          0.6491266295828069,
          0.5386711306954439,
          0.4104988557213927,
          0.44404910844892875,
          0.36972104495912883,
          0.4203223443877553,
          0.4290380080753701,
          0.47963587037037103,
          0.6848645400552495,
          0.6846399706703916,
          0.8669918559999998,
          0.8304645776223774,
          0.651489736296296,
          0.5771149053084647,
          0.4690740779014314,
          0.43469095420974896,
          0.3700873289280474,
          0.3364391036834925,
          0.31421819267299816,
          0.42112787123287615,
          0.4930117660427811,
          0.6301462308802311,
          0.7142413155080208,
          0.6092440198675491,
          0.5104038226744186,
          0.4506202997275204,
          0.4039348148148148,
          0.3355154927344779,
          0.2947983451704545,
          0.3518093553370788,
          0.3370046054421767,
          0.3860797757660163,
          0.47496662709497167,
          0.6609480232896656,
          0.7268108588873816,
          0.5978143132694934,
          0.6269984593373491,
          0.41881564150943446,
          0.39006116201117297,
          0.3217467107776262,
          0.3127119741379312,
          0.297264550271739,
          0.2881259758179233,
          0.34841480530973457,
          0.4495133943661973,
          0.5970461939218525,
          0.7108546581769439,
          0.6424293131034492,
          0.5085193732503888,
          0.4189198483290489,
          0.3686402105926862,
          0.2960412958435209,
          0.26337062288686636,
          0.26346529987293504,
          0.3048190988142294,
          0.340750846649485,
          0.494435879898862,
          0.5797964438709674,
          0.5320539658952502,
          0.5231757995418098,
          0.5241354,
          0.37732769144144207,
          0.3200164390243911,
          0.2860247398568028,
          0.3154442393822395,
          0.2861627552204173,
          0.2529010689655172,
          0.3200785541871917,
          0.46349648581157715,
          0.5320500197674415,
          0.49352308059023764,
          0.5710083022388064,
          0.42808425067385425,
          0.3698381882951659,
          0.3785557741496591,
          0.2863042272727269,
          0.2447210968622095,
          0.2594947813712804,
          0.3287516067270376,
          0.3432223556485354,
          0.4083643796940189,
          0.5796549436416188,
          0.574779643347051,
          0.5457012342704152,
          0.4290504262560777,
          0.32807741884057917,
          0.30095979102167153,
          0.26070195209580804,
          0.23786736950146625,
          0.2391285072254324,
          0.2541818258426961,
          0.3422095590230663,
          0.30927633240611996,
          0.43473696759941094,
          0.45895692072322725,
          0.48437013574097176,
          0.40594913573407115,
          0.3593774559164732,
          0.26021138896189167,
          0.24832412638036755,
          0.22611781690140795,
          0.23212901912568243,
          0.2611651668822762,
          0.29487439603960336,
          0.44053026054590533,
          0.498561114555256,
          0.6310060625798213,
          0.5668608122137405,
          0.39012608695652046,
          0.3103281795231422,
          0.2688324350364963,
          0.2356961369230765,
          0.2228805131782942,
          0.22906271715610496,
          0.2436458305597581,
          0.2953673124999999,
          0.3173564449339205,
          0.44727665899864655,
          0.48515513349514555,
          0.5732698279845964,
          0.4428950906200317,
          0.3418844130434783,
          0.27245479063360895,
          0.2520878464730288,
          0.24389307190412746,
          0.24675036220472352,
          0.25565050805452244,
          0.275268514851485,
          0.35589940599455033,
          0.4612150680272099,
          0.5719873527885864,
          0.6097512395833335,
          0.4077978956521741,
          0.3266729915492954,
          0.2976664978229312,
          0.2711006924177387,
          0.2601745661764695,
          0.22714739772727122,
          0.2361038448979582,
          0.25971853342618273,
          0.3641109037940373,
          0.4299563502906979,
          0.4410374978479195,
          0.5322768561736765,
          0.4164476292307699,
          0.3574609072305592,
          0.27456993786127065,
          0.2391119462686562,
          0.2494101031390134,
          0.18655126106194692,
          0.2465349288824379,
          0.26741026959247616,
          0.3283484345146379,
          0.43876689259796786,
          0.45168100140845047,
          0.3840962570806102,
          0.3976662344139646,
          0.30992080357142854,
          0.31799352777777784
         ],
         "yaxis": "y4"
        }
       ],
       "layout": {
        "legend": {
         "bgcolor": "#FFFFFF",
         "font": {
          "color": "#4D5663"
         }
        },
        "paper_bgcolor": "#FFFFFF",
        "plot_bgcolor": "#FFFFFF",
        "template": {
         "data": {
          "bar": [
           {
            "error_x": {
             "color": "#2a3f5f"
            },
            "error_y": {
             "color": "#2a3f5f"
            },
            "marker": {
             "line": {
              "color": "#E5ECF6",
              "width": 0.5
             }
            },
            "type": "bar"
           }
          ],
          "barpolar": [
           {
            "marker": {
             "line": {
              "color": "#E5ECF6",
              "width": 0.5
             }
            },
            "type": "barpolar"
           }
          ],
          "carpet": [
           {
            "aaxis": {
             "endlinecolor": "#2a3f5f",
             "gridcolor": "white",
             "linecolor": "white",
             "minorgridcolor": "white",
             "startlinecolor": "#2a3f5f"
            },
            "baxis": {
             "endlinecolor": "#2a3f5f",
             "gridcolor": "white",
             "linecolor": "white",
             "minorgridcolor": "white",
             "startlinecolor": "#2a3f5f"
            },
            "type": "carpet"
           }
          ],
          "choropleth": [
           {
            "colorbar": {
             "outlinewidth": 0,
             "ticks": ""
            },
            "type": "choropleth"
           }
          ],
          "contour": [
           {
            "colorbar": {
             "outlinewidth": 0,
             "ticks": ""
            },
            "colorscale": [
             [
              0,
              "#0d0887"
             ],
             [
              0.1111111111111111,
              "#46039f"
             ],
             [
              0.2222222222222222,
              "#7201a8"
             ],
             [
              0.3333333333333333,
              "#9c179e"
             ],
             [
              0.4444444444444444,
              "#bd3786"
             ],
             [
              0.5555555555555556,
              "#d8576b"
             ],
             [
              0.6666666666666666,
              "#ed7953"
             ],
             [
              0.7777777777777778,
              "#fb9f3a"
             ],
             [
              0.8888888888888888,
              "#fdca26"
             ],
             [
              1,
              "#f0f921"
             ]
            ],
            "type": "contour"
           }
          ],
          "contourcarpet": [
           {
            "colorbar": {
             "outlinewidth": 0,
             "ticks": ""
            },
            "type": "contourcarpet"
           }
          ],
          "heatmap": [
           {
            "colorbar": {
             "outlinewidth": 0,
             "ticks": ""
            },
            "colorscale": [
             [
              0,
              "#0d0887"
             ],
             [
              0.1111111111111111,
              "#46039f"
             ],
             [
              0.2222222222222222,
              "#7201a8"
             ],
             [
              0.3333333333333333,
              "#9c179e"
             ],
             [
              0.4444444444444444,
              "#bd3786"
             ],
             [
              0.5555555555555556,
              "#d8576b"
             ],
             [
              0.6666666666666666,
              "#ed7953"
             ],
             [
              0.7777777777777778,
              "#fb9f3a"
             ],
             [
              0.8888888888888888,
              "#fdca26"
             ],
             [
              1,
              "#f0f921"
             ]
            ],
            "type": "heatmap"
           }
          ],
          "heatmapgl": [
           {
            "colorbar": {
             "outlinewidth": 0,
             "ticks": ""
            },
            "colorscale": [
             [
              0,
              "#0d0887"
             ],
             [
              0.1111111111111111,
              "#46039f"
             ],
             [
              0.2222222222222222,
              "#7201a8"
             ],
             [
              0.3333333333333333,
              "#9c179e"
             ],
             [
              0.4444444444444444,
              "#bd3786"
             ],
             [
              0.5555555555555556,
              "#d8576b"
             ],
             [
              0.6666666666666666,
              "#ed7953"
             ],
             [
              0.7777777777777778,
              "#fb9f3a"
             ],
             [
              0.8888888888888888,
              "#fdca26"
             ],
             [
              1,
              "#f0f921"
             ]
            ],
            "type": "heatmapgl"
           }
          ],
          "histogram": [
           {
            "marker": {
             "colorbar": {
              "outlinewidth": 0,
              "ticks": ""
             }
            },
            "type": "histogram"
           }
          ],
          "histogram2d": [
           {
            "colorbar": {
             "outlinewidth": 0,
             "ticks": ""
            },
            "colorscale": [
             [
              0,
              "#0d0887"
             ],
             [
              0.1111111111111111,
              "#46039f"
             ],
             [
              0.2222222222222222,
              "#7201a8"
             ],
             [
              0.3333333333333333,
              "#9c179e"
             ],
             [
              0.4444444444444444,
              "#bd3786"
             ],
             [
              0.5555555555555556,
              "#d8576b"
             ],
             [
              0.6666666666666666,
              "#ed7953"
             ],
             [
              0.7777777777777778,
              "#fb9f3a"
             ],
             [
              0.8888888888888888,
              "#fdca26"
             ],
             [
              1,
              "#f0f921"
             ]
            ],
            "type": "histogram2d"
           }
          ],
          "histogram2dcontour": [
           {
            "colorbar": {
             "outlinewidth": 0,
             "ticks": ""
            },
            "colorscale": [
             [
              0,
              "#0d0887"
             ],
             [
              0.1111111111111111,
              "#46039f"
             ],
             [
              0.2222222222222222,
              "#7201a8"
             ],
             [
              0.3333333333333333,
              "#9c179e"
             ],
             [
              0.4444444444444444,
              "#bd3786"
             ],
             [
              0.5555555555555556,
              "#d8576b"
             ],
             [
              0.6666666666666666,
              "#ed7953"
             ],
             [
              0.7777777777777778,
              "#fb9f3a"
             ],
             [
              0.8888888888888888,
              "#fdca26"
             ],
             [
              1,
              "#f0f921"
             ]
            ],
            "type": "histogram2dcontour"
           }
          ],
          "mesh3d": [
           {
            "colorbar": {
             "outlinewidth": 0,
             "ticks": ""
            },
            "type": "mesh3d"
           }
          ],
          "parcoords": [
           {
            "line": {
             "colorbar": {
              "outlinewidth": 0,
              "ticks": ""
             }
            },
            "type": "parcoords"
           }
          ],
          "pie": [
           {
            "automargin": true,
            "type": "pie"
           }
          ],
          "scatter": [
           {
            "marker": {
             "colorbar": {
              "outlinewidth": 0,
              "ticks": ""
             }
            },
            "type": "scatter"
           }
          ],
          "scatter3d": [
           {
            "line": {
             "colorbar": {
              "outlinewidth": 0,
              "ticks": ""
             }
            },
            "marker": {
             "colorbar": {
              "outlinewidth": 0,
              "ticks": ""
             }
            },
            "type": "scatter3d"
           }
          ],
          "scattercarpet": [
           {
            "marker": {
             "colorbar": {
              "outlinewidth": 0,
              "ticks": ""
             }
            },
            "type": "scattercarpet"
           }
          ],
          "scattergeo": [
           {
            "marker": {
             "colorbar": {
              "outlinewidth": 0,
              "ticks": ""
             }
            },
            "type": "scattergeo"
           }
          ],
          "scattergl": [
           {
            "marker": {
             "colorbar": {
              "outlinewidth": 0,
              "ticks": ""
             }
            },
            "type": "scattergl"
           }
          ],
          "scattermapbox": [
           {
            "marker": {
             "colorbar": {
              "outlinewidth": 0,
              "ticks": ""
             }
            },
            "type": "scattermapbox"
           }
          ],
          "scatterpolar": [
           {
            "marker": {
             "colorbar": {
              "outlinewidth": 0,
              "ticks": ""
             }
            },
            "type": "scatterpolar"
           }
          ],
          "scatterpolargl": [
           {
            "marker": {
             "colorbar": {
              "outlinewidth": 0,
              "ticks": ""
             }
            },
            "type": "scatterpolargl"
           }
          ],
          "scatterternary": [
           {
            "marker": {
             "colorbar": {
              "outlinewidth": 0,
              "ticks": ""
             }
            },
            "type": "scatterternary"
           }
          ],
          "surface": [
           {
            "colorbar": {
             "outlinewidth": 0,
             "ticks": ""
            },
            "colorscale": [
             [
              0,
              "#0d0887"
             ],
             [
              0.1111111111111111,
              "#46039f"
             ],
             [
              0.2222222222222222,
              "#7201a8"
             ],
             [
              0.3333333333333333,
              "#9c179e"
             ],
             [
              0.4444444444444444,
              "#bd3786"
             ],
             [
              0.5555555555555556,
              "#d8576b"
             ],
             [
              0.6666666666666666,
              "#ed7953"
             ],
             [
              0.7777777777777778,
              "#fb9f3a"
             ],
             [
              0.8888888888888888,
              "#fdca26"
             ],
             [
              1,
              "#f0f921"
             ]
            ],
            "type": "surface"
           }
          ],
          "table": [
           {
            "cells": {
             "fill": {
              "color": "#EBF0F8"
             },
             "line": {
              "color": "white"
             }
            },
            "header": {
             "fill": {
              "color": "#C8D4E3"
             },
             "line": {
              "color": "white"
             }
            },
            "type": "table"
           }
          ]
         },
         "layout": {
          "annotationdefaults": {
           "arrowcolor": "#2a3f5f",
           "arrowhead": 0,
           "arrowwidth": 1
          },
          "coloraxis": {
           "colorbar": {
            "outlinewidth": 0,
            "ticks": ""
           }
          },
          "colorscale": {
           "diverging": [
            [
             0,
             "#8e0152"
            ],
            [
             0.1,
             "#c51b7d"
            ],
            [
             0.2,
             "#de77ae"
            ],
            [
             0.3,
             "#f1b6da"
            ],
            [
             0.4,
             "#fde0ef"
            ],
            [
             0.5,
             "#f7f7f7"
            ],
            [
             0.6,
             "#e6f5d0"
            ],
            [
             0.7,
             "#b8e186"
            ],
            [
             0.8,
             "#7fbc41"
            ],
            [
             0.9,
             "#4d9221"
            ],
            [
             1,
             "#276419"
            ]
           ],
           "sequential": [
            [
             0,
             "#0d0887"
            ],
            [
             0.1111111111111111,
             "#46039f"
            ],
            [
             0.2222222222222222,
             "#7201a8"
            ],
            [
             0.3333333333333333,
             "#9c179e"
            ],
            [
             0.4444444444444444,
             "#bd3786"
            ],
            [
             0.5555555555555556,
             "#d8576b"
            ],
            [
             0.6666666666666666,
             "#ed7953"
            ],
            [
             0.7777777777777778,
             "#fb9f3a"
            ],
            [
             0.8888888888888888,
             "#fdca26"
            ],
            [
             1,
             "#f0f921"
            ]
           ],
           "sequentialminus": [
            [
             0,
             "#0d0887"
            ],
            [
             0.1111111111111111,
             "#46039f"
            ],
            [
             0.2222222222222222,
             "#7201a8"
            ],
            [
             0.3333333333333333,
             "#9c179e"
            ],
            [
             0.4444444444444444,
             "#bd3786"
            ],
            [
             0.5555555555555556,
             "#d8576b"
            ],
            [
             0.6666666666666666,
             "#ed7953"
            ],
            [
             0.7777777777777778,
             "#fb9f3a"
            ],
            [
             0.8888888888888888,
             "#fdca26"
            ],
            [
             1,
             "#f0f921"
            ]
           ]
          },
          "colorway": [
           "#636efa",
           "#EF553B",
           "#00cc96",
           "#ab63fa",
           "#FFA15A",
           "#19d3f3",
           "#FF6692",
           "#B6E880",
           "#FF97FF",
           "#FECB52"
          ],
          "font": {
           "color": "#2a3f5f"
          },
          "geo": {
           "bgcolor": "white",
           "lakecolor": "white",
           "landcolor": "#E5ECF6",
           "showlakes": true,
           "showland": true,
           "subunitcolor": "white"
          },
          "hoverlabel": {
           "align": "left"
          },
          "hovermode": "closest",
          "mapbox": {
           "style": "light"
          },
          "paper_bgcolor": "white",
          "plot_bgcolor": "#E5ECF6",
          "polar": {
           "angularaxis": {
            "gridcolor": "white",
            "linecolor": "white",
            "ticks": ""
           },
           "bgcolor": "#E5ECF6",
           "radialaxis": {
            "gridcolor": "white",
            "linecolor": "white",
            "ticks": ""
           }
          },
          "scene": {
           "xaxis": {
            "backgroundcolor": "#E5ECF6",
            "gridcolor": "white",
            "gridwidth": 2,
            "linecolor": "white",
            "showbackground": true,
            "ticks": "",
            "zerolinecolor": "white"
           },
           "yaxis": {
            "backgroundcolor": "#E5ECF6",
            "gridcolor": "white",
            "gridwidth": 2,
            "linecolor": "white",
            "showbackground": true,
            "ticks": "",
            "zerolinecolor": "white"
           },
           "zaxis": {
            "backgroundcolor": "#E5ECF6",
            "gridcolor": "white",
            "gridwidth": 2,
            "linecolor": "white",
            "showbackground": true,
            "ticks": "",
            "zerolinecolor": "white"
           }
          },
          "shapedefaults": {
           "line": {
            "color": "#2a3f5f"
           }
          },
          "ternary": {
           "aaxis": {
            "gridcolor": "white",
            "linecolor": "white",
            "ticks": ""
           },
           "baxis": {
            "gridcolor": "white",
            "linecolor": "white",
            "ticks": ""
           },
           "bgcolor": "#E5ECF6",
           "caxis": {
            "gridcolor": "white",
            "linecolor": "white",
            "ticks": ""
           }
          },
          "title": {
           "x": 0.05
          },
          "xaxis": {
           "automargin": true,
           "gridcolor": "white",
           "linecolor": "white",
           "ticks": "",
           "title": {
            "standoff": 15
           },
           "zerolinecolor": "white",
           "zerolinewidth": 2
          },
          "yaxis": {
           "automargin": true,
           "gridcolor": "white",
           "linecolor": "white",
           "ticks": "",
           "title": {
            "standoff": 15
           },
           "zerolinecolor": "white",
           "zerolinewidth": 2
          }
         }
        },
        "title": {
         "font": {
          "color": "#4D5663"
         },
         "text": "四种污染物月均浓度的变化趋势"
        },
        "xaxis": {
         "anchor": "y",
         "domain": [
          0,
          0.45
         ],
         "gridcolor": "#E1E5ED",
         "showgrid": true,
         "tickfont": {
          "color": "#4D5663"
         },
         "title": {
          "font": {
           "color": "#4D5663"
          },
          "text": ""
         },
         "zerolinecolor": "#E1E5ED"
        },
        "xaxis2": {
         "anchor": "y2",
         "domain": [
          0.55,
          1
         ],
         "gridcolor": "#E1E5ED",
         "showgrid": true,
         "tickfont": {
          "color": "#4D5663"
         },
         "title": {
          "font": {
           "color": "#4D5663"
          },
          "text": ""
         },
         "zerolinecolor": "#E1E5ED"
        },
        "xaxis3": {
         "anchor": "y3",
         "domain": [
          0,
          0.45
         ],
         "gridcolor": "#E1E5ED",
         "showgrid": true,
         "tickfont": {
          "color": "#4D5663"
         },
         "title": {
          "font": {
           "color": "#4D5663"
          },
          "text": ""
         },
         "zerolinecolor": "#E1E5ED"
        },
        "xaxis4": {
         "anchor": "y4",
         "domain": [
          0.55,
          1
         ],
         "gridcolor": "#E1E5ED",
         "showgrid": true,
         "tickfont": {
          "color": "#4D5663"
         },
         "title": {
          "font": {
           "color": "#4D5663"
          },
          "text": ""
         },
         "zerolinecolor": "#E1E5ED"
        },
        "yaxis": {
         "anchor": "x",
         "domain": [
          0.575,
          1
         ],
         "gridcolor": "#E1E5ED",
         "showgrid": true,
         "tickfont": {
          "color": "#4D5663"
         },
         "title": {
          "font": {
           "color": "#4D5663"
          },
          "text": ""
         },
         "zerolinecolor": "#E1E5ED"
        },
        "yaxis2": {
         "anchor": "x2",
         "domain": [
          0.575,
          1
         ],
         "gridcolor": "#E1E5ED",
         "showgrid": true,
         "tickfont": {
          "color": "#4D5663"
         },
         "title": {
          "font": {
           "color": "#4D5663"
          },
          "text": ""
         },
         "zerolinecolor": "#E1E5ED"
        },
        "yaxis3": {
         "anchor": "x3",
         "domain": [
          0,
          0.425
         ],
         "gridcolor": "#E1E5ED",
         "showgrid": true,
         "tickfont": {
          "color": "#4D5663"
         },
         "title": {
          "font": {
           "color": "#4D5663"
          },
          "text": ""
         },
         "zerolinecolor": "#E1E5ED"
        },
        "yaxis4": {
         "anchor": "x4",
         "domain": [
          0,
          0.425
         ],
         "gridcolor": "#E1E5ED",
         "showgrid": true,
         "tickfont": {
          "color": "#4D5663"
         },
         "title": {
          "font": {
           "color": "#4D5663"
          },
          "text": ""
         },
         "zerolinecolor": "#E1E5ED"
        }
       }
      },
      "text/html": [
       "<div>                            <div id=\"8f90cacc-1c0e-4880-b957-a4c6c6b130bf\" class=\"plotly-graph-div\" style=\"height:525px; width:100%;\"></div>            <script type=\"text/javascript\">                require([\"plotly\"], function(Plotly) {                    window.PLOTLYENV=window.PLOTLYENV || {};\n",
       "                    window.PLOTLYENV.BASE_URL='https://plot.ly';                                    if (document.getElementById(\"8f90cacc-1c0e-4880-b957-a4c6c6b130bf\")) {                    Plotly.newPlot(                        \"8f90cacc-1c0e-4880-b957-a4c6c6b130bf\",                        [{\"line\": {\"color\": \"rgba(255, 153, 51, 1.0)\", \"dash\": \"solid\", \"shape\": \"linear\", \"width\": 1.3}, \"mode\": \"lines\", \"name\": \"NO2 Mean\", \"text\": \"\", \"type\": \"scatter\", \"x\": [\"(2000,1)\", \"(2000,2)\", \"(2000,3)\", \"(2000,4)\", \"(2000,5)\", \"(2000,6)\", \"(2000,7)\", \"(2000,8)\", \"(2000,9)\", \"(2000,10)\", \"(2000,11)\", \"(2000,12)\", \"(2001,1)\", \"(2001,2)\", \"(2001,3)\", \"(2001,4)\", \"(2001,5)\", \"(2001,6)\", \"(2001,7)\", \"(2001,8)\", \"(2001,9)\", \"(2001,10)\", \"(2001,11)\", \"(2001,12)\", \"(2002,1)\", \"(2002,2)\", \"(2002,3)\", \"(2002,4)\", \"(2002,5)\", \"(2002,6)\", \"(2002,7)\", \"(2002,8)\", \"(2002,9)\", \"(2002,10)\", \"(2002,11)\", \"(2002,12)\", \"(2003,1)\", \"(2003,2)\", \"(2003,3)\", \"(2003,4)\", \"(2003,5)\", \"(2003,6)\", \"(2003,7)\", \"(2003,8)\", \"(2003,9)\", \"(2003,10)\", \"(2003,11)\", \"(2003,12)\", \"(2004,1)\", \"(2004,2)\", \"(2004,3)\", \"(2004,4)\", \"(2004,5)\", \"(2004,6)\", \"(2004,7)\", \"(2004,8)\", \"(2004,9)\", \"(2004,10)\", \"(2004,11)\", \"(2004,12)\", \"(2005,1)\", \"(2005,2)\", \"(2005,3)\", \"(2005,4)\", \"(2005,5)\", \"(2005,6)\", \"(2005,7)\", \"(2005,8)\", \"(2005,9)\", \"(2005,10)\", \"(2005,11)\", \"(2005,12)\", \"(2006,1)\", \"(2006,2)\", \"(2006,3)\", \"(2006,4)\", \"(2006,5)\", \"(2006,6)\", \"(2006,7)\", \"(2006,8)\", \"(2006,9)\", \"(2006,10)\", \"(2006,11)\", \"(2006,12)\", \"(2007,1)\", \"(2007,2)\", \"(2007,3)\", \"(2007,4)\", \"(2007,5)\", \"(2007,6)\", \"(2007,7)\", \"(2007,8)\", \"(2007,9)\", \"(2007,10)\", \"(2007,11)\", \"(2007,12)\", \"(2008,1)\", \"(2008,2)\", \"(2008,3)\", \"(2008,4)\", \"(2008,5)\", \"(2008,6)\", \"(2008,7)\", \"(2008,8)\", \"(2008,9)\", \"(2008,10)\", \"(2008,11)\", \"(2008,12)\", \"(2009,1)\", \"(2009,2)\", \"(2009,3)\", \"(2009,4)\", \"(2009,5)\", \"(2009,6)\", \"(2009,7)\", \"(2009,8)\", \"(2009,9)\", \"(2009,10)\", \"(2009,11)\", \"(2009,12)\", \"(2010,1)\", \"(2010,2)\", \"(2010,3)\", \"(2010,4)\", \"(2010,5)\", \"(2010,6)\", \"(2010,7)\", \"(2010,8)\", \"(2010,9)\", \"(2010,10)\", \"(2010,11)\", \"(2010,12)\", \"(2011,1)\", \"(2011,2)\", \"(2011,3)\", \"(2011,4)\", \"(2011,5)\", \"(2011,6)\", \"(2011,7)\", \"(2011,8)\", \"(2011,9)\", \"(2011,10)\", \"(2011,11)\", \"(2011,12)\", \"(2012,1)\", \"(2012,2)\", \"(2012,3)\", \"(2012,4)\", \"(2012,5)\", \"(2012,6)\", \"(2012,7)\", \"(2012,8)\", \"(2012,9)\", \"(2012,10)\", \"(2012,11)\", \"(2012,12)\", \"(2013,1)\", \"(2013,2)\", \"(2013,3)\", \"(2013,4)\", \"(2013,5)\", \"(2013,6)\", \"(2013,7)\", \"(2013,8)\", \"(2013,9)\", \"(2013,10)\", \"(2013,11)\", \"(2013,12)\", \"(2014,1)\", \"(2014,2)\", \"(2014,3)\", \"(2014,4)\", \"(2014,5)\", \"(2014,6)\", \"(2014,7)\", \"(2014,8)\", \"(2014,9)\", \"(2014,10)\", \"(2014,11)\", \"(2014,12)\", \"(2015,1)\", \"(2015,2)\", \"(2015,3)\", \"(2015,4)\", \"(2015,5)\", \"(2015,6)\", \"(2015,7)\", \"(2015,8)\", \"(2015,9)\", \"(2015,10)\", \"(2015,11)\", \"(2015,12)\", \"(2016,1)\", \"(2016,2)\", \"(2016,3)\", \"(2016,4)\"], \"xaxis\": \"x\", \"y\": [22.6850287339181, 17.63938030508477, 16.930270059620614, 15.240846867318433, 13.67283858498582, 12.322580165034978, 12.281155342002595, 14.335671875989455, 16.636229363228683, 16.787008129032255, 24.35474149199998, 27.786627465539688, 24.878953234550526, 19.165499979299373, 17.245874770731707, 13.872124733774847, 15.193953110821363, 14.169078816431306, 12.363798056860333, 14.537286875157625, 17.158214124999997, 21.8330435, 22.492816012594442, 20.661384591911776, 22.146970625433518, 22.94356565322582, 16.55005466009278, 12.539118667455613, 11.79588302724177, 10.92471431730768, 11.236418447667083, 13.722020596692099, 17.173596564599496, 18.48717856391871, 23.55559271801569, 21.39352431914892, 22.30329700480194, 16.910930536030342, 15.487220291366896, 11.22579128233831, 12.469390094577548, 10.60783072888282, 12.392944150510212, 12.532301593539703, 14.54686223789174, 20.453463360497214, 19.14465905726257, 21.27846678533334, 20.966653166433574, 18.607423828148146, 18.769329878048786, 12.016888999999999, 11.633021841949782, 9.398062220264318, 9.84081337517053, 10.705866331071904, 14.959138941095881, 15.8809535147059, 18.821266056277047, 19.704861471925124, 17.450795703311247, 15.653578026162801, 13.502141337874649, 12.062418836762694, 9.511583718626161, 8.525814529829551, 10.30891187078652, 11.104932496598646, 13.517463491643445, 16.40730403212291, 20.022972703056787, 19.74486958208954, 17.568332388508885, 19.88798978915662, 12.307337008086241, 10.556803329608933, 9.890279881309688, 10.709260472701134, 10.196952074728266, 10.008258162162164, 13.351253387905604, 15.649594843661966, 18.973971646888586, 19.470469143431654, 19.560703624827575, 15.424664917573885, 15.083873298200501, 10.153266397225732, 8.955313312958442, 8.627330384915478, 8.28992425540027, 9.957181927536213, 10.634737324742277, 15.611691041719338, 18.62319069548389, 16.24140183191232, 15.331058408934737, 15.445909746107787, 13.509023217342344, 11.465743723577226, 8.88611410620525, 9.74261023552123, 8.962180480278427, 8.774282977011493, 11.471645349753672, 17.586118031782075, 17.512875158139526, 16.498976234960264, 18.394790713930348, 14.495666266846335, 12.006232344783703, 10.703023922448992, 8.872834675133694, 7.493826421555254, 8.685784873221207, 10.5105241099612, 12.087466492329158, 13.928138616133506, 19.42258202745666, 18.82824186831275, 18.621081423025412, 14.94445940356563, 12.994866711594206, 9.18886889473684, 7.581826184131738, 7.10271158797653, 7.852363738439299, 10.217791405898895, 13.557726208955216, 12.331331342141876, 15.90308677466863, 15.76101843810849, 17.530734115815687, 14.726289368421064, 12.806337030162403, 8.921062498028908, 7.870103580368102, 7.344999340845057, 6.57863953551911, 8.704932391979295, 11.929615247524758, 15.497035187344903, 15.662633714285729, 19.397425765006396, 17.82306917709925, 13.870359301449264, 10.28731740953716, 8.836531805839419, 6.83371937692308, 6.657992068217055, 6.84974291190109, 8.264257768532524, 10.558167565625002, 12.21753378560939, 15.20325802706359, 14.103830031553414, 17.56155354172017, 13.826019697933235, 11.4672074048913, 8.049386690082656, 7.009989905947445, 6.972090888149142, 8.24842685433071, 8.552651687732345, 9.927804419554462, 13.127977113079014, 16.84272459727889, 19.7443939481193, 21.90635120182289, 13.837846060869563, 9.783490856338032, 8.786929844702467, 7.41340549785408, 6.27723977794118, 6.352284563920457, 6.8371879523809485, 8.521648339832865, 12.881082481029813, 14.270608396802313, 12.839489942611198, 17.15876850474898, 13.345031836923075, 11.816696939972703, 8.142880304913295, 5.242920240298509, 6.927183946188349, 5.263713550147501, 6.570498280116107, 9.122389326018807, 10.947259550077035, 13.676803503628422, 14.140778009859133, 8.599721455337697, 10.088559618453868, 5.893201104166666, 6.484204783333331], \"yaxis\": \"y\"}, {\"line\": {\"color\": \"rgba(55, 128, 191, 1.0)\", \"dash\": \"solid\", \"shape\": \"linear\", \"width\": 1.3}, \"mode\": \"lines\", \"name\": \"O3 Mean\", \"text\": \"\", \"type\": \"scatter\", \"x\": [\"(2000,1)\", \"(2000,2)\", \"(2000,3)\", \"(2000,4)\", \"(2000,5)\", \"(2000,6)\", \"(2000,7)\", \"(2000,8)\", \"(2000,9)\", \"(2000,10)\", \"(2000,11)\", \"(2000,12)\", \"(2001,1)\", \"(2001,2)\", \"(2001,3)\", \"(2001,4)\", \"(2001,5)\", \"(2001,6)\", \"(2001,7)\", \"(2001,8)\", \"(2001,9)\", \"(2001,10)\", \"(2001,11)\", \"(2001,12)\", \"(2002,1)\", \"(2002,2)\", \"(2002,3)\", \"(2002,4)\", \"(2002,5)\", \"(2002,6)\", \"(2002,7)\", \"(2002,8)\", \"(2002,9)\", \"(2002,10)\", \"(2002,11)\", \"(2002,12)\", \"(2003,1)\", \"(2003,2)\", \"(2003,3)\", \"(2003,4)\", \"(2003,5)\", \"(2003,6)\", \"(2003,7)\", \"(2003,8)\", \"(2003,9)\", \"(2003,10)\", \"(2003,11)\", \"(2003,12)\", \"(2004,1)\", \"(2004,2)\", \"(2004,3)\", \"(2004,4)\", \"(2004,5)\", \"(2004,6)\", \"(2004,7)\", \"(2004,8)\", \"(2004,9)\", \"(2004,10)\", \"(2004,11)\", \"(2004,12)\", \"(2005,1)\", \"(2005,2)\", \"(2005,3)\", \"(2005,4)\", \"(2005,5)\", \"(2005,6)\", \"(2005,7)\", \"(2005,8)\", \"(2005,9)\", \"(2005,10)\", \"(2005,11)\", \"(2005,12)\", \"(2006,1)\", \"(2006,2)\", \"(2006,3)\", \"(2006,4)\", \"(2006,5)\", \"(2006,6)\", \"(2006,7)\", \"(2006,8)\", \"(2006,9)\", \"(2006,10)\", \"(2006,11)\", \"(2006,12)\", \"(2007,1)\", \"(2007,2)\", \"(2007,3)\", \"(2007,4)\", \"(2007,5)\", \"(2007,6)\", \"(2007,7)\", \"(2007,8)\", \"(2007,9)\", \"(2007,10)\", \"(2007,11)\", \"(2007,12)\", \"(2008,1)\", \"(2008,2)\", \"(2008,3)\", \"(2008,4)\", \"(2008,5)\", \"(2008,6)\", \"(2008,7)\", \"(2008,8)\", \"(2008,9)\", \"(2008,10)\", \"(2008,11)\", \"(2008,12)\", \"(2009,1)\", \"(2009,2)\", \"(2009,3)\", \"(2009,4)\", \"(2009,5)\", \"(2009,6)\", \"(2009,7)\", \"(2009,8)\", \"(2009,9)\", \"(2009,10)\", \"(2009,11)\", \"(2009,12)\", \"(2010,1)\", \"(2010,2)\", \"(2010,3)\", \"(2010,4)\", \"(2010,5)\", \"(2010,6)\", \"(2010,7)\", \"(2010,8)\", \"(2010,9)\", \"(2010,10)\", \"(2010,11)\", \"(2010,12)\", \"(2011,1)\", \"(2011,2)\", \"(2011,3)\", \"(2011,4)\", \"(2011,5)\", \"(2011,6)\", \"(2011,7)\", \"(2011,8)\", \"(2011,9)\", \"(2011,10)\", \"(2011,11)\", \"(2011,12)\", \"(2012,1)\", \"(2012,2)\", \"(2012,3)\", \"(2012,4)\", \"(2012,5)\", \"(2012,6)\", \"(2012,7)\", \"(2012,8)\", \"(2012,9)\", \"(2012,10)\", \"(2012,11)\", \"(2012,12)\", \"(2013,1)\", \"(2013,2)\", \"(2013,3)\", \"(2013,4)\", \"(2013,5)\", \"(2013,6)\", \"(2013,7)\", \"(2013,8)\", \"(2013,9)\", \"(2013,10)\", \"(2013,11)\", \"(2013,12)\", \"(2014,1)\", \"(2014,2)\", \"(2014,3)\", \"(2014,4)\", \"(2014,5)\", \"(2014,6)\", \"(2014,7)\", \"(2014,8)\", \"(2014,9)\", \"(2014,10)\", \"(2014,11)\", \"(2014,12)\", \"(2015,1)\", \"(2015,2)\", \"(2015,3)\", \"(2015,4)\", \"(2015,5)\", \"(2015,6)\", \"(2015,7)\", \"(2015,8)\", \"(2015,9)\", \"(2015,10)\", \"(2015,11)\", \"(2015,12)\", \"(2016,1)\", \"(2016,2)\", \"(2016,3)\", \"(2016,4)\"], \"xaxis\": \"x2\", \"y\": [0.013109438596491236, 0.021247018489984587, 0.026984451219512196, 0.031270861731843576, 0.032277361189801734, 0.030658479720279703, 0.02683918985695708, 0.02720042612137201, 0.025310210762331836, 0.02363799354838709, 0.014591480000000004, 0.011322927178153442, 0.014499230337078664, 0.019616568471337564, 0.02614113658536586, 0.032409520529801325, 0.035861902216427675, 0.03146945314505778, 0.02791527935723114, 0.026985588902900388, 0.02637254040404041, 0.024307346793349147, 0.016674758186397992, 0.014818258578431368, 0.013611374566473974, 0.01874792473118277, 0.027495296983758702, 0.03145550414201185, 0.034759968217934194, 0.03314666105769234, 0.03026440605296346, 0.03320000763358778, 0.028532751937984532, 0.028591873357228206, 0.017540930809399464, 0.016937018617021286, 0.01163267947178872, 0.02017610366624524, 0.02633721462829736, 0.034063407960198994, 0.035381116015132434, 0.036498393732970015, 0.029497734693877557, 0.027940297442799484, 0.03028600284900283, 0.025350697513812196, 0.016758488826815646, 0.014406872000000024, 0.014656381818181822, 0.02059007111111112, 0.0271624146341463, 0.03556781399046106, 0.03459886558345646, 0.03440490161527167, 0.02837460982264665, 0.028856018995929444, 0.03147674794520544, 0.024831886363636355, 0.017734968253968263, 0.015459173796791443, 0.015146565562913905, 0.019561863372093022, 0.02782569482288826, 0.03243333196159121, 0.0321769722589168, 0.03098589346590912, 0.029162488764044946, 0.02977190612244893, 0.028422909470752104, 0.023881400837988828, 0.018289915574963612, 0.013569023066485754, 0.017699463748290022, 0.02129418825301202, 0.02900600404312667, 0.030770386871508376, 0.036250036834925004, 0.03313743390804598, 0.02848799592391308, 0.03106142389758179, 0.028863510324483768, 0.025485107042253523, 0.01804420984081041, 0.01518498123324396, 0.017177973793103443, 0.02307861430793161, 0.027441867609254537, 0.03447898865069355, 0.03851003422982883, 0.031911975292587776, 0.026449007623888212, 0.029460072463768062, 0.029096628865979378, 0.02384533628318585, 0.018770655483870954, 0.018297577344701572, 0.020071268041237093, 0.022215750898203556, 0.02919482094594596, 0.03685629616724739, 0.036529383054892645, 0.036148889317889364, 0.030553551044083544, 0.027038247126436724, 0.029005713054187192, 0.024393345062429073, 0.017006406976744166, 0.015448975028376862, 0.015154215174129354, 0.021973171159029643, 0.029874159033078874, 0.0356631034013606, 0.03424691978609622, 0.02989424556616649, 0.029436554980595105, 0.02976642690815011, 0.02912862900976296, 0.024455307371349114, 0.018528890173410383, 0.01516391632373113, 0.015626286479250334, 0.02078735656401944, 0.0287203463768116, 0.033150003095975225, 0.03343275000000002, 0.03113859237536657, 0.03026288872832376, 0.028355497191011245, 0.02728561736770694, 0.024372050069541056, 0.01988897054491899, 0.016060422809457582, 0.015218047322540488, 0.02335276038781162, 0.02716603364269141, 0.03333350722733247, 0.03736082699386505, 0.03242910140845069, 0.028259448087431683, 0.02890467787839587, 0.03082175371287127, 0.02297259801488836, 0.0184221051212938, 0.01473365389527458, 0.015820848854961825, 0.02267475217391305, 0.029951451612903232, 0.032110211678832094, 0.03734175076923078, 0.03251810077519378, 0.03031328902627518, 0.030130111951588486, 0.030182349999999976, 0.025147258443465464, 0.020165465493910673, 0.018899736650485405, 0.017236165596919133, 0.022955251192368818, 0.028000453804347816, 0.034133278236914644, 0.03538985753803594, 0.02999398535286285, 0.027907944881889787, 0.026334092936802937, 0.028214733910891056, 0.026434746594005444, 0.020493674829931977, 0.016224989623865104, 0.01662764192708333, 0.022100855072463774, 0.028838685915492962, 0.03404643686502183, 0.03566283261802573, 0.032223847058823564, 0.027705632102272674, 0.02888709251700678, 0.02987522841225626, 0.028352417344173427, 0.02140769040697674, 0.018429830703012913, 0.014423493894165548, 0.022923375384615367, 0.029716946793997282, 0.03782627890173414, 0.038286995522388075, 0.033821642750373714, 0.027139935103244858, 0.0300872641509434, 0.029868391849529774, 0.0266043590138675, 0.021844370101596525, 0.019259207042253538, 0.021817760348583844, 0.022799551122194516, 0.029233425595238095, 0.03248911666666665], \"yaxis\": \"y2\"}, {\"line\": {\"color\": \"rgba(50, 171, 96, 1.0)\", \"dash\": \"solid\", \"shape\": \"linear\", \"width\": 1.3}, \"mode\": \"lines\", \"name\": \"SO2 Mean\", \"text\": \"\", \"type\": \"scatter\", \"x\": [\"(2000,1)\", \"(2000,2)\", \"(2000,3)\", \"(2000,4)\", \"(2000,5)\", \"(2000,6)\", \"(2000,7)\", \"(2000,8)\", \"(2000,9)\", \"(2000,10)\", \"(2000,11)\", \"(2000,12)\", \"(2001,1)\", \"(2001,2)\", \"(2001,3)\", \"(2001,4)\", \"(2001,5)\", \"(2001,6)\", \"(2001,7)\", \"(2001,8)\", \"(2001,9)\", \"(2001,10)\", \"(2001,11)\", \"(2001,12)\", \"(2002,1)\", \"(2002,2)\", \"(2002,3)\", \"(2002,4)\", \"(2002,5)\", \"(2002,6)\", \"(2002,7)\", \"(2002,8)\", \"(2002,9)\", \"(2002,10)\", \"(2002,11)\", \"(2002,12)\", \"(2003,1)\", \"(2003,2)\", \"(2003,3)\", \"(2003,4)\", \"(2003,5)\", \"(2003,6)\", \"(2003,7)\", \"(2003,8)\", \"(2003,9)\", \"(2003,10)\", \"(2003,11)\", \"(2003,12)\", \"(2004,1)\", \"(2004,2)\", \"(2004,3)\", \"(2004,4)\", \"(2004,5)\", \"(2004,6)\", \"(2004,7)\", \"(2004,8)\", \"(2004,9)\", \"(2004,10)\", \"(2004,11)\", \"(2004,12)\", \"(2005,1)\", \"(2005,2)\", \"(2005,3)\", \"(2005,4)\", \"(2005,5)\", \"(2005,6)\", \"(2005,7)\", \"(2005,8)\", \"(2005,9)\", \"(2005,10)\", \"(2005,11)\", \"(2005,12)\", \"(2006,1)\", \"(2006,2)\", \"(2006,3)\", \"(2006,4)\", \"(2006,5)\", \"(2006,6)\", \"(2006,7)\", \"(2006,8)\", \"(2006,9)\", \"(2006,10)\", \"(2006,11)\", \"(2006,12)\", \"(2007,1)\", \"(2007,2)\", \"(2007,3)\", \"(2007,4)\", \"(2007,5)\", \"(2007,6)\", \"(2007,7)\", \"(2007,8)\", \"(2007,9)\", \"(2007,10)\", \"(2007,11)\", \"(2007,12)\", \"(2008,1)\", \"(2008,2)\", \"(2008,3)\", \"(2008,4)\", \"(2008,5)\", \"(2008,6)\", \"(2008,7)\", \"(2008,8)\", \"(2008,9)\", \"(2008,10)\", \"(2008,11)\", \"(2008,12)\", \"(2009,1)\", \"(2009,2)\", \"(2009,3)\", \"(2009,4)\", \"(2009,5)\", \"(2009,6)\", \"(2009,7)\", \"(2009,8)\", \"(2009,9)\", \"(2009,10)\", \"(2009,11)\", \"(2009,12)\", \"(2010,1)\", \"(2010,2)\", \"(2010,3)\", \"(2010,4)\", \"(2010,5)\", \"(2010,6)\", \"(2010,7)\", \"(2010,8)\", \"(2010,9)\", \"(2010,10)\", \"(2010,11)\", \"(2010,12)\", \"(2011,1)\", \"(2011,2)\", \"(2011,3)\", \"(2011,4)\", \"(2011,5)\", \"(2011,6)\", \"(2011,7)\", \"(2011,8)\", \"(2011,9)\", \"(2011,10)\", \"(2011,11)\", \"(2011,12)\", \"(2012,1)\", \"(2012,2)\", \"(2012,3)\", \"(2012,4)\", \"(2012,5)\", \"(2012,6)\", \"(2012,7)\", \"(2012,8)\", \"(2012,9)\", \"(2012,10)\", \"(2012,11)\", \"(2012,12)\", \"(2013,1)\", \"(2013,2)\", \"(2013,3)\", \"(2013,4)\", \"(2013,5)\", \"(2013,6)\", \"(2013,7)\", \"(2013,8)\", \"(2013,9)\", \"(2013,10)\", \"(2013,11)\", \"(2013,12)\", \"(2014,1)\", \"(2014,2)\", \"(2014,3)\", \"(2014,4)\", \"(2014,5)\", \"(2014,6)\", \"(2014,7)\", \"(2014,8)\", \"(2014,9)\", \"(2014,10)\", \"(2014,11)\", \"(2014,12)\", \"(2015,1)\", \"(2015,2)\", \"(2015,3)\", \"(2015,4)\", \"(2015,5)\", \"(2015,6)\", \"(2015,7)\", \"(2015,8)\", \"(2015,9)\", \"(2015,10)\", \"(2015,11)\", \"(2015,12)\", \"(2016,1)\", \"(2016,2)\", \"(2016,3)\", \"(2016,4)\"], \"xaxis\": \"x3\", \"y\": [1.7954452733918136, 1.2719380693374422, 1.562430153116532, 1.4559592918994406, 1.767503144475923, 1.4046236125874119, 1.5013534915474658, 1.8729629815303446, 1.7866858445440947, 1.7453804425806458, 2.0564194546666674, 2.447439005201561, 1.9486266685393283, 1.495371958598725, 1.9207314951219534, 1.5256785430463597, 1.709308023468058, 1.897900951219513, 1.8404823671199013, 1.8784613732660804, 2.094311474747475, 1.9377708004750607, 1.7283091586901786, 1.8159788602941178, 1.8173699745664742, 1.959225975806451, 1.4773810417633415, 1.3061089230769227, 1.287010998864926, 1.488089341346155, 1.873824102143759, 1.5120243587786235, 1.8299603746770032, 1.6386192712066916, 1.923241113577024, 1.6227449840425525, 1.8503608103241316, 1.437909426042984, 1.314792726618705, 1.2181816206467666, 1.5028401172761656, 1.4069437711171657, 1.9413265255102046, 1.575049681022881, 1.6164028461538478, 1.3809898314917124, 1.2762604986033517, 1.4924525693333333, 1.5642780965034966, 1.4140723511111113, 1.708800400286945, 1.8242564419713865, 1.5342244534711988, 1.7135688634361232, 1.6652367025920867, 1.9978375861601085, 2.2516651424657526, 2.126102802139038, 2.1887422943722954, 2.0382997473262057, 1.7656241245033109, 1.4390719375000034, 1.5274908692098128, 1.3953277379972584, 1.2585852417437262, 1.2013345383522738, 2.1323783820224738, 2.060525436734696, 1.9516439637883005, 1.7568553687150852, 1.743590262008734, 1.7495071261872477, 1.5207456497948022, 1.3816348704819277, 0.9377202385444766, 0.9759358407821247, 1.202109036834927, 1.3247001508620737, 1.4467739198369558, 1.5574296998577521, 1.5059927123893833, 1.5092878816901436, 1.677748393632418, 1.6781213954423613, 1.8408743406896542, 1.5231115101088675, 1.2031557673521869, 1.1139125283732663, 0.9860872652811761, 1.1179454980494166, 1.0313060660736981, 1.1314139472990794, 1.1525290025773223, 1.2820415107458931, 1.177775011612904, 1.14018465042631, 1.1630369461626573, 1.0433906491017977, 1.0483982837837866, 1.043461916376308, 0.9177613556085942, 1.245867384813388, 1.09288018909513, 0.9498155264367832, 1.04822956034483, 1.251904534619751, 1.2293365255813968, 1.187291891032919, 1.2178233022388074, 1.0629696132075503, 1.0929139885496195, 1.1947031360544236, 1.0668591885026752, 0.9670522264665774, 0.9258468085381655, 0.8733692328589924, 0.9668475006973507, 0.8146815702364395, 0.9068800852601174, 1.0348841906721544, 1.0179964056224915, 0.7840095688816857, 0.8038556231884053, 0.6587832616099066, 0.7291714416167655, 0.6311292888563054, 0.7145150924855486, 0.6695256123595504, 0.7801184056987787, 0.5580351613351872, 0.6366410898379975, 0.7587874826147425, 0.7703586737235366, 0.6203966537396125, 0.5315313422273783, 0.7084786596583437, 0.5783853865030674, 0.6455401183098591, 0.8275254521857932, 0.7498919340232847, 0.8290639839108926, 0.8251192754342439, 0.5923130687331537, 0.9485545210727983, 1.1151621908396958, 0.8374413173913037, 0.6074711458625519, 0.6349711854014589, 0.6349819384615378, 0.45188873643410765, 0.5095019397217927, 0.40292975189107466, 0.6574455687499995, 0.540198468428781, 0.49854144654939064, 0.46866767718446595, 0.617732275994865, 0.5160620826709054, 0.3397342065217387, 0.3386180523415973, 0.3695594246196397, 0.36889364047936035, 0.39827150656167987, 0.48038032837670347, 0.49549686509901, 0.5758640912806532, 0.6168035999999996, 0.6815972814526575, 0.7478358164062503, 0.49358849420289796, 0.5100801873239433, 0.5341920391872276, 0.534915782546495, 0.4478707102941172, 0.46150103409090876, 0.37065184897959125, 0.4474191490250693, 0.509308085365854, 0.5230655944767446, 0.4368035365853658, 0.6371162225237449, 0.49542021384615387, 0.4308624038199179, 0.4273163815028903, 0.26378082686567106, 0.38662538565022325, 0.36050232743362787, 0.39774176487663176, 0.5099540235109714, 0.46705041756548477, 0.5407896502177069, 0.676952967605634, 0.602614710239651, 0.6487232593516207, 0.48462693749999974, 0.8026717444444447], \"yaxis\": \"y3\"}, {\"line\": {\"color\": \"rgba(128, 0, 128, 1.0)\", \"dash\": \"solid\", \"shape\": \"linear\", \"width\": 1.3}, \"mode\": \"lines\", \"name\": \"CO Mean\", \"text\": \"\", \"type\": \"scatter\", \"x\": [\"(2000,1)\", \"(2000,2)\", \"(2000,3)\", \"(2000,4)\", \"(2000,5)\", \"(2000,6)\", \"(2000,7)\", \"(2000,8)\", \"(2000,9)\", \"(2000,10)\", \"(2000,11)\", \"(2000,12)\", \"(2001,1)\", \"(2001,2)\", \"(2001,3)\", \"(2001,4)\", \"(2001,5)\", \"(2001,6)\", \"(2001,7)\", \"(2001,8)\", \"(2001,9)\", \"(2001,10)\", \"(2001,11)\", \"(2001,12)\", \"(2002,1)\", \"(2002,2)\", \"(2002,3)\", \"(2002,4)\", \"(2002,5)\", \"(2002,6)\", \"(2002,7)\", \"(2002,8)\", \"(2002,9)\", \"(2002,10)\", \"(2002,11)\", \"(2002,12)\", \"(2003,1)\", \"(2003,2)\", \"(2003,3)\", \"(2003,4)\", \"(2003,5)\", \"(2003,6)\", \"(2003,7)\", \"(2003,8)\", \"(2003,9)\", \"(2003,10)\", \"(2003,11)\", \"(2003,12)\", \"(2004,1)\", \"(2004,2)\", \"(2004,3)\", \"(2004,4)\", \"(2004,5)\", \"(2004,6)\", \"(2004,7)\", \"(2004,8)\", \"(2004,9)\", \"(2004,10)\", \"(2004,11)\", \"(2004,12)\", \"(2005,1)\", \"(2005,2)\", \"(2005,3)\", \"(2005,4)\", \"(2005,5)\", \"(2005,6)\", \"(2005,7)\", \"(2005,8)\", \"(2005,9)\", \"(2005,10)\", \"(2005,11)\", \"(2005,12)\", \"(2006,1)\", \"(2006,2)\", \"(2006,3)\", \"(2006,4)\", \"(2006,5)\", \"(2006,6)\", \"(2006,7)\", \"(2006,8)\", \"(2006,9)\", \"(2006,10)\", \"(2006,11)\", \"(2006,12)\", \"(2007,1)\", \"(2007,2)\", \"(2007,3)\", \"(2007,4)\", \"(2007,5)\", \"(2007,6)\", \"(2007,7)\", \"(2007,8)\", \"(2007,9)\", \"(2007,10)\", \"(2007,11)\", \"(2007,12)\", \"(2008,1)\", \"(2008,2)\", \"(2008,3)\", \"(2008,4)\", \"(2008,5)\", \"(2008,6)\", \"(2008,7)\", \"(2008,8)\", \"(2008,9)\", \"(2008,10)\", \"(2008,11)\", \"(2008,12)\", \"(2009,1)\", \"(2009,2)\", \"(2009,3)\", \"(2009,4)\", \"(2009,5)\", \"(2009,6)\", \"(2009,7)\", \"(2009,8)\", \"(2009,9)\", \"(2009,10)\", \"(2009,11)\", \"(2009,12)\", \"(2010,1)\", \"(2010,2)\", \"(2010,3)\", \"(2010,4)\", \"(2010,5)\", \"(2010,6)\", \"(2010,7)\", \"(2010,8)\", \"(2010,9)\", \"(2010,10)\", \"(2010,11)\", \"(2010,12)\", \"(2011,1)\", \"(2011,2)\", \"(2011,3)\", \"(2011,4)\", \"(2011,5)\", \"(2011,6)\", \"(2011,7)\", \"(2011,8)\", \"(2011,9)\", \"(2011,10)\", \"(2011,11)\", \"(2011,12)\", \"(2012,1)\", \"(2012,2)\", \"(2012,3)\", \"(2012,4)\", \"(2012,5)\", \"(2012,6)\", \"(2012,7)\", \"(2012,8)\", \"(2012,9)\", \"(2012,10)\", \"(2012,11)\", \"(2012,12)\", \"(2013,1)\", \"(2013,2)\", \"(2013,3)\", \"(2013,4)\", \"(2013,5)\", \"(2013,6)\", \"(2013,7)\", \"(2013,8)\", \"(2013,9)\", \"(2013,10)\", \"(2013,11)\", \"(2013,12)\", \"(2014,1)\", \"(2014,2)\", \"(2014,3)\", \"(2014,4)\", \"(2014,5)\", \"(2014,6)\", \"(2014,7)\", \"(2014,8)\", \"(2014,9)\", \"(2014,10)\", \"(2014,11)\", \"(2014,12)\", \"(2015,1)\", \"(2015,2)\", \"(2015,3)\", \"(2015,4)\", \"(2015,5)\", \"(2015,6)\", \"(2015,7)\", \"(2015,8)\", \"(2015,9)\", \"(2015,10)\", \"(2015,11)\", \"(2015,12)\", \"(2016,1)\", \"(2016,2)\", \"(2016,3)\", \"(2016,4)\"], \"xaxis\": \"x4\", \"y\": [1.0314693845029241, 0.6751114160246535, 0.5752371382113823, 0.5364940418994424, 0.44694749433427766, 0.42706285034965, 0.3552021651495445, 0.4366647414248025, 0.4929842720478327, 0.5664759793548392, 0.9781668906666658, 1.23824199089727, 1.0190745042134832, 0.7488195461783445, 0.6222417243902432, 0.45360685562913905, 0.46209604432855306, 0.3973479358151475, 0.36838861804697154, 0.41876087263556105, 0.4992875416666664, 0.7048121389548713, 0.8842713539042831, 0.9644627414215688, 0.9150670219653176, 0.8885794583333341, 0.5616547157772622, 0.44305113017751435, 0.38523281044267865, 0.3589692415865388, 0.3398869003783095, 0.45996645547073844, 0.5281257093023259, 0.6143517885304662, 0.9151355195822455, 0.91202536569149, 0.9246498331332536, 0.6491266295828069, 0.5386711306954439, 0.4104988557213927, 0.44404910844892875, 0.36972104495912883, 0.4203223443877553, 0.4290380080753701, 0.47963587037037103, 0.6848645400552495, 0.6846399706703916, 0.8669918559999998, 0.8304645776223774, 0.651489736296296, 0.5771149053084647, 0.4690740779014314, 0.43469095420974896, 0.3700873289280474, 0.3364391036834925, 0.31421819267299816, 0.42112787123287615, 0.4930117660427811, 0.6301462308802311, 0.7142413155080208, 0.6092440198675491, 0.5104038226744186, 0.4506202997275204, 0.4039348148148148, 0.3355154927344779, 0.2947983451704545, 0.3518093553370788, 0.3370046054421767, 0.3860797757660163, 0.47496662709497167, 0.6609480232896656, 0.7268108588873816, 0.5978143132694934, 0.6269984593373491, 0.41881564150943446, 0.39006116201117297, 0.3217467107776262, 0.3127119741379312, 0.297264550271739, 0.2881259758179233, 0.34841480530973457, 0.4495133943661973, 0.5970461939218525, 0.7108546581769439, 0.6424293131034492, 0.5085193732503888, 0.4189198483290489, 0.3686402105926862, 0.2960412958435209, 0.26337062288686636, 0.26346529987293504, 0.3048190988142294, 0.340750846649485, 0.494435879898862, 0.5797964438709674, 0.5320539658952502, 0.5231757995418098, 0.5241354, 0.37732769144144207, 0.3200164390243911, 0.2860247398568028, 0.3154442393822395, 0.2861627552204173, 0.2529010689655172, 0.3200785541871917, 0.46349648581157715, 0.5320500197674415, 0.49352308059023764, 0.5710083022388064, 0.42808425067385425, 0.3698381882951659, 0.3785557741496591, 0.2863042272727269, 0.2447210968622095, 0.2594947813712804, 0.3287516067270376, 0.3432223556485354, 0.4083643796940189, 0.5796549436416188, 0.574779643347051, 0.5457012342704152, 0.4290504262560777, 0.32807741884057917, 0.30095979102167153, 0.26070195209580804, 0.23786736950146625, 0.2391285072254324, 0.2541818258426961, 0.3422095590230663, 0.30927633240611996, 0.43473696759941094, 0.45895692072322725, 0.48437013574097176, 0.40594913573407115, 0.3593774559164732, 0.26021138896189167, 0.24832412638036755, 0.22611781690140795, 0.23212901912568243, 0.2611651668822762, 0.29487439603960336, 0.44053026054590533, 0.498561114555256, 0.6310060625798213, 0.5668608122137405, 0.39012608695652046, 0.3103281795231422, 0.2688324350364963, 0.2356961369230765, 0.2228805131782942, 0.22906271715610496, 0.2436458305597581, 0.2953673124999999, 0.3173564449339205, 0.44727665899864655, 0.48515513349514555, 0.5732698279845964, 0.4428950906200317, 0.3418844130434783, 0.27245479063360895, 0.2520878464730288, 0.24389307190412746, 0.24675036220472352, 0.25565050805452244, 0.275268514851485, 0.35589940599455033, 0.4612150680272099, 0.5719873527885864, 0.6097512395833335, 0.4077978956521741, 0.3266729915492954, 0.2976664978229312, 0.2711006924177387, 0.2601745661764695, 0.22714739772727122, 0.2361038448979582, 0.25971853342618273, 0.3641109037940373, 0.4299563502906979, 0.4410374978479195, 0.5322768561736765, 0.4164476292307699, 0.3574609072305592, 0.27456993786127065, 0.2391119462686562, 0.2494101031390134, 0.18655126106194692, 0.2465349288824379, 0.26741026959247616, 0.3283484345146379, 0.43876689259796786, 0.45168100140845047, 0.3840962570806102, 0.3976662344139646, 0.30992080357142854, 0.31799352777777784], \"yaxis\": \"y4\"}],                        {\"legend\": {\"bgcolor\": \"#FFFFFF\", \"font\": {\"color\": \"#4D5663\"}}, \"paper_bgcolor\": \"#FFFFFF\", \"plot_bgcolor\": \"#FFFFFF\", \"template\": {\"data\": {\"bar\": [{\"error_x\": {\"color\": \"#2a3f5f\"}, \"error_y\": {\"color\": \"#2a3f5f\"}, \"marker\": {\"line\": {\"color\": \"#E5ECF6\", \"width\": 0.5}}, \"type\": \"bar\"}], \"barpolar\": [{\"marker\": {\"line\": {\"color\": \"#E5ECF6\", \"width\": 0.5}}, \"type\": \"barpolar\"}], \"carpet\": [{\"aaxis\": {\"endlinecolor\": \"#2a3f5f\", \"gridcolor\": \"white\", \"linecolor\": \"white\", \"minorgridcolor\": \"white\", \"startlinecolor\": \"#2a3f5f\"}, \"baxis\": {\"endlinecolor\": \"#2a3f5f\", \"gridcolor\": \"white\", \"linecolor\": \"white\", \"minorgridcolor\": \"white\", \"startlinecolor\": \"#2a3f5f\"}, \"type\": \"carpet\"}], \"choropleth\": [{\"colorbar\": {\"outlinewidth\": 0, \"ticks\": \"\"}, \"type\": \"choropleth\"}], \"contour\": [{\"colorbar\": {\"outlinewidth\": 0, \"ticks\": \"\"}, \"colorscale\": [[0.0, \"#0d0887\"], [0.1111111111111111, \"#46039f\"], [0.2222222222222222, \"#7201a8\"], [0.3333333333333333, \"#9c179e\"], [0.4444444444444444, \"#bd3786\"], [0.5555555555555556, \"#d8576b\"], [0.6666666666666666, \"#ed7953\"], [0.7777777777777778, \"#fb9f3a\"], [0.8888888888888888, \"#fdca26\"], [1.0, \"#f0f921\"]], \"type\": \"contour\"}], \"contourcarpet\": [{\"colorbar\": {\"outlinewidth\": 0, \"ticks\": \"\"}, \"type\": \"contourcarpet\"}], \"heatmap\": [{\"colorbar\": {\"outlinewidth\": 0, \"ticks\": \"\"}, \"colorscale\": [[0.0, \"#0d0887\"], [0.1111111111111111, \"#46039f\"], [0.2222222222222222, \"#7201a8\"], [0.3333333333333333, \"#9c179e\"], [0.4444444444444444, \"#bd3786\"], [0.5555555555555556, \"#d8576b\"], [0.6666666666666666, \"#ed7953\"], [0.7777777777777778, \"#fb9f3a\"], [0.8888888888888888, \"#fdca26\"], [1.0, \"#f0f921\"]], \"type\": \"heatmap\"}], \"heatmapgl\": [{\"colorbar\": {\"outlinewidth\": 0, \"ticks\": \"\"}, \"colorscale\": [[0.0, \"#0d0887\"], [0.1111111111111111, \"#46039f\"], [0.2222222222222222, \"#7201a8\"], [0.3333333333333333, \"#9c179e\"], [0.4444444444444444, \"#bd3786\"], [0.5555555555555556, \"#d8576b\"], [0.6666666666666666, \"#ed7953\"], [0.7777777777777778, \"#fb9f3a\"], [0.8888888888888888, \"#fdca26\"], [1.0, \"#f0f921\"]], \"type\": \"heatmapgl\"}], \"histogram\": [{\"marker\": {\"colorbar\": {\"outlinewidth\": 0, \"ticks\": \"\"}}, \"type\": \"histogram\"}], \"histogram2d\": [{\"colorbar\": {\"outlinewidth\": 0, \"ticks\": \"\"}, \"colorscale\": [[0.0, \"#0d0887\"], [0.1111111111111111, \"#46039f\"], [0.2222222222222222, \"#7201a8\"], [0.3333333333333333, \"#9c179e\"], [0.4444444444444444, \"#bd3786\"], [0.5555555555555556, \"#d8576b\"], [0.6666666666666666, \"#ed7953\"], [0.7777777777777778, \"#fb9f3a\"], [0.8888888888888888, \"#fdca26\"], [1.0, \"#f0f921\"]], \"type\": \"histogram2d\"}], \"histogram2dcontour\": [{\"colorbar\": {\"outlinewidth\": 0, \"ticks\": \"\"}, \"colorscale\": [[0.0, \"#0d0887\"], [0.1111111111111111, \"#46039f\"], [0.2222222222222222, \"#7201a8\"], [0.3333333333333333, \"#9c179e\"], [0.4444444444444444, \"#bd3786\"], [0.5555555555555556, \"#d8576b\"], [0.6666666666666666, \"#ed7953\"], [0.7777777777777778, \"#fb9f3a\"], [0.8888888888888888, \"#fdca26\"], [1.0, \"#f0f921\"]], \"type\": \"histogram2dcontour\"}], \"mesh3d\": [{\"colorbar\": {\"outlinewidth\": 0, \"ticks\": \"\"}, \"type\": \"mesh3d\"}], \"parcoords\": [{\"line\": {\"colorbar\": {\"outlinewidth\": 0, \"ticks\": \"\"}}, \"type\": \"parcoords\"}], \"pie\": [{\"automargin\": true, \"type\": \"pie\"}], \"scatter\": [{\"marker\": {\"colorbar\": {\"outlinewidth\": 0, \"ticks\": \"\"}}, \"type\": \"scatter\"}], \"scatter3d\": [{\"line\": {\"colorbar\": {\"outlinewidth\": 0, \"ticks\": \"\"}}, \"marker\": {\"colorbar\": {\"outlinewidth\": 0, \"ticks\": \"\"}}, \"type\": \"scatter3d\"}], \"scattercarpet\": [{\"marker\": {\"colorbar\": {\"outlinewidth\": 0, \"ticks\": \"\"}}, \"type\": \"scattercarpet\"}], \"scattergeo\": [{\"marker\": {\"colorbar\": {\"outlinewidth\": 0, \"ticks\": \"\"}}, \"type\": \"scattergeo\"}], \"scattergl\": [{\"marker\": {\"colorbar\": {\"outlinewidth\": 0, \"ticks\": \"\"}}, \"type\": \"scattergl\"}], \"scattermapbox\": [{\"marker\": {\"colorbar\": {\"outlinewidth\": 0, \"ticks\": \"\"}}, \"type\": \"scattermapbox\"}], \"scatterpolar\": [{\"marker\": {\"colorbar\": {\"outlinewidth\": 0, \"ticks\": \"\"}}, \"type\": \"scatterpolar\"}], \"scatterpolargl\": [{\"marker\": {\"colorbar\": {\"outlinewidth\": 0, \"ticks\": \"\"}}, \"type\": \"scatterpolargl\"}], \"scatterternary\": [{\"marker\": {\"colorbar\": {\"outlinewidth\": 0, \"ticks\": \"\"}}, \"type\": \"scatterternary\"}], \"surface\": [{\"colorbar\": {\"outlinewidth\": 0, \"ticks\": \"\"}, \"colorscale\": [[0.0, \"#0d0887\"], [0.1111111111111111, \"#46039f\"], [0.2222222222222222, \"#7201a8\"], [0.3333333333333333, \"#9c179e\"], [0.4444444444444444, \"#bd3786\"], [0.5555555555555556, \"#d8576b\"], [0.6666666666666666, \"#ed7953\"], [0.7777777777777778, \"#fb9f3a\"], [0.8888888888888888, \"#fdca26\"], [1.0, \"#f0f921\"]], \"type\": \"surface\"}], \"table\": [{\"cells\": {\"fill\": {\"color\": \"#EBF0F8\"}, \"line\": {\"color\": \"white\"}}, \"header\": {\"fill\": {\"color\": \"#C8D4E3\"}, \"line\": {\"color\": \"white\"}}, \"type\": \"table\"}]}, \"layout\": {\"annotationdefaults\": {\"arrowcolor\": \"#2a3f5f\", \"arrowhead\": 0, \"arrowwidth\": 1}, \"coloraxis\": {\"colorbar\": {\"outlinewidth\": 0, \"ticks\": \"\"}}, \"colorscale\": {\"diverging\": [[0, \"#8e0152\"], [0.1, \"#c51b7d\"], [0.2, \"#de77ae\"], [0.3, \"#f1b6da\"], [0.4, \"#fde0ef\"], [0.5, \"#f7f7f7\"], [0.6, \"#e6f5d0\"], [0.7, \"#b8e186\"], [0.8, \"#7fbc41\"], [0.9, \"#4d9221\"], [1, \"#276419\"]], \"sequential\": [[0.0, \"#0d0887\"], [0.1111111111111111, \"#46039f\"], [0.2222222222222222, \"#7201a8\"], [0.3333333333333333, \"#9c179e\"], [0.4444444444444444, \"#bd3786\"], [0.5555555555555556, \"#d8576b\"], [0.6666666666666666, \"#ed7953\"], [0.7777777777777778, \"#fb9f3a\"], [0.8888888888888888, \"#fdca26\"], [1.0, \"#f0f921\"]], \"sequentialminus\": [[0.0, \"#0d0887\"], [0.1111111111111111, \"#46039f\"], [0.2222222222222222, \"#7201a8\"], [0.3333333333333333, \"#9c179e\"], [0.4444444444444444, \"#bd3786\"], [0.5555555555555556, \"#d8576b\"], [0.6666666666666666, \"#ed7953\"], [0.7777777777777778, \"#fb9f3a\"], [0.8888888888888888, \"#fdca26\"], [1.0, \"#f0f921\"]]}, \"colorway\": [\"#636efa\", \"#EF553B\", \"#00cc96\", \"#ab63fa\", \"#FFA15A\", \"#19d3f3\", \"#FF6692\", \"#B6E880\", \"#FF97FF\", \"#FECB52\"], \"font\": {\"color\": \"#2a3f5f\"}, \"geo\": {\"bgcolor\": \"white\", \"lakecolor\": \"white\", \"landcolor\": \"#E5ECF6\", \"showlakes\": true, \"showland\": true, \"subunitcolor\": \"white\"}, \"hoverlabel\": {\"align\": \"left\"}, \"hovermode\": \"closest\", \"mapbox\": {\"style\": \"light\"}, \"paper_bgcolor\": \"white\", \"plot_bgcolor\": \"#E5ECF6\", \"polar\": {\"angularaxis\": {\"gridcolor\": \"white\", \"linecolor\": \"white\", \"ticks\": \"\"}, \"bgcolor\": \"#E5ECF6\", \"radialaxis\": {\"gridcolor\": \"white\", \"linecolor\": \"white\", \"ticks\": \"\"}}, \"scene\": {\"xaxis\": {\"backgroundcolor\": \"#E5ECF6\", \"gridcolor\": \"white\", \"gridwidth\": 2, \"linecolor\": \"white\", \"showbackground\": true, \"ticks\": \"\", \"zerolinecolor\": \"white\"}, \"yaxis\": {\"backgroundcolor\": \"#E5ECF6\", \"gridcolor\": \"white\", \"gridwidth\": 2, \"linecolor\": \"white\", \"showbackground\": true, \"ticks\": \"\", \"zerolinecolor\": \"white\"}, \"zaxis\": {\"backgroundcolor\": \"#E5ECF6\", \"gridcolor\": \"white\", \"gridwidth\": 2, \"linecolor\": \"white\", \"showbackground\": true, \"ticks\": \"\", \"zerolinecolor\": \"white\"}}, \"shapedefaults\": {\"line\": {\"color\": \"#2a3f5f\"}}, \"ternary\": {\"aaxis\": {\"gridcolor\": \"white\", \"linecolor\": \"white\", \"ticks\": \"\"}, \"baxis\": {\"gridcolor\": \"white\", \"linecolor\": \"white\", \"ticks\": \"\"}, \"bgcolor\": \"#E5ECF6\", \"caxis\": {\"gridcolor\": \"white\", \"linecolor\": \"white\", \"ticks\": \"\"}}, \"title\": {\"x\": 0.05}, \"xaxis\": {\"automargin\": true, \"gridcolor\": \"white\", \"linecolor\": \"white\", \"ticks\": \"\", \"title\": {\"standoff\": 15}, \"zerolinecolor\": \"white\", \"zerolinewidth\": 2}, \"yaxis\": {\"automargin\": true, \"gridcolor\": \"white\", \"linecolor\": \"white\", \"ticks\": \"\", \"title\": {\"standoff\": 15}, \"zerolinecolor\": \"white\", \"zerolinewidth\": 2}}}, \"title\": {\"font\": {\"color\": \"#4D5663\"}, \"text\": \"\\u56db\\u79cd\\u6c61\\u67d3\\u7269\\u6708\\u5747\\u6d53\\u5ea6\\u7684\\u53d8\\u5316\\u8d8b\\u52bf\"}, \"xaxis\": {\"anchor\": \"y\", \"domain\": [0.0, 0.45], \"gridcolor\": \"#E1E5ED\", \"showgrid\": true, \"tickfont\": {\"color\": \"#4D5663\"}, \"title\": {\"font\": {\"color\": \"#4D5663\"}, \"text\": \"\"}, \"zerolinecolor\": \"#E1E5ED\"}, \"xaxis2\": {\"anchor\": \"y2\", \"domain\": [0.55, 1.0], \"gridcolor\": \"#E1E5ED\", \"showgrid\": true, \"tickfont\": {\"color\": \"#4D5663\"}, \"title\": {\"font\": {\"color\": \"#4D5663\"}, \"text\": \"\"}, \"zerolinecolor\": \"#E1E5ED\"}, \"xaxis3\": {\"anchor\": \"y3\", \"domain\": [0.0, 0.45], \"gridcolor\": \"#E1E5ED\", \"showgrid\": true, \"tickfont\": {\"color\": \"#4D5663\"}, \"title\": {\"font\": {\"color\": \"#4D5663\"}, \"text\": \"\"}, \"zerolinecolor\": \"#E1E5ED\"}, \"xaxis4\": {\"anchor\": \"y4\", \"domain\": [0.55, 1.0], \"gridcolor\": \"#E1E5ED\", \"showgrid\": true, \"tickfont\": {\"color\": \"#4D5663\"}, \"title\": {\"font\": {\"color\": \"#4D5663\"}, \"text\": \"\"}, \"zerolinecolor\": \"#E1E5ED\"}, \"yaxis\": {\"anchor\": \"x\", \"domain\": [0.575, 1.0], \"gridcolor\": \"#E1E5ED\", \"showgrid\": true, \"tickfont\": {\"color\": \"#4D5663\"}, \"title\": {\"font\": {\"color\": \"#4D5663\"}, \"text\": \"\"}, \"zerolinecolor\": \"#E1E5ED\"}, \"yaxis2\": {\"anchor\": \"x2\", \"domain\": [0.575, 1.0], \"gridcolor\": \"#E1E5ED\", \"showgrid\": true, \"tickfont\": {\"color\": \"#4D5663\"}, \"title\": {\"font\": {\"color\": \"#4D5663\"}, \"text\": \"\"}, \"zerolinecolor\": \"#E1E5ED\"}, \"yaxis3\": {\"anchor\": \"x3\", \"domain\": [0.0, 0.425], \"gridcolor\": \"#E1E5ED\", \"showgrid\": true, \"tickfont\": {\"color\": \"#4D5663\"}, \"title\": {\"font\": {\"color\": \"#4D5663\"}, \"text\": \"\"}, \"zerolinecolor\": \"#E1E5ED\"}, \"yaxis4\": {\"anchor\": \"x4\", \"domain\": [0.0, 0.425], \"gridcolor\": \"#E1E5ED\", \"showgrid\": true, \"tickfont\": {\"color\": \"#4D5663\"}, \"title\": {\"font\": {\"color\": \"#4D5663\"}, \"text\": \"\"}, \"zerolinecolor\": \"#E1E5ED\"}},                        {\"showLink\": true, \"linkText\": \"Export to plot.ly\", \"plotlyServerURL\": \"https://plot.ly\", \"responsive\": true}                    ).then(function(){\n",
       "                            \n",
       "var gd = document.getElementById('8f90cacc-1c0e-4880-b957-a4c6c6b130bf');\n",
       "var x = new MutationObserver(function (mutations, observer) {{\n",
       "        var display = window.getComputedStyle(gd).display;\n",
       "        if (!display || display === 'none') {{\n",
       "            console.log([gd, 'removed!']);\n",
       "            Plotly.purge(gd);\n",
       "            observer.disconnect();\n",
       "        }}\n",
       "}});\n",
       "\n",
       "// Listen for the removal of the full notebook cells\n",
       "var notebookContainer = gd.closest('#notebook-container');\n",
       "if (notebookContainer) {{\n",
       "    x.observe(notebookContainer, {childList: true});\n",
       "}}\n",
       "\n",
       "// Listen for the clearing of the current output cell\n",
       "var outputEl = gd.closest('.output');\n",
       "if (outputEl) {{\n",
       "    x.observe(outputEl, {childList: true});\n",
       "}}\n",
       "\n",
       "                        })                };                });            </script>        </div>"
      ]
     },
     "metadata": {},
     "output_type": "display_data"
    }
   ],
   "source": [
    "month_mean.iplot(subplots=True, theme='white', title='四种污染物月均浓度的变化趋势')"
   ]
  },
  {
   "cell_type": "markdown",
   "metadata": {},
   "source": [
    "美国空值质量（AQI）分为6级， 具体标准定义如下："
   ]
  },
  {
   "cell_type": "markdown",
   "metadata": {},
   "source": [
    "|等级|指数范围|\n",
    "|-|-|\n",
    "|良好|0-50|\n",
    "|中等|51-100|\n",
    "|对易感人群不健康|101-150|\n",
    "|不健康|151-200|\n",
    "|非常不健康|201-300|\n",
    "|危险|301+|"
   ]
  },
  {
   "cell_type": "markdown",
   "metadata": {},
   "source": [
    "即值越大，空气质量越差。 原始数据中， 我们已经有了分别以NO2、O3、SO2和CO计算的AQI， 而最终的空气质量指数取的是这里面的最大值， 相对应的那个污染物则称为首要污染物。"
   ]
  },
  {
   "cell_type": "code",
   "execution_count": 18,
   "metadata": {},
   "outputs": [],
   "source": [
    "data['AQI'] = data.apply(lambda x: max([x['NO2 AQI'], x['O3 AQI'], x['SO2 AQI'], x['CO AQI']]), axis=1)"
   ]
  },
  {
   "cell_type": "code",
   "execution_count": 19,
   "metadata": {},
   "outputs": [],
   "source": [
    "def air_quality_grade(x):\n",
    "    if 0<= x<= 50:\n",
    "        return '良好'\n",
    "    elif 51<=x<=100:\n",
    "        return '中等'\n",
    "    elif 101<=x<=150:\n",
    "        return '对易感人群不健康'\n",
    "    elif 151<=x<=200:\n",
    "        return '不健康'\n",
    "    elif 201<=x<=300:\n",
    "        return '非常不健康'\n",
    "    else:\n",
    "        return '危险'"
   ]
  },
  {
   "cell_type": "code",
   "execution_count": 20,
   "metadata": {},
   "outputs": [],
   "source": [
    "type_data = data.groupby([data['Date Local'].dt.year, data['Date Local'].dt.month, data['Date Local'].dt.day])['AQI'].mean().map(air_quality_grade).value_counts()"
   ]
  },
  {
   "cell_type": "code",
   "execution_count": 21,
   "metadata": {},
   "outputs": [
    {
     "data": {
      "application/vnd.plotly.v1+json": {
       "config": {
        "linkText": "Export to plot.ly",
        "plotlyServerURL": "https://plot.ly",
        "showLink": true
       },
       "data": [
        {
         "marker": {
          "color": "rgba(228, 26, 28, 0.6)",
          "line": {
           "color": "rgba(228, 26, 28, 1.0)",
           "width": 1
          }
         },
         "name": "AQI",
         "orientation": "v",
         "text": "",
         "type": "bar",
         "x": [
          "良好",
          "中等",
          "危险"
         ],
         "y": [
          5165,
          704,
          96
         ]
        }
       ],
       "layout": {
        "legend": {
         "bgcolor": "#FFFFFF",
         "font": {
          "color": "#4D5663"
         }
        },
        "paper_bgcolor": "#FFFFFF",
        "plot_bgcolor": "#FFFFFF",
        "template": {
         "data": {
          "bar": [
           {
            "error_x": {
             "color": "#2a3f5f"
            },
            "error_y": {
             "color": "#2a3f5f"
            },
            "marker": {
             "line": {
              "color": "#E5ECF6",
              "width": 0.5
             }
            },
            "type": "bar"
           }
          ],
          "barpolar": [
           {
            "marker": {
             "line": {
              "color": "#E5ECF6",
              "width": 0.5
             }
            },
            "type": "barpolar"
           }
          ],
          "carpet": [
           {
            "aaxis": {
             "endlinecolor": "#2a3f5f",
             "gridcolor": "white",
             "linecolor": "white",
             "minorgridcolor": "white",
             "startlinecolor": "#2a3f5f"
            },
            "baxis": {
             "endlinecolor": "#2a3f5f",
             "gridcolor": "white",
             "linecolor": "white",
             "minorgridcolor": "white",
             "startlinecolor": "#2a3f5f"
            },
            "type": "carpet"
           }
          ],
          "choropleth": [
           {
            "colorbar": {
             "outlinewidth": 0,
             "ticks": ""
            },
            "type": "choropleth"
           }
          ],
          "contour": [
           {
            "colorbar": {
             "outlinewidth": 0,
             "ticks": ""
            },
            "colorscale": [
             [
              0,
              "#0d0887"
             ],
             [
              0.1111111111111111,
              "#46039f"
             ],
             [
              0.2222222222222222,
              "#7201a8"
             ],
             [
              0.3333333333333333,
              "#9c179e"
             ],
             [
              0.4444444444444444,
              "#bd3786"
             ],
             [
              0.5555555555555556,
              "#d8576b"
             ],
             [
              0.6666666666666666,
              "#ed7953"
             ],
             [
              0.7777777777777778,
              "#fb9f3a"
             ],
             [
              0.8888888888888888,
              "#fdca26"
             ],
             [
              1,
              "#f0f921"
             ]
            ],
            "type": "contour"
           }
          ],
          "contourcarpet": [
           {
            "colorbar": {
             "outlinewidth": 0,
             "ticks": ""
            },
            "type": "contourcarpet"
           }
          ],
          "heatmap": [
           {
            "colorbar": {
             "outlinewidth": 0,
             "ticks": ""
            },
            "colorscale": [
             [
              0,
              "#0d0887"
             ],
             [
              0.1111111111111111,
              "#46039f"
             ],
             [
              0.2222222222222222,
              "#7201a8"
             ],
             [
              0.3333333333333333,
              "#9c179e"
             ],
             [
              0.4444444444444444,
              "#bd3786"
             ],
             [
              0.5555555555555556,
              "#d8576b"
             ],
             [
              0.6666666666666666,
              "#ed7953"
             ],
             [
              0.7777777777777778,
              "#fb9f3a"
             ],
             [
              0.8888888888888888,
              "#fdca26"
             ],
             [
              1,
              "#f0f921"
             ]
            ],
            "type": "heatmap"
           }
          ],
          "heatmapgl": [
           {
            "colorbar": {
             "outlinewidth": 0,
             "ticks": ""
            },
            "colorscale": [
             [
              0,
              "#0d0887"
             ],
             [
              0.1111111111111111,
              "#46039f"
             ],
             [
              0.2222222222222222,
              "#7201a8"
             ],
             [
              0.3333333333333333,
              "#9c179e"
             ],
             [
              0.4444444444444444,
              "#bd3786"
             ],
             [
              0.5555555555555556,
              "#d8576b"
             ],
             [
              0.6666666666666666,
              "#ed7953"
             ],
             [
              0.7777777777777778,
              "#fb9f3a"
             ],
             [
              0.8888888888888888,
              "#fdca26"
             ],
             [
              1,
              "#f0f921"
             ]
            ],
            "type": "heatmapgl"
           }
          ],
          "histogram": [
           {
            "marker": {
             "colorbar": {
              "outlinewidth": 0,
              "ticks": ""
             }
            },
            "type": "histogram"
           }
          ],
          "histogram2d": [
           {
            "colorbar": {
             "outlinewidth": 0,
             "ticks": ""
            },
            "colorscale": [
             [
              0,
              "#0d0887"
             ],
             [
              0.1111111111111111,
              "#46039f"
             ],
             [
              0.2222222222222222,
              "#7201a8"
             ],
             [
              0.3333333333333333,
              "#9c179e"
             ],
             [
              0.4444444444444444,
              "#bd3786"
             ],
             [
              0.5555555555555556,
              "#d8576b"
             ],
             [
              0.6666666666666666,
              "#ed7953"
             ],
             [
              0.7777777777777778,
              "#fb9f3a"
             ],
             [
              0.8888888888888888,
              "#fdca26"
             ],
             [
              1,
              "#f0f921"
             ]
            ],
            "type": "histogram2d"
           }
          ],
          "histogram2dcontour": [
           {
            "colorbar": {
             "outlinewidth": 0,
             "ticks": ""
            },
            "colorscale": [
             [
              0,
              "#0d0887"
             ],
             [
              0.1111111111111111,
              "#46039f"
             ],
             [
              0.2222222222222222,
              "#7201a8"
             ],
             [
              0.3333333333333333,
              "#9c179e"
             ],
             [
              0.4444444444444444,
              "#bd3786"
             ],
             [
              0.5555555555555556,
              "#d8576b"
             ],
             [
              0.6666666666666666,
              "#ed7953"
             ],
             [
              0.7777777777777778,
              "#fb9f3a"
             ],
             [
              0.8888888888888888,
              "#fdca26"
             ],
             [
              1,
              "#f0f921"
             ]
            ],
            "type": "histogram2dcontour"
           }
          ],
          "mesh3d": [
           {
            "colorbar": {
             "outlinewidth": 0,
             "ticks": ""
            },
            "type": "mesh3d"
           }
          ],
          "parcoords": [
           {
            "line": {
             "colorbar": {
              "outlinewidth": 0,
              "ticks": ""
             }
            },
            "type": "parcoords"
           }
          ],
          "pie": [
           {
            "automargin": true,
            "type": "pie"
           }
          ],
          "scatter": [
           {
            "marker": {
             "colorbar": {
              "outlinewidth": 0,
              "ticks": ""
             }
            },
            "type": "scatter"
           }
          ],
          "scatter3d": [
           {
            "line": {
             "colorbar": {
              "outlinewidth": 0,
              "ticks": ""
             }
            },
            "marker": {
             "colorbar": {
              "outlinewidth": 0,
              "ticks": ""
             }
            },
            "type": "scatter3d"
           }
          ],
          "scattercarpet": [
           {
            "marker": {
             "colorbar": {
              "outlinewidth": 0,
              "ticks": ""
             }
            },
            "type": "scattercarpet"
           }
          ],
          "scattergeo": [
           {
            "marker": {
             "colorbar": {
              "outlinewidth": 0,
              "ticks": ""
             }
            },
            "type": "scattergeo"
           }
          ],
          "scattergl": [
           {
            "marker": {
             "colorbar": {
              "outlinewidth": 0,
              "ticks": ""
             }
            },
            "type": "scattergl"
           }
          ],
          "scattermapbox": [
           {
            "marker": {
             "colorbar": {
              "outlinewidth": 0,
              "ticks": ""
             }
            },
            "type": "scattermapbox"
           }
          ],
          "scatterpolar": [
           {
            "marker": {
             "colorbar": {
              "outlinewidth": 0,
              "ticks": ""
             }
            },
            "type": "scatterpolar"
           }
          ],
          "scatterpolargl": [
           {
            "marker": {
             "colorbar": {
              "outlinewidth": 0,
              "ticks": ""
             }
            },
            "type": "scatterpolargl"
           }
          ],
          "scatterternary": [
           {
            "marker": {
             "colorbar": {
              "outlinewidth": 0,
              "ticks": ""
             }
            },
            "type": "scatterternary"
           }
          ],
          "surface": [
           {
            "colorbar": {
             "outlinewidth": 0,
             "ticks": ""
            },
            "colorscale": [
             [
              0,
              "#0d0887"
             ],
             [
              0.1111111111111111,
              "#46039f"
             ],
             [
              0.2222222222222222,
              "#7201a8"
             ],
             [
              0.3333333333333333,
              "#9c179e"
             ],
             [
              0.4444444444444444,
              "#bd3786"
             ],
             [
              0.5555555555555556,
              "#d8576b"
             ],
             [
              0.6666666666666666,
              "#ed7953"
             ],
             [
              0.7777777777777778,
              "#fb9f3a"
             ],
             [
              0.8888888888888888,
              "#fdca26"
             ],
             [
              1,
              "#f0f921"
             ]
            ],
            "type": "surface"
           }
          ],
          "table": [
           {
            "cells": {
             "fill": {
              "color": "#EBF0F8"
             },
             "line": {
              "color": "white"
             }
            },
            "header": {
             "fill": {
              "color": "#C8D4E3"
             },
             "line": {
              "color": "white"
             }
            },
            "type": "table"
           }
          ]
         },
         "layout": {
          "annotationdefaults": {
           "arrowcolor": "#2a3f5f",
           "arrowhead": 0,
           "arrowwidth": 1
          },
          "coloraxis": {
           "colorbar": {
            "outlinewidth": 0,
            "ticks": ""
           }
          },
          "colorscale": {
           "diverging": [
            [
             0,
             "#8e0152"
            ],
            [
             0.1,
             "#c51b7d"
            ],
            [
             0.2,
             "#de77ae"
            ],
            [
             0.3,
             "#f1b6da"
            ],
            [
             0.4,
             "#fde0ef"
            ],
            [
             0.5,
             "#f7f7f7"
            ],
            [
             0.6,
             "#e6f5d0"
            ],
            [
             0.7,
             "#b8e186"
            ],
            [
             0.8,
             "#7fbc41"
            ],
            [
             0.9,
             "#4d9221"
            ],
            [
             1,
             "#276419"
            ]
           ],
           "sequential": [
            [
             0,
             "#0d0887"
            ],
            [
             0.1111111111111111,
             "#46039f"
            ],
            [
             0.2222222222222222,
             "#7201a8"
            ],
            [
             0.3333333333333333,
             "#9c179e"
            ],
            [
             0.4444444444444444,
             "#bd3786"
            ],
            [
             0.5555555555555556,
             "#d8576b"
            ],
            [
             0.6666666666666666,
             "#ed7953"
            ],
            [
             0.7777777777777778,
             "#fb9f3a"
            ],
            [
             0.8888888888888888,
             "#fdca26"
            ],
            [
             1,
             "#f0f921"
            ]
           ],
           "sequentialminus": [
            [
             0,
             "#0d0887"
            ],
            [
             0.1111111111111111,
             "#46039f"
            ],
            [
             0.2222222222222222,
             "#7201a8"
            ],
            [
             0.3333333333333333,
             "#9c179e"
            ],
            [
             0.4444444444444444,
             "#bd3786"
            ],
            [
             0.5555555555555556,
             "#d8576b"
            ],
            [
             0.6666666666666666,
             "#ed7953"
            ],
            [
             0.7777777777777778,
             "#fb9f3a"
            ],
            [
             0.8888888888888888,
             "#fdca26"
            ],
            [
             1,
             "#f0f921"
            ]
           ]
          },
          "colorway": [
           "#636efa",
           "#EF553B",
           "#00cc96",
           "#ab63fa",
           "#FFA15A",
           "#19d3f3",
           "#FF6692",
           "#B6E880",
           "#FF97FF",
           "#FECB52"
          ],
          "font": {
           "color": "#2a3f5f"
          },
          "geo": {
           "bgcolor": "white",
           "lakecolor": "white",
           "landcolor": "#E5ECF6",
           "showlakes": true,
           "showland": true,
           "subunitcolor": "white"
          },
          "hoverlabel": {
           "align": "left"
          },
          "hovermode": "closest",
          "mapbox": {
           "style": "light"
          },
          "paper_bgcolor": "white",
          "plot_bgcolor": "#E5ECF6",
          "polar": {
           "angularaxis": {
            "gridcolor": "white",
            "linecolor": "white",
            "ticks": ""
           },
           "bgcolor": "#E5ECF6",
           "radialaxis": {
            "gridcolor": "white",
            "linecolor": "white",
            "ticks": ""
           }
          },
          "scene": {
           "xaxis": {
            "backgroundcolor": "#E5ECF6",
            "gridcolor": "white",
            "gridwidth": 2,
            "linecolor": "white",
            "showbackground": true,
            "ticks": "",
            "zerolinecolor": "white"
           },
           "yaxis": {
            "backgroundcolor": "#E5ECF6",
            "gridcolor": "white",
            "gridwidth": 2,
            "linecolor": "white",
            "showbackground": true,
            "ticks": "",
            "zerolinecolor": "white"
           },
           "zaxis": {
            "backgroundcolor": "#E5ECF6",
            "gridcolor": "white",
            "gridwidth": 2,
            "linecolor": "white",
            "showbackground": true,
            "ticks": "",
            "zerolinecolor": "white"
           }
          },
          "shapedefaults": {
           "line": {
            "color": "#2a3f5f"
           }
          },
          "ternary": {
           "aaxis": {
            "gridcolor": "white",
            "linecolor": "white",
            "ticks": ""
           },
           "baxis": {
            "gridcolor": "white",
            "linecolor": "white",
            "ticks": ""
           },
           "bgcolor": "#E5ECF6",
           "caxis": {
            "gridcolor": "white",
            "linecolor": "white",
            "ticks": ""
           }
          },
          "title": {
           "x": 0.05
          },
          "xaxis": {
           "automargin": true,
           "gridcolor": "white",
           "linecolor": "white",
           "ticks": "",
           "title": {
            "standoff": 15
           },
           "zerolinecolor": "white",
           "zerolinewidth": 2
          },
          "yaxis": {
           "automargin": true,
           "gridcolor": "white",
           "linecolor": "white",
           "ticks": "",
           "title": {
            "standoff": 15
           },
           "zerolinecolor": "white",
           "zerolinewidth": 2
          }
         }
        },
        "title": {
         "font": {
          "color": "#4D5663"
         },
         "text": "2000-2016各空气质量等级天数"
        },
        "xaxis": {
         "gridcolor": "#E1E5ED",
         "showgrid": true,
         "tickfont": {
          "color": "#4D5663"
         },
         "title": {
          "font": {
           "color": "#4D5663"
          },
          "text": "空气质量等级"
         },
         "zerolinecolor": "#E1E5ED"
        },
        "yaxis": {
         "gridcolor": "#E1E5ED",
         "showgrid": true,
         "tickfont": {
          "color": "#4D5663"
         },
         "title": {
          "font": {
           "color": "#4D5663"
          },
          "text": "天数"
         },
         "zerolinecolor": "#E1E5ED"
        }
       }
      },
      "text/html": [
       "<div>                            <div id=\"1d3d5aa1-4dfd-4fc9-81e5-b826e83514fb\" class=\"plotly-graph-div\" style=\"height:525px; width:100%;\"></div>            <script type=\"text/javascript\">                require([\"plotly\"], function(Plotly) {                    window.PLOTLYENV=window.PLOTLYENV || {};\n",
       "                    window.PLOTLYENV.BASE_URL='https://plot.ly';                                    if (document.getElementById(\"1d3d5aa1-4dfd-4fc9-81e5-b826e83514fb\")) {                    Plotly.newPlot(                        \"1d3d5aa1-4dfd-4fc9-81e5-b826e83514fb\",                        [{\"marker\": {\"color\": \"rgba(228, 26, 28, 0.6)\", \"line\": {\"color\": \"rgba(228, 26, 28, 1.0)\", \"width\": 1}}, \"name\": \"AQI\", \"orientation\": \"v\", \"text\": \"\", \"type\": \"bar\", \"x\": [\"\\u826f\\u597d\", \"\\u4e2d\\u7b49\", \"\\u5371\\u9669\"], \"y\": [5165, 704, 96]}],                        {\"legend\": {\"bgcolor\": \"#FFFFFF\", \"font\": {\"color\": \"#4D5663\"}}, \"paper_bgcolor\": \"#FFFFFF\", \"plot_bgcolor\": \"#FFFFFF\", \"template\": {\"data\": {\"bar\": [{\"error_x\": {\"color\": \"#2a3f5f\"}, \"error_y\": {\"color\": \"#2a3f5f\"}, \"marker\": {\"line\": {\"color\": \"#E5ECF6\", \"width\": 0.5}}, \"type\": \"bar\"}], \"barpolar\": [{\"marker\": {\"line\": {\"color\": \"#E5ECF6\", \"width\": 0.5}}, \"type\": \"barpolar\"}], \"carpet\": [{\"aaxis\": {\"endlinecolor\": \"#2a3f5f\", \"gridcolor\": \"white\", \"linecolor\": \"white\", \"minorgridcolor\": \"white\", \"startlinecolor\": \"#2a3f5f\"}, \"baxis\": {\"endlinecolor\": \"#2a3f5f\", \"gridcolor\": \"white\", \"linecolor\": \"white\", \"minorgridcolor\": \"white\", \"startlinecolor\": \"#2a3f5f\"}, \"type\": \"carpet\"}], \"choropleth\": [{\"colorbar\": {\"outlinewidth\": 0, \"ticks\": \"\"}, \"type\": \"choropleth\"}], \"contour\": [{\"colorbar\": {\"outlinewidth\": 0, \"ticks\": \"\"}, \"colorscale\": [[0.0, \"#0d0887\"], [0.1111111111111111, \"#46039f\"], [0.2222222222222222, \"#7201a8\"], [0.3333333333333333, \"#9c179e\"], [0.4444444444444444, \"#bd3786\"], [0.5555555555555556, \"#d8576b\"], [0.6666666666666666, \"#ed7953\"], [0.7777777777777778, \"#fb9f3a\"], [0.8888888888888888, \"#fdca26\"], [1.0, \"#f0f921\"]], \"type\": \"contour\"}], \"contourcarpet\": [{\"colorbar\": {\"outlinewidth\": 0, \"ticks\": \"\"}, \"type\": \"contourcarpet\"}], \"heatmap\": [{\"colorbar\": {\"outlinewidth\": 0, \"ticks\": \"\"}, \"colorscale\": [[0.0, \"#0d0887\"], [0.1111111111111111, \"#46039f\"], [0.2222222222222222, \"#7201a8\"], [0.3333333333333333, \"#9c179e\"], [0.4444444444444444, \"#bd3786\"], [0.5555555555555556, \"#d8576b\"], [0.6666666666666666, \"#ed7953\"], [0.7777777777777778, \"#fb9f3a\"], [0.8888888888888888, \"#fdca26\"], [1.0, \"#f0f921\"]], \"type\": \"heatmap\"}], \"heatmapgl\": [{\"colorbar\": {\"outlinewidth\": 0, \"ticks\": \"\"}, \"colorscale\": [[0.0, \"#0d0887\"], [0.1111111111111111, \"#46039f\"], [0.2222222222222222, \"#7201a8\"], [0.3333333333333333, \"#9c179e\"], [0.4444444444444444, \"#bd3786\"], [0.5555555555555556, \"#d8576b\"], [0.6666666666666666, \"#ed7953\"], [0.7777777777777778, \"#fb9f3a\"], [0.8888888888888888, \"#fdca26\"], [1.0, \"#f0f921\"]], \"type\": \"heatmapgl\"}], \"histogram\": [{\"marker\": {\"colorbar\": {\"outlinewidth\": 0, \"ticks\": \"\"}}, \"type\": \"histogram\"}], \"histogram2d\": [{\"colorbar\": {\"outlinewidth\": 0, \"ticks\": \"\"}, \"colorscale\": [[0.0, \"#0d0887\"], [0.1111111111111111, \"#46039f\"], [0.2222222222222222, \"#7201a8\"], [0.3333333333333333, \"#9c179e\"], [0.4444444444444444, \"#bd3786\"], [0.5555555555555556, \"#d8576b\"], [0.6666666666666666, \"#ed7953\"], [0.7777777777777778, \"#fb9f3a\"], [0.8888888888888888, \"#fdca26\"], [1.0, \"#f0f921\"]], \"type\": \"histogram2d\"}], \"histogram2dcontour\": [{\"colorbar\": {\"outlinewidth\": 0, \"ticks\": \"\"}, \"colorscale\": [[0.0, \"#0d0887\"], [0.1111111111111111, \"#46039f\"], [0.2222222222222222, \"#7201a8\"], [0.3333333333333333, \"#9c179e\"], [0.4444444444444444, \"#bd3786\"], [0.5555555555555556, \"#d8576b\"], [0.6666666666666666, \"#ed7953\"], [0.7777777777777778, \"#fb9f3a\"], [0.8888888888888888, \"#fdca26\"], [1.0, \"#f0f921\"]], \"type\": \"histogram2dcontour\"}], \"mesh3d\": [{\"colorbar\": {\"outlinewidth\": 0, \"ticks\": \"\"}, \"type\": \"mesh3d\"}], \"parcoords\": [{\"line\": {\"colorbar\": {\"outlinewidth\": 0, \"ticks\": \"\"}}, \"type\": \"parcoords\"}], \"pie\": [{\"automargin\": true, \"type\": \"pie\"}], \"scatter\": [{\"marker\": {\"colorbar\": {\"outlinewidth\": 0, \"ticks\": \"\"}}, \"type\": \"scatter\"}], \"scatter3d\": [{\"line\": {\"colorbar\": {\"outlinewidth\": 0, \"ticks\": \"\"}}, \"marker\": {\"colorbar\": {\"outlinewidth\": 0, \"ticks\": \"\"}}, \"type\": \"scatter3d\"}], \"scattercarpet\": [{\"marker\": {\"colorbar\": {\"outlinewidth\": 0, \"ticks\": \"\"}}, \"type\": \"scattercarpet\"}], \"scattergeo\": [{\"marker\": {\"colorbar\": {\"outlinewidth\": 0, \"ticks\": \"\"}}, \"type\": \"scattergeo\"}], \"scattergl\": [{\"marker\": {\"colorbar\": {\"outlinewidth\": 0, \"ticks\": \"\"}}, \"type\": \"scattergl\"}], \"scattermapbox\": [{\"marker\": {\"colorbar\": {\"outlinewidth\": 0, \"ticks\": \"\"}}, \"type\": \"scattermapbox\"}], \"scatterpolar\": [{\"marker\": {\"colorbar\": {\"outlinewidth\": 0, \"ticks\": \"\"}}, \"type\": \"scatterpolar\"}], \"scatterpolargl\": [{\"marker\": {\"colorbar\": {\"outlinewidth\": 0, \"ticks\": \"\"}}, \"type\": \"scatterpolargl\"}], \"scatterternary\": [{\"marker\": {\"colorbar\": {\"outlinewidth\": 0, \"ticks\": \"\"}}, \"type\": \"scatterternary\"}], \"surface\": [{\"colorbar\": {\"outlinewidth\": 0, \"ticks\": \"\"}, \"colorscale\": [[0.0, \"#0d0887\"], [0.1111111111111111, \"#46039f\"], [0.2222222222222222, \"#7201a8\"], [0.3333333333333333, \"#9c179e\"], [0.4444444444444444, \"#bd3786\"], [0.5555555555555556, \"#d8576b\"], [0.6666666666666666, \"#ed7953\"], [0.7777777777777778, \"#fb9f3a\"], [0.8888888888888888, \"#fdca26\"], [1.0, \"#f0f921\"]], \"type\": \"surface\"}], \"table\": [{\"cells\": {\"fill\": {\"color\": \"#EBF0F8\"}, \"line\": {\"color\": \"white\"}}, \"header\": {\"fill\": {\"color\": \"#C8D4E3\"}, \"line\": {\"color\": \"white\"}}, \"type\": \"table\"}]}, \"layout\": {\"annotationdefaults\": {\"arrowcolor\": \"#2a3f5f\", \"arrowhead\": 0, \"arrowwidth\": 1}, \"coloraxis\": {\"colorbar\": {\"outlinewidth\": 0, \"ticks\": \"\"}}, \"colorscale\": {\"diverging\": [[0, \"#8e0152\"], [0.1, \"#c51b7d\"], [0.2, \"#de77ae\"], [0.3, \"#f1b6da\"], [0.4, \"#fde0ef\"], [0.5, \"#f7f7f7\"], [0.6, \"#e6f5d0\"], [0.7, \"#b8e186\"], [0.8, \"#7fbc41\"], [0.9, \"#4d9221\"], [1, \"#276419\"]], \"sequential\": [[0.0, \"#0d0887\"], [0.1111111111111111, \"#46039f\"], [0.2222222222222222, \"#7201a8\"], [0.3333333333333333, \"#9c179e\"], [0.4444444444444444, \"#bd3786\"], [0.5555555555555556, \"#d8576b\"], [0.6666666666666666, \"#ed7953\"], [0.7777777777777778, \"#fb9f3a\"], [0.8888888888888888, \"#fdca26\"], [1.0, \"#f0f921\"]], \"sequentialminus\": [[0.0, \"#0d0887\"], [0.1111111111111111, \"#46039f\"], [0.2222222222222222, \"#7201a8\"], [0.3333333333333333, \"#9c179e\"], [0.4444444444444444, \"#bd3786\"], [0.5555555555555556, \"#d8576b\"], [0.6666666666666666, \"#ed7953\"], [0.7777777777777778, \"#fb9f3a\"], [0.8888888888888888, \"#fdca26\"], [1.0, \"#f0f921\"]]}, \"colorway\": [\"#636efa\", \"#EF553B\", \"#00cc96\", \"#ab63fa\", \"#FFA15A\", \"#19d3f3\", \"#FF6692\", \"#B6E880\", \"#FF97FF\", \"#FECB52\"], \"font\": {\"color\": \"#2a3f5f\"}, \"geo\": {\"bgcolor\": \"white\", \"lakecolor\": \"white\", \"landcolor\": \"#E5ECF6\", \"showlakes\": true, \"showland\": true, \"subunitcolor\": \"white\"}, \"hoverlabel\": {\"align\": \"left\"}, \"hovermode\": \"closest\", \"mapbox\": {\"style\": \"light\"}, \"paper_bgcolor\": \"white\", \"plot_bgcolor\": \"#E5ECF6\", \"polar\": {\"angularaxis\": {\"gridcolor\": \"white\", \"linecolor\": \"white\", \"ticks\": \"\"}, \"bgcolor\": \"#E5ECF6\", \"radialaxis\": {\"gridcolor\": \"white\", \"linecolor\": \"white\", \"ticks\": \"\"}}, \"scene\": {\"xaxis\": {\"backgroundcolor\": \"#E5ECF6\", \"gridcolor\": \"white\", \"gridwidth\": 2, \"linecolor\": \"white\", \"showbackground\": true, \"ticks\": \"\", \"zerolinecolor\": \"white\"}, \"yaxis\": {\"backgroundcolor\": \"#E5ECF6\", \"gridcolor\": \"white\", \"gridwidth\": 2, \"linecolor\": \"white\", \"showbackground\": true, \"ticks\": \"\", \"zerolinecolor\": \"white\"}, \"zaxis\": {\"backgroundcolor\": \"#E5ECF6\", \"gridcolor\": \"white\", \"gridwidth\": 2, \"linecolor\": \"white\", \"showbackground\": true, \"ticks\": \"\", \"zerolinecolor\": \"white\"}}, \"shapedefaults\": {\"line\": {\"color\": \"#2a3f5f\"}}, \"ternary\": {\"aaxis\": {\"gridcolor\": \"white\", \"linecolor\": \"white\", \"ticks\": \"\"}, \"baxis\": {\"gridcolor\": \"white\", \"linecolor\": \"white\", \"ticks\": \"\"}, \"bgcolor\": \"#E5ECF6\", \"caxis\": {\"gridcolor\": \"white\", \"linecolor\": \"white\", \"ticks\": \"\"}}, \"title\": {\"x\": 0.05}, \"xaxis\": {\"automargin\": true, \"gridcolor\": \"white\", \"linecolor\": \"white\", \"ticks\": \"\", \"title\": {\"standoff\": 15}, \"zerolinecolor\": \"white\", \"zerolinewidth\": 2}, \"yaxis\": {\"automargin\": true, \"gridcolor\": \"white\", \"linecolor\": \"white\", \"ticks\": \"\", \"title\": {\"standoff\": 15}, \"zerolinecolor\": \"white\", \"zerolinewidth\": 2}}}, \"title\": {\"font\": {\"color\": \"#4D5663\"}, \"text\": \"2000-2016\\u5404\\u7a7a\\u6c14\\u8d28\\u91cf\\u7b49\\u7ea7\\u5929\\u6570\"}, \"xaxis\": {\"gridcolor\": \"#E1E5ED\", \"showgrid\": true, \"tickfont\": {\"color\": \"#4D5663\"}, \"title\": {\"font\": {\"color\": \"#4D5663\"}, \"text\": \"\\u7a7a\\u6c14\\u8d28\\u91cf\\u7b49\\u7ea7\"}, \"zerolinecolor\": \"#E1E5ED\"}, \"yaxis\": {\"gridcolor\": \"#E1E5ED\", \"showgrid\": true, \"tickfont\": {\"color\": \"#4D5663\"}, \"title\": {\"font\": {\"color\": \"#4D5663\"}, \"text\": \"\\u5929\\u6570\"}, \"zerolinecolor\": \"#E1E5ED\"}},                        {\"showLink\": true, \"linkText\": \"Export to plot.ly\", \"plotlyServerURL\": \"https://plot.ly\", \"responsive\": true}                    ).then(function(){\n",
       "                            \n",
       "var gd = document.getElementById('1d3d5aa1-4dfd-4fc9-81e5-b826e83514fb');\n",
       "var x = new MutationObserver(function (mutations, observer) {{\n",
       "        var display = window.getComputedStyle(gd).display;\n",
       "        if (!display || display === 'none') {{\n",
       "            console.log([gd, 'removed!']);\n",
       "            Plotly.purge(gd);\n",
       "            observer.disconnect();\n",
       "        }}\n",
       "}});\n",
       "\n",
       "// Listen for the removal of the full notebook cells\n",
       "var notebookContainer = gd.closest('#notebook-container');\n",
       "if (notebookContainer) {{\n",
       "    x.observe(notebookContainer, {childList: true});\n",
       "}}\n",
       "\n",
       "// Listen for the clearing of the current output cell\n",
       "var outputEl = gd.closest('.output');\n",
       "if (outputEl) {{\n",
       "    x.observe(outputEl, {childList: true});\n",
       "}}\n",
       "\n",
       "                        })                };                });            </script>        </div>"
      ]
     },
     "metadata": {},
     "output_type": "display_data"
    }
   ],
   "source": [
    "type_data.iplot(kind='bar', theme='white', colorscale='set1', title='2000-2016各空气质量等级天数', yTitle='天数', xTitle='空气质量等级')"
   ]
  },
  {
   "cell_type": "markdown",
   "metadata": {},
   "source": [
    " "
   ]
  },
  {
   "cell_type": "markdown",
   "metadata": {},
   "source": [
    "#### （2）四种污染物对总体空气质量造成影响的差异"
   ]
  },
  {
   "cell_type": "markdown",
   "metadata": {},
   "source": [
    "我们来查看一下四种污染物平均浓度与最终AQI的相关性"
   ]
  },
  {
   "cell_type": "code",
   "execution_count": 22,
   "metadata": {},
   "outputs": [
    {
     "data": {
      "text/html": [
       "<div>\n",
       "<style scoped>\n",
       "    .dataframe tbody tr th:only-of-type {\n",
       "        vertical-align: middle;\n",
       "    }\n",
       "\n",
       "    .dataframe tbody tr th {\n",
       "        vertical-align: top;\n",
       "    }\n",
       "\n",
       "    .dataframe thead th {\n",
       "        text-align: right;\n",
       "    }\n",
       "</style>\n",
       "<table border=\"1\" class=\"dataframe\">\n",
       "  <thead>\n",
       "    <tr style=\"text-align: right;\">\n",
       "      <th></th>\n",
       "      <th>State Code</th>\n",
       "      <th>County Code</th>\n",
       "      <th>Site Num</th>\n",
       "      <th>Address</th>\n",
       "      <th>State</th>\n",
       "      <th>County</th>\n",
       "      <th>City</th>\n",
       "      <th>Date Local</th>\n",
       "      <th>NO2 Units</th>\n",
       "      <th>NO2 Mean</th>\n",
       "      <th>...</th>\n",
       "      <th>SO2 Mean</th>\n",
       "      <th>SO2 1st Max Value</th>\n",
       "      <th>SO2 1st Max Hour</th>\n",
       "      <th>SO2 AQI</th>\n",
       "      <th>CO Units</th>\n",
       "      <th>CO Mean</th>\n",
       "      <th>CO 1st Max Value</th>\n",
       "      <th>CO 1st Max Hour</th>\n",
       "      <th>CO AQI</th>\n",
       "      <th>AQI</th>\n",
       "    </tr>\n",
       "  </thead>\n",
       "  <tbody>\n",
       "    <tr>\n",
       "      <th>1</th>\n",
       "      <td>6</td>\n",
       "      <td>13</td>\n",
       "      <td>2</td>\n",
       "      <td>2956-A TREAT BOULEVARD</td>\n",
       "      <td>California</td>\n",
       "      <td>Contra Costa</td>\n",
       "      <td>Concord</td>\n",
       "      <td>2000-01-01</td>\n",
       "      <td>Parts per billion</td>\n",
       "      <td>14.782609</td>\n",
       "      <td>...</td>\n",
       "      <td>0.636364</td>\n",
       "      <td>2.0</td>\n",
       "      <td>9</td>\n",
       "      <td>3.0</td>\n",
       "      <td>Parts per million</td>\n",
       "      <td>0.572222</td>\n",
       "      <td>0.8</td>\n",
       "      <td>6</td>\n",
       "      <td>9.0</td>\n",
       "      <td>25.0</td>\n",
       "    </tr>\n",
       "    <tr>\n",
       "      <th>5</th>\n",
       "      <td>6</td>\n",
       "      <td>13</td>\n",
       "      <td>2</td>\n",
       "      <td>2956-A TREAT BOULEVARD</td>\n",
       "      <td>California</td>\n",
       "      <td>Contra Costa</td>\n",
       "      <td>Concord</td>\n",
       "      <td>2000-01-02</td>\n",
       "      <td>Parts per billion</td>\n",
       "      <td>16.043478</td>\n",
       "      <td>...</td>\n",
       "      <td>1.000000</td>\n",
       "      <td>2.0</td>\n",
       "      <td>5</td>\n",
       "      <td>3.0</td>\n",
       "      <td>Parts per million</td>\n",
       "      <td>0.520833</td>\n",
       "      <td>0.8</td>\n",
       "      <td>23</td>\n",
       "      <td>9.0</td>\n",
       "      <td>28.0</td>\n",
       "    </tr>\n",
       "    <tr>\n",
       "      <th>9</th>\n",
       "      <td>6</td>\n",
       "      <td>13</td>\n",
       "      <td>2</td>\n",
       "      <td>2956-A TREAT BOULEVARD</td>\n",
       "      <td>California</td>\n",
       "      <td>Contra Costa</td>\n",
       "      <td>Concord</td>\n",
       "      <td>2000-01-03</td>\n",
       "      <td>Parts per billion</td>\n",
       "      <td>25.521739</td>\n",
       "      <td>...</td>\n",
       "      <td>2.454545</td>\n",
       "      <td>4.0</td>\n",
       "      <td>13</td>\n",
       "      <td>6.0</td>\n",
       "      <td>Parts per million</td>\n",
       "      <td>1.133333</td>\n",
       "      <td>1.9</td>\n",
       "      <td>23</td>\n",
       "      <td>22.0</td>\n",
       "      <td>38.0</td>\n",
       "    </tr>\n",
       "    <tr>\n",
       "      <th>13</th>\n",
       "      <td>6</td>\n",
       "      <td>13</td>\n",
       "      <td>2</td>\n",
       "      <td>2956-A TREAT BOULEVARD</td>\n",
       "      <td>California</td>\n",
       "      <td>Contra Costa</td>\n",
       "      <td>Concord</td>\n",
       "      <td>2000-01-04</td>\n",
       "      <td>Parts per billion</td>\n",
       "      <td>26.041667</td>\n",
       "      <td>...</td>\n",
       "      <td>1.541667</td>\n",
       "      <td>4.0</td>\n",
       "      <td>17</td>\n",
       "      <td>6.0</td>\n",
       "      <td>Parts per million</td>\n",
       "      <td>1.408333</td>\n",
       "      <td>2.0</td>\n",
       "      <td>0</td>\n",
       "      <td>23.0</td>\n",
       "      <td>42.0</td>\n",
       "    </tr>\n",
       "    <tr>\n",
       "      <th>17</th>\n",
       "      <td>6</td>\n",
       "      <td>13</td>\n",
       "      <td>2</td>\n",
       "      <td>2956-A TREAT BOULEVARD</td>\n",
       "      <td>California</td>\n",
       "      <td>Contra Costa</td>\n",
       "      <td>Concord</td>\n",
       "      <td>2000-01-05</td>\n",
       "      <td>Parts per billion</td>\n",
       "      <td>23.772727</td>\n",
       "      <td>...</td>\n",
       "      <td>1.681818</td>\n",
       "      <td>4.0</td>\n",
       "      <td>10</td>\n",
       "      <td>6.0</td>\n",
       "      <td>Parts per million</td>\n",
       "      <td>0.941667</td>\n",
       "      <td>1.7</td>\n",
       "      <td>23</td>\n",
       "      <td>19.0</td>\n",
       "      <td>36.0</td>\n",
       "    </tr>\n",
       "  </tbody>\n",
       "</table>\n",
       "<p>5 rows × 29 columns</p>\n",
       "</div>"
      ],
      "text/plain": [
       "    State Code  County Code  Site Num                 Address       State  \\\n",
       "1            6           13         2  2956-A TREAT BOULEVARD  California   \n",
       "5            6           13         2  2956-A TREAT BOULEVARD  California   \n",
       "9            6           13         2  2956-A TREAT BOULEVARD  California   \n",
       "13           6           13         2  2956-A TREAT BOULEVARD  California   \n",
       "17           6           13         2  2956-A TREAT BOULEVARD  California   \n",
       "\n",
       "          County     City Date Local          NO2 Units   NO2 Mean  ...  \\\n",
       "1   Contra Costa  Concord 2000-01-01  Parts per billion  14.782609  ...   \n",
       "5   Contra Costa  Concord 2000-01-02  Parts per billion  16.043478  ...   \n",
       "9   Contra Costa  Concord 2000-01-03  Parts per billion  25.521739  ...   \n",
       "13  Contra Costa  Concord 2000-01-04  Parts per billion  26.041667  ...   \n",
       "17  Contra Costa  Concord 2000-01-05  Parts per billion  23.772727  ...   \n",
       "\n",
       "    SO2 Mean  SO2 1st Max Value  SO2 1st Max Hour SO2 AQI           CO Units  \\\n",
       "1   0.636364                2.0                 9     3.0  Parts per million   \n",
       "5   1.000000                2.0                 5     3.0  Parts per million   \n",
       "9   2.454545                4.0                13     6.0  Parts per million   \n",
       "13  1.541667                4.0                17     6.0  Parts per million   \n",
       "17  1.681818                4.0                10     6.0  Parts per million   \n",
       "\n",
       "     CO Mean  CO 1st Max Value  CO 1st Max Hour CO AQI   AQI  \n",
       "1   0.572222               0.8                6    9.0  25.0  \n",
       "5   0.520833               0.8               23    9.0  28.0  \n",
       "9   1.133333               1.9               23   22.0  38.0  \n",
       "13  1.408333               2.0                0   23.0  42.0  \n",
       "17  0.941667               1.7               23   19.0  36.0  \n",
       "\n",
       "[5 rows x 29 columns]"
      ]
     },
     "execution_count": 22,
     "metadata": {},
     "output_type": "execute_result"
    }
   ],
   "source": [
    "data.head()"
   ]
  },
  {
   "cell_type": "code",
   "execution_count": 23,
   "metadata": {},
   "outputs": [],
   "source": [
    "columns = ['Date Local', 'NO2 AQI', 'O3 AQI', 'SO2 AQI', 'CO AQI']"
   ]
  },
  {
   "cell_type": "code",
   "execution_count": null,
   "metadata": {},
   "outputs": [],
   "source": []
  },
  {
   "cell_type": "code",
   "execution_count": 24,
   "metadata": {},
   "outputs": [
    {
     "data": {
      "text/html": [
       "<div>\n",
       "<style scoped>\n",
       "    .dataframe tbody tr th:only-of-type {\n",
       "        vertical-align: middle;\n",
       "    }\n",
       "\n",
       "    .dataframe tbody tr th {\n",
       "        vertical-align: top;\n",
       "    }\n",
       "\n",
       "    .dataframe thead th {\n",
       "        text-align: right;\n",
       "    }\n",
       "</style>\n",
       "<table border=\"1\" class=\"dataframe\">\n",
       "  <thead>\n",
       "    <tr style=\"text-align: right;\">\n",
       "      <th></th>\n",
       "      <th>Date Local</th>\n",
       "      <th>NO2 AQI</th>\n",
       "      <th>O3 AQI</th>\n",
       "      <th>SO2 AQI</th>\n",
       "      <th>CO AQI</th>\n",
       "      <th>AQI</th>\n",
       "    </tr>\n",
       "  </thead>\n",
       "  <tbody>\n",
       "    <tr>\n",
       "      <th>1</th>\n",
       "      <td>2000-01-01</td>\n",
       "      <td>25</td>\n",
       "      <td>25</td>\n",
       "      <td>3.0</td>\n",
       "      <td>9.0</td>\n",
       "      <td>25.0</td>\n",
       "    </tr>\n",
       "    <tr>\n",
       "      <th>5</th>\n",
       "      <td>2000-01-02</td>\n",
       "      <td>28</td>\n",
       "      <td>27</td>\n",
       "      <td>3.0</td>\n",
       "      <td>9.0</td>\n",
       "      <td>28.0</td>\n",
       "    </tr>\n",
       "    <tr>\n",
       "      <th>9</th>\n",
       "      <td>2000-01-03</td>\n",
       "      <td>38</td>\n",
       "      <td>12</td>\n",
       "      <td>6.0</td>\n",
       "      <td>22.0</td>\n",
       "      <td>38.0</td>\n",
       "    </tr>\n",
       "    <tr>\n",
       "      <th>13</th>\n",
       "      <td>2000-01-04</td>\n",
       "      <td>42</td>\n",
       "      <td>9</td>\n",
       "      <td>6.0</td>\n",
       "      <td>23.0</td>\n",
       "      <td>42.0</td>\n",
       "    </tr>\n",
       "    <tr>\n",
       "      <th>17</th>\n",
       "      <td>2000-01-05</td>\n",
       "      <td>36</td>\n",
       "      <td>19</td>\n",
       "      <td>6.0</td>\n",
       "      <td>19.0</td>\n",
       "      <td>36.0</td>\n",
       "    </tr>\n",
       "    <tr>\n",
       "      <th>...</th>\n",
       "      <td>...</td>\n",
       "      <td>...</td>\n",
       "      <td>...</td>\n",
       "      <td>...</td>\n",
       "      <td>...</td>\n",
       "      <td>...</td>\n",
       "    </tr>\n",
       "    <tr>\n",
       "      <th>576123</th>\n",
       "      <td>2016-04-26</td>\n",
       "      <td>8</td>\n",
       "      <td>37</td>\n",
       "      <td>1.0</td>\n",
       "      <td>2.0</td>\n",
       "      <td>37.0</td>\n",
       "    </tr>\n",
       "    <tr>\n",
       "      <th>576127</th>\n",
       "      <td>2016-04-27</td>\n",
       "      <td>5</td>\n",
       "      <td>39</td>\n",
       "      <td>0.0</td>\n",
       "      <td>3.0</td>\n",
       "      <td>39.0</td>\n",
       "    </tr>\n",
       "    <tr>\n",
       "      <th>576131</th>\n",
       "      <td>2016-04-28</td>\n",
       "      <td>6</td>\n",
       "      <td>34</td>\n",
       "      <td>0.0</td>\n",
       "      <td>2.0</td>\n",
       "      <td>34.0</td>\n",
       "    </tr>\n",
       "    <tr>\n",
       "      <th>576135</th>\n",
       "      <td>2016-04-29</td>\n",
       "      <td>8</td>\n",
       "      <td>35</td>\n",
       "      <td>0.0</td>\n",
       "      <td>3.0</td>\n",
       "      <td>35.0</td>\n",
       "    </tr>\n",
       "    <tr>\n",
       "      <th>576139</th>\n",
       "      <td>2016-04-30</td>\n",
       "      <td>12</td>\n",
       "      <td>38</td>\n",
       "      <td>0.0</td>\n",
       "      <td>3.0</td>\n",
       "      <td>38.0</td>\n",
       "    </tr>\n",
       "  </tbody>\n",
       "</table>\n",
       "<p>143967 rows × 6 columns</p>\n",
       "</div>"
      ],
      "text/plain": [
       "       Date Local  NO2 AQI  O3 AQI  SO2 AQI  CO AQI   AQI\n",
       "1      2000-01-01       25      25      3.0     9.0  25.0\n",
       "5      2000-01-02       28      27      3.0     9.0  28.0\n",
       "9      2000-01-03       38      12      6.0    22.0  38.0\n",
       "13     2000-01-04       42       9      6.0    23.0  42.0\n",
       "17     2000-01-05       36      19      6.0    19.0  36.0\n",
       "...           ...      ...     ...      ...     ...   ...\n",
       "576123 2016-04-26        8      37      1.0     2.0  37.0\n",
       "576127 2016-04-27        5      39      0.0     3.0  39.0\n",
       "576131 2016-04-28        6      34      0.0     2.0  34.0\n",
       "576135 2016-04-29        8      35      0.0     3.0  35.0\n",
       "576139 2016-04-30       12      38      0.0     3.0  38.0\n",
       "\n",
       "[143967 rows x 6 columns]"
      ]
     },
     "execution_count": 24,
     "metadata": {},
     "output_type": "execute_result"
    }
   ],
   "source": [
    "data[columns+['AQI']]"
   ]
  },
  {
   "cell_type": "markdown",
   "metadata": {},
   "source": [
    "下面计算出4中污染物的平均浓度与总体空气质量的相关系数矩阵"
   ]
  },
  {
   "cell_type": "code",
   "execution_count": 25,
   "metadata": {},
   "outputs": [],
   "source": [
    "aqi_correlation_matrix = data[['NO2 Mean', 'O3 Mean', 'SO2 Mean', 'CO Mean', 'AQI']].corr()"
   ]
  },
  {
   "cell_type": "code",
   "execution_count": 26,
   "metadata": {
    "scrolled": true
   },
   "outputs": [
    {
     "data": {
      "text/html": [
       "<div>\n",
       "<style scoped>\n",
       "    .dataframe tbody tr th:only-of-type {\n",
       "        vertical-align: middle;\n",
       "    }\n",
       "\n",
       "    .dataframe tbody tr th {\n",
       "        vertical-align: top;\n",
       "    }\n",
       "\n",
       "    .dataframe thead th {\n",
       "        text-align: right;\n",
       "    }\n",
       "</style>\n",
       "<table border=\"1\" class=\"dataframe\">\n",
       "  <thead>\n",
       "    <tr style=\"text-align: right;\">\n",
       "      <th></th>\n",
       "      <th>NO2 Mean</th>\n",
       "      <th>O3 Mean</th>\n",
       "      <th>SO2 Mean</th>\n",
       "      <th>CO Mean</th>\n",
       "      <th>AQI</th>\n",
       "    </tr>\n",
       "  </thead>\n",
       "  <tbody>\n",
       "    <tr>\n",
       "      <th>NO2 Mean</th>\n",
       "      <td>1.000000</td>\n",
       "      <td>-0.496972</td>\n",
       "      <td>0.348466</td>\n",
       "      <td>0.724479</td>\n",
       "      <td>0.376626</td>\n",
       "    </tr>\n",
       "    <tr>\n",
       "      <th>O3 Mean</th>\n",
       "      <td>-0.496972</td>\n",
       "      <td>1.000000</td>\n",
       "      <td>-0.120382</td>\n",
       "      <td>-0.455529</td>\n",
       "      <td>0.412828</td>\n",
       "    </tr>\n",
       "    <tr>\n",
       "      <th>SO2 Mean</th>\n",
       "      <td>0.348466</td>\n",
       "      <td>-0.120382</td>\n",
       "      <td>1.000000</td>\n",
       "      <td>0.346402</td>\n",
       "      <td>0.165183</td>\n",
       "    </tr>\n",
       "    <tr>\n",
       "      <th>CO Mean</th>\n",
       "      <td>0.724479</td>\n",
       "      <td>-0.455529</td>\n",
       "      <td>0.346402</td>\n",
       "      <td>1.000000</td>\n",
       "      <td>0.238079</td>\n",
       "    </tr>\n",
       "    <tr>\n",
       "      <th>AQI</th>\n",
       "      <td>0.376626</td>\n",
       "      <td>0.412828</td>\n",
       "      <td>0.165183</td>\n",
       "      <td>0.238079</td>\n",
       "      <td>1.000000</td>\n",
       "    </tr>\n",
       "  </tbody>\n",
       "</table>\n",
       "</div>"
      ],
      "text/plain": [
       "          NO2 Mean   O3 Mean  SO2 Mean   CO Mean       AQI\n",
       "NO2 Mean  1.000000 -0.496972  0.348466  0.724479  0.376626\n",
       "O3 Mean  -0.496972  1.000000 -0.120382 -0.455529  0.412828\n",
       "SO2 Mean  0.348466 -0.120382  1.000000  0.346402  0.165183\n",
       "CO Mean   0.724479 -0.455529  0.346402  1.000000  0.238079\n",
       "AQI       0.376626  0.412828  0.165183  0.238079  1.000000"
      ]
     },
     "execution_count": 26,
     "metadata": {},
     "output_type": "execute_result"
    }
   ],
   "source": [
    "aqi_correlation_matrix"
   ]
  },
  {
   "cell_type": "markdown",
   "metadata": {},
   "source": [
    "并画出对应的相关系数热力图"
   ]
  },
  {
   "cell_type": "code",
   "execution_count": 27,
   "metadata": {},
   "outputs": [
    {
     "data": {
      "application/vnd.plotly.v1+json": {
       "config": {
        "linkText": "Export to plot.ly",
        "plotlyServerURL": "https://plot.ly",
        "showLink": true
       },
       "data": [
        {
         "colorscale": [
          [
           0,
           "rgb(255,255,229)"
          ],
          [
           0.125,
           "rgb(247,252,185)"
          ],
          [
           0.25,
           "rgb(217,240,163)"
          ],
          [
           0.375,
           "rgb(173,221,142)"
          ],
          [
           0.5,
           "rgb(120,198,121)"
          ],
          [
           0.625,
           "rgb(65,171,93)"
          ],
          [
           0.75,
           "rgb(35,132,67)"
          ],
          [
           0.875,
           "rgb(0,104,55)"
          ],
          [
           1,
           "rgb(0,69,41)"
          ]
         ],
         "type": "heatmap",
         "x": [
          "NO2 Mean",
          "O3 Mean",
          "SO2 Mean",
          "CO Mean",
          "AQI"
         ],
         "y": [
          "NO2 Mean",
          "O3 Mean",
          "SO2 Mean",
          "CO Mean",
          "AQI"
         ],
         "z": [
          [
           1,
           -0.49697222231776245,
           0.3484662131084139,
           0.7244793580864697,
           0.3766261470534983
          ],
          [
           -0.49697222231776245,
           1,
           -0.1203817959381454,
           -0.4555289904145647,
           0.4128275378311218
          ],
          [
           0.3484662131084139,
           -0.1203817959381454,
           1,
           0.34640248106447535,
           0.16518284680110798
          ],
          [
           0.7244793580864697,
           -0.4555289904145647,
           0.34640248106447535,
           1,
           0.23807864571728993
          ],
          [
           0.3766261470534983,
           0.4128275378311218,
           0.16518284680110798,
           0.23807864571728993,
           1
          ]
         ],
         "zmax": 1,
         "zmin": -0.49697222231776245
        }
       ],
       "layout": {
        "legend": {
         "bgcolor": "#FFFFFF",
         "font": {
          "color": "#4D5663"
         }
        },
        "paper_bgcolor": "#FFFFFF",
        "plot_bgcolor": "#FFFFFF",
        "template": {
         "data": {
          "bar": [
           {
            "error_x": {
             "color": "#2a3f5f"
            },
            "error_y": {
             "color": "#2a3f5f"
            },
            "marker": {
             "line": {
              "color": "#E5ECF6",
              "width": 0.5
             }
            },
            "type": "bar"
           }
          ],
          "barpolar": [
           {
            "marker": {
             "line": {
              "color": "#E5ECF6",
              "width": 0.5
             }
            },
            "type": "barpolar"
           }
          ],
          "carpet": [
           {
            "aaxis": {
             "endlinecolor": "#2a3f5f",
             "gridcolor": "white",
             "linecolor": "white",
             "minorgridcolor": "white",
             "startlinecolor": "#2a3f5f"
            },
            "baxis": {
             "endlinecolor": "#2a3f5f",
             "gridcolor": "white",
             "linecolor": "white",
             "minorgridcolor": "white",
             "startlinecolor": "#2a3f5f"
            },
            "type": "carpet"
           }
          ],
          "choropleth": [
           {
            "colorbar": {
             "outlinewidth": 0,
             "ticks": ""
            },
            "type": "choropleth"
           }
          ],
          "contour": [
           {
            "colorbar": {
             "outlinewidth": 0,
             "ticks": ""
            },
            "colorscale": [
             [
              0,
              "#0d0887"
             ],
             [
              0.1111111111111111,
              "#46039f"
             ],
             [
              0.2222222222222222,
              "#7201a8"
             ],
             [
              0.3333333333333333,
              "#9c179e"
             ],
             [
              0.4444444444444444,
              "#bd3786"
             ],
             [
              0.5555555555555556,
              "#d8576b"
             ],
             [
              0.6666666666666666,
              "#ed7953"
             ],
             [
              0.7777777777777778,
              "#fb9f3a"
             ],
             [
              0.8888888888888888,
              "#fdca26"
             ],
             [
              1,
              "#f0f921"
             ]
            ],
            "type": "contour"
           }
          ],
          "contourcarpet": [
           {
            "colorbar": {
             "outlinewidth": 0,
             "ticks": ""
            },
            "type": "contourcarpet"
           }
          ],
          "heatmap": [
           {
            "colorbar": {
             "outlinewidth": 0,
             "ticks": ""
            },
            "colorscale": [
             [
              0,
              "#0d0887"
             ],
             [
              0.1111111111111111,
              "#46039f"
             ],
             [
              0.2222222222222222,
              "#7201a8"
             ],
             [
              0.3333333333333333,
              "#9c179e"
             ],
             [
              0.4444444444444444,
              "#bd3786"
             ],
             [
              0.5555555555555556,
              "#d8576b"
             ],
             [
              0.6666666666666666,
              "#ed7953"
             ],
             [
              0.7777777777777778,
              "#fb9f3a"
             ],
             [
              0.8888888888888888,
              "#fdca26"
             ],
             [
              1,
              "#f0f921"
             ]
            ],
            "type": "heatmap"
           }
          ],
          "heatmapgl": [
           {
            "colorbar": {
             "outlinewidth": 0,
             "ticks": ""
            },
            "colorscale": [
             [
              0,
              "#0d0887"
             ],
             [
              0.1111111111111111,
              "#46039f"
             ],
             [
              0.2222222222222222,
              "#7201a8"
             ],
             [
              0.3333333333333333,
              "#9c179e"
             ],
             [
              0.4444444444444444,
              "#bd3786"
             ],
             [
              0.5555555555555556,
              "#d8576b"
             ],
             [
              0.6666666666666666,
              "#ed7953"
             ],
             [
              0.7777777777777778,
              "#fb9f3a"
             ],
             [
              0.8888888888888888,
              "#fdca26"
             ],
             [
              1,
              "#f0f921"
             ]
            ],
            "type": "heatmapgl"
           }
          ],
          "histogram": [
           {
            "marker": {
             "colorbar": {
              "outlinewidth": 0,
              "ticks": ""
             }
            },
            "type": "histogram"
           }
          ],
          "histogram2d": [
           {
            "colorbar": {
             "outlinewidth": 0,
             "ticks": ""
            },
            "colorscale": [
             [
              0,
              "#0d0887"
             ],
             [
              0.1111111111111111,
              "#46039f"
             ],
             [
              0.2222222222222222,
              "#7201a8"
             ],
             [
              0.3333333333333333,
              "#9c179e"
             ],
             [
              0.4444444444444444,
              "#bd3786"
             ],
             [
              0.5555555555555556,
              "#d8576b"
             ],
             [
              0.6666666666666666,
              "#ed7953"
             ],
             [
              0.7777777777777778,
              "#fb9f3a"
             ],
             [
              0.8888888888888888,
              "#fdca26"
             ],
             [
              1,
              "#f0f921"
             ]
            ],
            "type": "histogram2d"
           }
          ],
          "histogram2dcontour": [
           {
            "colorbar": {
             "outlinewidth": 0,
             "ticks": ""
            },
            "colorscale": [
             [
              0,
              "#0d0887"
             ],
             [
              0.1111111111111111,
              "#46039f"
             ],
             [
              0.2222222222222222,
              "#7201a8"
             ],
             [
              0.3333333333333333,
              "#9c179e"
             ],
             [
              0.4444444444444444,
              "#bd3786"
             ],
             [
              0.5555555555555556,
              "#d8576b"
             ],
             [
              0.6666666666666666,
              "#ed7953"
             ],
             [
              0.7777777777777778,
              "#fb9f3a"
             ],
             [
              0.8888888888888888,
              "#fdca26"
             ],
             [
              1,
              "#f0f921"
             ]
            ],
            "type": "histogram2dcontour"
           }
          ],
          "mesh3d": [
           {
            "colorbar": {
             "outlinewidth": 0,
             "ticks": ""
            },
            "type": "mesh3d"
           }
          ],
          "parcoords": [
           {
            "line": {
             "colorbar": {
              "outlinewidth": 0,
              "ticks": ""
             }
            },
            "type": "parcoords"
           }
          ],
          "pie": [
           {
            "automargin": true,
            "type": "pie"
           }
          ],
          "scatter": [
           {
            "marker": {
             "colorbar": {
              "outlinewidth": 0,
              "ticks": ""
             }
            },
            "type": "scatter"
           }
          ],
          "scatter3d": [
           {
            "line": {
             "colorbar": {
              "outlinewidth": 0,
              "ticks": ""
             }
            },
            "marker": {
             "colorbar": {
              "outlinewidth": 0,
              "ticks": ""
             }
            },
            "type": "scatter3d"
           }
          ],
          "scattercarpet": [
           {
            "marker": {
             "colorbar": {
              "outlinewidth": 0,
              "ticks": ""
             }
            },
            "type": "scattercarpet"
           }
          ],
          "scattergeo": [
           {
            "marker": {
             "colorbar": {
              "outlinewidth": 0,
              "ticks": ""
             }
            },
            "type": "scattergeo"
           }
          ],
          "scattergl": [
           {
            "marker": {
             "colorbar": {
              "outlinewidth": 0,
              "ticks": ""
             }
            },
            "type": "scattergl"
           }
          ],
          "scattermapbox": [
           {
            "marker": {
             "colorbar": {
              "outlinewidth": 0,
              "ticks": ""
             }
            },
            "type": "scattermapbox"
           }
          ],
          "scatterpolar": [
           {
            "marker": {
             "colorbar": {
              "outlinewidth": 0,
              "ticks": ""
             }
            },
            "type": "scatterpolar"
           }
          ],
          "scatterpolargl": [
           {
            "marker": {
             "colorbar": {
              "outlinewidth": 0,
              "ticks": ""
             }
            },
            "type": "scatterpolargl"
           }
          ],
          "scatterternary": [
           {
            "marker": {
             "colorbar": {
              "outlinewidth": 0,
              "ticks": ""
             }
            },
            "type": "scatterternary"
           }
          ],
          "surface": [
           {
            "colorbar": {
             "outlinewidth": 0,
             "ticks": ""
            },
            "colorscale": [
             [
              0,
              "#0d0887"
             ],
             [
              0.1111111111111111,
              "#46039f"
             ],
             [
              0.2222222222222222,
              "#7201a8"
             ],
             [
              0.3333333333333333,
              "#9c179e"
             ],
             [
              0.4444444444444444,
              "#bd3786"
             ],
             [
              0.5555555555555556,
              "#d8576b"
             ],
             [
              0.6666666666666666,
              "#ed7953"
             ],
             [
              0.7777777777777778,
              "#fb9f3a"
             ],
             [
              0.8888888888888888,
              "#fdca26"
             ],
             [
              1,
              "#f0f921"
             ]
            ],
            "type": "surface"
           }
          ],
          "table": [
           {
            "cells": {
             "fill": {
              "color": "#EBF0F8"
             },
             "line": {
              "color": "white"
             }
            },
            "header": {
             "fill": {
              "color": "#C8D4E3"
             },
             "line": {
              "color": "white"
             }
            },
            "type": "table"
           }
          ]
         },
         "layout": {
          "annotationdefaults": {
           "arrowcolor": "#2a3f5f",
           "arrowhead": 0,
           "arrowwidth": 1
          },
          "coloraxis": {
           "colorbar": {
            "outlinewidth": 0,
            "ticks": ""
           }
          },
          "colorscale": {
           "diverging": [
            [
             0,
             "#8e0152"
            ],
            [
             0.1,
             "#c51b7d"
            ],
            [
             0.2,
             "#de77ae"
            ],
            [
             0.3,
             "#f1b6da"
            ],
            [
             0.4,
             "#fde0ef"
            ],
            [
             0.5,
             "#f7f7f7"
            ],
            [
             0.6,
             "#e6f5d0"
            ],
            [
             0.7,
             "#b8e186"
            ],
            [
             0.8,
             "#7fbc41"
            ],
            [
             0.9,
             "#4d9221"
            ],
            [
             1,
             "#276419"
            ]
           ],
           "sequential": [
            [
             0,
             "#0d0887"
            ],
            [
             0.1111111111111111,
             "#46039f"
            ],
            [
             0.2222222222222222,
             "#7201a8"
            ],
            [
             0.3333333333333333,
             "#9c179e"
            ],
            [
             0.4444444444444444,
             "#bd3786"
            ],
            [
             0.5555555555555556,
             "#d8576b"
            ],
            [
             0.6666666666666666,
             "#ed7953"
            ],
            [
             0.7777777777777778,
             "#fb9f3a"
            ],
            [
             0.8888888888888888,
             "#fdca26"
            ],
            [
             1,
             "#f0f921"
            ]
           ],
           "sequentialminus": [
            [
             0,
             "#0d0887"
            ],
            [
             0.1111111111111111,
             "#46039f"
            ],
            [
             0.2222222222222222,
             "#7201a8"
            ],
            [
             0.3333333333333333,
             "#9c179e"
            ],
            [
             0.4444444444444444,
             "#bd3786"
            ],
            [
             0.5555555555555556,
             "#d8576b"
            ],
            [
             0.6666666666666666,
             "#ed7953"
            ],
            [
             0.7777777777777778,
             "#fb9f3a"
            ],
            [
             0.8888888888888888,
             "#fdca26"
            ],
            [
             1,
             "#f0f921"
            ]
           ]
          },
          "colorway": [
           "#636efa",
           "#EF553B",
           "#00cc96",
           "#ab63fa",
           "#FFA15A",
           "#19d3f3",
           "#FF6692",
           "#B6E880",
           "#FF97FF",
           "#FECB52"
          ],
          "font": {
           "color": "#2a3f5f"
          },
          "geo": {
           "bgcolor": "white",
           "lakecolor": "white",
           "landcolor": "#E5ECF6",
           "showlakes": true,
           "showland": true,
           "subunitcolor": "white"
          },
          "hoverlabel": {
           "align": "left"
          },
          "hovermode": "closest",
          "mapbox": {
           "style": "light"
          },
          "paper_bgcolor": "white",
          "plot_bgcolor": "#E5ECF6",
          "polar": {
           "angularaxis": {
            "gridcolor": "white",
            "linecolor": "white",
            "ticks": ""
           },
           "bgcolor": "#E5ECF6",
           "radialaxis": {
            "gridcolor": "white",
            "linecolor": "white",
            "ticks": ""
           }
          },
          "scene": {
           "xaxis": {
            "backgroundcolor": "#E5ECF6",
            "gridcolor": "white",
            "gridwidth": 2,
            "linecolor": "white",
            "showbackground": true,
            "ticks": "",
            "zerolinecolor": "white"
           },
           "yaxis": {
            "backgroundcolor": "#E5ECF6",
            "gridcolor": "white",
            "gridwidth": 2,
            "linecolor": "white",
            "showbackground": true,
            "ticks": "",
            "zerolinecolor": "white"
           },
           "zaxis": {
            "backgroundcolor": "#E5ECF6",
            "gridcolor": "white",
            "gridwidth": 2,
            "linecolor": "white",
            "showbackground": true,
            "ticks": "",
            "zerolinecolor": "white"
           }
          },
          "shapedefaults": {
           "line": {
            "color": "#2a3f5f"
           }
          },
          "ternary": {
           "aaxis": {
            "gridcolor": "white",
            "linecolor": "white",
            "ticks": ""
           },
           "baxis": {
            "gridcolor": "white",
            "linecolor": "white",
            "ticks": ""
           },
           "bgcolor": "#E5ECF6",
           "caxis": {
            "gridcolor": "white",
            "linecolor": "white",
            "ticks": ""
           }
          },
          "title": {
           "x": 0.05
          },
          "xaxis": {
           "automargin": true,
           "gridcolor": "white",
           "linecolor": "white",
           "ticks": "",
           "title": {
            "standoff": 15
           },
           "zerolinecolor": "white",
           "zerolinewidth": 2
          },
          "yaxis": {
           "automargin": true,
           "gridcolor": "white",
           "linecolor": "white",
           "ticks": "",
           "title": {
            "standoff": 15
           },
           "zerolinecolor": "white",
           "zerolinewidth": 2
          }
         }
        },
        "title": {
         "font": {
          "color": "#4D5663"
         }
        },
        "xaxis": {
         "gridcolor": "#E1E5ED",
         "showgrid": true,
         "tickfont": {
          "color": "#4D5663"
         },
         "title": {
          "font": {
           "color": "#4D5663"
          },
          "text": ""
         },
         "zerolinecolor": "#E1E5ED"
        },
        "yaxis": {
         "gridcolor": "#E1E5ED",
         "showgrid": true,
         "tickfont": {
          "color": "#4D5663"
         },
         "title": {
          "font": {
           "color": "#4D5663"
          },
          "text": ""
         },
         "zerolinecolor": "#E1E5ED"
        }
       }
      },
      "text/html": [
       "<div>                            <div id=\"93b06ed4-ba04-4211-9eef-90549ffb0033\" class=\"plotly-graph-div\" style=\"height:525px; width:100%;\"></div>            <script type=\"text/javascript\">                require([\"plotly\"], function(Plotly) {                    window.PLOTLYENV=window.PLOTLYENV || {};\n",
       "                    window.PLOTLYENV.BASE_URL='https://plot.ly';                                    if (document.getElementById(\"93b06ed4-ba04-4211-9eef-90549ffb0033\")) {                    Plotly.newPlot(                        \"93b06ed4-ba04-4211-9eef-90549ffb0033\",                        [{\"colorscale\": [[0.0, \"rgb(255,255,229)\"], [0.125, \"rgb(247,252,185)\"], [0.25, \"rgb(217,240,163)\"], [0.375, \"rgb(173,221,142)\"], [0.5, \"rgb(120,198,121)\"], [0.625, \"rgb(65,171,93)\"], [0.75, \"rgb(35,132,67)\"], [0.875, \"rgb(0,104,55)\"], [1.0, \"rgb(0,69,41)\"]], \"type\": \"heatmap\", \"x\": [\"NO2 Mean\", \"O3 Mean\", \"SO2 Mean\", \"CO Mean\", \"AQI\"], \"y\": [\"NO2 Mean\", \"O3 Mean\", \"SO2 Mean\", \"CO Mean\", \"AQI\"], \"z\": [[1.0, -0.49697222231776245, 0.3484662131084139, 0.7244793580864697, 0.3766261470534983], [-0.49697222231776245, 1.0, -0.1203817959381454, -0.4555289904145647, 0.4128275378311218], [0.3484662131084139, -0.1203817959381454, 1.0, 0.34640248106447535, 0.16518284680110798], [0.7244793580864697, -0.4555289904145647, 0.34640248106447535, 1.0, 0.23807864571728993], [0.3766261470534983, 0.4128275378311218, 0.16518284680110798, 0.23807864571728993, 1.0]], \"zmax\": 1.0, \"zmin\": -0.49697222231776245}],                        {\"legend\": {\"bgcolor\": \"#FFFFFF\", \"font\": {\"color\": \"#4D5663\"}}, \"paper_bgcolor\": \"#FFFFFF\", \"plot_bgcolor\": \"#FFFFFF\", \"template\": {\"data\": {\"bar\": [{\"error_x\": {\"color\": \"#2a3f5f\"}, \"error_y\": {\"color\": \"#2a3f5f\"}, \"marker\": {\"line\": {\"color\": \"#E5ECF6\", \"width\": 0.5}}, \"type\": \"bar\"}], \"barpolar\": [{\"marker\": {\"line\": {\"color\": \"#E5ECF6\", \"width\": 0.5}}, \"type\": \"barpolar\"}], \"carpet\": [{\"aaxis\": {\"endlinecolor\": \"#2a3f5f\", \"gridcolor\": \"white\", \"linecolor\": \"white\", \"minorgridcolor\": \"white\", \"startlinecolor\": \"#2a3f5f\"}, \"baxis\": {\"endlinecolor\": \"#2a3f5f\", \"gridcolor\": \"white\", \"linecolor\": \"white\", \"minorgridcolor\": \"white\", \"startlinecolor\": \"#2a3f5f\"}, \"type\": \"carpet\"}], \"choropleth\": [{\"colorbar\": {\"outlinewidth\": 0, \"ticks\": \"\"}, \"type\": \"choropleth\"}], \"contour\": [{\"colorbar\": {\"outlinewidth\": 0, \"ticks\": \"\"}, \"colorscale\": [[0.0, \"#0d0887\"], [0.1111111111111111, \"#46039f\"], [0.2222222222222222, \"#7201a8\"], [0.3333333333333333, \"#9c179e\"], [0.4444444444444444, \"#bd3786\"], [0.5555555555555556, \"#d8576b\"], [0.6666666666666666, \"#ed7953\"], [0.7777777777777778, \"#fb9f3a\"], [0.8888888888888888, \"#fdca26\"], [1.0, \"#f0f921\"]], \"type\": \"contour\"}], \"contourcarpet\": [{\"colorbar\": {\"outlinewidth\": 0, \"ticks\": \"\"}, \"type\": \"contourcarpet\"}], \"heatmap\": [{\"colorbar\": {\"outlinewidth\": 0, \"ticks\": \"\"}, \"colorscale\": [[0.0, \"#0d0887\"], [0.1111111111111111, \"#46039f\"], [0.2222222222222222, \"#7201a8\"], [0.3333333333333333, \"#9c179e\"], [0.4444444444444444, \"#bd3786\"], [0.5555555555555556, \"#d8576b\"], [0.6666666666666666, \"#ed7953\"], [0.7777777777777778, \"#fb9f3a\"], [0.8888888888888888, \"#fdca26\"], [1.0, \"#f0f921\"]], \"type\": \"heatmap\"}], \"heatmapgl\": [{\"colorbar\": {\"outlinewidth\": 0, \"ticks\": \"\"}, \"colorscale\": [[0.0, \"#0d0887\"], [0.1111111111111111, \"#46039f\"], [0.2222222222222222, \"#7201a8\"], [0.3333333333333333, \"#9c179e\"], [0.4444444444444444, \"#bd3786\"], [0.5555555555555556, \"#d8576b\"], [0.6666666666666666, \"#ed7953\"], [0.7777777777777778, \"#fb9f3a\"], [0.8888888888888888, \"#fdca26\"], [1.0, \"#f0f921\"]], \"type\": \"heatmapgl\"}], \"histogram\": [{\"marker\": {\"colorbar\": {\"outlinewidth\": 0, \"ticks\": \"\"}}, \"type\": \"histogram\"}], \"histogram2d\": [{\"colorbar\": {\"outlinewidth\": 0, \"ticks\": \"\"}, \"colorscale\": [[0.0, \"#0d0887\"], [0.1111111111111111, \"#46039f\"], [0.2222222222222222, \"#7201a8\"], [0.3333333333333333, \"#9c179e\"], [0.4444444444444444, \"#bd3786\"], [0.5555555555555556, \"#d8576b\"], [0.6666666666666666, \"#ed7953\"], [0.7777777777777778, \"#fb9f3a\"], [0.8888888888888888, \"#fdca26\"], [1.0, \"#f0f921\"]], \"type\": \"histogram2d\"}], \"histogram2dcontour\": [{\"colorbar\": {\"outlinewidth\": 0, \"ticks\": \"\"}, \"colorscale\": [[0.0, \"#0d0887\"], [0.1111111111111111, \"#46039f\"], [0.2222222222222222, \"#7201a8\"], [0.3333333333333333, \"#9c179e\"], [0.4444444444444444, \"#bd3786\"], [0.5555555555555556, \"#d8576b\"], [0.6666666666666666, \"#ed7953\"], [0.7777777777777778, \"#fb9f3a\"], [0.8888888888888888, \"#fdca26\"], [1.0, \"#f0f921\"]], \"type\": \"histogram2dcontour\"}], \"mesh3d\": [{\"colorbar\": {\"outlinewidth\": 0, \"ticks\": \"\"}, \"type\": \"mesh3d\"}], \"parcoords\": [{\"line\": {\"colorbar\": {\"outlinewidth\": 0, \"ticks\": \"\"}}, \"type\": \"parcoords\"}], \"pie\": [{\"automargin\": true, \"type\": \"pie\"}], \"scatter\": [{\"marker\": {\"colorbar\": {\"outlinewidth\": 0, \"ticks\": \"\"}}, \"type\": \"scatter\"}], \"scatter3d\": [{\"line\": {\"colorbar\": {\"outlinewidth\": 0, \"ticks\": \"\"}}, \"marker\": {\"colorbar\": {\"outlinewidth\": 0, \"ticks\": \"\"}}, \"type\": \"scatter3d\"}], \"scattercarpet\": [{\"marker\": {\"colorbar\": {\"outlinewidth\": 0, \"ticks\": \"\"}}, \"type\": \"scattercarpet\"}], \"scattergeo\": [{\"marker\": {\"colorbar\": {\"outlinewidth\": 0, \"ticks\": \"\"}}, \"type\": \"scattergeo\"}], \"scattergl\": [{\"marker\": {\"colorbar\": {\"outlinewidth\": 0, \"ticks\": \"\"}}, \"type\": \"scattergl\"}], \"scattermapbox\": [{\"marker\": {\"colorbar\": {\"outlinewidth\": 0, \"ticks\": \"\"}}, \"type\": \"scattermapbox\"}], \"scatterpolar\": [{\"marker\": {\"colorbar\": {\"outlinewidth\": 0, \"ticks\": \"\"}}, \"type\": \"scatterpolar\"}], \"scatterpolargl\": [{\"marker\": {\"colorbar\": {\"outlinewidth\": 0, \"ticks\": \"\"}}, \"type\": \"scatterpolargl\"}], \"scatterternary\": [{\"marker\": {\"colorbar\": {\"outlinewidth\": 0, \"ticks\": \"\"}}, \"type\": \"scatterternary\"}], \"surface\": [{\"colorbar\": {\"outlinewidth\": 0, \"ticks\": \"\"}, \"colorscale\": [[0.0, \"#0d0887\"], [0.1111111111111111, \"#46039f\"], [0.2222222222222222, \"#7201a8\"], [0.3333333333333333, \"#9c179e\"], [0.4444444444444444, \"#bd3786\"], [0.5555555555555556, \"#d8576b\"], [0.6666666666666666, \"#ed7953\"], [0.7777777777777778, \"#fb9f3a\"], [0.8888888888888888, \"#fdca26\"], [1.0, \"#f0f921\"]], \"type\": \"surface\"}], \"table\": [{\"cells\": {\"fill\": {\"color\": \"#EBF0F8\"}, \"line\": {\"color\": \"white\"}}, \"header\": {\"fill\": {\"color\": \"#C8D4E3\"}, \"line\": {\"color\": \"white\"}}, \"type\": \"table\"}]}, \"layout\": {\"annotationdefaults\": {\"arrowcolor\": \"#2a3f5f\", \"arrowhead\": 0, \"arrowwidth\": 1}, \"coloraxis\": {\"colorbar\": {\"outlinewidth\": 0, \"ticks\": \"\"}}, \"colorscale\": {\"diverging\": [[0, \"#8e0152\"], [0.1, \"#c51b7d\"], [0.2, \"#de77ae\"], [0.3, \"#f1b6da\"], [0.4, \"#fde0ef\"], [0.5, \"#f7f7f7\"], [0.6, \"#e6f5d0\"], [0.7, \"#b8e186\"], [0.8, \"#7fbc41\"], [0.9, \"#4d9221\"], [1, \"#276419\"]], \"sequential\": [[0.0, \"#0d0887\"], [0.1111111111111111, \"#46039f\"], [0.2222222222222222, \"#7201a8\"], [0.3333333333333333, \"#9c179e\"], [0.4444444444444444, \"#bd3786\"], [0.5555555555555556, \"#d8576b\"], [0.6666666666666666, \"#ed7953\"], [0.7777777777777778, \"#fb9f3a\"], [0.8888888888888888, \"#fdca26\"], [1.0, \"#f0f921\"]], \"sequentialminus\": [[0.0, \"#0d0887\"], [0.1111111111111111, \"#46039f\"], [0.2222222222222222, \"#7201a8\"], [0.3333333333333333, \"#9c179e\"], [0.4444444444444444, \"#bd3786\"], [0.5555555555555556, \"#d8576b\"], [0.6666666666666666, \"#ed7953\"], [0.7777777777777778, \"#fb9f3a\"], [0.8888888888888888, \"#fdca26\"], [1.0, \"#f0f921\"]]}, \"colorway\": [\"#636efa\", \"#EF553B\", \"#00cc96\", \"#ab63fa\", \"#FFA15A\", \"#19d3f3\", \"#FF6692\", \"#B6E880\", \"#FF97FF\", \"#FECB52\"], \"font\": {\"color\": \"#2a3f5f\"}, \"geo\": {\"bgcolor\": \"white\", \"lakecolor\": \"white\", \"landcolor\": \"#E5ECF6\", \"showlakes\": true, \"showland\": true, \"subunitcolor\": \"white\"}, \"hoverlabel\": {\"align\": \"left\"}, \"hovermode\": \"closest\", \"mapbox\": {\"style\": \"light\"}, \"paper_bgcolor\": \"white\", \"plot_bgcolor\": \"#E5ECF6\", \"polar\": {\"angularaxis\": {\"gridcolor\": \"white\", \"linecolor\": \"white\", \"ticks\": \"\"}, \"bgcolor\": \"#E5ECF6\", \"radialaxis\": {\"gridcolor\": \"white\", \"linecolor\": \"white\", \"ticks\": \"\"}}, \"scene\": {\"xaxis\": {\"backgroundcolor\": \"#E5ECF6\", \"gridcolor\": \"white\", \"gridwidth\": 2, \"linecolor\": \"white\", \"showbackground\": true, \"ticks\": \"\", \"zerolinecolor\": \"white\"}, \"yaxis\": {\"backgroundcolor\": \"#E5ECF6\", \"gridcolor\": \"white\", \"gridwidth\": 2, \"linecolor\": \"white\", \"showbackground\": true, \"ticks\": \"\", \"zerolinecolor\": \"white\"}, \"zaxis\": {\"backgroundcolor\": \"#E5ECF6\", \"gridcolor\": \"white\", \"gridwidth\": 2, \"linecolor\": \"white\", \"showbackground\": true, \"ticks\": \"\", \"zerolinecolor\": \"white\"}}, \"shapedefaults\": {\"line\": {\"color\": \"#2a3f5f\"}}, \"ternary\": {\"aaxis\": {\"gridcolor\": \"white\", \"linecolor\": \"white\", \"ticks\": \"\"}, \"baxis\": {\"gridcolor\": \"white\", \"linecolor\": \"white\", \"ticks\": \"\"}, \"bgcolor\": \"#E5ECF6\", \"caxis\": {\"gridcolor\": \"white\", \"linecolor\": \"white\", \"ticks\": \"\"}}, \"title\": {\"x\": 0.05}, \"xaxis\": {\"automargin\": true, \"gridcolor\": \"white\", \"linecolor\": \"white\", \"ticks\": \"\", \"title\": {\"standoff\": 15}, \"zerolinecolor\": \"white\", \"zerolinewidth\": 2}, \"yaxis\": {\"automargin\": true, \"gridcolor\": \"white\", \"linecolor\": \"white\", \"ticks\": \"\", \"title\": {\"standoff\": 15}, \"zerolinecolor\": \"white\", \"zerolinewidth\": 2}}}, \"title\": {\"font\": {\"color\": \"#4D5663\"}}, \"xaxis\": {\"gridcolor\": \"#E1E5ED\", \"showgrid\": true, \"tickfont\": {\"color\": \"#4D5663\"}, \"title\": {\"font\": {\"color\": \"#4D5663\"}, \"text\": \"\"}, \"zerolinecolor\": \"#E1E5ED\"}, \"yaxis\": {\"gridcolor\": \"#E1E5ED\", \"showgrid\": true, \"tickfont\": {\"color\": \"#4D5663\"}, \"title\": {\"font\": {\"color\": \"#4D5663\"}, \"text\": \"\"}, \"zerolinecolor\": \"#E1E5ED\"}},                        {\"showLink\": true, \"linkText\": \"Export to plot.ly\", \"plotlyServerURL\": \"https://plot.ly\", \"responsive\": true}                    ).then(function(){\n",
       "                            \n",
       "var gd = document.getElementById('93b06ed4-ba04-4211-9eef-90549ffb0033');\n",
       "var x = new MutationObserver(function (mutations, observer) {{\n",
       "        var display = window.getComputedStyle(gd).display;\n",
       "        if (!display || display === 'none') {{\n",
       "            console.log([gd, 'removed!']);\n",
       "            Plotly.purge(gd);\n",
       "            observer.disconnect();\n",
       "        }}\n",
       "}});\n",
       "\n",
       "// Listen for the removal of the full notebook cells\n",
       "var notebookContainer = gd.closest('#notebook-container');\n",
       "if (notebookContainer) {{\n",
       "    x.observe(notebookContainer, {childList: true});\n",
       "}}\n",
       "\n",
       "// Listen for the clearing of the current output cell\n",
       "var outputEl = gd.closest('.output');\n",
       "if (outputEl) {{\n",
       "    x.observe(outputEl, {childList: true});\n",
       "}}\n",
       "\n",
       "                        })                };                });            </script>        </div>"
      ]
     },
     "metadata": {},
     "output_type": "display_data"
    }
   ],
   "source": [
    "aqi_correlation_matrix.iplot(kind='heatmap', colorscale='ylgn', theme='white')"
   ]
  },
  {
   "cell_type": "markdown",
   "metadata": {},
   "source": [
    "我们发现， 和总体AQI相关性最高的污染物分别是：O3(0.413)， NO2(0.377)， CO(0.238)， SO2(0.165)， 即O3和NO2为造成AQI上升的两种主要污染物"
   ]
  },
  {
   "cell_type": "markdown",
   "metadata": {},
   "source": [
    " "
   ]
  },
  {
   "cell_type": "markdown",
   "metadata": {},
   "source": [
    "### 5. 结论"
   ]
  },
  {
   "cell_type": "markdown",
   "metadata": {},
   "source": [
    "在2000-2016年间， NO2、SO2、CO三种污染物的浓度都呈下降趋势， 只有O3不降反升； 而四种污染物中， O3和NO2为造成AQI上升的两种主要污染物"
   ]
  },
  {
   "cell_type": "code",
   "execution_count": null,
   "metadata": {},
   "outputs": [],
   "source": []
  }
 ],
 "metadata": {
  "kernelspec": {
   "display_name": "Python 3",
   "language": "python",
   "name": "python3"
  },
  "language_info": {
   "codemirror_mode": {
    "name": "ipython",
    "version": 3
   },
   "file_extension": ".py",
   "mimetype": "text/x-python",
   "name": "python",
   "nbconvert_exporter": "python",
   "pygments_lexer": "ipython3",
   "version": "3.7.9"
  },
  "toc": {
   "base_numbering": 1,
   "nav_menu": {},
   "number_sections": false,
   "sideBar": true,
   "skip_h1_title": false,
   "title_cell": "Table of Contents",
   "title_sidebar": "Contents",
   "toc_cell": false,
   "toc_position": {
    "height": "calc(100% - 180px)",
    "left": "10px",
    "top": "150px",
    "width": "339.594px"
   },
   "toc_section_display": true,
   "toc_window_display": true
  }
 },
 "nbformat": 4,
 "nbformat_minor": 4
}
