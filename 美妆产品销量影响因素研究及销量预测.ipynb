{
 "cells": [
  {
   "cell_type": "code",
   "execution_count": 1,
   "id": "33321b13",
   "metadata": {},
   "outputs": [
    {
     "data": {
      "text/html": [
       "        <script type=\"text/javascript\">\n",
       "        window.PlotlyConfig = {MathJaxConfig: 'local'};\n",
       "        if (window.MathJax) {MathJax.Hub.Config({SVG: {font: \"STIX-Web\"}});}\n",
       "        if (typeof require !== 'undefined') {\n",
       "        require.undef(\"plotly\");\n",
       "        requirejs.config({\n",
       "            paths: {\n",
       "                'plotly': ['https://cdn.plot.ly/plotly-latest.min']\n",
       "            }\n",
       "        });\n",
       "        require(['plotly'], function(Plotly) {\n",
       "            window._Plotly = Plotly;\n",
       "        });\n",
       "        }\n",
       "        </script>\n",
       "        "
      ]
     },
     "metadata": {},
     "output_type": "display_data"
    },
    {
     "data": {
      "text/html": [
       "        <script type=\"text/javascript\">\n",
       "        window.PlotlyConfig = {MathJaxConfig: 'local'};\n",
       "        if (window.MathJax) {MathJax.Hub.Config({SVG: {font: \"STIX-Web\"}});}\n",
       "        if (typeof require !== 'undefined') {\n",
       "        require.undef(\"plotly\");\n",
       "        requirejs.config({\n",
       "            paths: {\n",
       "                'plotly': ['https://cdn.plot.ly/plotly-latest.min']\n",
       "            }\n",
       "        });\n",
       "        require(['plotly'], function(Plotly) {\n",
       "            window._Plotly = Plotly;\n",
       "        });\n",
       "        }\n",
       "        </script>\n",
       "        "
      ]
     },
     "metadata": {},
     "output_type": "display_data"
    }
   ],
   "source": [
    "import os\n",
    "import numpy as np\n",
    "import pandas as pd\n",
    "import seaborn as sns\n",
    "import cufflinks as cf\n",
    "import matplotlib.pyplot as plt\n",
    "from sklearn.metrics import mean_squared_error\n",
    "from sklearn.ensemble import RandomForestRegressor\n",
    "from sklearn.model_selection import train_test_split, GridSearchCV\n",
    "from sklearn.metrics import mean_squared_error\n",
    "\n",
    "cf.set_config_file(offline=True)\n",
    "\n",
    "plt.rcParams['font.sans-serif'] = ['SimHei']  # 用来正常显示中文标签\n",
    "plt.rcParams['axes.unicode_minus'] = False # 用来正常显示负号"
   ]
  },
  {
   "cell_type": "markdown",
   "id": "e106d553",
   "metadata": {},
   "source": [
    "## 数据读取"
   ]
  },
  {
   "cell_type": "code",
   "execution_count": 2,
   "id": "394a534a",
   "metadata": {},
   "outputs": [],
   "source": [
    "path = r\"D:\\新建文件夹 (2)\\WeChat Files\\wxid_r5nb2w32sc5q12\\FileStorage\\File\\2021-05\\双十一淘宝美妆数据.csv\""
   ]
  },
  {
   "cell_type": "code",
   "execution_count": 3,
   "id": "e96d0c4f",
   "metadata": {},
   "outputs": [],
   "source": [
    "data = pd.read_csv(path, index_col=0, parse_dates=True)"
   ]
  },
  {
   "cell_type": "code",
   "execution_count": 4,
   "id": "f36a2c9a",
   "metadata": {},
   "outputs": [],
   "source": [
    "data = data.loc['2016-11-14'].copy()\n",
    "data.reset_index(drop=True, inplace=True)"
   ]
  },
  {
   "cell_type": "code",
   "execution_count": 5,
   "id": "cf874034",
   "metadata": {},
   "outputs": [],
   "source": [
    "data.columns = ['id', '标题', '价格', '销量', '评论数', '品牌']"
   ]
  },
  {
   "cell_type": "code",
   "execution_count": 6,
   "id": "1161e1c9",
   "metadata": {},
   "outputs": [
    {
     "data": {
      "text/html": [
       "<div>\n",
       "<style scoped>\n",
       "    .dataframe tbody tr th:only-of-type {\n",
       "        vertical-align: middle;\n",
       "    }\n",
       "\n",
       "    .dataframe tbody tr th {\n",
       "        vertical-align: top;\n",
       "    }\n",
       "\n",
       "    .dataframe thead th {\n",
       "        text-align: right;\n",
       "    }\n",
       "</style>\n",
       "<table border=\"1\" class=\"dataframe\">\n",
       "  <thead>\n",
       "    <tr style=\"text-align: right;\">\n",
       "      <th></th>\n",
       "      <th>id</th>\n",
       "      <th>标题</th>\n",
       "      <th>价格</th>\n",
       "      <th>销量</th>\n",
       "      <th>评论数</th>\n",
       "      <th>品牌</th>\n",
       "    </tr>\n",
       "  </thead>\n",
       "  <tbody>\n",
       "    <tr>\n",
       "      <th>0</th>\n",
       "      <td>A18164178225</td>\n",
       "      <td>CHANDO/自然堂 雪域精粹纯粹滋润霜50g 补水保湿 滋润水润面霜</td>\n",
       "      <td>139.0</td>\n",
       "      <td>26719.0</td>\n",
       "      <td>2704.0</td>\n",
       "      <td>自然堂</td>\n",
       "    </tr>\n",
       "    <tr>\n",
       "      <th>1</th>\n",
       "      <td>A18177105952</td>\n",
       "      <td>CHANDO/自然堂凝时鲜颜肌活乳液120ML 淡化细纹补水滋润专柜正品</td>\n",
       "      <td>194.0</td>\n",
       "      <td>8122.0</td>\n",
       "      <td>1492.0</td>\n",
       "      <td>自然堂</td>\n",
       "    </tr>\n",
       "    <tr>\n",
       "      <th>2</th>\n",
       "      <td>A18177226992</td>\n",
       "      <td>CHANDO/自然堂活泉保湿修护精华水（滋润型135ml 补水控油爽肤水</td>\n",
       "      <td>99.0</td>\n",
       "      <td>12668.0</td>\n",
       "      <td>589.0</td>\n",
       "      <td>自然堂</td>\n",
       "    </tr>\n",
       "    <tr>\n",
       "      <th>3</th>\n",
       "      <td>A18178033846</td>\n",
       "      <td>CHANDO/自然堂 男士劲爽控油洁面膏 100g 深层清洁  男士洗面奶</td>\n",
       "      <td>38.0</td>\n",
       "      <td>25805.0</td>\n",
       "      <td>4287.0</td>\n",
       "      <td>自然堂</td>\n",
       "    </tr>\n",
       "    <tr>\n",
       "      <th>4</th>\n",
       "      <td>A18178045259</td>\n",
       "      <td>CHANDO/自然堂雪域精粹纯粹滋润霜（清爽型）50g补水保湿滋润霜</td>\n",
       "      <td>139.0</td>\n",
       "      <td>5196.0</td>\n",
       "      <td>618.0</td>\n",
       "      <td>自然堂</td>\n",
       "    </tr>\n",
       "  </tbody>\n",
       "</table>\n",
       "</div>"
      ],
      "text/plain": [
       "             id                                     标题     价格       销量  \\\n",
       "0  A18164178225    CHANDO/自然堂 雪域精粹纯粹滋润霜50g 补水保湿 滋润水润面霜  139.0  26719.0   \n",
       "1  A18177105952   CHANDO/自然堂凝时鲜颜肌活乳液120ML 淡化细纹补水滋润专柜正品  194.0   8122.0   \n",
       "2  A18177226992   CHANDO/自然堂活泉保湿修护精华水（滋润型135ml 补水控油爽肤水   99.0  12668.0   \n",
       "3  A18178033846  CHANDO/自然堂 男士劲爽控油洁面膏 100g 深层清洁  男士洗面奶   38.0  25805.0   \n",
       "4  A18178045259     CHANDO/自然堂雪域精粹纯粹滋润霜（清爽型）50g补水保湿滋润霜  139.0   5196.0   \n",
       "\n",
       "      评论数   品牌  \n",
       "0  2704.0  自然堂  \n",
       "1  1492.0  自然堂  \n",
       "2   589.0  自然堂  \n",
       "3  4287.0  自然堂  \n",
       "4   618.0  自然堂  "
      ]
     },
     "execution_count": 6,
     "metadata": {},
     "output_type": "execute_result"
    }
   ],
   "source": [
    "data.head()"
   ]
  },
  {
   "cell_type": "markdown",
   "id": "a6374a25",
   "metadata": {},
   "source": [
    " "
   ]
  },
  {
   "cell_type": "markdown",
   "id": "e3022914",
   "metadata": {},
   "source": [
    "## 数据清洗与预处理"
   ]
  },
  {
   "cell_type": "code",
   "execution_count": 7,
   "id": "118a1a70",
   "metadata": {},
   "outputs": [
    {
     "data": {
      "text/plain": [
       "id       0\n",
       "标题       0\n",
       "价格       0\n",
       "销量     155\n",
       "评论数    155\n",
       "品牌       0\n",
       "dtype: int64"
      ]
     },
     "execution_count": 7,
     "metadata": {},
     "output_type": "execute_result"
    }
   ],
   "source": [
    "data.isnull().sum()  # 检查缺失"
   ]
  },
  {
   "cell_type": "code",
   "execution_count": 8,
   "id": "c2e18938",
   "metadata": {},
   "outputs": [],
   "source": [
    "data.dropna(inplace=True) # 去除包含缺失值的记录"
   ]
  },
  {
   "cell_type": "code",
   "execution_count": 9,
   "id": "a7b2ac6b",
   "metadata": {},
   "outputs": [
    {
     "data": {
      "text/plain": [
       "1"
      ]
     },
     "execution_count": 9,
     "metadata": {},
     "output_type": "execute_result"
    }
   ],
   "source": [
    "data.duplicated().sum()  # 检查重复"
   ]
  },
  {
   "cell_type": "code",
   "execution_count": 10,
   "id": "797344c6",
   "metadata": {},
   "outputs": [],
   "source": [
    "data.drop_duplicates(inplace=True) # 去除重复记录"
   ]
  },
  {
   "cell_type": "code",
   "execution_count": 11,
   "id": "f38c9fa1",
   "metadata": {},
   "outputs": [],
   "source": [
    "data = pd.get_dummies(data, columns=['品牌']) # 对品牌进行独热编码转换"
   ]
  },
  {
   "cell_type": "code",
   "execution_count": 12,
   "id": "c2a723d9",
   "metadata": {},
   "outputs": [],
   "source": [
    "# 新增关键词特征\n",
    "data['功效_补水保湿'] = data['标题'].str.contains('补水|保湿').astype(int)\n",
    "data['功效_淡化细纹'] = data['标题'].str.contains('淡化细纹').astype(int)\n",
    "data['功效_美白'] = data['标题'].str.contains('美白').astype(int)\n",
    "data['功效_控油'] = data['标题'].str.contains('控油').astype(int)\n",
    "data['功效_清洁'] = data['标题'].str.contains('清洁').astype(int)\n",
    "data['功效_去角质'] = data['标题'].str.contains('去角质').astype(int)\n",
    "data['功效_防晒'] = data['标题'].str.contains('防晒').astype(int)"
   ]
  },
  {
   "cell_type": "code",
   "execution_count": 13,
   "id": "05705109",
   "metadata": {},
   "outputs": [
    {
     "data": {
      "text/html": [
       "<div>\n",
       "<style scoped>\n",
       "    .dataframe tbody tr th:only-of-type {\n",
       "        vertical-align: middle;\n",
       "    }\n",
       "\n",
       "    .dataframe tbody tr th {\n",
       "        vertical-align: top;\n",
       "    }\n",
       "\n",
       "    .dataframe thead th {\n",
       "        text-align: right;\n",
       "    }\n",
       "</style>\n",
       "<table border=\"1\" class=\"dataframe\">\n",
       "  <thead>\n",
       "    <tr style=\"text-align: right;\">\n",
       "      <th></th>\n",
       "      <th>id</th>\n",
       "      <th>标题</th>\n",
       "      <th>价格</th>\n",
       "      <th>销量</th>\n",
       "      <th>评论数</th>\n",
       "      <th>品牌_佰草集</th>\n",
       "      <th>品牌_倩碧</th>\n",
       "      <th>品牌_兰芝</th>\n",
       "      <th>品牌_兰蔻</th>\n",
       "      <th>品牌_妮维雅</th>\n",
       "      <th>...</th>\n",
       "      <th>品牌_雅漾</th>\n",
       "      <th>品牌_雅诗兰黛</th>\n",
       "      <th>品牌_雪花秀</th>\n",
       "      <th>功效_补水保湿</th>\n",
       "      <th>功效_淡化细纹</th>\n",
       "      <th>功效_美白</th>\n",
       "      <th>功效_控油</th>\n",
       "      <th>功效_清洁</th>\n",
       "      <th>功效_去角质</th>\n",
       "      <th>功效_防晒</th>\n",
       "    </tr>\n",
       "  </thead>\n",
       "  <tbody>\n",
       "    <tr>\n",
       "      <th>0</th>\n",
       "      <td>A18164178225</td>\n",
       "      <td>CHANDO/自然堂 雪域精粹纯粹滋润霜50g 补水保湿 滋润水润面霜</td>\n",
       "      <td>139.0</td>\n",
       "      <td>26719.0</td>\n",
       "      <td>2704.0</td>\n",
       "      <td>0</td>\n",
       "      <td>0</td>\n",
       "      <td>0</td>\n",
       "      <td>0</td>\n",
       "      <td>0</td>\n",
       "      <td>...</td>\n",
       "      <td>0</td>\n",
       "      <td>0</td>\n",
       "      <td>0</td>\n",
       "      <td>1</td>\n",
       "      <td>0</td>\n",
       "      <td>0</td>\n",
       "      <td>0</td>\n",
       "      <td>0</td>\n",
       "      <td>0</td>\n",
       "      <td>0</td>\n",
       "    </tr>\n",
       "    <tr>\n",
       "      <th>1</th>\n",
       "      <td>A18177105952</td>\n",
       "      <td>CHANDO/自然堂凝时鲜颜肌活乳液120ML 淡化细纹补水滋润专柜正品</td>\n",
       "      <td>194.0</td>\n",
       "      <td>8122.0</td>\n",
       "      <td>1492.0</td>\n",
       "      <td>0</td>\n",
       "      <td>0</td>\n",
       "      <td>0</td>\n",
       "      <td>0</td>\n",
       "      <td>0</td>\n",
       "      <td>...</td>\n",
       "      <td>0</td>\n",
       "      <td>0</td>\n",
       "      <td>0</td>\n",
       "      <td>1</td>\n",
       "      <td>1</td>\n",
       "      <td>0</td>\n",
       "      <td>0</td>\n",
       "      <td>0</td>\n",
       "      <td>0</td>\n",
       "      <td>0</td>\n",
       "    </tr>\n",
       "    <tr>\n",
       "      <th>2</th>\n",
       "      <td>A18177226992</td>\n",
       "      <td>CHANDO/自然堂活泉保湿修护精华水（滋润型135ml 补水控油爽肤水</td>\n",
       "      <td>99.0</td>\n",
       "      <td>12668.0</td>\n",
       "      <td>589.0</td>\n",
       "      <td>0</td>\n",
       "      <td>0</td>\n",
       "      <td>0</td>\n",
       "      <td>0</td>\n",
       "      <td>0</td>\n",
       "      <td>...</td>\n",
       "      <td>0</td>\n",
       "      <td>0</td>\n",
       "      <td>0</td>\n",
       "      <td>1</td>\n",
       "      <td>0</td>\n",
       "      <td>0</td>\n",
       "      <td>1</td>\n",
       "      <td>0</td>\n",
       "      <td>0</td>\n",
       "      <td>0</td>\n",
       "    </tr>\n",
       "    <tr>\n",
       "      <th>3</th>\n",
       "      <td>A18178033846</td>\n",
       "      <td>CHANDO/自然堂 男士劲爽控油洁面膏 100g 深层清洁  男士洗面奶</td>\n",
       "      <td>38.0</td>\n",
       "      <td>25805.0</td>\n",
       "      <td>4287.0</td>\n",
       "      <td>0</td>\n",
       "      <td>0</td>\n",
       "      <td>0</td>\n",
       "      <td>0</td>\n",
       "      <td>0</td>\n",
       "      <td>...</td>\n",
       "      <td>0</td>\n",
       "      <td>0</td>\n",
       "      <td>0</td>\n",
       "      <td>0</td>\n",
       "      <td>0</td>\n",
       "      <td>0</td>\n",
       "      <td>1</td>\n",
       "      <td>1</td>\n",
       "      <td>0</td>\n",
       "      <td>0</td>\n",
       "    </tr>\n",
       "    <tr>\n",
       "      <th>4</th>\n",
       "      <td>A18178045259</td>\n",
       "      <td>CHANDO/自然堂雪域精粹纯粹滋润霜（清爽型）50g补水保湿滋润霜</td>\n",
       "      <td>139.0</td>\n",
       "      <td>5196.0</td>\n",
       "      <td>618.0</td>\n",
       "      <td>0</td>\n",
       "      <td>0</td>\n",
       "      <td>0</td>\n",
       "      <td>0</td>\n",
       "      <td>0</td>\n",
       "      <td>...</td>\n",
       "      <td>0</td>\n",
       "      <td>0</td>\n",
       "      <td>0</td>\n",
       "      <td>1</td>\n",
       "      <td>0</td>\n",
       "      <td>0</td>\n",
       "      <td>0</td>\n",
       "      <td>0</td>\n",
       "      <td>0</td>\n",
       "      <td>0</td>\n",
       "    </tr>\n",
       "  </tbody>\n",
       "</table>\n",
       "<p>5 rows × 31 columns</p>\n",
       "</div>"
      ],
      "text/plain": [
       "             id                                     标题     价格       销量  \\\n",
       "0  A18164178225    CHANDO/自然堂 雪域精粹纯粹滋润霜50g 补水保湿 滋润水润面霜  139.0  26719.0   \n",
       "1  A18177105952   CHANDO/自然堂凝时鲜颜肌活乳液120ML 淡化细纹补水滋润专柜正品  194.0   8122.0   \n",
       "2  A18177226992   CHANDO/自然堂活泉保湿修护精华水（滋润型135ml 补水控油爽肤水   99.0  12668.0   \n",
       "3  A18178033846  CHANDO/自然堂 男士劲爽控油洁面膏 100g 深层清洁  男士洗面奶   38.0  25805.0   \n",
       "4  A18178045259     CHANDO/自然堂雪域精粹纯粹滋润霜（清爽型）50g补水保湿滋润霜  139.0   5196.0   \n",
       "\n",
       "      评论数  品牌_佰草集  品牌_倩碧  品牌_兰芝  品牌_兰蔻  品牌_妮维雅  ...  品牌_雅漾  品牌_雅诗兰黛  品牌_雪花秀  \\\n",
       "0  2704.0       0      0      0      0       0  ...      0        0       0   \n",
       "1  1492.0       0      0      0      0       0  ...      0        0       0   \n",
       "2   589.0       0      0      0      0       0  ...      0        0       0   \n",
       "3  4287.0       0      0      0      0       0  ...      0        0       0   \n",
       "4   618.0       0      0      0      0       0  ...      0        0       0   \n",
       "\n",
       "   功效_补水保湿  功效_淡化细纹  功效_美白  功效_控油  功效_清洁  功效_去角质  功效_防晒  \n",
       "0        1        0      0      0      0       0      0  \n",
       "1        1        1      0      0      0       0      0  \n",
       "2        1        0      0      1      0       0      0  \n",
       "3        0        0      0      1      1       0      0  \n",
       "4        1        0      0      0      0       0      0  \n",
       "\n",
       "[5 rows x 31 columns]"
      ]
     },
     "execution_count": 13,
     "metadata": {},
     "output_type": "execute_result"
    }
   ],
   "source": [
    "data.head()"
   ]
  },
  {
   "cell_type": "markdown",
   "id": "487b09e9",
   "metadata": {},
   "source": [
    "## 皮尔逊积相关系数矩阵探索销量印象因素"
   ]
  },
  {
   "cell_type": "code",
   "execution_count": 14,
   "id": "960ff620",
   "metadata": {},
   "outputs": [],
   "source": [
    "correlation_matrix = data[data.columns[2:]].corr() # 计算相关系数矩阵"
   ]
  },
  {
   "cell_type": "code",
   "execution_count": 15,
   "id": "ecb638a4",
   "metadata": {},
   "outputs": [
    {
     "data": {
      "text/plain": [
       "<AxesSubplot:>"
      ]
     },
     "execution_count": 15,
     "metadata": {},
     "output_type": "execute_result"
    },
    {
     "data": {
      "image/png": "[encoded data removed]",
      "text/plain": [
       "<Figure size 1440x864 with 2 Axes>"
      ]
     },
     "metadata": {
      "needs_background": "light"
     },
     "output_type": "display_data"
    }
   ],
   "source": [
    "plt.figure(figsize=[20,12])\n",
    "sns.heatmap(correlation_matrix, annot=True)"
   ]
  },
  {
   "cell_type": "code",
   "execution_count": 16,
   "id": "e746a017",
   "metadata": {},
   "outputs": [
    {
     "data": {
      "text/plain": [
       "销量         1.000000\n",
       "评论数        0.871575\n",
       "品牌_相宜本草    0.179413\n",
       "品牌_美宝莲     0.148902\n",
       "功效_控油      0.146151\n",
       "功效_清洁      0.090240\n",
       "功效_补水保湿    0.088556\n",
       "品牌_蜜丝佛陀    0.078938\n",
       "品牌_妮维雅     0.077759\n",
       "功效_去角质     0.026911\n",
       "功效_美白      0.024146\n",
       "品牌_欧莱雅     0.023092\n",
       "品牌_自然堂     0.018028\n",
       "功效_防晒      0.013718\n",
       "品牌_兰芝     -0.012835\n",
       "品牌_悦诗风吟   -0.014955\n",
       "品牌_雅漾     -0.018706\n",
       "功效_淡化细纹   -0.027912\n",
       "品牌_雪花秀    -0.028626\n",
       "品牌_佰草集    -0.032075\n",
       "品牌_薇姿     -0.037906\n",
       "品牌_资生堂    -0.038889\n",
       "品牌_雅诗兰黛   -0.039583\n",
       "品牌_欧珀莱    -0.043042\n",
       "品牌_倩碧     -0.045959\n",
       "品牌_美加净    -0.046079\n",
       "品牌_娇兰     -0.053552\n",
       "品牌_兰蔻     -0.055785\n",
       "价格        -0.074753\n",
       "Name: 销量, dtype: float64"
      ]
     },
     "execution_count": 16,
     "metadata": {},
     "output_type": "execute_result"
    }
   ],
   "source": [
    "correlation_matrix['销量'].sort_values(ascending=False)"
   ]
  },
  {
   "cell_type": "code",
   "execution_count": 17,
   "id": "43e4420b",
   "metadata": {},
   "outputs": [
    {
     "data": {
      "application/vnd.plotly.v1+json": {
       "config": {
        "linkText": "Export to plot.ly",
        "plotlyServerURL": "https://plot.ly",
        "showLink": true
       },
       "data": [
        {
         "marker": {
          "color": "rgba(255, 153, 51, 0.6)",
          "line": {
           "color": "rgba(255, 153, 51, 1.0)",
           "width": 1
          }
         },
         "name": "销量",
         "orientation": "v",
         "text": "",
         "type": "bar",
         "x": [
          "评论数",
          "品牌_相宜本草",
          "品牌_美宝莲",
          "功效_控油",
          "功效_清洁",
          "功效_补水保湿",
          "品牌_蜜丝佛陀",
          "品牌_妮维雅",
          "功效_去角质",
          "功效_美白",
          "品牌_欧莱雅",
          "品牌_自然堂",
          "功效_防晒",
          "品牌_兰芝",
          "品牌_悦诗风吟",
          "品牌_雅漾",
          "功效_淡化细纹",
          "品牌_雪花秀",
          "品牌_佰草集",
          "品牌_薇姿",
          "品牌_资生堂",
          "品牌_雅诗兰黛",
          "品牌_欧珀莱",
          "品牌_倩碧",
          "品牌_美加净",
          "品牌_娇兰",
          "品牌_兰蔻",
          "价格"
         ],
         "y": [
          0.8715753061423004,
          0.17941306279915856,
          0.1489022417630132,
          0.14615059863394225,
          0.09023999589859888,
          0.08855561136766896,
          0.07893848277891016,
          0.07775862793137948,
          0.02691131752618404,
          0.024146265925302127,
          0.02309223618025431,
          0.0180277297928421,
          0.013717945054473768,
          -0.012834870774661703,
          -0.014954617480070407,
          -0.018706368021857402,
          -0.02791154891406418,
          -0.02862614292998683,
          -0.032075428636832506,
          -0.03790575652162413,
          -0.03888856785985707,
          -0.03958307256405171,
          -0.043042031254152145,
          -0.045959168491638815,
          -0.04607870217403094,
          -0.05355211868090827,
          -0.055785328632833905,
          -0.07475250382198599
         ]
        }
       ],
       "layout": {
        "legend": {
         "bgcolor": "#F5F6F9",
         "font": {
          "color": "#4D5663"
         }
        },
        "paper_bgcolor": "#F5F6F9",
        "plot_bgcolor": "#F5F6F9",
        "template": {
         "data": {
          "bar": [
           {
            "error_x": {
             "color": "#2a3f5f"
            },
            "error_y": {
             "color": "#2a3f5f"
            },
            "marker": {
             "line": {
              "color": "#E5ECF6",
              "width": 0.5
             }
            },
            "type": "bar"
           }
          ],
          "barpolar": [
           {
            "marker": {
             "line": {
              "color": "#E5ECF6",
              "width": 0.5
             }
            },
            "type": "barpolar"
           }
          ],
          "carpet": [
           {
            "aaxis": {
             "endlinecolor": "#2a3f5f",
             "gridcolor": "white",
             "linecolor": "white",
             "minorgridcolor": "white",
             "startlinecolor": "#2a3f5f"
            },
            "baxis": {
             "endlinecolor": "#2a3f5f",
             "gridcolor": "white",
             "linecolor": "white",
             "minorgridcolor": "white",
             "startlinecolor": "#2a3f5f"
            },
            "type": "carpet"
           }
          ],
          "choropleth": [
           {
            "colorbar": {
             "outlinewidth": 0,
             "ticks": ""
            },
            "type": "choropleth"
           }
          ],
          "contour": [
           {
            "colorbar": {
             "outlinewidth": 0,
             "ticks": ""
            },
            "colorscale": [
             [
              0,
              "#0d0887"
             ],
             [
              0.1111111111111111,
              "#46039f"
             ],
             [
              0.2222222222222222,
              "#7201a8"
             ],
             [
              0.3333333333333333,
              "#9c179e"
             ],
             [
              0.4444444444444444,
              "#bd3786"
             ],
             [
              0.5555555555555556,
              "#d8576b"
             ],
             [
              0.6666666666666666,
              "#ed7953"
             ],
             [
              0.7777777777777778,
              "#fb9f3a"
             ],
             [
              0.8888888888888888,
              "#fdca26"
             ],
             [
              1,
              "#f0f921"
             ]
            ],
            "type": "contour"
           }
          ],
          "contourcarpet": [
           {
            "colorbar": {
             "outlinewidth": 0,
             "ticks": ""
            },
            "type": "contourcarpet"
           }
          ],
          "heatmap": [
           {
            "colorbar": {
             "outlinewidth": 0,
             "ticks": ""
            },
            "colorscale": [
             [
              0,
              "#0d0887"
             ],
             [
              0.1111111111111111,
              "#46039f"
             ],
             [
              0.2222222222222222,
              "#7201a8"
             ],
             [
              0.3333333333333333,
              "#9c179e"
             ],
             [
              0.4444444444444444,
              "#bd3786"
             ],
             [
              0.5555555555555556,
              "#d8576b"
             ],
             [
              0.6666666666666666,
              "#ed7953"
             ],
             [
              0.7777777777777778,
              "#fb9f3a"
             ],
             [
              0.8888888888888888,
              "#fdca26"
             ],
             [
              1,
              "#f0f921"
             ]
            ],
            "type": "heatmap"
           }
          ],
          "heatmapgl": [
           {
            "colorbar": {
             "outlinewidth": 0,
             "ticks": ""
            },
            "colorscale": [
             [
              0,
              "#0d0887"
             ],
             [
              0.1111111111111111,
              "#46039f"
             ],
             [
              0.2222222222222222,
              "#7201a8"
             ],
             [
              0.3333333333333333,
              "#9c179e"
             ],
             [
              0.4444444444444444,
              "#bd3786"
             ],
             [
              0.5555555555555556,
              "#d8576b"
             ],
             [
              0.6666666666666666,
              "#ed7953"
             ],
             [
              0.7777777777777778,
              "#fb9f3a"
             ],
             [
              0.8888888888888888,
              "#fdca26"
             ],
             [
              1,
              "#f0f921"
             ]
            ],
            "type": "heatmapgl"
           }
          ],
          "histogram": [
           {
            "marker": {
             "colorbar": {
              "outlinewidth": 0,
              "ticks": ""
             }
            },
            "type": "histogram"
           }
          ],
          "histogram2d": [
           {
            "colorbar": {
             "outlinewidth": 0,
             "ticks": ""
            },
            "colorscale": [
             [
              0,
              "#0d0887"
             ],
             [
              0.1111111111111111,
              "#46039f"
             ],
             [
              0.2222222222222222,
              "#7201a8"
             ],
             [
              0.3333333333333333,
              "#9c179e"
             ],
             [
              0.4444444444444444,
              "#bd3786"
             ],
             [
              0.5555555555555556,
              "#d8576b"
             ],
             [
              0.6666666666666666,
              "#ed7953"
             ],
             [
              0.7777777777777778,
              "#fb9f3a"
             ],
             [
              0.8888888888888888,
              "#fdca26"
             ],
             [
              1,
              "#f0f921"
             ]
            ],
            "type": "histogram2d"
           }
          ],
          "histogram2dcontour": [
           {
            "colorbar": {
             "outlinewidth": 0,
             "ticks": ""
            },
            "colorscale": [
             [
              0,
              "#0d0887"
             ],
             [
              0.1111111111111111,
              "#46039f"
             ],
             [
              0.2222222222222222,
              "#7201a8"
             ],
             [
              0.3333333333333333,
              "#9c179e"
             ],
             [
              0.4444444444444444,
              "#bd3786"
             ],
             [
              0.5555555555555556,
              "#d8576b"
             ],
             [
              0.6666666666666666,
              "#ed7953"
             ],
             [
              0.7777777777777778,
              "#fb9f3a"
             ],
             [
              0.8888888888888888,
              "#fdca26"
             ],
             [
              1,
              "#f0f921"
             ]
            ],
            "type": "histogram2dcontour"
           }
          ],
          "mesh3d": [
           {
            "colorbar": {
             "outlinewidth": 0,
             "ticks": ""
            },
            "type": "mesh3d"
           }
          ],
          "parcoords": [
           {
            "line": {
             "colorbar": {
              "outlinewidth": 0,
              "ticks": ""
             }
            },
            "type": "parcoords"
           }
          ],
          "pie": [
           {
            "automargin": true,
            "type": "pie"
           }
          ],
          "scatter": [
           {
            "marker": {
             "colorbar": {
              "outlinewidth": 0,
              "ticks": ""
             }
            },
            "type": "scatter"
           }
          ],
          "scatter3d": [
           {
            "line": {
             "colorbar": {
              "outlinewidth": 0,
              "ticks": ""
             }
            },
            "marker": {
             "colorbar": {
              "outlinewidth": 0,
              "ticks": ""
             }
            },
            "type": "scatter3d"
           }
          ],
          "scattercarpet": [
           {
            "marker": {
             "colorbar": {
              "outlinewidth": 0,
              "ticks": ""
             }
            },
            "type": "scattercarpet"
           }
          ],
          "scattergeo": [
           {
            "marker": {
             "colorbar": {
              "outlinewidth": 0,
              "ticks": ""
             }
            },
            "type": "scattergeo"
           }
          ],
          "scattergl": [
           {
            "marker": {
             "colorbar": {
              "outlinewidth": 0,
              "ticks": ""
             }
            },
            "type": "scattergl"
           }
          ],
          "scattermapbox": [
           {
            "marker": {
             "colorbar": {
              "outlinewidth": 0,
              "ticks": ""
             }
            },
            "type": "scattermapbox"
           }
          ],
          "scatterpolar": [
           {
            "marker": {
             "colorbar": {
              "outlinewidth": 0,
              "ticks": ""
             }
            },
            "type": "scatterpolar"
           }
          ],
          "scatterpolargl": [
           {
            "marker": {
             "colorbar": {
              "outlinewidth": 0,
              "ticks": ""
             }
            },
            "type": "scatterpolargl"
           }
          ],
          "scatterternary": [
           {
            "marker": {
             "colorbar": {
              "outlinewidth": 0,
              "ticks": ""
             }
            },
            "type": "scatterternary"
           }
          ],
          "surface": [
           {
            "colorbar": {
             "outlinewidth": 0,
             "ticks": ""
            },
            "colorscale": [
             [
              0,
              "#0d0887"
             ],
             [
              0.1111111111111111,
              "#46039f"
             ],
             [
              0.2222222222222222,
              "#7201a8"
             ],
             [
              0.3333333333333333,
              "#9c179e"
             ],
             [
              0.4444444444444444,
              "#bd3786"
             ],
             [
              0.5555555555555556,
              "#d8576b"
             ],
             [
              0.6666666666666666,
              "#ed7953"
             ],
             [
              0.7777777777777778,
              "#fb9f3a"
             ],
             [
              0.8888888888888888,
              "#fdca26"
             ],
             [
              1,
              "#f0f921"
             ]
            ],
            "type": "surface"
           }
          ],
          "table": [
           {
            "cells": {
             "fill": {
              "color": "#EBF0F8"
             },
             "line": {
              "color": "white"
             }
            },
            "header": {
             "fill": {
              "color": "#C8D4E3"
             },
             "line": {
              "color": "white"
             }
            },
            "type": "table"
           }
          ]
         },
         "layout": {
          "annotationdefaults": {
           "arrowcolor": "#2a3f5f",
           "arrowhead": 0,
           "arrowwidth": 1
          },
          "autotypenumbers": "strict",
          "coloraxis": {
           "colorbar": {
            "outlinewidth": 0,
            "ticks": ""
           }
          },
          "colorscale": {
           "diverging": [
            [
             0,
             "#8e0152"
            ],
            [
             0.1,
             "#c51b7d"
            ],
            [
             0.2,
             "#de77ae"
            ],
            [
             0.3,
             "#f1b6da"
            ],
            [
             0.4,
             "#fde0ef"
            ],
            [
             0.5,
             "#f7f7f7"
            ],
            [
             0.6,
             "#e6f5d0"
            ],
            [
             0.7,
             "#b8e186"
            ],
            [
             0.8,
             "#7fbc41"
            ],
            [
             0.9,
             "#4d9221"
            ],
            [
             1,
             "#276419"
            ]
           ],
           "sequential": [
            [
             0,
             "#0d0887"
            ],
            [
             0.1111111111111111,
             "#46039f"
            ],
            [
             0.2222222222222222,
             "#7201a8"
            ],
            [
             0.3333333333333333,
             "#9c179e"
            ],
            [
             0.4444444444444444,
             "#bd3786"
            ],
            [
             0.5555555555555556,
             "#d8576b"
            ],
            [
             0.6666666666666666,
             "#ed7953"
            ],
            [
             0.7777777777777778,
             "#fb9f3a"
            ],
            [
             0.8888888888888888,
             "#fdca26"
            ],
            [
             1,
             "#f0f921"
            ]
           ],
           "sequentialminus": [
            [
             0,
             "#0d0887"
            ],
            [
             0.1111111111111111,
             "#46039f"
            ],
            [
             0.2222222222222222,
             "#7201a8"
            ],
            [
             0.3333333333333333,
             "#9c179e"
            ],
            [
             0.4444444444444444,
             "#bd3786"
            ],
            [
             0.5555555555555556,
             "#d8576b"
            ],
            [
             0.6666666666666666,
             "#ed7953"
            ],
            [
             0.7777777777777778,
             "#fb9f3a"
            ],
            [
             0.8888888888888888,
             "#fdca26"
            ],
            [
             1,
             "#f0f921"
            ]
           ]
          },
          "colorway": [
           "#636efa",
           "#EF553B",
           "#00cc96",
           "#ab63fa",
           "#FFA15A",
           "#19d3f3",
           "#FF6692",
           "#B6E880",
           "#FF97FF",
           "#FECB52"
          ],
          "font": {
           "color": "#2a3f5f"
          },
          "geo": {
           "bgcolor": "white",
           "lakecolor": "white",
           "landcolor": "#E5ECF6",
           "showlakes": true,
           "showland": true,
           "subunitcolor": "white"
          },
          "hoverlabel": {
           "align": "left"
          },
          "hovermode": "closest",
          "mapbox": {
           "style": "light"
          },
          "paper_bgcolor": "white",
          "plot_bgcolor": "#E5ECF6",
          "polar": {
           "angularaxis": {
            "gridcolor": "white",
            "linecolor": "white",
            "ticks": ""
           },
           "bgcolor": "#E5ECF6",
           "radialaxis": {
            "gridcolor": "white",
            "linecolor": "white",
            "ticks": ""
           }
          },
          "scene": {
           "xaxis": {
            "backgroundcolor": "#E5ECF6",
            "gridcolor": "white",
            "gridwidth": 2,
            "linecolor": "white",
            "showbackground": true,
            "ticks": "",
            "zerolinecolor": "white"
           },
           "yaxis": {
            "backgroundcolor": "#E5ECF6",
            "gridcolor": "white",
            "gridwidth": 2,
            "linecolor": "white",
            "showbackground": true,
            "ticks": "",
            "zerolinecolor": "white"
           },
           "zaxis": {
            "backgroundcolor": "#E5ECF6",
            "gridcolor": "white",
            "gridwidth": 2,
            "linecolor": "white",
            "showbackground": true,
            "ticks": "",
            "zerolinecolor": "white"
           }
          },
          "shapedefaults": {
           "line": {
            "color": "#2a3f5f"
           }
          },
          "ternary": {
           "aaxis": {
            "gridcolor": "white",
            "linecolor": "white",
            "ticks": ""
           },
           "baxis": {
            "gridcolor": "white",
            "linecolor": "white",
            "ticks": ""
           },
           "bgcolor": "#E5ECF6",
           "caxis": {
            "gridcolor": "white",
            "linecolor": "white",
            "ticks": ""
           }
          },
          "title": {
           "x": 0.05
          },
          "xaxis": {
           "automargin": true,
           "gridcolor": "white",
           "linecolor": "white",
           "ticks": "",
           "title": {
            "standoff": 15
           },
           "zerolinecolor": "white",
           "zerolinewidth": 2
          },
          "yaxis": {
           "automargin": true,
           "gridcolor": "white",
           "linecolor": "white",
           "ticks": "",
           "title": {
            "standoff": 15
           },
           "zerolinecolor": "white",
           "zerolinewidth": 2
          }
         }
        },
        "title": {
         "font": {
          "color": "#4D5663"
         },
         "text": "销量影响因素条形图"
        },
        "xaxis": {
         "gridcolor": "#E1E5ED",
         "showgrid": true,
         "tickfont": {
          "color": "#4D5663"
         },
         "title": {
          "font": {
           "color": "#4D5663"
          },
          "text": "影响因素"
         },
         "zerolinecolor": "#E1E5ED"
        },
        "yaxis": {
         "gridcolor": "#E1E5ED",
         "showgrid": true,
         "tickfont": {
          "color": "#4D5663"
         },
         "title": {
          "font": {
           "color": "#4D5663"
          },
          "text": "与销量的相关性"
         },
         "zerolinecolor": "#E1E5ED"
        }
       }
      },
      "text/html": [
       "<div>                            <div id=\"f562b3df-b872-4d4b-8716-dc5c9db0dcc1\" class=\"plotly-graph-div\" style=\"height:525px; width:100%;\"></div>            <script type=\"text/javascript\">                require([\"plotly\"], function(Plotly) {                    window.PLOTLYENV=window.PLOTLYENV || {};\n",
       "                    window.PLOTLYENV.BASE_URL='https://plot.ly';                                    if (document.getElementById(\"f562b3df-b872-4d4b-8716-dc5c9db0dcc1\")) {                    Plotly.newPlot(                        \"f562b3df-b872-4d4b-8716-dc5c9db0dcc1\",                        [{\"marker\": {\"color\": \"rgba(255, 153, 51, 0.6)\", \"line\": {\"color\": \"rgba(255, 153, 51, 1.0)\", \"width\": 1}}, \"name\": \"\\u9500\\u91cf\", \"orientation\": \"v\", \"text\": \"\", \"type\": \"bar\", \"x\": [\"\\u8bc4\\u8bba\\u6570\", \"\\u54c1\\u724c_\\u76f8\\u5b9c\\u672c\\u8349\", \"\\u54c1\\u724c_\\u7f8e\\u5b9d\\u83b2\", \"\\u529f\\u6548_\\u63a7\\u6cb9\", \"\\u529f\\u6548_\\u6e05\\u6d01\", \"\\u529f\\u6548_\\u8865\\u6c34\\u4fdd\\u6e7f\", \"\\u54c1\\u724c_\\u871c\\u4e1d\\u4f5b\\u9640\", \"\\u54c1\\u724c_\\u59ae\\u7ef4\\u96c5\", \"\\u529f\\u6548_\\u53bb\\u89d2\\u8d28\", \"\\u529f\\u6548_\\u7f8e\\u767d\", \"\\u54c1\\u724c_\\u6b27\\u83b1\\u96c5\", \"\\u54c1\\u724c_\\u81ea\\u7136\\u5802\", \"\\u529f\\u6548_\\u9632\\u6652\", \"\\u54c1\\u724c_\\u5170\\u829d\", \"\\u54c1\\u724c_\\u60a6\\u8bd7\\u98ce\\u541f\", \"\\u54c1\\u724c_\\u96c5\\u6f3e\", \"\\u529f\\u6548_\\u6de1\\u5316\\u7ec6\\u7eb9\", \"\\u54c1\\u724c_\\u96ea\\u82b1\\u79c0\", \"\\u54c1\\u724c_\\u4f70\\u8349\\u96c6\", \"\\u54c1\\u724c_\\u8587\\u59ff\", \"\\u54c1\\u724c_\\u8d44\\u751f\\u5802\", \"\\u54c1\\u724c_\\u96c5\\u8bd7\\u5170\\u9edb\", \"\\u54c1\\u724c_\\u6b27\\u73c0\\u83b1\", \"\\u54c1\\u724c_\\u5029\\u78a7\", \"\\u54c1\\u724c_\\u7f8e\\u52a0\\u51c0\", \"\\u54c1\\u724c_\\u5a07\\u5170\", \"\\u54c1\\u724c_\\u5170\\u853b\", \"\\u4ef7\\u683c\"], \"y\": [0.8715753061423004, 0.17941306279915856, 0.1489022417630132, 0.14615059863394225, 0.09023999589859888, 0.08855561136766896, 0.07893848277891016, 0.07775862793137948, 0.02691131752618404, 0.024146265925302127, 0.02309223618025431, 0.0180277297928421, 0.013717945054473768, -0.012834870774661703, -0.014954617480070407, -0.018706368021857402, -0.02791154891406418, -0.02862614292998683, -0.032075428636832506, -0.03790575652162413, -0.03888856785985707, -0.03958307256405171, -0.043042031254152145, -0.045959168491638815, -0.04607870217403094, -0.05355211868090827, -0.055785328632833905, -0.07475250382198599]}],                        {\"legend\": {\"bgcolor\": \"#F5F6F9\", \"font\": {\"color\": \"#4D5663\"}}, \"paper_bgcolor\": \"#F5F6F9\", \"plot_bgcolor\": \"#F5F6F9\", \"template\": {\"data\": {\"bar\": [{\"error_x\": {\"color\": \"#2a3f5f\"}, \"error_y\": {\"color\": \"#2a3f5f\"}, \"marker\": {\"line\": {\"color\": \"#E5ECF6\", \"width\": 0.5}}, \"type\": \"bar\"}], \"barpolar\": [{\"marker\": {\"line\": {\"color\": \"#E5ECF6\", \"width\": 0.5}}, \"type\": \"barpolar\"}], \"carpet\": [{\"aaxis\": {\"endlinecolor\": \"#2a3f5f\", \"gridcolor\": \"white\", \"linecolor\": \"white\", \"minorgridcolor\": \"white\", \"startlinecolor\": \"#2a3f5f\"}, \"baxis\": {\"endlinecolor\": \"#2a3f5f\", \"gridcolor\": \"white\", \"linecolor\": \"white\", \"minorgridcolor\": \"white\", \"startlinecolor\": \"#2a3f5f\"}, \"type\": \"carpet\"}], \"choropleth\": [{\"colorbar\": {\"outlinewidth\": 0, \"ticks\": \"\"}, \"type\": \"choropleth\"}], \"contour\": [{\"colorbar\": {\"outlinewidth\": 0, \"ticks\": \"\"}, \"colorscale\": [[0.0, \"#0d0887\"], [0.1111111111111111, \"#46039f\"], [0.2222222222222222, \"#7201a8\"], [0.3333333333333333, \"#9c179e\"], [0.4444444444444444, \"#bd3786\"], [0.5555555555555556, \"#d8576b\"], [0.6666666666666666, \"#ed7953\"], [0.7777777777777778, \"#fb9f3a\"], [0.8888888888888888, \"#fdca26\"], [1.0, \"#f0f921\"]], \"type\": \"contour\"}], \"contourcarpet\": [{\"colorbar\": {\"outlinewidth\": 0, \"ticks\": \"\"}, \"type\": \"contourcarpet\"}], \"heatmap\": [{\"colorbar\": {\"outlinewidth\": 0, \"ticks\": \"\"}, \"colorscale\": [[0.0, \"#0d0887\"], [0.1111111111111111, \"#46039f\"], [0.2222222222222222, \"#7201a8\"], [0.3333333333333333, \"#9c179e\"], [0.4444444444444444, \"#bd3786\"], [0.5555555555555556, \"#d8576b\"], [0.6666666666666666, \"#ed7953\"], [0.7777777777777778, \"#fb9f3a\"], [0.8888888888888888, \"#fdca26\"], [1.0, \"#f0f921\"]], \"type\": \"heatmap\"}], \"heatmapgl\": [{\"colorbar\": {\"outlinewidth\": 0, \"ticks\": \"\"}, \"colorscale\": [[0.0, \"#0d0887\"], [0.1111111111111111, \"#46039f\"], [0.2222222222222222, \"#7201a8\"], [0.3333333333333333, \"#9c179e\"], [0.4444444444444444, \"#bd3786\"], [0.5555555555555556, \"#d8576b\"], [0.6666666666666666, \"#ed7953\"], [0.7777777777777778, \"#fb9f3a\"], [0.8888888888888888, \"#fdca26\"], [1.0, \"#f0f921\"]], \"type\": \"heatmapgl\"}], \"histogram\": [{\"marker\": {\"colorbar\": {\"outlinewidth\": 0, \"ticks\": \"\"}}, \"type\": \"histogram\"}], \"histogram2d\": [{\"colorbar\": {\"outlinewidth\": 0, \"ticks\": \"\"}, \"colorscale\": [[0.0, \"#0d0887\"], [0.1111111111111111, \"#46039f\"], [0.2222222222222222, \"#7201a8\"], [0.3333333333333333, \"#9c179e\"], [0.4444444444444444, \"#bd3786\"], [0.5555555555555556, \"#d8576b\"], [0.6666666666666666, \"#ed7953\"], [0.7777777777777778, \"#fb9f3a\"], [0.8888888888888888, \"#fdca26\"], [1.0, \"#f0f921\"]], \"type\": \"histogram2d\"}], \"histogram2dcontour\": [{\"colorbar\": {\"outlinewidth\": 0, \"ticks\": \"\"}, \"colorscale\": [[0.0, \"#0d0887\"], [0.1111111111111111, \"#46039f\"], [0.2222222222222222, \"#7201a8\"], [0.3333333333333333, \"#9c179e\"], [0.4444444444444444, \"#bd3786\"], [0.5555555555555556, \"#d8576b\"], [0.6666666666666666, \"#ed7953\"], [0.7777777777777778, \"#fb9f3a\"], [0.8888888888888888, \"#fdca26\"], [1.0, \"#f0f921\"]], \"type\": \"histogram2dcontour\"}], \"mesh3d\": [{\"colorbar\": {\"outlinewidth\": 0, \"ticks\": \"\"}, \"type\": \"mesh3d\"}], \"parcoords\": [{\"line\": {\"colorbar\": {\"outlinewidth\": 0, \"ticks\": \"\"}}, \"type\": \"parcoords\"}], \"pie\": [{\"automargin\": true, \"type\": \"pie\"}], \"scatter\": [{\"marker\": {\"colorbar\": {\"outlinewidth\": 0, \"ticks\": \"\"}}, \"type\": \"scatter\"}], \"scatter3d\": [{\"line\": {\"colorbar\": {\"outlinewidth\": 0, \"ticks\": \"\"}}, \"marker\": {\"colorbar\": {\"outlinewidth\": 0, \"ticks\": \"\"}}, \"type\": \"scatter3d\"}], \"scattercarpet\": [{\"marker\": {\"colorbar\": {\"outlinewidth\": 0, \"ticks\": \"\"}}, \"type\": \"scattercarpet\"}], \"scattergeo\": [{\"marker\": {\"colorbar\": {\"outlinewidth\": 0, \"ticks\": \"\"}}, \"type\": \"scattergeo\"}], \"scattergl\": [{\"marker\": {\"colorbar\": {\"outlinewidth\": 0, \"ticks\": \"\"}}, \"type\": \"scattergl\"}], \"scattermapbox\": [{\"marker\": {\"colorbar\": {\"outlinewidth\": 0, \"ticks\": \"\"}}, \"type\": \"scattermapbox\"}], \"scatterpolar\": [{\"marker\": {\"colorbar\": {\"outlinewidth\": 0, \"ticks\": \"\"}}, \"type\": \"scatterpolar\"}], \"scatterpolargl\": [{\"marker\": {\"colorbar\": {\"outlinewidth\": 0, \"ticks\": \"\"}}, \"type\": \"scatterpolargl\"}], \"scatterternary\": [{\"marker\": {\"colorbar\": {\"outlinewidth\": 0, \"ticks\": \"\"}}, \"type\": \"scatterternary\"}], \"surface\": [{\"colorbar\": {\"outlinewidth\": 0, \"ticks\": \"\"}, \"colorscale\": [[0.0, \"#0d0887\"], [0.1111111111111111, \"#46039f\"], [0.2222222222222222, \"#7201a8\"], [0.3333333333333333, \"#9c179e\"], [0.4444444444444444, \"#bd3786\"], [0.5555555555555556, \"#d8576b\"], [0.6666666666666666, \"#ed7953\"], [0.7777777777777778, \"#fb9f3a\"], [0.8888888888888888, \"#fdca26\"], [1.0, \"#f0f921\"]], \"type\": \"surface\"}], \"table\": [{\"cells\": {\"fill\": {\"color\": \"#EBF0F8\"}, \"line\": {\"color\": \"white\"}}, \"header\": {\"fill\": {\"color\": \"#C8D4E3\"}, \"line\": {\"color\": \"white\"}}, \"type\": \"table\"}]}, \"layout\": {\"annotationdefaults\": {\"arrowcolor\": \"#2a3f5f\", \"arrowhead\": 0, \"arrowwidth\": 1}, \"autotypenumbers\": \"strict\", \"coloraxis\": {\"colorbar\": {\"outlinewidth\": 0, \"ticks\": \"\"}}, \"colorscale\": {\"diverging\": [[0, \"#8e0152\"], [0.1, \"#c51b7d\"], [0.2, \"#de77ae\"], [0.3, \"#f1b6da\"], [0.4, \"#fde0ef\"], [0.5, \"#f7f7f7\"], [0.6, \"#e6f5d0\"], [0.7, \"#b8e186\"], [0.8, \"#7fbc41\"], [0.9, \"#4d9221\"], [1, \"#276419\"]], \"sequential\": [[0.0, \"#0d0887\"], [0.1111111111111111, \"#46039f\"], [0.2222222222222222, \"#7201a8\"], [0.3333333333333333, \"#9c179e\"], [0.4444444444444444, \"#bd3786\"], [0.5555555555555556, \"#d8576b\"], [0.6666666666666666, \"#ed7953\"], [0.7777777777777778, \"#fb9f3a\"], [0.8888888888888888, \"#fdca26\"], [1.0, \"#f0f921\"]], \"sequentialminus\": [[0.0, \"#0d0887\"], [0.1111111111111111, \"#46039f\"], [0.2222222222222222, \"#7201a8\"], [0.3333333333333333, \"#9c179e\"], [0.4444444444444444, \"#bd3786\"], [0.5555555555555556, \"#d8576b\"], [0.6666666666666666, \"#ed7953\"], [0.7777777777777778, \"#fb9f3a\"], [0.8888888888888888, \"#fdca26\"], [1.0, \"#f0f921\"]]}, \"colorway\": [\"#636efa\", \"#EF553B\", \"#00cc96\", \"#ab63fa\", \"#FFA15A\", \"#19d3f3\", \"#FF6692\", \"#B6E880\", \"#FF97FF\", \"#FECB52\"], \"font\": {\"color\": \"#2a3f5f\"}, \"geo\": {\"bgcolor\": \"white\", \"lakecolor\": \"white\", \"landcolor\": \"#E5ECF6\", \"showlakes\": true, \"showland\": true, \"subunitcolor\": \"white\"}, \"hoverlabel\": {\"align\": \"left\"}, \"hovermode\": \"closest\", \"mapbox\": {\"style\": \"light\"}, \"paper_bgcolor\": \"white\", \"plot_bgcolor\": \"#E5ECF6\", \"polar\": {\"angularaxis\": {\"gridcolor\": \"white\", \"linecolor\": \"white\", \"ticks\": \"\"}, \"bgcolor\": \"#E5ECF6\", \"radialaxis\": {\"gridcolor\": \"white\", \"linecolor\": \"white\", \"ticks\": \"\"}}, \"scene\": {\"xaxis\": {\"backgroundcolor\": \"#E5ECF6\", \"gridcolor\": \"white\", \"gridwidth\": 2, \"linecolor\": \"white\", \"showbackground\": true, \"ticks\": \"\", \"zerolinecolor\": \"white\"}, \"yaxis\": {\"backgroundcolor\": \"#E5ECF6\", \"gridcolor\": \"white\", \"gridwidth\": 2, \"linecolor\": \"white\", \"showbackground\": true, \"ticks\": \"\", \"zerolinecolor\": \"white\"}, \"zaxis\": {\"backgroundcolor\": \"#E5ECF6\", \"gridcolor\": \"white\", \"gridwidth\": 2, \"linecolor\": \"white\", \"showbackground\": true, \"ticks\": \"\", \"zerolinecolor\": \"white\"}}, \"shapedefaults\": {\"line\": {\"color\": \"#2a3f5f\"}}, \"ternary\": {\"aaxis\": {\"gridcolor\": \"white\", \"linecolor\": \"white\", \"ticks\": \"\"}, \"baxis\": {\"gridcolor\": \"white\", \"linecolor\": \"white\", \"ticks\": \"\"}, \"bgcolor\": \"#E5ECF6\", \"caxis\": {\"gridcolor\": \"white\", \"linecolor\": \"white\", \"ticks\": \"\"}}, \"title\": {\"x\": 0.05}, \"xaxis\": {\"automargin\": true, \"gridcolor\": \"white\", \"linecolor\": \"white\", \"ticks\": \"\", \"title\": {\"standoff\": 15}, \"zerolinecolor\": \"white\", \"zerolinewidth\": 2}, \"yaxis\": {\"automargin\": true, \"gridcolor\": \"white\", \"linecolor\": \"white\", \"ticks\": \"\", \"title\": {\"standoff\": 15}, \"zerolinecolor\": \"white\", \"zerolinewidth\": 2}}}, \"title\": {\"font\": {\"color\": \"#4D5663\"}, \"text\": \"\\u9500\\u91cf\\u5f71\\u54cd\\u56e0\\u7d20\\u6761\\u5f62\\u56fe\"}, \"xaxis\": {\"gridcolor\": \"#E1E5ED\", \"showgrid\": true, \"tickfont\": {\"color\": \"#4D5663\"}, \"title\": {\"font\": {\"color\": \"#4D5663\"}, \"text\": \"\\u5f71\\u54cd\\u56e0\\u7d20\"}, \"zerolinecolor\": \"#E1E5ED\"}, \"yaxis\": {\"gridcolor\": \"#E1E5ED\", \"showgrid\": true, \"tickfont\": {\"color\": \"#4D5663\"}, \"title\": {\"font\": {\"color\": \"#4D5663\"}, \"text\": \"\\u4e0e\\u9500\\u91cf\\u7684\\u76f8\\u5173\\u6027\"}, \"zerolinecolor\": \"#E1E5ED\"}},                        {\"showLink\": true, \"linkText\": \"Export to plot.ly\", \"plotlyServerURL\": \"https://plot.ly\", \"responsive\": true}                    ).then(function(){\n",
       "                            \n",
       "var gd = document.getElementById('f562b3df-b872-4d4b-8716-dc5c9db0dcc1');\n",
       "var x = new MutationObserver(function (mutations, observer) {{\n",
       "        var display = window.getComputedStyle(gd).display;\n",
       "        if (!display || display === 'none') {{\n",
       "            console.log([gd, 'removed!']);\n",
       "            Plotly.purge(gd);\n",
       "            observer.disconnect();\n",
       "        }}\n",
       "}});\n",
       "\n",
       "// Listen for the removal of the full notebook cells\n",
       "var notebookContainer = gd.closest('#notebook-container');\n",
       "if (notebookContainer) {{\n",
       "    x.observe(notebookContainer, {childList: true});\n",
       "}}\n",
       "\n",
       "// Listen for the clearing of the current output cell\n",
       "var outputEl = gd.closest('.output');\n",
       "if (outputEl) {{\n",
       "    x.observe(outputEl, {childList: true});\n",
       "}}\n",
       "\n",
       "                        })                };                });            </script>        </div>"
      ]
     },
     "metadata": {},
     "output_type": "display_data"
    }
   ],
   "source": [
    "correlation_matrix['销量'].sort_values(ascending=False).iloc[1:].iplot(kind='bar', xTitle='影响因素',\n",
    "                                                                        yTitle='与销量的相关性', title='销量影响因素条形图')"
   ]
  },
  {
   "cell_type": "markdown",
   "id": "e0abfd76",
   "metadata": {},
   "source": [
    "相关系数，又称皮尔逊积相关系数，是用来度量两个数量变量之间线性相关关系强度的数字。相关系数的范围是-1~+1。当相关系数接近于-1或+1时，表示强的线性关系，而相关系数越接近于0，线性关系也越弱。一般地，如果数据集中所有点都在一条斜率为正的直线上，则样本相关系数的值为+1  \n",
    "\n",
    "+1 ：x和y之间存在一个完全线性关系  \n",
    "-1 ：x和y之间存在一个完全负线性关系  "
   ]
  },
  {
   "cell_type": "markdown",
   "id": "f9cd8412",
   "metadata": {},
   "source": [
    "从上图可以发现，“评论数”、“品牌_相宜本草”、“品牌_美宝莲”、“功效_控油”、“功效_清洁”等几个特征与销量的正相关性最高，即评论数越多的产品销量越高、品牌是相宜本草、美宝莲则产品销量就更高、如果功能是控油、清洁则产品的销量就比较高。  \n",
    "\n",
    "而“价格”、“品牌_兰蔻”、“品牌_娇兰”等几个特征与销量的相关性为负数，即价格最高，销量越低，如果品牌为兰蔻、娇兰则产品销量不佳，而兰蔻、娇兰的产品都属于单价比较高的，所以其实与价格越高，销量越低同理。"
   ]
  },
  {
   "cell_type": "markdown",
   "id": "672c2bfd",
   "metadata": {},
   "source": [
    " "
   ]
  },
  {
   "cell_type": "markdown",
   "id": "7d8a5d20",
   "metadata": {},
   "source": [
    "## 随机森林建模探索化妆品销量影响因素"
   ]
  },
  {
   "cell_type": "code",
   "execution_count": 18,
   "id": "9680b1fc",
   "metadata": {},
   "outputs": [],
   "source": [
    "# 划分训练集和测试集\n",
    "X_train, X_test, y_train, y_test = train_test_split(data.drop(['销量', 'id', '标题'], axis=1), data['销量'].values, test_size=0.2, random_state=28)"
   ]
  },
  {
   "cell_type": "code",
   "execution_count": 19,
   "id": "dc80be71",
   "metadata": {},
   "outputs": [],
   "source": [
    "rfr = RandomForestRegressor() # 初始化随机森林模型"
   ]
  },
  {
   "cell_type": "code",
   "execution_count": 20,
   "id": "cde3849e",
   "metadata": {},
   "outputs": [],
   "source": [
    "parameters = {'max_depth': np.arange(1, 20, 10),\n",
    "              'min_samples_leaf': np.arange(1, 20, 5),\n",
    "              'n_estimators': np.arange(10, 50, 10)\n",
    "              }"
   ]
  },
  {
   "cell_type": "code",
   "execution_count": 21,
   "id": "16bdde9e",
   "metadata": {},
   "outputs": [
    {
     "data": {
      "text/plain": [
       "RandomForestRegressor()"
      ]
     },
     "execution_count": 21,
     "metadata": {},
     "output_type": "execute_result"
    }
   ],
   "source": [
    "rfr.fit(X_train, y_train) # 训练随机森林模型"
   ]
  },
  {
   "cell_type": "code",
   "execution_count": 22,
   "id": "82503c3b",
   "metadata": {},
   "outputs": [
    {
     "data": {
      "text/plain": [
       "GridSearchCV(cv=5, estimator=RandomForestRegressor(),\n",
       "             param_grid={'max_depth': array([ 1, 11]),\n",
       "                         'min_samples_leaf': array([ 1,  6, 11, 16]),\n",
       "                         'n_estimators': array([10, 20, 30, 40])})"
      ]
     },
     "execution_count": 22,
     "metadata": {},
     "output_type": "execute_result"
    }
   ],
   "source": [
    "gs = GridSearchCV(rfr, parameters, cv=5)  # 网格搜索\n",
    "gs.fit(X_train, y_train)"
   ]
  },
  {
   "cell_type": "code",
   "execution_count": 23,
   "id": "1817354c",
   "metadata": {},
   "outputs": [],
   "source": [
    "y_pred = gs.best_estimator_.predict(X_test)"
   ]
  },
  {
   "cell_type": "code",
   "execution_count": 24,
   "id": "e60dcb4c",
   "metadata": {},
   "outputs": [],
   "source": [
    "forest_mse = mean_squared_error(y_test, y_pred)\n",
    "forest_rmse = np.sqrt(forest_mse)"
   ]
  },
  {
   "cell_type": "code",
   "execution_count": 25,
   "id": "93cc2838",
   "metadata": {},
   "outputs": [
    {
     "data": {
      "text/plain": [
       "85463.52080575017"
      ]
     },
     "execution_count": 25,
     "metadata": {},
     "output_type": "execute_result"
    }
   ],
   "source": [
    "forest_rmse  # 随机森林模型rmse"
   ]
  },
  {
   "cell_type": "code",
   "execution_count": 26,
   "id": "9ce99f31",
   "metadata": {},
   "outputs": [
    {
     "data": {
      "application/vnd.plotly.v1+json": {
       "config": {
        "plotlyServerURL": "https://plot.ly"
       },
       "data": [
        {
         "histfunc": "count",
         "histnorm": "",
         "marker": {
          "color": "rgba(255, 153, 51, 1.0)",
          "line": {
           "color": "#4D5663",
           "width": 1.3
          }
         },
         "name": "销量",
         "nbinsx": 500,
         "opacity": 0.8,
         "orientation": "v",
         "type": "histogram",
         "x": [
          26719,
          8122,
          12668,
          25805,
          5196,
          42858,
          3027,
          6925,
          4649,
          2293,
          64345,
          19290,
          10711,
          2775,
          16963,
          2748,
          13428,
          22353,
          19262,
          12810,
          25988,
          57344,
          17747,
          16203,
          13906,
          38266,
          2648,
          14955,
          7355,
          28771,
          121620,
          346091,
          14924,
          42650,
          10860,
          14594,
          4694,
          6861,
          9712,
          6782,
          23076,
          11282,
          8447,
          23421,
          29229,
          119516,
          9023,
          15837,
          55001,
          7053,
          1778,
          1773,
          7124,
          189494,
          21694,
          12117,
          53857,
          21078,
          7219,
          14722,
          13225,
          20010,
          5168,
          48989,
          33187,
          1624,
          730,
          2343,
          1177,
          4818,
          19959,
          3194,
          16022,
          1562,
          26724,
          9693,
          27397,
          5182,
          1326,
          37555,
          1084,
          4878,
          5047,
          8630,
          3146,
          7813,
          4514,
          2544,
          21456,
          4589,
          37798,
          43,
          19650,
          18398,
          4775,
          4800,
          2886,
          12348,
          7712,
          774,
          769,
          1075,
          450,
          6970,
          145315,
          7034,
          2675,
          1534,
          3497,
          101927,
          56292,
          1127,
          8713,
          17902,
          1073,
          1460,
          13967,
          3350,
          549,
          737,
          18053,
          390,
          6622,
          2349,
          385,
          7,
          5191,
          568,
          521,
          298,
          599,
          5890,
          734,
          1202,
          517,
          6831,
          50,
          612,
          233,
          75,
          45,
          611,
          382,
          686,
          788,
          97,
          100,
          68,
          89,
          26,
          50,
          393,
          261,
          132,
          56,
          706,
          1272,
          108,
          94,
          379,
          108,
          45,
          181,
          16,
          55,
          28,
          53,
          63,
          8,
          30,
          438,
          27,
          8,
          73,
          71,
          18,
          84,
          48,
          64,
          23,
          41886,
          8548,
          5983,
          141,
          3370,
          76405,
          3916,
          12568,
          7449,
          12160,
          55599,
          16836,
          147541,
          6697,
          13539,
          360833,
          2387,
          324388,
          5301,
          83801,
          3014,
          14995,
          29637,
          6298,
          5274,
          4042,
          7850,
          1717,
          6405,
          46337,
          37338,
          685,
          19990,
          839,
          358343,
          91846,
          3458,
          5015,
          2579,
          65122,
          15176,
          381,
          612,
          8867,
          12540,
          586,
          5300,
          1115,
          1100,
          4070,
          5443,
          11176,
          2158,
          5606,
          3588,
          11055,
          66596,
          40721,
          1787,
          1623,
          2984,
          2829,
          11816,
          10711,
          1266,
          519,
          1148,
          2726,
          2887,
          11244,
          1716,
          964,
          3122,
          5849,
          57536,
          1745,
          2289,
          3786,
          16507,
          6687,
          5492,
          6591,
          15785,
          1387,
          2098,
          403,
          2246,
          4737,
          1715,
          762,
          480,
          948,
          892,
          2161,
          3806,
          1260,
          7906,
          4694,
          4326,
          45838,
          4417,
          8728,
          783,
          680,
          2957,
          4910,
          1091,
          2378,
          8924,
          37845,
          636,
          471,
          210,
          4184,
          3309,
          32074,
          21853,
          65271,
          10830,
          20923,
          20868,
          5323,
          159999,
          104654,
          11218,
          3460,
          200,
          4065,
          236,
          827,
          1152,
          3622,
          1351,
          139,
          2381,
          13352,
          14606,
          6036,
          3007,
          7709,
          3309,
          16710,
          2266,
          172,
          122,
          730,
          137,
          7513,
          7785,
          7405,
          5069,
          3344,
          1810,
          1795,
          7327,
          2700,
          5069,
          4463,
          8828,
          2248,
          5188,
          1176,
          8611,
          4597,
          1351,
          391,
          2586,
          1008,
          705,
          15972,
          7367,
          7737,
          17203,
          12704,
          33611,
          17007,
          16357,
          15212,
          5440,
          2048,
          8146,
          13615,
          2345,
          1288,
          1130,
          701,
          3228,
          374,
          3047,
          782,
          79223,
          138,
          3722,
          283,
          19461,
          1047,
          773,
          143,
          13292,
          378,
          947,
          66762,
          4050,
          19,
          4127,
          341,
          81,
          340,
          5290,
          487,
          476,
          4726,
          468,
          2805,
          1404,
          4776,
          1090,
          1013,
          1779,
          4175,
          32664,
          9526,
          11397,
          1731,
          1574,
          1887,
          3188,
          1155,
          847,
          3349,
          1489,
          805,
          1220,
          423,
          246,
          4641,
          5269,
          2630,
          194,
          5858,
          6718,
          1476,
          1584,
          1174,
          28637,
          24464,
          190,
          263,
          753,
          2695,
          674,
          479,
          307,
          149,
          74,
          1492,
          3738,
          985,
          107,
          3860,
          1008,
          683,
          509,
          30,
          7739,
          162,
          649,
          5092,
          372,
          33,
          301,
          19,
          261,
          63,
          37,
          6380,
          4950,
          186200,
          1189,
          3837,
          29825,
          12966,
          6786,
          5253,
          2421,
          6025,
          1198,
          1540,
          1393,
          1806,
          6588,
          4567,
          9833,
          17592,
          323,
          1116,
          8817,
          2984,
          3837,
          13965,
          2104,
          877,
          241,
          2626,
          409,
          3157,
          1338,
          27941,
          1425,
          6294,
          4211,
          3609,
          2578,
          2032,
          788,
          11474,
          1994,
          4534,
          512,
          3605,
          3461,
          94436,
          4169,
          1479,
          20095,
          2403,
          5778,
          2592,
          7017,
          884,
          742,
          2810,
          17950,
          768,
          384,
          563,
          105,
          347,
          669,
          359,
          4752,
          209,
          1691,
          8910,
          311,
          256,
          1248,
          12868,
          4036,
          2237,
          14121,
          8497,
          40576,
          12215,
          6929,
          705,
          35384,
          17124,
          7730,
          96353,
          14888,
          109,
          21,
          30,
          20,
          13291,
          14859,
          219,
          15026,
          232,
          184,
          506,
          98,
          7228,
          79,
          1226,
          72,
          70,
          1041,
          510,
          250,
          432,
          95,
          1082,
          56,
          127,
          35487,
          4332,
          3815,
          3664,
          2786,
          767,
          658,
          2217,
          1371,
          325,
          746,
          23,
          62,
          188,
          298,
          2573,
          22,
          72,
          1384,
          916,
          1159,
          7727,
          942,
          361,
          18,
          369,
          525,
          16,
          246,
          1202,
          1885,
          3720,
          350,
          1117,
          374,
          26,
          281,
          1049,
          298,
          787,
          124,
          3416,
          755,
          79,
          108,
          64,
          82,
          25,
          502,
          22787,
          809,
          24988,
          16,
          15095,
          3080,
          139,
          79,
          1467,
          336,
          562,
          166,
          171,
          13,
          2855,
          46,
          580,
          174,
          123,
          17,
          190,
          43,
          147,
          43,
          309,
          15,
          32,
          793,
          139746,
          225376,
          132718,
          96729,
          592269,
          279548,
          119297,
          48244,
          57016,
          315567,
          299091,
          52090,
          127319,
          72132,
          156165,
          132094,
          214912,
          114326,
          99352,
          165609,
          209387,
          24768,
          285109,
          19099,
          19155,
          76206,
          444271,
          80774,
          87295,
          125846,
          58374,
          17936,
          42225,
          21741,
          53421,
          32642,
          21550,
          20670,
          40158,
          4214,
          24839,
          14128,
          80724,
          12958,
          23046,
          114849,
          52642,
          23018,
          31374,
          9286,
          9903,
          10892,
          19054,
          36196,
          45173,
          4847,
          3521,
          4289,
          2055,
          1721,
          2408,
          2413,
          8335,
          2475,
          44336,
          13385,
          2673,
          16459,
          23437,
          8710,
          11264,
          12308,
          6010,
          2040,
          2699,
          2076,
          1612,
          1233,
          218,
          583,
          1155,
          507,
          749,
          1929,
          1460,
          7175,
          1192,
          1916,
          2625,
          1707,
          2711,
          2674,
          2771,
          152,
          340,
          712,
          6580,
          3453,
          629,
          110,
          738,
          100,
          4135,
          1276,
          833,
          163,
          134,
          1309,
          352,
          304,
          349,
          100,
          159,
          515,
          1079,
          961,
          597,
          245,
          741,
          148,
          164,
          287,
          339,
          582,
          444,
          1523,
          8402,
          890,
          1436,
          1528,
          245,
          556,
          1427,
          726,
          3872,
          398,
          148,
          164,
          315,
          159,
          1249,
          7572,
          8579,
          2800,
          3406,
          2931,
          421,
          3063,
          80148,
          6041,
          9426,
          1581,
          34312,
          38463,
          657,
          52600,
          8202,
          1544,
          733,
          258,
          1084,
          3741,
          790,
          1890,
          300,
          809,
          2014,
          1416,
          3426,
          2588,
          11944,
          2387,
          2911,
          1743,
          18984,
          212,
          68827,
          1331,
          100,
          514,
          6890,
          1147,
          25979,
          1561,
          1381,
          762,
          738,
          371,
          4396,
          3762,
          29352,
          269,
          430,
          447,
          912,
          622,
          269,
          1381,
          3259,
          1185,
          5064,
          320,
          185,
          1954,
          12406,
          3691,
          7161,
          714,
          10798,
          3779,
          32945,
          227,
          241,
          4406,
          1225,
          4508,
          2794,
          3641,
          2397,
          922,
          171,
          563,
          644,
          10878,
          22768,
          2729,
          863,
          702,
          330,
          6447,
          1852,
          67,
          1838,
          173,
          465,
          253,
          1918,
          2334,
          241,
          444,
          335,
          254,
          549,
          199,
          765,
          990,
          253,
          10139,
          3539,
          104,
          60,
          401,
          677,
          30,
          89,
          6228,
          5168,
          3254,
          76,
          123,
          136,
          1050,
          16524,
          35,
          8,
          12026,
          53,
          1232,
          1548,
          23,
          19,
          17051,
          9127,
          4842,
          17513,
          785,
          1273,
          1721,
          1470,
          4873,
          7304,
          3451,
          3051,
          1543,
          656,
          1422,
          675,
          364,
          1106,
          1013,
          1529,
          204,
          1516,
          1150,
          2460,
          366,
          4702,
          24394,
          201,
          3729,
          1729,
          827,
          33,
          411,
          3214,
          4986,
          11868,
          3305,
          509,
          639,
          19597,
          1108,
          431,
          3433,
          1114,
          495,
          1019,
          5651,
          264,
          28861,
          26060,
          672,
          22,
          967,
          1104,
          299,
          639,
          6796,
          3461,
          3645,
          327,
          2416,
          517,
          2278,
          47,
          159,
          704,
          260,
          110,
          84,
          182,
          710,
          139,
          1497,
          2000,
          75,
          5033,
          97,
          288,
          382,
          108,
          21,
          236,
          1069,
          248,
          21118,
          121885,
          28592,
          13645,
          24458,
          17065,
          54732,
          61058,
          266613,
          11902,
          87790,
          25087,
          3045,
          2743,
          29024,
          6497,
          17015,
          6272,
          5558,
          1974,
          7674,
          5033,
          22726,
          37014,
          131950,
          19942,
          1782,
          110745,
          2999,
          85467,
          13574,
          17700,
          184314,
          24913,
          53953,
          13306,
          44209,
          2111,
          165049,
          80152,
          3992,
          5087,
          3919,
          3369,
          22592,
          380755,
          39032,
          3208,
          28647,
          13533,
          2071,
          6171,
          25483,
          3645,
          1625,
          10733,
          2850,
          75452,
          69916,
          1779,
          8591,
          8138,
          520,
          379,
          17395,
          2106,
          58433,
          2879,
          65907,
          4813,
          11238,
          4394,
          93511,
          16582,
          5755,
          2930,
          5777,
          3980,
          8717,
          5175,
          45838,
          8180,
          19994,
          20519,
          19395,
          3224,
          267,
          1738,
          6983,
          1884,
          22514,
          46666,
          2709,
          78864,
          14180,
          20014,
          766,
          4732,
          1964,
          2233,
          10846,
          2098,
          2940,
          1161,
          1655,
          21179,
          5494,
          1499,
          5293,
          3834,
          6664,
          114,
          1995,
          617,
          1351,
          2543,
          15330,
          649,
          9590,
          1635,
          1893,
          3204,
          9227,
          768,
          323,
          1094,
          778,
          3546,
          21104,
          4101,
          29685,
          753,
          576,
          231,
          164,
          3165,
          1252,
          1140,
          362,
          490,
          38825,
          6379,
          569,
          678,
          843,
          711,
          775,
          42,
          21659,
          2494,
          6768,
          7607,
          1149,
          2333,
          404,
          65,
          617,
          411,
          439,
          15272,
          587,
          128,
          3802,
          1794,
          8825,
          84,
          90,
          59,
          4444,
          87,
          146,
          57,
          37,
          11,
          8653,
          34430,
          3774,
          16721,
          3790,
          17566,
          6695,
          7344,
          19051,
          11189,
          8994,
          8357,
          14287,
          35254,
          11197,
          73897,
          6076,
          24320,
          23002,
          15602,
          2644,
          4771,
          4531,
          1578,
          23944,
          9240,
          8122,
          5652,
          21400,
          9436,
          16252,
          5681,
          25116,
          5495,
          12073,
          14736,
          23691,
          29850,
          132731,
          84344,
          3510,
          34153,
          4160,
          9262,
          4290,
          156206,
          15810,
          45073,
          5446,
          1923160,
          8651,
          11000,
          55664,
          8125,
          7243,
          1317,
          9702,
          2194,
          3871,
          3608,
          8569,
          164066,
          87954,
          16515,
          34063,
          4703,
          11291,
          10506,
          4060,
          393,
          6074,
          660,
          369,
          1249,
          445,
          8096,
          50832,
          6975,
          190,
          71,
          41,
          63,
          7206,
          11509,
          2276,
          25922,
          136,
          692,
          1042,
          6411,
          12,
          22744,
          15410,
          687,
          280,
          2061,
          1053,
          397,
          73,
          180,
          511,
          102833,
          53542,
          28647,
          44863,
          438456,
          56210,
          75181,
          43771,
          75734,
          83784,
          355272,
          32068,
          27548,
          39131,
          18286,
          35418,
          3943,
          2227,
          6190,
          7427,
          1459,
          4474,
          6520,
          698,
          1620,
          1655,
          3043,
          1509,
          1442,
          1430,
          1630,
          8371,
          2142,
          15180,
          1204,
          5645,
          10958,
          2691,
          5118,
          4701,
          2906,
          1628,
          1499,
          3095,
          2926,
          7959,
          26608,
          18431,
          6601,
          3910,
          2961,
          79412,
          17223,
          1621,
          6002,
          1059,
          4999,
          4580,
          13195,
          1378,
          10259,
          42294,
          1500,
          39336,
          2179,
          4895,
          1106,
          44658,
          31184,
          2462,
          9016,
          2114,
          63826,
          7765,
          1338,
          89220,
          3855,
          8644,
          1132,
          1598,
          674,
          1509,
          10753,
          2392,
          980,
          1141,
          6082,
          5341,
          1121,
          421,
          7238,
          15093,
          3659,
          23333,
          3905,
          2549,
          6110,
          4414,
          6293,
          1295,
          2385,
          2432,
          1729,
          1992,
          3119,
          1715,
          165,
          2782,
          731,
          255,
          2383,
          485,
          436,
          1032,
          36789,
          336,
          463,
          318,
          137,
          150,
          441,
          1659,
          137,
          206,
          3287,
          464,
          361,
          147,
          1154,
          4164,
          3775,
          648,
          190,
          100,
          533,
          125,
          1712,
          1826,
          269,
          137,
          216,
          204,
          1427,
          442,
          1576,
          216,
          556,
          325,
          200,
          2415,
          480,
          17833,
          409,
          419,
          686,
          688,
          3328,
          715,
          1818,
          1134,
          502,
          474,
          311,
          1029,
          663,
          3476,
          7461,
          4168,
          539,
          8957,
          1407,
          946,
          438,
          578,
          3678,
          17410,
          3990,
          10753,
          299,
          57,
          149,
          368,
          48163,
          174050,
          104198,
          95630,
          211579,
          493622,
          152865,
          233172,
          113345,
          7533,
          165273,
          85819,
          108407,
          70973,
          13470,
          20647,
          179076,
          356394,
          28933,
          38475,
          30815,
          41767,
          29346,
          13777,
          102395,
          220881,
          17861,
          146287,
          3448,
          27268,
          26270,
          161841,
          9776,
          3963,
          2026,
          16023,
          36135,
          22911,
          1425,
          4119,
          21376,
          1646,
          6398,
          2049,
          2248,
          52,
          255,
          208,
          407,
          1919,
          1610,
          636,
          2394,
          149507,
          27797,
          2292,
          10705,
          2523,
          9738,
          4682,
          3332,
          6271,
          7436,
          451,
          3322,
          135646,
          2772,
          36188,
          40298,
          12463,
          3177,
          4927,
          27167,
          140358,
          2927,
          8942,
          372,
          291,
          15144,
          11554,
          2072,
          3216,
          2316,
          1185,
          5408,
          408,
          4055,
          9208,
          1144,
          1266,
          225,
          1854,
          1146,
          11617,
          2439,
          1632,
          2720,
          3291,
          323,
          1191,
          2351,
          1002,
          60,
          131,
          6895,
          325,
          387,
          3614,
          820,
          1667,
          1933,
          613,
          531,
          554,
          1909,
          64,
          54,
          719,
          23,
          8,
          99,
          76,
          45,
          274,
          27,
          79,
          68,
          64,
          75,
          40,
          4,
          45,
          26,
          6,
          81,
          29,
          116,
          28,
          31,
          59,
          22,
          168,
          32,
          70,
          536,
          32,
          14,
          12,
          31,
          5,
          64,
          8,
          15,
          11,
          42,
          27,
          6,
          18,
          53,
          12,
          23,
          162,
          1,
          2,
          20,
          5,
          37,
          17,
          44,
          27,
          35,
          2,
          87,
          75,
          23,
          2,
          422,
          5,
          24,
          15,
          17,
          133,
          92,
          123,
          128,
          1,
          17,
          21,
          250,
          0,
          37,
          15,
          0,
          14,
          350,
          5,
          5,
          71,
          19,
          2,
          5,
          5,
          1,
          2,
          10,
          8,
          3,
          4572,
          265,
          128,
          28,
          5,
          9838,
          179,
          246,
          3,
          163,
          16,
          130,
          119,
          19,
          1138,
          354,
          2,
          31,
          95,
          30,
          39,
          34,
          4,
          58,
          16,
          18,
          72,
          13,
          13,
          19,
          69,
          16,
          10,
          3,
          0,
          24,
          47,
          88,
          35,
          13,
          0,
          0,
          3,
          105,
          10,
          1,
          0,
          13,
          1,
          11,
          2,
          7,
          7,
          9,
          3,
          4,
          15,
          9,
          18,
          0,
          20,
          10,
          0,
          24,
          6,
          0,
          19,
          2,
          0,
          4,
          1,
          19,
          15,
          0,
          1,
          0,
          0,
          7,
          0,
          3,
          3,
          0,
          0,
          1,
          7527,
          35696,
          4709,
          20940,
          6578,
          5243,
          40786,
          2527,
          8098,
          3599,
          14046,
          3030,
          21327,
          4487,
          2053,
          3685,
          6338,
          32627,
          23257,
          5808,
          1766,
          2450,
          11434,
          179310,
          4514,
          3642,
          4009,
          2696,
          870,
          2667,
          5714,
          13432,
          5674,
          11630,
          2662,
          1005,
          2901,
          1437,
          5655,
          1107,
          77397,
          17170,
          7202,
          13460,
          1586,
          2798,
          6412,
          976,
          41462,
          9613,
          7662,
          13295,
          48949,
          7207,
          10682,
          13162,
          61097,
          135492,
          19727,
          11553,
          9231,
          37569,
          17606,
          4864,
          2491,
          65216,
          83373,
          25938,
          16902,
          97250,
          13665,
          3769,
          4557,
          3850,
          597,
          4575,
          1487,
          1583,
          893,
          2653,
          5081,
          590,
          1764,
          1843,
          1899,
          879,
          2093,
          828,
          417,
          1419,
          917,
          642,
          889,
          883,
          515,
          419,
          760,
          2114,
          949,
          581,
          256,
          405,
          2105,
          1631,
          1888,
          179,
          1149,
          1441,
          187,
          1824,
          1831,
          2671,
          23,
          2705,
          1822,
          1982,
          738,
          656,
          3093,
          237,
          1185,
          1337,
          487,
          1469,
          1655,
          831,
          1682,
          544,
          132,
          584,
          1386,
          3397,
          1253,
          1488,
          1730,
          1019,
          622,
          45085,
          2603,
          2832,
          1869,
          3023,
          4014,
          1406,
          5145,
          541,
          151,
          237,
          1294,
          2880,
          7055,
          99,
          1772,
          8459,
          2443,
          1286,
          185,
          2274,
          533,
          751,
          627,
          1095,
          703,
          279,
          610,
          877,
          29542,
          25460,
          441,
          23,
          178,
          373,
          33,
          296,
          32,
          634
         ]
        }
       ],
       "layout": {
        "barmode": "overlay",
        "legend": {
         "bgcolor": "#F5F6F9",
         "font": {
          "color": "#4D5663"
         }
        },
        "paper_bgcolor": "#F5F6F9",
        "plot_bgcolor": "#F5F6F9",
        "template": {
         "data": {
          "bar": [
           {
            "error_x": {
             "color": "#2a3f5f"
            },
            "error_y": {
             "color": "#2a3f5f"
            },
            "marker": {
             "line": {
              "color": "#E5ECF6",
              "width": 0.5
             }
            },
            "type": "bar"
           }
          ],
          "barpolar": [
           {
            "marker": {
             "line": {
              "color": "#E5ECF6",
              "width": 0.5
             }
            },
            "type": "barpolar"
           }
          ],
          "carpet": [
           {
            "aaxis": {
             "endlinecolor": "#2a3f5f",
             "gridcolor": "white",
             "linecolor": "white",
             "minorgridcolor": "white",
             "startlinecolor": "#2a3f5f"
            },
            "baxis": {
             "endlinecolor": "#2a3f5f",
             "gridcolor": "white",
             "linecolor": "white",
             "minorgridcolor": "white",
             "startlinecolor": "#2a3f5f"
            },
            "type": "carpet"
           }
          ],
          "choropleth": [
           {
            "colorbar": {
             "outlinewidth": 0,
             "ticks": ""
            },
            "type": "choropleth"
           }
          ],
          "contour": [
           {
            "colorbar": {
             "outlinewidth": 0,
             "ticks": ""
            },
            "colorscale": [
             [
              0,
              "#0d0887"
             ],
             [
              0.1111111111111111,
              "#46039f"
             ],
             [
              0.2222222222222222,
              "#7201a8"
             ],
             [
              0.3333333333333333,
              "#9c179e"
             ],
             [
              0.4444444444444444,
              "#bd3786"
             ],
             [
              0.5555555555555556,
              "#d8576b"
             ],
             [
              0.6666666666666666,
              "#ed7953"
             ],
             [
              0.7777777777777778,
              "#fb9f3a"
             ],
             [
              0.8888888888888888,
              "#fdca26"
             ],
             [
              1,
              "#f0f921"
             ]
            ],
            "type": "contour"
           }
          ],
          "contourcarpet": [
           {
            "colorbar": {
             "outlinewidth": 0,
             "ticks": ""
            },
            "type": "contourcarpet"
           }
          ],
          "heatmap": [
           {
            "colorbar": {
             "outlinewidth": 0,
             "ticks": ""
            },
            "colorscale": [
             [
              0,
              "#0d0887"
             ],
             [
              0.1111111111111111,
              "#46039f"
             ],
             [
              0.2222222222222222,
              "#7201a8"
             ],
             [
              0.3333333333333333,
              "#9c179e"
             ],
             [
              0.4444444444444444,
              "#bd3786"
             ],
             [
              0.5555555555555556,
              "#d8576b"
             ],
             [
              0.6666666666666666,
              "#ed7953"
             ],
             [
              0.7777777777777778,
              "#fb9f3a"
             ],
             [
              0.8888888888888888,
              "#fdca26"
             ],
             [
              1,
              "#f0f921"
             ]
            ],
            "type": "heatmap"
           }
          ],
          "heatmapgl": [
           {
            "colorbar": {
             "outlinewidth": 0,
             "ticks": ""
            },
            "colorscale": [
             [
              0,
              "#0d0887"
             ],
             [
              0.1111111111111111,
              "#46039f"
             ],
             [
              0.2222222222222222,
              "#7201a8"
             ],
             [
              0.3333333333333333,
              "#9c179e"
             ],
             [
              0.4444444444444444,
              "#bd3786"
             ],
             [
              0.5555555555555556,
              "#d8576b"
             ],
             [
              0.6666666666666666,
              "#ed7953"
             ],
             [
              0.7777777777777778,
              "#fb9f3a"
             ],
             [
              0.8888888888888888,
              "#fdca26"
             ],
             [
              1,
              "#f0f921"
             ]
            ],
            "type": "heatmapgl"
           }
          ],
          "histogram": [
           {
            "marker": {
             "colorbar": {
              "outlinewidth": 0,
              "ticks": ""
             }
            },
            "type": "histogram"
           }
          ],
          "histogram2d": [
           {
            "colorbar": {
             "outlinewidth": 0,
             "ticks": ""
            },
            "colorscale": [
             [
              0,
              "#0d0887"
             ],
             [
              0.1111111111111111,
              "#46039f"
             ],
             [
              0.2222222222222222,
              "#7201a8"
             ],
             [
              0.3333333333333333,
              "#9c179e"
             ],
             [
              0.4444444444444444,
              "#bd3786"
             ],
             [
              0.5555555555555556,
              "#d8576b"
             ],
             [
              0.6666666666666666,
              "#ed7953"
             ],
             [
              0.7777777777777778,
              "#fb9f3a"
             ],
             [
              0.8888888888888888,
              "#fdca26"
             ],
             [
              1,
              "#f0f921"
             ]
            ],
            "type": "histogram2d"
           }
          ],
          "histogram2dcontour": [
           {
            "colorbar": {
             "outlinewidth": 0,
             "ticks": ""
            },
            "colorscale": [
             [
              0,
              "#0d0887"
             ],
             [
              0.1111111111111111,
              "#46039f"
             ],
             [
              0.2222222222222222,
              "#7201a8"
             ],
             [
              0.3333333333333333,
              "#9c179e"
             ],
             [
              0.4444444444444444,
              "#bd3786"
             ],
             [
              0.5555555555555556,
              "#d8576b"
             ],
             [
              0.6666666666666666,
              "#ed7953"
             ],
             [
              0.7777777777777778,
              "#fb9f3a"
             ],
             [
              0.8888888888888888,
              "#fdca26"
             ],
             [
              1,
              "#f0f921"
             ]
            ],
            "type": "histogram2dcontour"
           }
          ],
          "mesh3d": [
           {
            "colorbar": {
             "outlinewidth": 0,
             "ticks": ""
            },
            "type": "mesh3d"
           }
          ],
          "parcoords": [
           {
            "line": {
             "colorbar": {
              "outlinewidth": 0,
              "ticks": ""
             }
            },
            "type": "parcoords"
           }
          ],
          "pie": [
           {
            "automargin": true,
            "type": "pie"
           }
          ],
          "scatter": [
           {
            "marker": {
             "colorbar": {
              "outlinewidth": 0,
              "ticks": ""
             }
            },
            "type": "scatter"
           }
          ],
          "scatter3d": [
           {
            "line": {
             "colorbar": {
              "outlinewidth": 0,
              "ticks": ""
             }
            },
            "marker": {
             "colorbar": {
              "outlinewidth": 0,
              "ticks": ""
             }
            },
            "type": "scatter3d"
           }
          ],
          "scattercarpet": [
           {
            "marker": {
             "colorbar": {
              "outlinewidth": 0,
              "ticks": ""
             }
            },
            "type": "scattercarpet"
           }
          ],
          "scattergeo": [
           {
            "marker": {
             "colorbar": {
              "outlinewidth": 0,
              "ticks": ""
             }
            },
            "type": "scattergeo"
           }
          ],
          "scattergl": [
           {
            "marker": {
             "colorbar": {
              "outlinewidth": 0,
              "ticks": ""
             }
            },
            "type": "scattergl"
           }
          ],
          "scattermapbox": [
           {
            "marker": {
             "colorbar": {
              "outlinewidth": 0,
              "ticks": ""
             }
            },
            "type": "scattermapbox"
           }
          ],
          "scatterpolar": [
           {
            "marker": {
             "colorbar": {
              "outlinewidth": 0,
              "ticks": ""
             }
            },
            "type": "scatterpolar"
           }
          ],
          "scatterpolargl": [
           {
            "marker": {
             "colorbar": {
              "outlinewidth": 0,
              "ticks": ""
             }
            },
            "type": "scatterpolargl"
           }
          ],
          "scatterternary": [
           {
            "marker": {
             "colorbar": {
              "outlinewidth": 0,
              "ticks": ""
             }
            },
            "type": "scatterternary"
           }
          ],
          "surface": [
           {
            "colorbar": {
             "outlinewidth": 0,
             "ticks": ""
            },
            "colorscale": [
             [
              0,
              "#0d0887"
             ],
             [
              0.1111111111111111,
              "#46039f"
             ],
             [
              0.2222222222222222,
              "#7201a8"
             ],
             [
              0.3333333333333333,
              "#9c179e"
             ],
             [
              0.4444444444444444,
              "#bd3786"
             ],
             [
              0.5555555555555556,
              "#d8576b"
             ],
             [
              0.6666666666666666,
              "#ed7953"
             ],
             [
              0.7777777777777778,
              "#fb9f3a"
             ],
             [
              0.8888888888888888,
              "#fdca26"
             ],
             [
              1,
              "#f0f921"
             ]
            ],
            "type": "surface"
           }
          ],
          "table": [
           {
            "cells": {
             "fill": {
              "color": "#EBF0F8"
             },
             "line": {
              "color": "white"
             }
            },
            "header": {
             "fill": {
              "color": "#C8D4E3"
             },
             "line": {
              "color": "white"
             }
            },
            "type": "table"
           }
          ]
         },
         "layout": {
          "annotationdefaults": {
           "arrowcolor": "#2a3f5f",
           "arrowhead": 0,
           "arrowwidth": 1
          },
          "autotypenumbers": "strict",
          "coloraxis": {
           "colorbar": {
            "outlinewidth": 0,
            "ticks": ""
           }
          },
          "colorscale": {
           "diverging": [
            [
             0,
             "#8e0152"
            ],
            [
             0.1,
             "#c51b7d"
            ],
            [
             0.2,
             "#de77ae"
            ],
            [
             0.3,
             "#f1b6da"
            ],
            [
             0.4,
             "#fde0ef"
            ],
            [
             0.5,
             "#f7f7f7"
            ],
            [
             0.6,
             "#e6f5d0"
            ],
            [
             0.7,
             "#b8e186"
            ],
            [
             0.8,
             "#7fbc41"
            ],
            [
             0.9,
             "#4d9221"
            ],
            [
             1,
             "#276419"
            ]
           ],
           "sequential": [
            [
             0,
             "#0d0887"
            ],
            [
             0.1111111111111111,
             "#46039f"
            ],
            [
             0.2222222222222222,
             "#7201a8"
            ],
            [
             0.3333333333333333,
             "#9c179e"
            ],
            [
             0.4444444444444444,
             "#bd3786"
            ],
            [
             0.5555555555555556,
             "#d8576b"
            ],
            [
             0.6666666666666666,
             "#ed7953"
            ],
            [
             0.7777777777777778,
             "#fb9f3a"
            ],
            [
             0.8888888888888888,
             "#fdca26"
            ],
            [
             1,
             "#f0f921"
            ]
           ],
           "sequentialminus": [
            [
             0,
             "#0d0887"
            ],
            [
             0.1111111111111111,
             "#46039f"
            ],
            [
             0.2222222222222222,
             "#7201a8"
            ],
            [
             0.3333333333333333,
             "#9c179e"
            ],
            [
             0.4444444444444444,
             "#bd3786"
            ],
            [
             0.5555555555555556,
             "#d8576b"
            ],
            [
             0.6666666666666666,
             "#ed7953"
            ],
            [
             0.7777777777777778,
             "#fb9f3a"
            ],
            [
             0.8888888888888888,
             "#fdca26"
            ],
            [
             1,
             "#f0f921"
            ]
           ]
          },
          "colorway": [
           "#636efa",
           "#EF553B",
           "#00cc96",
           "#ab63fa",
           "#FFA15A",
           "#19d3f3",
           "#FF6692",
           "#B6E880",
           "#FF97FF",
           "#FECB52"
          ],
          "font": {
           "color": "#2a3f5f"
          },
          "geo": {
           "bgcolor": "white",
           "lakecolor": "white",
           "landcolor": "#E5ECF6",
           "showlakes": true,
           "showland": true,
           "subunitcolor": "white"
          },
          "hoverlabel": {
           "align": "left"
          },
          "hovermode": "closest",
          "mapbox": {
           "style": "light"
          },
          "paper_bgcolor": "white",
          "plot_bgcolor": "#E5ECF6",
          "polar": {
           "angularaxis": {
            "gridcolor": "white",
            "linecolor": "white",
            "ticks": ""
           },
           "bgcolor": "#E5ECF6",
           "radialaxis": {
            "gridcolor": "white",
            "linecolor": "white",
            "ticks": ""
           }
          },
          "scene": {
           "xaxis": {
            "backgroundcolor": "#E5ECF6",
            "gridcolor": "white",
            "gridwidth": 2,
            "linecolor": "white",
            "showbackground": true,
            "ticks": "",
            "zerolinecolor": "white"
           },
           "yaxis": {
            "backgroundcolor": "#E5ECF6",
            "gridcolor": "white",
            "gridwidth": 2,
            "linecolor": "white",
            "showbackground": true,
            "ticks": "",
            "zerolinecolor": "white"
           },
           "zaxis": {
            "backgroundcolor": "#E5ECF6",
            "gridcolor": "white",
            "gridwidth": 2,
            "linecolor": "white",
            "showbackground": true,
            "ticks": "",
            "zerolinecolor": "white"
           }
          },
          "shapedefaults": {
           "line": {
            "color": "#2a3f5f"
           }
          },
          "ternary": {
           "aaxis": {
            "gridcolor": "white",
            "linecolor": "white",
            "ticks": ""
           },
           "baxis": {
            "gridcolor": "white",
            "linecolor": "white",
            "ticks": ""
           },
           "bgcolor": "#E5ECF6",
           "caxis": {
            "gridcolor": "white",
            "linecolor": "white",
            "ticks": ""
           }
          },
          "title": {
           "x": 0.05
          },
          "xaxis": {
           "automargin": true,
           "gridcolor": "white",
           "linecolor": "white",
           "ticks": "",
           "title": {
            "standoff": 15
           },
           "zerolinecolor": "white",
           "zerolinewidth": 2
          },
          "yaxis": {
           "automargin": true,
           "gridcolor": "white",
           "linecolor": "white",
           "ticks": "",
           "title": {
            "standoff": 15
           },
           "zerolinecolor": "white",
           "zerolinewidth": 2
          }
         }
        },
        "title": {
         "font": {
          "color": "#4D5663"
         },
         "text": "销量分布"
        },
        "xaxis": {
         "gridcolor": "#E1E5ED",
         "range": [
          0,
          400000
         ],
         "showgrid": true,
         "tickfont": {
          "color": "#4D5663"
         },
         "title": {
          "font": {
           "color": "#4D5663"
          },
          "text": ""
         },
         "zerolinecolor": "#E1E5ED"
        },
        "yaxis": {
         "gridcolor": "#E1E5ED",
         "showgrid": true,
         "tickfont": {
          "color": "#4D5663"
         },
         "title": {
          "font": {
           "color": "#4D5663"
          },
          "text": ""
         },
         "zerolinecolor": "#E1E5ED"
        }
       }
      },
      "text/html": [
       "<div>                            <div id=\"9f634bb8-9df8-480a-a5c6-ce03f064e2fe\" class=\"plotly-graph-div\" style=\"height:525px; width:100%;\"></div>            <script type=\"text/javascript\">                require([\"plotly\"], function(Plotly) {                    window.PLOTLYENV=window.PLOTLYENV || {};                                    if (document.getElementById(\"9f634bb8-9df8-480a-a5c6-ce03f064e2fe\")) {                    Plotly.newPlot(                        \"9f634bb8-9df8-480a-a5c6-ce03f064e2fe\",                        [{\"histfunc\": \"count\", \"histnorm\": \"\", \"marker\": {\"color\": \"rgba(255, 153, 51, 1.0)\", \"line\": {\"color\": \"#4D5663\", \"width\": 1.3}}, \"name\": \"\\u9500\\u91cf\", \"nbinsx\": 500, \"opacity\": 0.8, \"orientation\": \"v\", \"type\": \"histogram\", \"x\": [26719.0, 8122.0, 12668.0, 25805.0, 5196.0, 42858.0, 3027.0, 6925.0, 4649.0, 2293.0, 64345.0, 19290.0, 10711.0, 2775.0, 16963.0, 2748.0, 13428.0, 22353.0, 19262.0, 12810.0, 25988.0, 57344.0, 17747.0, 16203.0, 13906.0, 38266.0, 2648.0, 14955.0, 7355.0, 28771.0, 121620.0, 346091.0, 14924.0, 42650.0, 10860.0, 14594.0, 4694.0, 6861.0, 9712.0, 6782.0, 23076.0, 11282.0, 8447.0, 23421.0, 29229.0, 119516.0, 9023.0, 15837.0, 55001.0, 7053.0, 1778.0, 1773.0, 7124.0, 189494.0, 21694.0, 12117.0, 53857.0, 21078.0, 7219.0, 14722.0, 13225.0, 20010.0, 5168.0, 48989.0, 33187.0, 1624.0, 730.0, 2343.0, 1177.0, 4818.0, 19959.0, 3194.0, 16022.0, 1562.0, 26724.0, 9693.0, 27397.0, 5182.0, 1326.0, 37555.0, 1084.0, 4878.0, 5047.0, 8630.0, 3146.0, 7813.0, 4514.0, 2544.0, 21456.0, 4589.0, 37798.0, 43.0, 19650.0, 18398.0, 4775.0, 4800.0, 2886.0, 12348.0, 7712.0, 774.0, 769.0, 1075.0, 450.0, 6970.0, 145315.0, 7034.0, 2675.0, 1534.0, 3497.0, 101927.0, 56292.0, 1127.0, 8713.0, 17902.0, 1073.0, 1460.0, 13967.0, 3350.0, 549.0, 737.0, 18053.0, 390.0, 6622.0, 2349.0, 385.0, 7.0, 5191.0, 568.0, 521.0, 298.0, 599.0, 5890.0, 734.0, 1202.0, 517.0, 6831.0, 50.0, 612.0, 233.0, 75.0, 45.0, 611.0, 382.0, 686.0, 788.0, 97.0, 100.0, 68.0, 89.0, 26.0, 50.0, 393.0, 261.0, 132.0, 56.0, 706.0, 1272.0, 108.0, 94.0, 379.0, 108.0, 45.0, 181.0, 16.0, 55.0, 28.0, 53.0, 63.0, 8.0, 30.0, 438.0, 27.0, 8.0, 73.0, 71.0, 18.0, 84.0, 48.0, 64.0, 23.0, 41886.0, 8548.0, 5983.0, 141.0, 3370.0, 76405.0, 3916.0, 12568.0, 7449.0, 12160.0, 55599.0, 16836.0, 147541.0, 6697.0, 13539.0, 360833.0, 2387.0, 324388.0, 5301.0, 83801.0, 3014.0, 14995.0, 29637.0, 6298.0, 5274.0, 4042.0, 7850.0, 1717.0, 6405.0, 46337.0, 37338.0, 685.0, 19990.0, 839.0, 358343.0, 91846.0, 3458.0, 5015.0, 2579.0, 65122.0, 15176.0, 381.0, 612.0, 8867.0, 12540.0, 586.0, 5300.0, 1115.0, 1100.0, 4070.0, 5443.0, 11176.0, 2158.0, 5606.0, 3588.0, 11055.0, 66596.0, 40721.0, 1787.0, 1623.0, 2984.0, 2829.0, 11816.0, 10711.0, 1266.0, 519.0, 1148.0, 2726.0, 2887.0, 11244.0, 1716.0, 964.0, 3122.0, 5849.0, 57536.0, 1745.0, 2289.0, 3786.0, 16507.0, 6687.0, 5492.0, 6591.0, 15785.0, 1387.0, 2098.0, 403.0, 2246.0, 4737.0, 1715.0, 762.0, 480.0, 948.0, 892.0, 2161.0, 3806.0, 1260.0, 7906.0, 4694.0, 4326.0, 45838.0, 4417.0, 8728.0, 783.0, 680.0, 2957.0, 4910.0, 1091.0, 2378.0, 8924.0, 37845.0, 636.0, 471.0, 210.0, 4184.0, 3309.0, 32074.0, 21853.0, 65271.0, 10830.0, 20923.0, 20868.0, 5323.0, 159999.0, 104654.0, 11218.0, 3460.0, 200.0, 4065.0, 236.0, 827.0, 1152.0, 3622.0, 1351.0, 139.0, 2381.0, 13352.0, 14606.0, 6036.0, 3007.0, 7709.0, 3309.0, 16710.0, 2266.0, 172.0, 122.0, 730.0, 137.0, 7513.0, 7785.0, 7405.0, 5069.0, 3344.0, 1810.0, 1795.0, 7327.0, 2700.0, 5069.0, 4463.0, 8828.0, 2248.0, 5188.0, 1176.0, 8611.0, 4597.0, 1351.0, 391.0, 2586.0, 1008.0, 705.0, 15972.0, 7367.0, 7737.0, 17203.0, 12704.0, 33611.0, 17007.0, 16357.0, 15212.0, 5440.0, 2048.0, 8146.0, 13615.0, 2345.0, 1288.0, 1130.0, 701.0, 3228.0, 374.0, 3047.0, 782.0, 79223.0, 138.0, 3722.0, 283.0, 19461.0, 1047.0, 773.0, 143.0, 13292.0, 378.0, 947.0, 66762.0, 4050.0, 19.0, 4127.0, 341.0, 81.0, 340.0, 5290.0, 487.0, 476.0, 4726.0, 468.0, 2805.0, 1404.0, 4776.0, 1090.0, 1013.0, 1779.0, 4175.0, 32664.0, 9526.0, 11397.0, 1731.0, 1574.0, 1887.0, 3188.0, 1155.0, 847.0, 3349.0, 1489.0, 805.0, 1220.0, 423.0, 246.0, 4641.0, 5269.0, 2630.0, 194.0, 5858.0, 6718.0, 1476.0, 1584.0, 1174.0, 28637.0, 24464.0, 190.0, 263.0, 753.0, 2695.0, 674.0, 479.0, 307.0, 149.0, 74.0, 1492.0, 3738.0, 985.0, 107.0, 3860.0, 1008.0, 683.0, 509.0, 30.0, 7739.0, 162.0, 649.0, 5092.0, 372.0, 33.0, 301.0, 19.0, 261.0, 63.0, 37.0, 6380.0, 4950.0, 186200.0, 1189.0, 3837.0, 29825.0, 12966.0, 6786.0, 5253.0, 2421.0, 6025.0, 1198.0, 1540.0, 1393.0, 1806.0, 6588.0, 4567.0, 9833.0, 17592.0, 323.0, 1116.0, 8817.0, 2984.0, 3837.0, 13965.0, 2104.0, 877.0, 241.0, 2626.0, 409.0, 3157.0, 1338.0, 27941.0, 1425.0, 6294.0, 4211.0, 3609.0, 2578.0, 2032.0, 788.0, 11474.0, 1994.0, 4534.0, 512.0, 3605.0, 3461.0, 94436.0, 4169.0, 1479.0, 20095.0, 2403.0, 5778.0, 2592.0, 7017.0, 884.0, 742.0, 2810.0, 17950.0, 768.0, 384.0, 563.0, 105.0, 347.0, 669.0, 359.0, 4752.0, 209.0, 1691.0, 8910.0, 311.0, 256.0, 1248.0, 12868.0, 4036.0, 2237.0, 14121.0, 8497.0, 40576.0, 12215.0, 6929.0, 705.0, 35384.0, 17124.0, 7730.0, 96353.0, 14888.0, 109.0, 21.0, 30.0, 20.0, 13291.0, 14859.0, 219.0, 15026.0, 232.0, 184.0, 506.0, 98.0, 7228.0, 79.0, 1226.0, 72.0, 70.0, 1041.0, 510.0, 250.0, 432.0, 95.0, 1082.0, 56.0, 127.0, 35487.0, 4332.0, 3815.0, 3664.0, 2786.0, 767.0, 658.0, 2217.0, 1371.0, 325.0, 746.0, 23.0, 62.0, 188.0, 298.0, 2573.0, 22.0, 72.0, 1384.0, 916.0, 1159.0, 7727.0, 942.0, 361.0, 18.0, 369.0, 525.0, 16.0, 246.0, 1202.0, 1885.0, 3720.0, 350.0, 1117.0, 374.0, 26.0, 281.0, 1049.0, 298.0, 787.0, 124.0, 3416.0, 755.0, 79.0, 108.0, 64.0, 82.0, 25.0, 502.0, 22787.0, 809.0, 24988.0, 16.0, 15095.0, 3080.0, 139.0, 79.0, 1467.0, 336.0, 562.0, 166.0, 171.0, 13.0, 2855.0, 46.0, 580.0, 174.0, 123.0, 17.0, 190.0, 43.0, 147.0, 43.0, 309.0, 15.0, 32.0, 793.0, 139746.0, 225376.0, 132718.0, 96729.0, 592269.0, 279548.0, 119297.0, 48244.0, 57016.0, 315567.0, 299091.0, 52090.0, 127319.0, 72132.0, 156165.0, 132094.0, 214912.0, 114326.0, 99352.0, 165609.0, 209387.0, 24768.0, 285109.0, 19099.0, 19155.0, 76206.0, 444271.0, 80774.0, 87295.0, 125846.0, 58374.0, 17936.0, 42225.0, 21741.0, 53421.0, 32642.0, 21550.0, 20670.0, 40158.0, 4214.0, 24839.0, 14128.0, 80724.0, 12958.0, 23046.0, 114849.0, 52642.0, 23018.0, 31374.0, 9286.0, 9903.0, 10892.0, 19054.0, 36196.0, 45173.0, 4847.0, 3521.0, 4289.0, 2055.0, 1721.0, 2408.0, 2413.0, 8335.0, 2475.0, 44336.0, 13385.0, 2673.0, 16459.0, 23437.0, 8710.0, 11264.0, 12308.0, 6010.0, 2040.0, 2699.0, 2076.0, 1612.0, 1233.0, 218.0, 583.0, 1155.0, 507.0, 749.0, 1929.0, 1460.0, 7175.0, 1192.0, 1916.0, 2625.0, 1707.0, 2711.0, 2674.0, 2771.0, 152.0, 340.0, 712.0, 6580.0, 3453.0, 629.0, 110.0, 738.0, 100.0, 4135.0, 1276.0, 833.0, 163.0, 134.0, 1309.0, 352.0, 304.0, 349.0, 100.0, 159.0, 515.0, 1079.0, 961.0, 597.0, 245.0, 741.0, 148.0, 164.0, 287.0, 339.0, 582.0, 444.0, 1523.0, 8402.0, 890.0, 1436.0, 1528.0, 245.0, 556.0, 1427.0, 726.0, 3872.0, 398.0, 148.0, 164.0, 315.0, 159.0, 1249.0, 7572.0, 8579.0, 2800.0, 3406.0, 2931.0, 421.0, 3063.0, 80148.0, 6041.0, 9426.0, 1581.0, 34312.0, 38463.0, 657.0, 52600.0, 8202.0, 1544.0, 733.0, 258.0, 1084.0, 3741.0, 790.0, 1890.0, 300.0, 809.0, 2014.0, 1416.0, 3426.0, 2588.0, 11944.0, 2387.0, 2911.0, 1743.0, 18984.0, 212.0, 68827.0, 1331.0, 100.0, 514.0, 6890.0, 1147.0, 25979.0, 1561.0, 1381.0, 762.0, 738.0, 371.0, 4396.0, 3762.0, 29352.0, 269.0, 430.0, 447.0, 912.0, 622.0, 269.0, 1381.0, 3259.0, 1185.0, 5064.0, 320.0, 185.0, 1954.0, 12406.0, 3691.0, 7161.0, 714.0, 10798.0, 3779.0, 32945.0, 227.0, 241.0, 4406.0, 1225.0, 4508.0, 2794.0, 3641.0, 2397.0, 922.0, 171.0, 563.0, 644.0, 10878.0, 22768.0, 2729.0, 863.0, 702.0, 330.0, 6447.0, 1852.0, 67.0, 1838.0, 173.0, 465.0, 253.0, 1918.0, 2334.0, 241.0, 444.0, 335.0, 254.0, 549.0, 199.0, 765.0, 990.0, 253.0, 10139.0, 3539.0, 104.0, 60.0, 401.0, 677.0, 30.0, 89.0, 6228.0, 5168.0, 3254.0, 76.0, 123.0, 136.0, 1050.0, 16524.0, 35.0, 8.0, 12026.0, 53.0, 1232.0, 1548.0, 23.0, 19.0, 17051.0, 9127.0, 4842.0, 17513.0, 785.0, 1273.0, 1721.0, 1470.0, 4873.0, 7304.0, 3451.0, 3051.0, 1543.0, 656.0, 1422.0, 675.0, 364.0, 1106.0, 1013.0, 1529.0, 204.0, 1516.0, 1150.0, 2460.0, 366.0, 4702.0, 24394.0, 201.0, 3729.0, 1729.0, 827.0, 33.0, 411.0, 3214.0, 4986.0, 11868.0, 3305.0, 509.0, 639.0, 19597.0, 1108.0, 431.0, 3433.0, 1114.0, 495.0, 1019.0, 5651.0, 264.0, 28861.0, 26060.0, 672.0, 22.0, 967.0, 1104.0, 299.0, 639.0, 6796.0, 3461.0, 3645.0, 327.0, 2416.0, 517.0, 2278.0, 47.0, 159.0, 704.0, 260.0, 110.0, 84.0, 182.0, 710.0, 139.0, 1497.0, 2000.0, 75.0, 5033.0, 97.0, 288.0, 382.0, 108.0, 21.0, 236.0, 1069.0, 248.0, 21118.0, 121885.0, 28592.0, 13645.0, 24458.0, 17065.0, 54732.0, 61058.0, 266613.0, 11902.0, 87790.0, 25087.0, 3045.0, 2743.0, 29024.0, 6497.0, 17015.0, 6272.0, 5558.0, 1974.0, 7674.0, 5033.0, 22726.0, 37014.0, 131950.0, 19942.0, 1782.0, 110745.0, 2999.0, 85467.0, 13574.0, 17700.0, 184314.0, 24913.0, 53953.0, 13306.0, 44209.0, 2111.0, 165049.0, 80152.0, 3992.0, 5087.0, 3919.0, 3369.0, 22592.0, 380755.0, 39032.0, 3208.0, 28647.0, 13533.0, 2071.0, 6171.0, 25483.0, 3645.0, 1625.0, 10733.0, 2850.0, 75452.0, 69916.0, 1779.0, 8591.0, 8138.0, 520.0, 379.0, 17395.0, 2106.0, 58433.0, 2879.0, 65907.0, 4813.0, 11238.0, 4394.0, 93511.0, 16582.0, 5755.0, 2930.0, 5777.0, 3980.0, 8717.0, 5175.0, 45838.0, 8180.0, 19994.0, 20519.0, 19395.0, 3224.0, 267.0, 1738.0, 6983.0, 1884.0, 22514.0, 46666.0, 2709.0, 78864.0, 14180.0, 20014.0, 766.0, 4732.0, 1964.0, 2233.0, 10846.0, 2098.0, 2940.0, 1161.0, 1655.0, 21179.0, 5494.0, 1499.0, 5293.0, 3834.0, 6664.0, 114.0, 1995.0, 617.0, 1351.0, 2543.0, 15330.0, 649.0, 9590.0, 1635.0, 1893.0, 3204.0, 9227.0, 768.0, 323.0, 1094.0, 778.0, 3546.0, 21104.0, 4101.0, 29685.0, 753.0, 576.0, 231.0, 164.0, 3165.0, 1252.0, 1140.0, 362.0, 490.0, 38825.0, 6379.0, 569.0, 678.0, 843.0, 711.0, 775.0, 42.0, 21659.0, 2494.0, 6768.0, 7607.0, 1149.0, 2333.0, 404.0, 65.0, 617.0, 411.0, 439.0, 15272.0, 587.0, 128.0, 3802.0, 1794.0, 8825.0, 84.0, 90.0, 59.0, 4444.0, 87.0, 146.0, 57.0, 37.0, 11.0, 8653.0, 34430.0, 3774.0, 16721.0, 3790.0, 17566.0, 6695.0, 7344.0, 19051.0, 11189.0, 8994.0, 8357.0, 14287.0, 35254.0, 11197.0, 73897.0, 6076.0, 24320.0, 23002.0, 15602.0, 2644.0, 4771.0, 4531.0, 1578.0, 23944.0, 9240.0, 8122.0, 5652.0, 21400.0, 9436.0, 16252.0, 5681.0, 25116.0, 5495.0, 12073.0, 14736.0, 23691.0, 29850.0, 132731.0, 84344.0, 3510.0, 34153.0, 4160.0, 9262.0, 4290.0, 156206.0, 15810.0, 45073.0, 5446.0, 1923160.0, 8651.0, 11000.0, 55664.0, 8125.0, 7243.0, 1317.0, 9702.0, 2194.0, 3871.0, 3608.0, 8569.0, 164066.0, 87954.0, 16515.0, 34063.0, 4703.0, 11291.0, 10506.0, 4060.0, 393.0, 6074.0, 660.0, 369.0, 1249.0, 445.0, 8096.0, 50832.0, 6975.0, 190.0, 71.0, 41.0, 63.0, 7206.0, 11509.0, 2276.0, 25922.0, 136.0, 692.0, 1042.0, 6411.0, 12.0, 22744.0, 15410.0, 687.0, 280.0, 2061.0, 1053.0, 397.0, 73.0, 180.0, 511.0, 102833.0, 53542.0, 28647.0, 44863.0, 438456.0, 56210.0, 75181.0, 43771.0, 75734.0, 83784.0, 355272.0, 32068.0, 27548.0, 39131.0, 18286.0, 35418.0, 3943.0, 2227.0, 6190.0, 7427.0, 1459.0, 4474.0, 6520.0, 698.0, 1620.0, 1655.0, 3043.0, 1509.0, 1442.0, 1430.0, 1630.0, 8371.0, 2142.0, 15180.0, 1204.0, 5645.0, 10958.0, 2691.0, 5118.0, 4701.0, 2906.0, 1628.0, 1499.0, 3095.0, 2926.0, 7959.0, 26608.0, 18431.0, 6601.0, 3910.0, 2961.0, 79412.0, 17223.0, 1621.0, 6002.0, 1059.0, 4999.0, 4580.0, 13195.0, 1378.0, 10259.0, 42294.0, 1500.0, 39336.0, 2179.0, 4895.0, 1106.0, 44658.0, 31184.0, 2462.0, 9016.0, 2114.0, 63826.0, 7765.0, 1338.0, 89220.0, 3855.0, 8644.0, 1132.0, 1598.0, 674.0, 1509.0, 10753.0, 2392.0, 980.0, 1141.0, 6082.0, 5341.0, 1121.0, 421.0, 7238.0, 15093.0, 3659.0, 23333.0, 3905.0, 2549.0, 6110.0, 4414.0, 6293.0, 1295.0, 2385.0, 2432.0, 1729.0, 1992.0, 3119.0, 1715.0, 165.0, 2782.0, 731.0, 255.0, 2383.0, 485.0, 436.0, 1032.0, 36789.0, 336.0, 463.0, 318.0, 137.0, 150.0, 441.0, 1659.0, 137.0, 206.0, 3287.0, 464.0, 361.0, 147.0, 1154.0, 4164.0, 3775.0, 648.0, 190.0, 100.0, 533.0, 125.0, 1712.0, 1826.0, 269.0, 137.0, 216.0, 204.0, 1427.0, 442.0, 1576.0, 216.0, 556.0, 325.0, 200.0, 2415.0, 480.0, 17833.0, 409.0, 419.0, 686.0, 688.0, 3328.0, 715.0, 1818.0, 1134.0, 502.0, 474.0, 311.0, 1029.0, 663.0, 3476.0, 7461.0, 4168.0, 539.0, 8957.0, 1407.0, 946.0, 438.0, 578.0, 3678.0, 17410.0, 3990.0, 10753.0, 299.0, 57.0, 149.0, 368.0, 48163.0, 174050.0, 104198.0, 95630.0, 211579.0, 493622.0, 152865.0, 233172.0, 113345.0, 7533.0, 165273.0, 85819.0, 108407.0, 70973.0, 13470.0, 20647.0, 179076.0, 356394.0, 28933.0, 38475.0, 30815.0, 41767.0, 29346.0, 13777.0, 102395.0, 220881.0, 17861.0, 146287.0, 3448.0, 27268.0, 26270.0, 161841.0, 9776.0, 3963.0, 2026.0, 16023.0, 36135.0, 22911.0, 1425.0, 4119.0, 21376.0, 1646.0, 6398.0, 2049.0, 2248.0, 52.0, 255.0, 208.0, 407.0, 1919.0, 1610.0, 636.0, 2394.0, 149507.0, 27797.0, 2292.0, 10705.0, 2523.0, 9738.0, 4682.0, 3332.0, 6271.0, 7436.0, 451.0, 3322.0, 135646.0, 2772.0, 36188.0, 40298.0, 12463.0, 3177.0, 4927.0, 27167.0, 140358.0, 2927.0, 8942.0, 372.0, 291.0, 15144.0, 11554.0, 2072.0, 3216.0, 2316.0, 1185.0, 5408.0, 408.0, 4055.0, 9208.0, 1144.0, 1266.0, 225.0, 1854.0, 1146.0, 11617.0, 2439.0, 1632.0, 2720.0, 3291.0, 323.0, 1191.0, 2351.0, 1002.0, 60.0, 131.0, 6895.0, 325.0, 387.0, 3614.0, 820.0, 1667.0, 1933.0, 613.0, 531.0, 554.0, 1909.0, 64.0, 54.0, 719.0, 23.0, 8.0, 99.0, 76.0, 45.0, 274.0, 27.0, 79.0, 68.0, 64.0, 75.0, 40.0, 4.0, 45.0, 26.0, 6.0, 81.0, 29.0, 116.0, 28.0, 31.0, 59.0, 22.0, 168.0, 32.0, 70.0, 536.0, 32.0, 14.0, 12.0, 31.0, 5.0, 64.0, 8.0, 15.0, 11.0, 42.0, 27.0, 6.0, 18.0, 53.0, 12.0, 23.0, 162.0, 1.0, 2.0, 20.0, 5.0, 37.0, 17.0, 44.0, 27.0, 35.0, 2.0, 87.0, 75.0, 23.0, 2.0, 422.0, 5.0, 24.0, 15.0, 17.0, 133.0, 92.0, 123.0, 128.0, 1.0, 17.0, 21.0, 250.0, 0.0, 37.0, 15.0, 0.0, 14.0, 350.0, 5.0, 5.0, 71.0, 19.0, 2.0, 5.0, 5.0, 1.0, 2.0, 10.0, 8.0, 3.0, 4572.0, 265.0, 128.0, 28.0, 5.0, 9838.0, 179.0, 246.0, 3.0, 163.0, 16.0, 130.0, 119.0, 19.0, 1138.0, 354.0, 2.0, 31.0, 95.0, 30.0, 39.0, 34.0, 4.0, 58.0, 16.0, 18.0, 72.0, 13.0, 13.0, 19.0, 69.0, 16.0, 10.0, 3.0, 0.0, 24.0, 47.0, 88.0, 35.0, 13.0, 0.0, 0.0, 3.0, 105.0, 10.0, 1.0, 0.0, 13.0, 1.0, 11.0, 2.0, 7.0, 7.0, 9.0, 3.0, 4.0, 15.0, 9.0, 18.0, 0.0, 20.0, 10.0, 0.0, 24.0, 6.0, 0.0, 19.0, 2.0, 0.0, 4.0, 1.0, 19.0, 15.0, 0.0, 1.0, 0.0, 0.0, 7.0, 0.0, 3.0, 3.0, 0.0, 0.0, 1.0, 7527.0, 35696.0, 4709.0, 20940.0, 6578.0, 5243.0, 40786.0, 2527.0, 8098.0, 3599.0, 14046.0, 3030.0, 21327.0, 4487.0, 2053.0, 3685.0, 6338.0, 32627.0, 23257.0, 5808.0, 1766.0, 2450.0, 11434.0, 179310.0, 4514.0, 3642.0, 4009.0, 2696.0, 870.0, 2667.0, 5714.0, 13432.0, 5674.0, 11630.0, 2662.0, 1005.0, 2901.0, 1437.0, 5655.0, 1107.0, 77397.0, 17170.0, 7202.0, 13460.0, 1586.0, 2798.0, 6412.0, 976.0, 41462.0, 9613.0, 7662.0, 13295.0, 48949.0, 7207.0, 10682.0, 13162.0, 61097.0, 135492.0, 19727.0, 11553.0, 9231.0, 37569.0, 17606.0, 4864.0, 2491.0, 65216.0, 83373.0, 25938.0, 16902.0, 97250.0, 13665.0, 3769.0, 4557.0, 3850.0, 597.0, 4575.0, 1487.0, 1583.0, 893.0, 2653.0, 5081.0, 590.0, 1764.0, 1843.0, 1899.0, 879.0, 2093.0, 828.0, 417.0, 1419.0, 917.0, 642.0, 889.0, 883.0, 515.0, 419.0, 760.0, 2114.0, 949.0, 581.0, 256.0, 405.0, 2105.0, 1631.0, 1888.0, 179.0, 1149.0, 1441.0, 187.0, 1824.0, 1831.0, 2671.0, 23.0, 2705.0, 1822.0, 1982.0, 738.0, 656.0, 3093.0, 237.0, 1185.0, 1337.0, 487.0, 1469.0, 1655.0, 831.0, 1682.0, 544.0, 132.0, 584.0, 1386.0, 3397.0, 1253.0, 1488.0, 1730.0, 1019.0, 622.0, 45085.0, 2603.0, 2832.0, 1869.0, 3023.0, 4014.0, 1406.0, 5145.0, 541.0, 151.0, 237.0, 1294.0, 2880.0, 7055.0, 99.0, 1772.0, 8459.0, 2443.0, 1286.0, 185.0, 2274.0, 533.0, 751.0, 627.0, 1095.0, 703.0, 279.0, 610.0, 877.0, 29542.0, 25460.0, 441.0, 23.0, 178.0, 373.0, 33.0, 296.0, 32.0, 634.0]}],                        {\"barmode\": \"overlay\", \"legend\": {\"bgcolor\": \"#F5F6F9\", \"font\": {\"color\": \"#4D5663\"}}, \"paper_bgcolor\": \"#F5F6F9\", \"plot_bgcolor\": \"#F5F6F9\", \"template\": {\"data\": {\"bar\": [{\"error_x\": {\"color\": \"#2a3f5f\"}, \"error_y\": {\"color\": \"#2a3f5f\"}, \"marker\": {\"line\": {\"color\": \"#E5ECF6\", \"width\": 0.5}}, \"type\": \"bar\"}], \"barpolar\": [{\"marker\": {\"line\": {\"color\": \"#E5ECF6\", \"width\": 0.5}}, \"type\": \"barpolar\"}], \"carpet\": [{\"aaxis\": {\"endlinecolor\": \"#2a3f5f\", \"gridcolor\": \"white\", \"linecolor\": \"white\", \"minorgridcolor\": \"white\", \"startlinecolor\": \"#2a3f5f\"}, \"baxis\": {\"endlinecolor\": \"#2a3f5f\", \"gridcolor\": \"white\", \"linecolor\": \"white\", \"minorgridcolor\": \"white\", \"startlinecolor\": \"#2a3f5f\"}, \"type\": \"carpet\"}], \"choropleth\": [{\"colorbar\": {\"outlinewidth\": 0, \"ticks\": \"\"}, \"type\": \"choropleth\"}], \"contour\": [{\"colorbar\": {\"outlinewidth\": 0, \"ticks\": \"\"}, \"colorscale\": [[0.0, \"#0d0887\"], [0.1111111111111111, \"#46039f\"], [0.2222222222222222, \"#7201a8\"], [0.3333333333333333, \"#9c179e\"], [0.4444444444444444, \"#bd3786\"], [0.5555555555555556, \"#d8576b\"], [0.6666666666666666, \"#ed7953\"], [0.7777777777777778, \"#fb9f3a\"], [0.8888888888888888, \"#fdca26\"], [1.0, \"#f0f921\"]], \"type\": \"contour\"}], \"contourcarpet\": [{\"colorbar\": {\"outlinewidth\": 0, \"ticks\": \"\"}, \"type\": \"contourcarpet\"}], \"heatmap\": [{\"colorbar\": {\"outlinewidth\": 0, \"ticks\": \"\"}, \"colorscale\": [[0.0, \"#0d0887\"], [0.1111111111111111, \"#46039f\"], [0.2222222222222222, \"#7201a8\"], [0.3333333333333333, \"#9c179e\"], [0.4444444444444444, \"#bd3786\"], [0.5555555555555556, \"#d8576b\"], [0.6666666666666666, \"#ed7953\"], [0.7777777777777778, \"#fb9f3a\"], [0.8888888888888888, \"#fdca26\"], [1.0, \"#f0f921\"]], \"type\": \"heatmap\"}], \"heatmapgl\": [{\"colorbar\": {\"outlinewidth\": 0, \"ticks\": \"\"}, \"colorscale\": [[0.0, \"#0d0887\"], [0.1111111111111111, \"#46039f\"], [0.2222222222222222, \"#7201a8\"], [0.3333333333333333, \"#9c179e\"], [0.4444444444444444, \"#bd3786\"], [0.5555555555555556, \"#d8576b\"], [0.6666666666666666, \"#ed7953\"], [0.7777777777777778, \"#fb9f3a\"], [0.8888888888888888, \"#fdca26\"], [1.0, \"#f0f921\"]], \"type\": \"heatmapgl\"}], \"histogram\": [{\"marker\": {\"colorbar\": {\"outlinewidth\": 0, \"ticks\": \"\"}}, \"type\": \"histogram\"}], \"histogram2d\": [{\"colorbar\": {\"outlinewidth\": 0, \"ticks\": \"\"}, \"colorscale\": [[0.0, \"#0d0887\"], [0.1111111111111111, \"#46039f\"], [0.2222222222222222, \"#7201a8\"], [0.3333333333333333, \"#9c179e\"], [0.4444444444444444, \"#bd3786\"], [0.5555555555555556, \"#d8576b\"], [0.6666666666666666, \"#ed7953\"], [0.7777777777777778, \"#fb9f3a\"], [0.8888888888888888, \"#fdca26\"], [1.0, \"#f0f921\"]], \"type\": \"histogram2d\"}], \"histogram2dcontour\": [{\"colorbar\": {\"outlinewidth\": 0, \"ticks\": \"\"}, \"colorscale\": [[0.0, \"#0d0887\"], [0.1111111111111111, \"#46039f\"], [0.2222222222222222, \"#7201a8\"], [0.3333333333333333, \"#9c179e\"], [0.4444444444444444, \"#bd3786\"], [0.5555555555555556, \"#d8576b\"], [0.6666666666666666, \"#ed7953\"], [0.7777777777777778, \"#fb9f3a\"], [0.8888888888888888, \"#fdca26\"], [1.0, \"#f0f921\"]], \"type\": \"histogram2dcontour\"}], \"mesh3d\": [{\"colorbar\": {\"outlinewidth\": 0, \"ticks\": \"\"}, \"type\": \"mesh3d\"}], \"parcoords\": [{\"line\": {\"colorbar\": {\"outlinewidth\": 0, \"ticks\": \"\"}}, \"type\": \"parcoords\"}], \"pie\": [{\"automargin\": true, \"type\": \"pie\"}], \"scatter\": [{\"marker\": {\"colorbar\": {\"outlinewidth\": 0, \"ticks\": \"\"}}, \"type\": \"scatter\"}], \"scatter3d\": [{\"line\": {\"colorbar\": {\"outlinewidth\": 0, \"ticks\": \"\"}}, \"marker\": {\"colorbar\": {\"outlinewidth\": 0, \"ticks\": \"\"}}, \"type\": \"scatter3d\"}], \"scattercarpet\": [{\"marker\": {\"colorbar\": {\"outlinewidth\": 0, \"ticks\": \"\"}}, \"type\": \"scattercarpet\"}], \"scattergeo\": [{\"marker\": {\"colorbar\": {\"outlinewidth\": 0, \"ticks\": \"\"}}, \"type\": \"scattergeo\"}], \"scattergl\": [{\"marker\": {\"colorbar\": {\"outlinewidth\": 0, \"ticks\": \"\"}}, \"type\": \"scattergl\"}], \"scattermapbox\": [{\"marker\": {\"colorbar\": {\"outlinewidth\": 0, \"ticks\": \"\"}}, \"type\": \"scattermapbox\"}], \"scatterpolar\": [{\"marker\": {\"colorbar\": {\"outlinewidth\": 0, \"ticks\": \"\"}}, \"type\": \"scatterpolar\"}], \"scatterpolargl\": [{\"marker\": {\"colorbar\": {\"outlinewidth\": 0, \"ticks\": \"\"}}, \"type\": \"scatterpolargl\"}], \"scatterternary\": [{\"marker\": {\"colorbar\": {\"outlinewidth\": 0, \"ticks\": \"\"}}, \"type\": \"scatterternary\"}], \"surface\": [{\"colorbar\": {\"outlinewidth\": 0, \"ticks\": \"\"}, \"colorscale\": [[0.0, \"#0d0887\"], [0.1111111111111111, \"#46039f\"], [0.2222222222222222, \"#7201a8\"], [0.3333333333333333, \"#9c179e\"], [0.4444444444444444, \"#bd3786\"], [0.5555555555555556, \"#d8576b\"], [0.6666666666666666, \"#ed7953\"], [0.7777777777777778, \"#fb9f3a\"], [0.8888888888888888, \"#fdca26\"], [1.0, \"#f0f921\"]], \"type\": \"surface\"}], \"table\": [{\"cells\": {\"fill\": {\"color\": \"#EBF0F8\"}, \"line\": {\"color\": \"white\"}}, \"header\": {\"fill\": {\"color\": \"#C8D4E3\"}, \"line\": {\"color\": \"white\"}}, \"type\": \"table\"}]}, \"layout\": {\"annotationdefaults\": {\"arrowcolor\": \"#2a3f5f\", \"arrowhead\": 0, \"arrowwidth\": 1}, \"autotypenumbers\": \"strict\", \"coloraxis\": {\"colorbar\": {\"outlinewidth\": 0, \"ticks\": \"\"}}, \"colorscale\": {\"diverging\": [[0, \"#8e0152\"], [0.1, \"#c51b7d\"], [0.2, \"#de77ae\"], [0.3, \"#f1b6da\"], [0.4, \"#fde0ef\"], [0.5, \"#f7f7f7\"], [0.6, \"#e6f5d0\"], [0.7, \"#b8e186\"], [0.8, \"#7fbc41\"], [0.9, \"#4d9221\"], [1, \"#276419\"]], \"sequential\": [[0.0, \"#0d0887\"], [0.1111111111111111, \"#46039f\"], [0.2222222222222222, \"#7201a8\"], [0.3333333333333333, \"#9c179e\"], [0.4444444444444444, \"#bd3786\"], [0.5555555555555556, \"#d8576b\"], [0.6666666666666666, \"#ed7953\"], [0.7777777777777778, \"#fb9f3a\"], [0.8888888888888888, \"#fdca26\"], [1.0, \"#f0f921\"]], \"sequentialminus\": [[0.0, \"#0d0887\"], [0.1111111111111111, \"#46039f\"], [0.2222222222222222, \"#7201a8\"], [0.3333333333333333, \"#9c179e\"], [0.4444444444444444, \"#bd3786\"], [0.5555555555555556, \"#d8576b\"], [0.6666666666666666, \"#ed7953\"], [0.7777777777777778, \"#fb9f3a\"], [0.8888888888888888, \"#fdca26\"], [1.0, \"#f0f921\"]]}, \"colorway\": [\"#636efa\", \"#EF553B\", \"#00cc96\", \"#ab63fa\", \"#FFA15A\", \"#19d3f3\", \"#FF6692\", \"#B6E880\", \"#FF97FF\", \"#FECB52\"], \"font\": {\"color\": \"#2a3f5f\"}, \"geo\": {\"bgcolor\": \"white\", \"lakecolor\": \"white\", \"landcolor\": \"#E5ECF6\", \"showlakes\": true, \"showland\": true, \"subunitcolor\": \"white\"}, \"hoverlabel\": {\"align\": \"left\"}, \"hovermode\": \"closest\", \"mapbox\": {\"style\": \"light\"}, \"paper_bgcolor\": \"white\", \"plot_bgcolor\": \"#E5ECF6\", \"polar\": {\"angularaxis\": {\"gridcolor\": \"white\", \"linecolor\": \"white\", \"ticks\": \"\"}, \"bgcolor\": \"#E5ECF6\", \"radialaxis\": {\"gridcolor\": \"white\", \"linecolor\": \"white\", \"ticks\": \"\"}}, \"scene\": {\"xaxis\": {\"backgroundcolor\": \"#E5ECF6\", \"gridcolor\": \"white\", \"gridwidth\": 2, \"linecolor\": \"white\", \"showbackground\": true, \"ticks\": \"\", \"zerolinecolor\": \"white\"}, \"yaxis\": {\"backgroundcolor\": \"#E5ECF6\", \"gridcolor\": \"white\", \"gridwidth\": 2, \"linecolor\": \"white\", \"showbackground\": true, \"ticks\": \"\", \"zerolinecolor\": \"white\"}, \"zaxis\": {\"backgroundcolor\": \"#E5ECF6\", \"gridcolor\": \"white\", \"gridwidth\": 2, \"linecolor\": \"white\", \"showbackground\": true, \"ticks\": \"\", \"zerolinecolor\": \"white\"}}, \"shapedefaults\": {\"line\": {\"color\": \"#2a3f5f\"}}, \"ternary\": {\"aaxis\": {\"gridcolor\": \"white\", \"linecolor\": \"white\", \"ticks\": \"\"}, \"baxis\": {\"gridcolor\": \"white\", \"linecolor\": \"white\", \"ticks\": \"\"}, \"bgcolor\": \"#E5ECF6\", \"caxis\": {\"gridcolor\": \"white\", \"linecolor\": \"white\", \"ticks\": \"\"}}, \"title\": {\"x\": 0.05}, \"xaxis\": {\"automargin\": true, \"gridcolor\": \"white\", \"linecolor\": \"white\", \"ticks\": \"\", \"title\": {\"standoff\": 15}, \"zerolinecolor\": \"white\", \"zerolinewidth\": 2}, \"yaxis\": {\"automargin\": true, \"gridcolor\": \"white\", \"linecolor\": \"white\", \"ticks\": \"\", \"title\": {\"standoff\": 15}, \"zerolinecolor\": \"white\", \"zerolinewidth\": 2}}}, \"title\": {\"font\": {\"color\": \"#4D5663\"}, \"text\": \"\\u9500\\u91cf\\u5206\\u5e03\"}, \"xaxis\": {\"gridcolor\": \"#E1E5ED\", \"range\": [0, 400000], \"showgrid\": true, \"tickfont\": {\"color\": \"#4D5663\"}, \"title\": {\"font\": {\"color\": \"#4D5663\"}, \"text\": \"\"}, \"zerolinecolor\": \"#E1E5ED\"}, \"yaxis\": {\"gridcolor\": \"#E1E5ED\", \"showgrid\": true, \"tickfont\": {\"color\": \"#4D5663\"}, \"title\": {\"font\": {\"color\": \"#4D5663\"}, \"text\": \"\"}, \"zerolinecolor\": \"#E1E5ED\"}},                        {\"responsive\": true}                    ).then(function(){\n",
       "                            \n",
       "var gd = document.getElementById('9f634bb8-9df8-480a-a5c6-ce03f064e2fe');\n",
       "var x = new MutationObserver(function (mutations, observer) {{\n",
       "        var display = window.getComputedStyle(gd).display;\n",
       "        if (!display || display === 'none') {{\n",
       "            console.log([gd, 'removed!']);\n",
       "            Plotly.purge(gd);\n",
       "            observer.disconnect();\n",
       "        }}\n",
       "}});\n",
       "\n",
       "// Listen for the removal of the full notebook cells\n",
       "var notebookContainer = gd.closest('#notebook-container');\n",
       "if (notebookContainer) {{\n",
       "    x.observe(notebookContainer, {childList: true});\n",
       "}}\n",
       "\n",
       "// Listen for the clearing of the current output cell\n",
       "var outputEl = gd.closest('.output');\n",
       "if (outputEl) {{\n",
       "    x.observe(outputEl, {childList: true});\n",
       "}}\n",
       "\n",
       "                        })                };                });            </script>        </div>"
      ]
     },
     "metadata": {},
     "output_type": "display_data"
    }
   ],
   "source": [
    "fig = data['销量'].iplot(kind='hist', bins=500, asFigure=True, title='销量分布')\n",
    "fig.update_layout(xaxis_range=[0, 400000])"
   ]
  },
  {
   "cell_type": "code",
   "execution_count": 27,
   "id": "d3de98f0",
   "metadata": {},
   "outputs": [],
   "source": [
    "feature_importances = pd.Series(dict(zip(list(X_train), gs.best_estimator_.feature_importances_))).sort_values(ascending=False)"
   ]
  },
  {
   "cell_type": "code",
   "execution_count": 28,
   "id": "40557806",
   "metadata": {},
   "outputs": [
    {
     "data": {
      "text/plain": [
       "品牌_资生堂     5.566141e-10\n",
       "品牌_娇兰      8.482878e-09\n",
       "品牌_雪花秀     2.349881e-05\n",
       "品牌_欧珀莱     5.048591e-05\n",
       "品牌_薇姿      7.692656e-05\n",
       "功效_淡化细纹    1.220761e-04\n",
       "品牌_雅诗兰黛    2.380386e-04\n",
       "品牌_倩碧      2.409930e-04\n",
       "品牌_兰芝      8.225828e-04\n",
       "品牌_美加净     8.447233e-04\n",
       "品牌_兰蔻      8.720829e-04\n",
       "品牌_雅漾      1.153868e-03\n",
       "品牌_悦诗风吟    1.334888e-03\n",
       "品牌_妮维雅     2.445000e-03\n",
       "品牌_佰草集     2.670978e-03\n",
       "功效_防晒      3.143769e-03\n",
       "功效_美白      3.178172e-03\n",
       "功效_清洁      4.831158e-03\n",
       "品牌_自然堂     7.101148e-03\n",
       "品牌_美宝莲     1.030589e-02\n",
       "功效_控油      1.074851e-02\n",
       "品牌_欧莱雅     1.200588e-02\n",
       "功效_去角质     1.733891e-02\n",
       "功效_补水保湿    2.080380e-02\n",
       "品牌_蜜丝佛陀    3.299408e-02\n",
       "品牌_相宜本草    4.685935e-02\n",
       "价格         8.538835e-02\n",
       "评论数        7.344048e-01\n",
       "dtype: float64"
      ]
     },
     "execution_count": 28,
     "metadata": {},
     "output_type": "execute_result"
    }
   ],
   "source": [
    "feature_importances.sort_values()"
   ]
  },
  {
   "cell_type": "code",
   "execution_count": 29,
   "id": "5765f3c6",
   "metadata": {},
   "outputs": [
    {
     "data": {
      "application/vnd.plotly.v1+json": {
       "config": {
        "linkText": "Export to plot.ly",
        "plotlyServerURL": "https://plot.ly",
        "showLink": true
       },
       "data": [
        {
         "marker": {
          "color": "rgba(255, 153, 51, 0.6)",
          "line": {
           "color": "rgba(255, 153, 51, 1.0)",
           "width": 1
          }
         },
         "name": "None",
         "orientation": "h",
         "text": "",
         "type": "bar",
         "x": [
          0.007101148005350845,
          0.010305887919569056,
          0.010748508762217,
          0.012005877102137385,
          0.017338908890014552,
          0.020803796103236634,
          0.03299407626616135,
          0.04685935046944646,
          0.08538834918223703,
          0.7344048476870718
         ],
         "y": [
          "品牌_自然堂",
          "品牌_美宝莲",
          "功效_控油",
          "品牌_欧莱雅",
          "功效_去角质",
          "功效_补水保湿",
          "品牌_蜜丝佛陀",
          "品牌_相宜本草",
          "价格",
          "评论数"
         ]
        }
       ],
       "layout": {
        "legend": {
         "bgcolor": "#F5F6F9",
         "font": {
          "color": "#4D5663"
         }
        },
        "paper_bgcolor": "#F5F6F9",
        "plot_bgcolor": "#F5F6F9",
        "template": {
         "data": {
          "bar": [
           {
            "error_x": {
             "color": "#2a3f5f"
            },
            "error_y": {
             "color": "#2a3f5f"
            },
            "marker": {
             "line": {
              "color": "#E5ECF6",
              "width": 0.5
             }
            },
            "type": "bar"
           }
          ],
          "barpolar": [
           {
            "marker": {
             "line": {
              "color": "#E5ECF6",
              "width": 0.5
             }
            },
            "type": "barpolar"
           }
          ],
          "carpet": [
           {
            "aaxis": {
             "endlinecolor": "#2a3f5f",
             "gridcolor": "white",
             "linecolor": "white",
             "minorgridcolor": "white",
             "startlinecolor": "#2a3f5f"
            },
            "baxis": {
             "endlinecolor": "#2a3f5f",
             "gridcolor": "white",
             "linecolor": "white",
             "minorgridcolor": "white",
             "startlinecolor": "#2a3f5f"
            },
            "type": "carpet"
           }
          ],
          "choropleth": [
           {
            "colorbar": {
             "outlinewidth": 0,
             "ticks": ""
            },
            "type": "choropleth"
           }
          ],
          "contour": [
           {
            "colorbar": {
             "outlinewidth": 0,
             "ticks": ""
            },
            "colorscale": [
             [
              0,
              "#0d0887"
             ],
             [
              0.1111111111111111,
              "#46039f"
             ],
             [
              0.2222222222222222,
              "#7201a8"
             ],
             [
              0.3333333333333333,
              "#9c179e"
             ],
             [
              0.4444444444444444,
              "#bd3786"
             ],
             [
              0.5555555555555556,
              "#d8576b"
             ],
             [
              0.6666666666666666,
              "#ed7953"
             ],
             [
              0.7777777777777778,
              "#fb9f3a"
             ],
             [
              0.8888888888888888,
              "#fdca26"
             ],
             [
              1,
              "#f0f921"
             ]
            ],
            "type": "contour"
           }
          ],
          "contourcarpet": [
           {
            "colorbar": {
             "outlinewidth": 0,
             "ticks": ""
            },
            "type": "contourcarpet"
           }
          ],
          "heatmap": [
           {
            "colorbar": {
             "outlinewidth": 0,
             "ticks": ""
            },
            "colorscale": [
             [
              0,
              "#0d0887"
             ],
             [
              0.1111111111111111,
              "#46039f"
             ],
             [
              0.2222222222222222,
              "#7201a8"
             ],
             [
              0.3333333333333333,
              "#9c179e"
             ],
             [
              0.4444444444444444,
              "#bd3786"
             ],
             [
              0.5555555555555556,
              "#d8576b"
             ],
             [
              0.6666666666666666,
              "#ed7953"
             ],
             [
              0.7777777777777778,
              "#fb9f3a"
             ],
             [
              0.8888888888888888,
              "#fdca26"
             ],
             [
              1,
              "#f0f921"
             ]
            ],
            "type": "heatmap"
           }
          ],
          "heatmapgl": [
           {
            "colorbar": {
             "outlinewidth": 0,
             "ticks": ""
            },
            "colorscale": [
             [
              0,
              "#0d0887"
             ],
             [
              0.1111111111111111,
              "#46039f"
             ],
             [
              0.2222222222222222,
              "#7201a8"
             ],
             [
              0.3333333333333333,
              "#9c179e"
             ],
             [
              0.4444444444444444,
              "#bd3786"
             ],
             [
              0.5555555555555556,
              "#d8576b"
             ],
             [
              0.6666666666666666,
              "#ed7953"
             ],
             [
              0.7777777777777778,
              "#fb9f3a"
             ],
             [
              0.8888888888888888,
              "#fdca26"
             ],
             [
              1,
              "#f0f921"
             ]
            ],
            "type": "heatmapgl"
           }
          ],
          "histogram": [
           {
            "marker": {
             "colorbar": {
              "outlinewidth": 0,
              "ticks": ""
             }
            },
            "type": "histogram"
           }
          ],
          "histogram2d": [
           {
            "colorbar": {
             "outlinewidth": 0,
             "ticks": ""
            },
            "colorscale": [
             [
              0,
              "#0d0887"
             ],
             [
              0.1111111111111111,
              "#46039f"
             ],
             [
              0.2222222222222222,
              "#7201a8"
             ],
             [
              0.3333333333333333,
              "#9c179e"
             ],
             [
              0.4444444444444444,
              "#bd3786"
             ],
             [
              0.5555555555555556,
              "#d8576b"
             ],
             [
              0.6666666666666666,
              "#ed7953"
             ],
             [
              0.7777777777777778,
              "#fb9f3a"
             ],
             [
              0.8888888888888888,
              "#fdca26"
             ],
             [
              1,
              "#f0f921"
             ]
            ],
            "type": "histogram2d"
           }
          ],
          "histogram2dcontour": [
           {
            "colorbar": {
             "outlinewidth": 0,
             "ticks": ""
            },
            "colorscale": [
             [
              0,
              "#0d0887"
             ],
             [
              0.1111111111111111,
              "#46039f"
             ],
             [
              0.2222222222222222,
              "#7201a8"
             ],
             [
              0.3333333333333333,
              "#9c179e"
             ],
             [
              0.4444444444444444,
              "#bd3786"
             ],
             [
              0.5555555555555556,
              "#d8576b"
             ],
             [
              0.6666666666666666,
              "#ed7953"
             ],
             [
              0.7777777777777778,
              "#fb9f3a"
             ],
             [
              0.8888888888888888,
              "#fdca26"
             ],
             [
              1,
              "#f0f921"
             ]
            ],
            "type": "histogram2dcontour"
           }
          ],
          "mesh3d": [
           {
            "colorbar": {
             "outlinewidth": 0,
             "ticks": ""
            },
            "type": "mesh3d"
           }
          ],
          "parcoords": [
           {
            "line": {
             "colorbar": {
              "outlinewidth": 0,
              "ticks": ""
             }
            },
            "type": "parcoords"
           }
          ],
          "pie": [
           {
            "automargin": true,
            "type": "pie"
           }
          ],
          "scatter": [
           {
            "marker": {
             "colorbar": {
              "outlinewidth": 0,
              "ticks": ""
             }
            },
            "type": "scatter"
           }
          ],
          "scatter3d": [
           {
            "line": {
             "colorbar": {
              "outlinewidth": 0,
              "ticks": ""
             }
            },
            "marker": {
             "colorbar": {
              "outlinewidth": 0,
              "ticks": ""
             }
            },
            "type": "scatter3d"
           }
          ],
          "scattercarpet": [
           {
            "marker": {
             "colorbar": {
              "outlinewidth": 0,
              "ticks": ""
             }
            },
            "type": "scattercarpet"
           }
          ],
          "scattergeo": [
           {
            "marker": {
             "colorbar": {
              "outlinewidth": 0,
              "ticks": ""
             }
            },
            "type": "scattergeo"
           }
          ],
          "scattergl": [
           {
            "marker": {
             "colorbar": {
              "outlinewidth": 0,
              "ticks": ""
             }
            },
            "type": "scattergl"
           }
          ],
          "scattermapbox": [
           {
            "marker": {
             "colorbar": {
              "outlinewidth": 0,
              "ticks": ""
             }
            },
            "type": "scattermapbox"
           }
          ],
          "scatterpolar": [
           {
            "marker": {
             "colorbar": {
              "outlinewidth": 0,
              "ticks": ""
             }
            },
            "type": "scatterpolar"
           }
          ],
          "scatterpolargl": [
           {
            "marker": {
             "colorbar": {
              "outlinewidth": 0,
              "ticks": ""
             }
            },
            "type": "scatterpolargl"
           }
          ],
          "scatterternary": [
           {
            "marker": {
             "colorbar": {
              "outlinewidth": 0,
              "ticks": ""
             }
            },
            "type": "scatterternary"
           }
          ],
          "surface": [
           {
            "colorbar": {
             "outlinewidth": 0,
             "ticks": ""
            },
            "colorscale": [
             [
              0,
              "#0d0887"
             ],
             [
              0.1111111111111111,
              "#46039f"
             ],
             [
              0.2222222222222222,
              "#7201a8"
             ],
             [
              0.3333333333333333,
              "#9c179e"
             ],
             [
              0.4444444444444444,
              "#bd3786"
             ],
             [
              0.5555555555555556,
              "#d8576b"
             ],
             [
              0.6666666666666666,
              "#ed7953"
             ],
             [
              0.7777777777777778,
              "#fb9f3a"
             ],
             [
              0.8888888888888888,
              "#fdca26"
             ],
             [
              1,
              "#f0f921"
             ]
            ],
            "type": "surface"
           }
          ],
          "table": [
           {
            "cells": {
             "fill": {
              "color": "#EBF0F8"
             },
             "line": {
              "color": "white"
             }
            },
            "header": {
             "fill": {
              "color": "#C8D4E3"
             },
             "line": {
              "color": "white"
             }
            },
            "type": "table"
           }
          ]
         },
         "layout": {
          "annotationdefaults": {
           "arrowcolor": "#2a3f5f",
           "arrowhead": 0,
           "arrowwidth": 1
          },
          "autotypenumbers": "strict",
          "coloraxis": {
           "colorbar": {
            "outlinewidth": 0,
            "ticks": ""
           }
          },
          "colorscale": {
           "diverging": [
            [
             0,
             "#8e0152"
            ],
            [
             0.1,
             "#c51b7d"
            ],
            [
             0.2,
             "#de77ae"
            ],
            [
             0.3,
             "#f1b6da"
            ],
            [
             0.4,
             "#fde0ef"
            ],
            [
             0.5,
             "#f7f7f7"
            ],
            [
             0.6,
             "#e6f5d0"
            ],
            [
             0.7,
             "#b8e186"
            ],
            [
             0.8,
             "#7fbc41"
            ],
            [
             0.9,
             "#4d9221"
            ],
            [
             1,
             "#276419"
            ]
           ],
           "sequential": [
            [
             0,
             "#0d0887"
            ],
            [
             0.1111111111111111,
             "#46039f"
            ],
            [
             0.2222222222222222,
             "#7201a8"
            ],
            [
             0.3333333333333333,
             "#9c179e"
            ],
            [
             0.4444444444444444,
             "#bd3786"
            ],
            [
             0.5555555555555556,
             "#d8576b"
            ],
            [
             0.6666666666666666,
             "#ed7953"
            ],
            [
             0.7777777777777778,
             "#fb9f3a"
            ],
            [
             0.8888888888888888,
             "#fdca26"
            ],
            [
             1,
             "#f0f921"
            ]
           ],
           "sequentialminus": [
            [
             0,
             "#0d0887"
            ],
            [
             0.1111111111111111,
             "#46039f"
            ],
            [
             0.2222222222222222,
             "#7201a8"
            ],
            [
             0.3333333333333333,
             "#9c179e"
            ],
            [
             0.4444444444444444,
             "#bd3786"
            ],
            [
             0.5555555555555556,
             "#d8576b"
            ],
            [
             0.6666666666666666,
             "#ed7953"
            ],
            [
             0.7777777777777778,
             "#fb9f3a"
            ],
            [
             0.8888888888888888,
             "#fdca26"
            ],
            [
             1,
             "#f0f921"
            ]
           ]
          },
          "colorway": [
           "#636efa",
           "#EF553B",
           "#00cc96",
           "#ab63fa",
           "#FFA15A",
           "#19d3f3",
           "#FF6692",
           "#B6E880",
           "#FF97FF",
           "#FECB52"
          ],
          "font": {
           "color": "#2a3f5f"
          },
          "geo": {
           "bgcolor": "white",
           "lakecolor": "white",
           "landcolor": "#E5ECF6",
           "showlakes": true,
           "showland": true,
           "subunitcolor": "white"
          },
          "hoverlabel": {
           "align": "left"
          },
          "hovermode": "closest",
          "mapbox": {
           "style": "light"
          },
          "paper_bgcolor": "white",
          "plot_bgcolor": "#E5ECF6",
          "polar": {
           "angularaxis": {
            "gridcolor": "white",
            "linecolor": "white",
            "ticks": ""
           },
           "bgcolor": "#E5ECF6",
           "radialaxis": {
            "gridcolor": "white",
            "linecolor": "white",
            "ticks": ""
           }
          },
          "scene": {
           "xaxis": {
            "backgroundcolor": "#E5ECF6",
            "gridcolor": "white",
            "gridwidth": 2,
            "linecolor": "white",
            "showbackground": true,
            "ticks": "",
            "zerolinecolor": "white"
           },
           "yaxis": {
            "backgroundcolor": "#E5ECF6",
            "gridcolor": "white",
            "gridwidth": 2,
            "linecolor": "white",
            "showbackground": true,
            "ticks": "",
            "zerolinecolor": "white"
           },
           "zaxis": {
            "backgroundcolor": "#E5ECF6",
            "gridcolor": "white",
            "gridwidth": 2,
            "linecolor": "white",
            "showbackground": true,
            "ticks": "",
            "zerolinecolor": "white"
           }
          },
          "shapedefaults": {
           "line": {
            "color": "#2a3f5f"
           }
          },
          "ternary": {
           "aaxis": {
            "gridcolor": "white",
            "linecolor": "white",
            "ticks": ""
           },
           "baxis": {
            "gridcolor": "white",
            "linecolor": "white",
            "ticks": ""
           },
           "bgcolor": "#E5ECF6",
           "caxis": {
            "gridcolor": "white",
            "linecolor": "white",
            "ticks": ""
           }
          },
          "title": {
           "x": 0.05
          },
          "xaxis": {
           "automargin": true,
           "gridcolor": "white",
           "linecolor": "white",
           "ticks": "",
           "title": {
            "standoff": 15
           },
           "zerolinecolor": "white",
           "zerolinewidth": 2
          },
          "yaxis": {
           "automargin": true,
           "gridcolor": "white",
           "linecolor": "white",
           "ticks": "",
           "title": {
            "standoff": 15
           },
           "zerolinecolor": "white",
           "zerolinewidth": 2
          }
         }
        },
        "title": {
         "font": {
          "color": "#4D5663"
         },
         "text": "随机森林模型得出的feature importance"
        },
        "xaxis": {
         "gridcolor": "#E1E5ED",
         "showgrid": true,
         "tickfont": {
          "color": "#4D5663"
         },
         "title": {
          "font": {
           "color": "#4D5663"
          },
          "text": ""
         },
         "zerolinecolor": "#E1E5ED"
        },
        "yaxis": {
         "gridcolor": "#E1E5ED",
         "showgrid": true,
         "tickfont": {
          "color": "#4D5663"
         },
         "title": {
          "font": {
           "color": "#4D5663"
          },
          "text": ""
         },
         "zerolinecolor": "#E1E5ED"
        }
       }
      },
      "text/html": [
       "<div>                            <div id=\"26e234bd-cd18-44d8-8cdc-82ca30be569d\" class=\"plotly-graph-div\" style=\"height:525px; width:100%;\"></div>            <script type=\"text/javascript\">                require([\"plotly\"], function(Plotly) {                    window.PLOTLYENV=window.PLOTLYENV || {};\n",
       "                    window.PLOTLYENV.BASE_URL='https://plot.ly';                                    if (document.getElementById(\"26e234bd-cd18-44d8-8cdc-82ca30be569d\")) {                    Plotly.newPlot(                        \"26e234bd-cd18-44d8-8cdc-82ca30be569d\",                        [{\"marker\": {\"color\": \"rgba(255, 153, 51, 0.6)\", \"line\": {\"color\": \"rgba(255, 153, 51, 1.0)\", \"width\": 1}}, \"name\": \"None\", \"orientation\": \"h\", \"text\": \"\", \"type\": \"bar\", \"x\": [0.007101148005350845, 0.010305887919569056, 0.010748508762217, 0.012005877102137385, 0.017338908890014552, 0.020803796103236634, 0.03299407626616135, 0.04685935046944646, 0.08538834918223703, 0.7344048476870718], \"y\": [\"\\u54c1\\u724c_\\u81ea\\u7136\\u5802\", \"\\u54c1\\u724c_\\u7f8e\\u5b9d\\u83b2\", \"\\u529f\\u6548_\\u63a7\\u6cb9\", \"\\u54c1\\u724c_\\u6b27\\u83b1\\u96c5\", \"\\u529f\\u6548_\\u53bb\\u89d2\\u8d28\", \"\\u529f\\u6548_\\u8865\\u6c34\\u4fdd\\u6e7f\", \"\\u54c1\\u724c_\\u871c\\u4e1d\\u4f5b\\u9640\", \"\\u54c1\\u724c_\\u76f8\\u5b9c\\u672c\\u8349\", \"\\u4ef7\\u683c\", \"\\u8bc4\\u8bba\\u6570\"]}],                        {\"legend\": {\"bgcolor\": \"#F5F6F9\", \"font\": {\"color\": \"#4D5663\"}}, \"paper_bgcolor\": \"#F5F6F9\", \"plot_bgcolor\": \"#F5F6F9\", \"template\": {\"data\": {\"bar\": [{\"error_x\": {\"color\": \"#2a3f5f\"}, \"error_y\": {\"color\": \"#2a3f5f\"}, \"marker\": {\"line\": {\"color\": \"#E5ECF6\", \"width\": 0.5}}, \"type\": \"bar\"}], \"barpolar\": [{\"marker\": {\"line\": {\"color\": \"#E5ECF6\", \"width\": 0.5}}, \"type\": \"barpolar\"}], \"carpet\": [{\"aaxis\": {\"endlinecolor\": \"#2a3f5f\", \"gridcolor\": \"white\", \"linecolor\": \"white\", \"minorgridcolor\": \"white\", \"startlinecolor\": \"#2a3f5f\"}, \"baxis\": {\"endlinecolor\": \"#2a3f5f\", \"gridcolor\": \"white\", \"linecolor\": \"white\", \"minorgridcolor\": \"white\", \"startlinecolor\": \"#2a3f5f\"}, \"type\": \"carpet\"}], \"choropleth\": [{\"colorbar\": {\"outlinewidth\": 0, \"ticks\": \"\"}, \"type\": \"choropleth\"}], \"contour\": [{\"colorbar\": {\"outlinewidth\": 0, \"ticks\": \"\"}, \"colorscale\": [[0.0, \"#0d0887\"], [0.1111111111111111, \"#46039f\"], [0.2222222222222222, \"#7201a8\"], [0.3333333333333333, \"#9c179e\"], [0.4444444444444444, \"#bd3786\"], [0.5555555555555556, \"#d8576b\"], [0.6666666666666666, \"#ed7953\"], [0.7777777777777778, \"#fb9f3a\"], [0.8888888888888888, \"#fdca26\"], [1.0, \"#f0f921\"]], \"type\": \"contour\"}], \"contourcarpet\": [{\"colorbar\": {\"outlinewidth\": 0, \"ticks\": \"\"}, \"type\": \"contourcarpet\"}], \"heatmap\": [{\"colorbar\": {\"outlinewidth\": 0, \"ticks\": \"\"}, \"colorscale\": [[0.0, \"#0d0887\"], [0.1111111111111111, \"#46039f\"], [0.2222222222222222, \"#7201a8\"], [0.3333333333333333, \"#9c179e\"], [0.4444444444444444, \"#bd3786\"], [0.5555555555555556, \"#d8576b\"], [0.6666666666666666, \"#ed7953\"], [0.7777777777777778, \"#fb9f3a\"], [0.8888888888888888, \"#fdca26\"], [1.0, \"#f0f921\"]], \"type\": \"heatmap\"}], \"heatmapgl\": [{\"colorbar\": {\"outlinewidth\": 0, \"ticks\": \"\"}, \"colorscale\": [[0.0, \"#0d0887\"], [0.1111111111111111, \"#46039f\"], [0.2222222222222222, \"#7201a8\"], [0.3333333333333333, \"#9c179e\"], [0.4444444444444444, \"#bd3786\"], [0.5555555555555556, \"#d8576b\"], [0.6666666666666666, \"#ed7953\"], [0.7777777777777778, \"#fb9f3a\"], [0.8888888888888888, \"#fdca26\"], [1.0, \"#f0f921\"]], \"type\": \"heatmapgl\"}], \"histogram\": [{\"marker\": {\"colorbar\": {\"outlinewidth\": 0, \"ticks\": \"\"}}, \"type\": \"histogram\"}], \"histogram2d\": [{\"colorbar\": {\"outlinewidth\": 0, \"ticks\": \"\"}, \"colorscale\": [[0.0, \"#0d0887\"], [0.1111111111111111, \"#46039f\"], [0.2222222222222222, \"#7201a8\"], [0.3333333333333333, \"#9c179e\"], [0.4444444444444444, \"#bd3786\"], [0.5555555555555556, \"#d8576b\"], [0.6666666666666666, \"#ed7953\"], [0.7777777777777778, \"#fb9f3a\"], [0.8888888888888888, \"#fdca26\"], [1.0, \"#f0f921\"]], \"type\": \"histogram2d\"}], \"histogram2dcontour\": [{\"colorbar\": {\"outlinewidth\": 0, \"ticks\": \"\"}, \"colorscale\": [[0.0, \"#0d0887\"], [0.1111111111111111, \"#46039f\"], [0.2222222222222222, \"#7201a8\"], [0.3333333333333333, \"#9c179e\"], [0.4444444444444444, \"#bd3786\"], [0.5555555555555556, \"#d8576b\"], [0.6666666666666666, \"#ed7953\"], [0.7777777777777778, \"#fb9f3a\"], [0.8888888888888888, \"#fdca26\"], [1.0, \"#f0f921\"]], \"type\": \"histogram2dcontour\"}], \"mesh3d\": [{\"colorbar\": {\"outlinewidth\": 0, \"ticks\": \"\"}, \"type\": \"mesh3d\"}], \"parcoords\": [{\"line\": {\"colorbar\": {\"outlinewidth\": 0, \"ticks\": \"\"}}, \"type\": \"parcoords\"}], \"pie\": [{\"automargin\": true, \"type\": \"pie\"}], \"scatter\": [{\"marker\": {\"colorbar\": {\"outlinewidth\": 0, \"ticks\": \"\"}}, \"type\": \"scatter\"}], \"scatter3d\": [{\"line\": {\"colorbar\": {\"outlinewidth\": 0, \"ticks\": \"\"}}, \"marker\": {\"colorbar\": {\"outlinewidth\": 0, \"ticks\": \"\"}}, \"type\": \"scatter3d\"}], \"scattercarpet\": [{\"marker\": {\"colorbar\": {\"outlinewidth\": 0, \"ticks\": \"\"}}, \"type\": \"scattercarpet\"}], \"scattergeo\": [{\"marker\": {\"colorbar\": {\"outlinewidth\": 0, \"ticks\": \"\"}}, \"type\": \"scattergeo\"}], \"scattergl\": [{\"marker\": {\"colorbar\": {\"outlinewidth\": 0, \"ticks\": \"\"}}, \"type\": \"scattergl\"}], \"scattermapbox\": [{\"marker\": {\"colorbar\": {\"outlinewidth\": 0, \"ticks\": \"\"}}, \"type\": \"scattermapbox\"}], \"scatterpolar\": [{\"marker\": {\"colorbar\": {\"outlinewidth\": 0, \"ticks\": \"\"}}, \"type\": \"scatterpolar\"}], \"scatterpolargl\": [{\"marker\": {\"colorbar\": {\"outlinewidth\": 0, \"ticks\": \"\"}}, \"type\": \"scatterpolargl\"}], \"scatterternary\": [{\"marker\": {\"colorbar\": {\"outlinewidth\": 0, \"ticks\": \"\"}}, \"type\": \"scatterternary\"}], \"surface\": [{\"colorbar\": {\"outlinewidth\": 0, \"ticks\": \"\"}, \"colorscale\": [[0.0, \"#0d0887\"], [0.1111111111111111, \"#46039f\"], [0.2222222222222222, \"#7201a8\"], [0.3333333333333333, \"#9c179e\"], [0.4444444444444444, \"#bd3786\"], [0.5555555555555556, \"#d8576b\"], [0.6666666666666666, \"#ed7953\"], [0.7777777777777778, \"#fb9f3a\"], [0.8888888888888888, \"#fdca26\"], [1.0, \"#f0f921\"]], \"type\": \"surface\"}], \"table\": [{\"cells\": {\"fill\": {\"color\": \"#EBF0F8\"}, \"line\": {\"color\": \"white\"}}, \"header\": {\"fill\": {\"color\": \"#C8D4E3\"}, \"line\": {\"color\": \"white\"}}, \"type\": \"table\"}]}, \"layout\": {\"annotationdefaults\": {\"arrowcolor\": \"#2a3f5f\", \"arrowhead\": 0, \"arrowwidth\": 1}, \"autotypenumbers\": \"strict\", \"coloraxis\": {\"colorbar\": {\"outlinewidth\": 0, \"ticks\": \"\"}}, \"colorscale\": {\"diverging\": [[0, \"#8e0152\"], [0.1, \"#c51b7d\"], [0.2, \"#de77ae\"], [0.3, \"#f1b6da\"], [0.4, \"#fde0ef\"], [0.5, \"#f7f7f7\"], [0.6, \"#e6f5d0\"], [0.7, \"#b8e186\"], [0.8, \"#7fbc41\"], [0.9, \"#4d9221\"], [1, \"#276419\"]], \"sequential\": [[0.0, \"#0d0887\"], [0.1111111111111111, \"#46039f\"], [0.2222222222222222, \"#7201a8\"], [0.3333333333333333, \"#9c179e\"], [0.4444444444444444, \"#bd3786\"], [0.5555555555555556, \"#d8576b\"], [0.6666666666666666, \"#ed7953\"], [0.7777777777777778, \"#fb9f3a\"], [0.8888888888888888, \"#fdca26\"], [1.0, \"#f0f921\"]], \"sequentialminus\": [[0.0, \"#0d0887\"], [0.1111111111111111, \"#46039f\"], [0.2222222222222222, \"#7201a8\"], [0.3333333333333333, \"#9c179e\"], [0.4444444444444444, \"#bd3786\"], [0.5555555555555556, \"#d8576b\"], [0.6666666666666666, \"#ed7953\"], [0.7777777777777778, \"#fb9f3a\"], [0.8888888888888888, \"#fdca26\"], [1.0, \"#f0f921\"]]}, \"colorway\": [\"#636efa\", \"#EF553B\", \"#00cc96\", \"#ab63fa\", \"#FFA15A\", \"#19d3f3\", \"#FF6692\", \"#B6E880\", \"#FF97FF\", \"#FECB52\"], \"font\": {\"color\": \"#2a3f5f\"}, \"geo\": {\"bgcolor\": \"white\", \"lakecolor\": \"white\", \"landcolor\": \"#E5ECF6\", \"showlakes\": true, \"showland\": true, \"subunitcolor\": \"white\"}, \"hoverlabel\": {\"align\": \"left\"}, \"hovermode\": \"closest\", \"mapbox\": {\"style\": \"light\"}, \"paper_bgcolor\": \"white\", \"plot_bgcolor\": \"#E5ECF6\", \"polar\": {\"angularaxis\": {\"gridcolor\": \"white\", \"linecolor\": \"white\", \"ticks\": \"\"}, \"bgcolor\": \"#E5ECF6\", \"radialaxis\": {\"gridcolor\": \"white\", \"linecolor\": \"white\", \"ticks\": \"\"}}, \"scene\": {\"xaxis\": {\"backgroundcolor\": \"#E5ECF6\", \"gridcolor\": \"white\", \"gridwidth\": 2, \"linecolor\": \"white\", \"showbackground\": true, \"ticks\": \"\", \"zerolinecolor\": \"white\"}, \"yaxis\": {\"backgroundcolor\": \"#E5ECF6\", \"gridcolor\": \"white\", \"gridwidth\": 2, \"linecolor\": \"white\", \"showbackground\": true, \"ticks\": \"\", \"zerolinecolor\": \"white\"}, \"zaxis\": {\"backgroundcolor\": \"#E5ECF6\", \"gridcolor\": \"white\", \"gridwidth\": 2, \"linecolor\": \"white\", \"showbackground\": true, \"ticks\": \"\", \"zerolinecolor\": \"white\"}}, \"shapedefaults\": {\"line\": {\"color\": \"#2a3f5f\"}}, \"ternary\": {\"aaxis\": {\"gridcolor\": \"white\", \"linecolor\": \"white\", \"ticks\": \"\"}, \"baxis\": {\"gridcolor\": \"white\", \"linecolor\": \"white\", \"ticks\": \"\"}, \"bgcolor\": \"#E5ECF6\", \"caxis\": {\"gridcolor\": \"white\", \"linecolor\": \"white\", \"ticks\": \"\"}}, \"title\": {\"x\": 0.05}, \"xaxis\": {\"automargin\": true, \"gridcolor\": \"white\", \"linecolor\": \"white\", \"ticks\": \"\", \"title\": {\"standoff\": 15}, \"zerolinecolor\": \"white\", \"zerolinewidth\": 2}, \"yaxis\": {\"automargin\": true, \"gridcolor\": \"white\", \"linecolor\": \"white\", \"ticks\": \"\", \"title\": {\"standoff\": 15}, \"zerolinecolor\": \"white\", \"zerolinewidth\": 2}}}, \"title\": {\"font\": {\"color\": \"#4D5663\"}, \"text\": \"\\u968f\\u673a\\u68ee\\u6797\\u6a21\\u578b\\u5f97\\u51fa\\u7684feature importance\"}, \"xaxis\": {\"gridcolor\": \"#E1E5ED\", \"showgrid\": true, \"tickfont\": {\"color\": \"#4D5663\"}, \"title\": {\"font\": {\"color\": \"#4D5663\"}, \"text\": \"\"}, \"zerolinecolor\": \"#E1E5ED\"}, \"yaxis\": {\"gridcolor\": \"#E1E5ED\", \"showgrid\": true, \"tickfont\": {\"color\": \"#4D5663\"}, \"title\": {\"font\": {\"color\": \"#4D5663\"}, \"text\": \"\"}, \"zerolinecolor\": \"#E1E5ED\"}},                        {\"showLink\": true, \"linkText\": \"Export to plot.ly\", \"plotlyServerURL\": \"https://plot.ly\", \"responsive\": true}                    ).then(function(){\n",
       "                            \n",
       "var gd = document.getElementById('26e234bd-cd18-44d8-8cdc-82ca30be569d');\n",
       "var x = new MutationObserver(function (mutations, observer) {{\n",
       "        var display = window.getComputedStyle(gd).display;\n",
       "        if (!display || display === 'none') {{\n",
       "            console.log([gd, 'removed!']);\n",
       "            Plotly.purge(gd);\n",
       "            observer.disconnect();\n",
       "        }}\n",
       "}});\n",
       "\n",
       "// Listen for the removal of the full notebook cells\n",
       "var notebookContainer = gd.closest('#notebook-container');\n",
       "if (notebookContainer) {{\n",
       "    x.observe(notebookContainer, {childList: true});\n",
       "}}\n",
       "\n",
       "// Listen for the clearing of the current output cell\n",
       "var outputEl = gd.closest('.output');\n",
       "if (outputEl) {{\n",
       "    x.observe(outputEl, {childList: true});\n",
       "}}\n",
       "\n",
       "                        })                };                });            </script>        </div>"
      ]
     },
     "metadata": {},
     "output_type": "display_data"
    }
   ],
   "source": [
    "feature_importances.sort_values().tail(10).iplot(kind='bar', orientation='h', title='随机森林模型得出的feature importance')"
   ]
  },
  {
   "cell_type": "markdown",
   "id": "105d818c",
   "metadata": {},
   "source": [
    "从上图可知， 对销量影响最大的两个因素为价格和评论数， 与上一部分的结论不谋而合。"
   ]
  },
  {
   "cell_type": "code",
   "execution_count": null,
   "id": "b961b5ba",
   "metadata": {},
   "outputs": [],
   "source": []
  },
  {
   "cell_type": "code",
   "execution_count": null,
   "id": "ceaac8ee",
   "metadata": {},
   "outputs": [],
   "source": []
  },
  {
   "cell_type": "code",
   "execution_count": null,
   "id": "43f0df2b",
   "metadata": {},
   "outputs": [],
   "source": []
  }
 ],
 "metadata": {
  "kernelspec": {
   "display_name": "Python 3",
   "language": "python",
   "name": "python3"
  },
  "language_info": {
   "codemirror_mode": {
    "name": "ipython",
    "version": 3
   },
   "file_extension": ".py",
   "mimetype": "text/x-python",
   "name": "python",
   "nbconvert_exporter": "python",
   "pygments_lexer": "ipython3",
   "version": "3.8.8"
  },
  "toc": {
   "base_numbering": 1,
   "nav_menu": {},
   "number_sections": true,
   "sideBar": true,
   "skip_h1_title": false,
   "title_cell": "Table of Contents",
   "title_sidebar": "Contents",
   "toc_cell": false,
   "toc_position": {},
   "toc_section_display": true,
   "toc_window_display": false
  }
 },
 "nbformat": 4,
 "nbformat_minor": 5
}
